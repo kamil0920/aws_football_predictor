{
 "cells": [
  {
   "cell_type": "code",
   "execution_count": 1,
   "id": "initial_id",
   "metadata": {
    "collapsed": true,
    "ExecuteTime": {
     "end_time": "2024-03-22T16:03:51.730485Z",
     "start_time": "2024-03-22T16:03:51.693569300Z"
    }
   },
   "outputs": [
    {
     "name": "stderr",
     "output_type": "stream",
     "text": [
      "A subdirectory or file docker already exists.\n"
     ]
    }
   ],
   "source": [
    "!mkdir docker"
   ]
  },
  {
   "cell_type": "code",
   "outputs": [
    {
     "name": "stdout",
     "output_type": "stream",
     "text": [
      "Overwriting docker/Dockerfile\n"
     ]
    }
   ],
   "source": [
    "%%writefile docker/Dockerfile\n",
    "\n",
    "FROM python:3.10-slim\n",
    "\n",
    "RUN pip3 install joblib numpy pandas scikit-learn\n",
    "ENV PYTHONUNBUFFERED=TRUE\n",
    "\n",
    "ENTRYPOINT [\"python3\"]"
   ],
   "metadata": {
    "collapsed": false,
    "ExecuteTime": {
     "end_time": "2024-03-22T16:03:51.731523800Z",
     "start_time": "2024-03-22T16:03:51.714883500Z"
    }
   },
   "id": "c9ae439e2b50d7fb",
   "execution_count": 2
  },
  {
   "cell_type": "code",
   "outputs": [
    {
     "name": "stderr",
     "output_type": "stream",
     "text": [
      "#0 building with \"default\" instance using docker driver\n",
      "\n",
      "#1 [internal] load build definition from Dockerfile\n",
      "#1 transferring dockerfile: 207B done\n",
      "#1 DONE 0.0s\n",
      "\n",
      "#2 [internal] load metadata for docker.io/library/python:3.7-slim-buster\n",
      "#2 DONE 0.6s\n",
      "\n",
      "#3 [internal] load .dockerignore\n",
      "#3 transferring context: 2B done\n",
      "#3 DONE 0.0s\n",
      "\n",
      "#4 [1/2] FROM docker.io/library/python:3.7-slim-buster@sha256:9bd2bfc822a533f99cbe6b1311d5bf0ff136f776ebac9b985407829f17278935\n",
      "#4 DONE 0.0s\n",
      "\n",
      "#5 [2/2] RUN pip3 install joblib>=0.17.0 numpy>=1.19.2 pandas>=1.1.3 scikit-learn>=0.23.2\n",
      "#5 CACHED\n",
      "\n",
      "#6 exporting to image\n",
      "#6 exporting layers done\n",
      "#6 writing image sha256:21c5692992bc68520310e3a9737d8c6246909756e76f4bf48084d8ace5180335 done\n",
      "#6 naming to docker.io/library/sagemaker-processing-container done\n",
      "#6 DONE 0.0s\n",
      "\n",
      "What's Next?\n",
      "  View a summary of image vulnerabilities and recommendations â†’ docker scout quickview\n",
      "Error parsing reference: \"sagemaker-processing-container::latest\" is not a valid repository/tag: invalid reference format\n"
     ]
    },
    {
     "name": "stdout",
     "output_type": "stream",
     "text": [
      "The push refers to repository [284415450706.dkr.ecr.eu-north-1.amazonaws.com/sagemaker-processing-container]\n",
      "b1c6012aea9c: Preparing\n",
      "ac388d012914: Preparing\n",
      "7bd2d30bdfa9: Preparing\n",
      "18fc9f968310: Preparing\n",
      "ae2d55769c5e: Preparing\n",
      "e2ef8a51359d: Preparing\n",
      "e2ef8a51359d: Waiting\n",
      "7bd2d30bdfa9: Pushed\n",
      "ac388d012914: Pushed\n",
      "ae2d55769c5e: Pushed\n",
      "18fc9f968310: Pushed\n",
      "e2ef8a51359d: Pushed\n",
      "b1c6012aea9c: Pushed\n",
      "latest: digest: sha256:f418f05fbf8d3c10ec4bb6f1070bc1bd2c7619ab3701490397117803389af915 size: 1583\n"
     ]
    }
   ],
   "source": [
    "import boto3\n",
    "import os\n",
    "import dotenv\n",
    "\n",
    "dotenv.load_dotenv()\n",
    "\n",
    "region = os.environ['AWS_REGION']\n",
    "# os.getenv()\n",
    "account_id = os.environ['ACCOUNT_ID']\n",
    "ecr_repository = \"sagemaker-processing-container\"\n",
    "tag = \":latest\"\n",
    "\n",
    "uri_suffix = \"amazonaws.com\"\n",
    "if region in [\"cn-north-1\", \"cn-northwest-1\"]:\n",
    "    uri_suffix = \"amazonaws.com.cn\"\n",
    "processing_repository_uri = \"{}.dkr.ecr.{}.{}/{}\".format(\n",
    "    account_id, region, uri_suffix, ecr_repository + tag\n",
    ")\n",
    "\n",
    "# Create ECR repository and push docker image\n",
    "# !aws ecr get-login-password --region $region | docker login --username AWS --password-stdin $account_id.dkr.ecr.$region.amazonaws.com\n",
    "!docker build -t $ecr_repository docker\n",
    "!docker tag $ecr_repository:$tag $processing_repository_uri\n",
    "!docker push $processing_repository_uri"
   ],
   "metadata": {
    "collapsed": false,
    "ExecuteTime": {
     "end_time": "2024-03-22T16:09:14.698991100Z",
     "start_time": "2024-03-22T16:08:21.474090100Z"
    }
   },
   "id": "1e695cb19b05e527",
   "execution_count": 7
  }
 ],
 "metadata": {
  "kernelspec": {
   "display_name": "Python 3",
   "language": "python",
   "name": "python3"
  },
  "language_info": {
   "codemirror_mode": {
    "name": "ipython",
    "version": 2
   },
   "file_extension": ".py",
   "mimetype": "text/x-python",
   "name": "python",
   "nbconvert_exporter": "python",
   "pygments_lexer": "ipython2",
   "version": "2.7.6"
  }
 },
 "nbformat": 4,
 "nbformat_minor": 5
}
