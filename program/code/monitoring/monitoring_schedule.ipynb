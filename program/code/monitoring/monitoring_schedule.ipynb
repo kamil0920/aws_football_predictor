{
 "cells": [
  {
   "cell_type": "code",
   "id": "initial_id",
   "metadata": {
    "collapsed": true,
    "ExecuteTime": {
     "end_time": "2024-12-15T14:50:40.100652Z",
     "start_time": "2024-12-15T14:50:39.908737Z"
    }
   },
   "source": [
    "import os\n",
    "import sagemaker\n",
    "import time\n",
    "from sagemaker.model_monitor import CronExpressionGenerator\n",
    "\n",
    "%load_ext dotenv\n",
    "%dotenv\n",
    "\n",
    "bucket_name = os.environ[\"BUCKET\"]\n",
    "endpoint = \"football-endpoint\"\n",
    "role_name = os.environ[\"ROLE_NAME\"]\n",
    "account_id = os.environ[\"ACCOUNT_ID\"]\n",
    "\n",
    "S3_LOCATION = f\"s3://{bucket_name}/football\"\n",
    "GROUND_TRUTH_LOCATION = f\"{S3_LOCATION}/monitoring/groundtruth\"\n",
    "MODEL_QUALITY_LOCATION = f\"{S3_LOCATION}/monitoring/model-quality\"\n",
    "\n",
    "sagemaker_session = sagemaker.session.Session()\n",
    "\n",
    "role_arn = f\"arn:aws:iam::{account_id}:role/{role_name}\""
   ],
   "outputs": [
    {
     "name": "stdout",
     "output_type": "stream",
     "text": [
      "The dotenv extension is already loaded. To reload it, use:\n",
      "  %reload_ext dotenv\n"
     ]
    }
   ],
   "execution_count": 2
  },
  {
   "metadata": {},
   "cell_type": "code",
   "outputs": [],
   "execution_count": null,
   "source": [
    "from sagemaker.serializers import CSVSerializer\n",
    "from sagemaker.predictor import Predictor\n",
    "\n",
    "predictor = Predictor(\n",
    "    endpoint_name=endpoint,\n",
    "    serializer=CSVSerializer(),\n",
    "    sagemaker_session=sagemaker_session,\n",
    ")"
   ],
   "id": "45474d32170f0b47"
  },
  {
   "metadata": {},
   "cell_type": "code",
   "outputs": [],
   "execution_count": null,
   "source": [
    "import pandas as pd\n",
    "\n",
    "df = pd.read_csv(\"football.csv\")\n",
    "\n",
    "def generate_fake_traffic(data):\n",
    "    \"\"\"Generate fake traffic to the endpoint.\"\"\"\n",
    "\n",
    "    for index, row in data.iterrows():\n",
    "        payload = \",\".join([str(x) for x in row.to_list()])\n",
    "        predictor.predict(\n",
    "            payload,\n",
    "            initial_args={\"ContentType\": \"text/csv\", \"Accept\": \"text/csv\"},\n",
    "            # The `inference_id` field is important to match\n",
    "            # it later with a corresponding ground-truth label.\n",
    "            inference_id=str(index),\n",
    "        )\n",
    "\n",
    "generate_fake_traffic(df)"
   ],
   "id": "dab353011b09bc00"
  },
  {
   "metadata": {},
   "cell_type": "code",
   "outputs": [],
   "execution_count": null,
   "source": [
    "import boto3\n",
    "from pathlib import Path\n",
    "\n",
    "DATA_QUALITY_PREPROCESSOR = \"data_quality_preprocessor.py\"\n",
    "\n",
    "bucket = boto3.Session().resource(\"s3\").Bucket(bucket_name)\n",
    "\n",
    "prefix = Path(\"football/monitoring\")\n",
    "bucket.Object((prefix / DATA_QUALITY_PREPROCESSOR).as_posix()).upload_file(DATA_QUALITY_PREPROCESSOR.as_posix())\n",
    "data_quality_preprocessor = f\"s3://{(bucket.name / prefix / DATA_QUALITY_PREPROCESSOR)}\"\n",
    "data_quality_preprocessor"
   ],
   "id": "5bdfea8d02b7f20"
  },
  {
   "metadata": {},
   "cell_type": "code",
   "outputs": [],
   "execution_count": null,
   "source": [
    "from sagemaker.model_monitor import DefaultModelMonitor\n",
    "\n",
    "data_monitor = DefaultModelMonitor(\n",
    "    instance_type='ml.m5.xlarge',\n",
    "    instance_count=1,\n",
    "    max_runtime_in_seconds=1800,\n",
    "    volume_size_in_gb=20,\n",
    "    role=role_arn,\n",
    ")"
   ],
   "id": "51bb2d6d1dde7fc3"
  },
  {
   "metadata": {},
   "cell_type": "code",
   "source": [
    "data_monitor.create_monitoring_schedule(\n",
    "    monitor_schedule_name=\"football-model-monitoring-schedule\",\n",
    "    endpoint_input=endpoint,\n",
    "    problem_type=\"BinaryClassification\",\n",
    "    ground_truth_input=GROUND_TRUTH_LOCATION,\n",
    "    constraints=f\"{MODEL_QUALITY_LOCATION}/constraints.json\",\n",
    "    schedule_cron_expression=CronExpressionGenerator.hourly(),\n",
    "    output_s3_uri=MODEL_QUALITY_LOCATION,\n",
    "    enable_cloudwatch_metrics=True,\n",
    ")\n",
    "\n",
    "time.sleep(10)\n",
    "data_monitor.start_monitoring_schedule()"
   ],
   "id": "2cfa448120d71c1e",
   "outputs": [],
   "execution_count": null
  },
  {
   "metadata": {},
   "cell_type": "code",
   "outputs": [],
   "execution_count": null,
   "source": [
    "from sagemaker.s3 import S3Downloader\n",
    "\n",
    "\n",
    "def check_execution(monitoring_schedule):\n",
    "    \"\"\"Check the execution of the Monitoring Job.\n",
    "\n",
    "    This function checks the execution of the Monitoring\n",
    "    Job and prints out the list of violations if the job\n",
    "    completed.\n",
    "    \"\"\"\n",
    "    executions = monitoring_schedule.list_executions()\n",
    "\n",
    "    if executions:\n",
    "        execution = executions[-1].describe()\n",
    "        print(f\"Processing Job Status: {execution['ProcessingJobStatus']}\")\n",
    "\n",
    "        if execution[\"ProcessingJobStatus\"] == \"Completed\":\n",
    "            print(\n",
    "                f\"Last Modified Time: {execution['LastModifiedTime']}\",\n",
    "                end=\"\\n\\n\",\n",
    "            )\n",
    "            print(\"Execution:\")\n",
    "            print(json.dumps(execution, default=str, indent=2), end=\"\\n\\n\")\n",
    "\n",
    "            latest_monitoring_violations = (\n",
    "                monitoring_schedule.latest_monitoring_constraint_violations()\n",
    "            )\n",
    "            \n",
    "            print(f'latest_monitoring_violations: {latest_monitoring_violations}')\n",
    "            \n",
    "            response = json.loads(\n",
    "                S3Downloader.read_file(latest_monitoring_violations.file_s3_uri),\n",
    "            )\n",
    "            print(\"Violations:\")\n",
    "            print(json.dumps(response, indent=2))\n",
    "            \n",
    "check_execution(data_monitor)"
   ],
   "id": "1209d80a95505912"
  },
  {
   "metadata": {},
   "cell_type": "code",
   "outputs": [],
   "execution_count": null,
   "source": [
    "try:\n",
    "    data_monitor.delete_monitoring_schedule()\n",
    "except Exception as e:\n",
    "    print(e)"
   ],
   "id": "ea9db7a4105f5bb1"
  },
  {
   "metadata": {},
   "cell_type": "code",
   "outputs": [],
   "execution_count": null,
   "source": "",
   "id": "271dc40de8dd4c66"
  },
  {
   "metadata": {},
   "cell_type": "code",
   "outputs": [],
   "execution_count": null,
   "source": [
    "import json\n",
    "import random\n",
    "from datetime import datetime\n",
    "from sagemaker.s3 import S3Uploader\n",
    "import pandas as pd\n",
    "\n",
    "df =pd.read_csv(\"football-football.csv\")\n",
    "\n",
    "records = []\n",
    "for inference_id in range(len(df)):\n",
    "    random.seed(inference_id)\n",
    "\n",
    "    records.append(\n",
    "        json.dumps(\n",
    "            {\n",
    "                \"groundTruthData\": {\n",
    "                    \"data\": random.choice([\"home_win\", \"home_not_win\"]),\n",
    "                    \"encoding\": \"CSV\",\n",
    "                },\n",
    "                \"eventMetadata\": {\n",
    "                    \"eventId\": str(inference_id),\n",
    "                },\n",
    "                \"eventVersion\": \"0\",\n",
    "            },\n",
    "        ),\n",
    "    )\n",
    "\n",
    "groundtruth_payload = \"\\n\".join(records)\n",
    "upload_time = datetime.utcnow()\n",
    "uri = f\"{GROUND_TRUTH_LOCATION}/{upload_time:%Y/%m/%d/%H/%M%S}.jsonl\"\n",
    "S3Uploader.upload_string_as_file_body(groundtruth_payload, uri)"
   ],
   "id": "79f0c9f24b0817e2"
  },
  {
   "metadata": {},
   "cell_type": "code",
   "outputs": [],
   "execution_count": null,
   "source": "",
   "id": "69739acfcd11aeb7"
  },
  {
   "metadata": {},
   "cell_type": "code",
   "outputs": [],
   "execution_count": null,
   "source": "",
   "id": "33f849a7a119999"
  },
  {
   "metadata": {},
   "cell_type": "code",
   "outputs": [],
   "execution_count": null,
   "source": "",
   "id": "58088607fc8646fe"
  }
 ],
 "metadata": {
  "kernelspec": {
   "display_name": "Python 3",
   "language": "python",
   "name": "python3"
  },
  "language_info": {
   "codemirror_mode": {
    "name": "ipython",
    "version": 2
   },
   "file_extension": ".py",
   "mimetype": "text/x-python",
   "name": "python",
   "nbconvert_exporter": "python",
   "pygments_lexer": "ipython2",
   "version": "2.7.6"
  }
 },
 "nbformat": 4,
 "nbformat_minor": 5
}
