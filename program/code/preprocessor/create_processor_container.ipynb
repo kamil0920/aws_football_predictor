{
 "cells": [
  {
   "cell_type": "code",
   "id": "initial_id",
   "metadata": {
    "collapsed": true,
    "ExecuteTime": {
     "end_time": "2024-09-06T17:06:57.809740Z",
     "start_time": "2024-09-06T17:06:57.789744Z"
    }
   },
   "source": [
    "!mkdir docker"
   ],
   "outputs": [],
   "execution_count": 1
  },
  {
   "cell_type": "code",
   "source": [
    "%%writefile docker/Dockerfile\n",
    "\n",
    "FROM python:3.10-slim\n",
    "\n",
    "COPY requirements.txt .\n",
    "RUN pip install --user --upgrade pip\n",
    "RUN pip3 install -r requirements.txt\n",
    "\n",
    "ENV PYTHONUNBUFFERED=TRUE\n",
    "\n",
    "ENTRYPOINT [\"python3\"]"
   ],
   "metadata": {
    "collapsed": false,
    "ExecuteTime": {
     "end_time": "2024-09-06T17:06:58.261171Z",
     "start_time": "2024-09-06T17:06:58.256603Z"
    }
   },
   "id": "c9ae439e2b50d7fb",
   "outputs": [
    {
     "name": "stdout",
     "output_type": "stream",
     "text": [
      "Writing docker/Dockerfile\n"
     ]
    }
   ],
   "execution_count": 2
  },
  {
   "metadata": {
    "ExecuteTime": {
     "end_time": "2024-09-07T07:35:57.820443Z",
     "start_time": "2024-09-07T07:35:57.816910Z"
    }
   },
   "cell_type": "code",
   "source": [
    "def create_requirements():\n",
    "    requirements = \"\"\"pandas==2.2.2\n",
    "    scikit-learn==1.5.1\n",
    "    numpy==2.0.1\"\"\"\n",
    "    \n",
    "    with open('docker/requirements.txt', 'w') as f:\n",
    "            f.write(requirements)\n",
    "        \n",
    "create_requirements()"
   ],
   "id": "662630d4d7a11d3",
   "outputs": [],
   "execution_count": 5
  },
  {
   "metadata": {},
   "cell_type": "code",
   "outputs": [],
   "execution_count": null,
   "source": "",
   "id": "36305d89be4978a6"
  }
 ],
 "metadata": {
  "kernelspec": {
   "display_name": "Python 3",
   "language": "python",
   "name": "python3"
  },
  "language_info": {
   "codemirror_mode": {
    "name": "ipython",
    "version": 2
   },
   "file_extension": ".py",
   "mimetype": "text/x-python",
   "name": "python",
   "nbconvert_exporter": "python",
   "pygments_lexer": "ipython2",
   "version": "2.7.6"
  }
 },
 "nbformat": 4,
 "nbformat_minor": 5
}
