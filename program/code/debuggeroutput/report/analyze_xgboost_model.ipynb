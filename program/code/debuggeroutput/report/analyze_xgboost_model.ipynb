{
 "cells": [
  {
   "metadata": {
    "ExecuteTime": {
     "end_time": "2024-10-21T19:37:55.023704Z",
     "start_time": "2024-10-21T19:37:48.703278Z"
    }
   },
   "cell_type": "code",
   "source": [
    "import boto3\n",
    "from IPython.display import FileLink\n",
    "%load_ext dotenv\n",
    "%dotenv\n",
    "\n",
    "sagemaker_client = boto3.client('sagemaker')\n",
    "\n",
    "response = sagemaker_client.list_training_jobs(\n",
    "    SortBy='CreationTime',\n",
    "    SortOrder='Descending',\n",
    "    MaxResults=1\n",
    ")\n",
    "\n",
    "training_jobs = response.get('TrainingJobSummaries', [])\n",
    "\n",
    "if not training_jobs:\n",
    "    raise ValueError(\"No training jobs found.\")\n",
    "else:\n",
    "    latest_training_job_name = training_jobs[0]['TrainingJobName']\n",
    "    print(f\"Latest Training Job Name: {latest_training_job_name}\")"
   ],
   "id": "initial_id",
   "outputs": [
    {
     "name": "stdout",
     "output_type": "stream",
     "text": [
      "The dotenv extension is already loaded. To reload it, use:\n",
      "  %reload_ext dotenv\n",
      "Latest Training Job Name: xgb-clf-training-container-iwtx02hfntro-yfGP1iQ1cG\n",
      "\n",
      "2024-10-20 17:51:10 Starting - Preparing the instances for training\n",
      "2024-10-20 17:51:10 Downloading - Downloading the training image\n",
      "2024-10-20 17:51:10 Training - Training image download completed. Training in progress.\n",
      "2024-10-20 17:51:10 Uploading - Uploading generated training model\n",
      "2024-10-20 17:51:10 Completed - Training job completed\n"
     ]
    }
   ],
   "execution_count": 18
  },
  {
   "metadata": {
    "ExecuteTime": {
     "end_time": "2024-10-21T19:24:23.899738Z",
     "start_time": "2024-10-21T19:24:22.234775Z"
    }
   },
   "cell_type": "code",
   "source": [
    "import boto3\n",
    "import re\n",
    "\n",
    "s3_client = boto3.client('s3')\n",
    "\n",
    "training_job_description = sagemaker_client.describe_training_job(\n",
    "    TrainingJobName=latest_training_job_name\n",
    ")\n",
    "\n",
    "debug_hook_config = training_job_description.get('DebugHookConfig', {})\n",
    "s3_output_path = debug_hook_config.get('S3OutputPath', None)\n",
    "\n",
    "if not s3_output_path:\n",
    "    raise ValueError(\"No S3OutputPath found in DebugHookConfig.\")\n",
    "\n",
    "match = re.match(r's3://([^/]+)/?(.*)', s3_output_path)\n",
    "if match:\n",
    "    bucket_name, prefix_base = match.groups()\n",
    "    if not prefix_base:\n",
    "        prefix_base = ''\n",
    "else:\n",
    "    raise ValueError(f\"Invalid S3 URI: {s3_output_path}\")\n",
    "\n",
    "prefix = f\"{prefix_base}{latest_training_job_name}/rule-output/CreateXgboostReport/\"\n",
    "\n",
    "response = s3_client.list_objects_v2(\n",
    "    Bucket=bucket_name,\n",
    "    Prefix=prefix\n",
    ")\n",
    "\n",
    "if 'Contents' in response:\n",
    "    for obj in response['Contents']:\n",
    "        key = obj['Key']\n",
    "        if 'xgboost_report' in key:\n",
    "            file_name = key.split('/')[-1]\n",
    "            s3_client.download_file(bucket_name, key, file_name)\n",
    "            print(f\"Downloaded {file_name}\")\n",
    "else:\n",
    "    print(\"No XGBoost report files found in the specified S3 path.\")"
   ],
   "id": "223f18dccfb179a5",
   "outputs": [
    {
     "name": "stdout",
     "output_type": "stream",
     "text": [
      "Downloaded xgboost_report.html\n",
      "Downloaded xgboost_report.ipynb\n"
     ]
    }
   ],
   "execution_count": 16
  },
  {
   "metadata": {
    "ExecuteTime": {
     "end_time": "2024-10-21T19:34:20.887392Z",
     "start_time": "2024-10-21T19:34:20.879299Z"
    }
   },
   "cell_type": "code",
   "source": [
    "# display(\"Click link below to view the profiler report\", FileLink(\"reports/profiler/profiler-output/profiler-report.html\"))\n",
    "display(\"Click link below to view the XGBoost Training report\", FileLink(\"xgboost_report.html\"))"
   ],
   "id": "eba3ab970a67e021",
   "outputs": [
    {
     "data": {
      "text/plain": [
       "'Click link below to view the XGBoost Training report'"
      ]
     },
     "metadata": {},
     "output_type": "display_data"
    },
    {
     "data": {
      "text/plain": [
       "C:\\Users\\kamil\\Documents\\football_project\\aws_pipline_clone\\aws_football_predictor\\program\\code\\debuggeroutput\\report\\xgboost_report.html"
      ],
      "text/html": [
       "<a href='xgboost_report.html' target='_blank'>xgboost_report.html</a><br>"
      ]
     },
     "metadata": {},
     "output_type": "display_data"
    }
   ],
   "execution_count": 17
  }
 ],
 "metadata": {
  "kernelspec": {
   "display_name": "Python 3",
   "language": "python",
   "name": "python3"
  },
  "language_info": {
   "codemirror_mode": {
    "name": "ipython",
    "version": 2
   },
   "file_extension": ".py",
   "mimetype": "text/x-python",
   "name": "python",
   "nbconvert_exporter": "python",
   "pygments_lexer": "ipython2",
   "version": "2.7.6"
  }
 },
 "nbformat": 4,
 "nbformat_minor": 5
}
