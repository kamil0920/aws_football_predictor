{
 "cells": [
  {
   "metadata": {
    "ExecuteTime": {
     "end_time": "2024-09-01T16:55:53.637663Z",
     "start_time": "2024-09-01T16:55:52.126573Z"
    }
   },
   "cell_type": "code",
   "source": [
    "import boto3\n",
    "import sagemaker\n",
    "import os\n",
    "import pandas as pd\n",
    "\n",
    "from sagemaker import get_execution_role\n",
    "\n",
    "%load_ext dotenv\n",
    "%dotenv"
   ],
   "id": "64b7e23e1123dcae",
   "outputs": [
    {
     "name": "stdout",
     "output_type": "stream",
     "text": [
      "sagemaker.config INFO - Not applying SDK defaults from location: C:\\ProgramData\\sagemaker\\sagemaker\\config.yaml\n",
      "sagemaker.config INFO - Not applying SDK defaults from location: C:\\Users\\kamil\\AppData\\Local\\sagemaker\\sagemaker\\config.yaml\n"
     ]
    }
   ],
   "execution_count": 1
  },
  {
   "metadata": {
    "ExecuteTime": {
     "end_time": "2024-09-01T16:55:53.653289Z",
     "start_time": "2024-09-01T16:55:53.637663Z"
    }
   },
   "cell_type": "code",
   "source": [
    "region = boto3.Session().region_name\n",
    "print(\"AWS Region: {}\".format(region))\n",
    "\n",
    "role = os.environ[\"ROLE\"]\n",
    "print(\"RoleArn: {}\".format(role))"
   ],
   "id": "a77a9f4f6508f16a",
   "outputs": [
    {
     "name": "stdout",
     "output_type": "stream",
     "text": [
      "AWS Region: eu-north-1\n",
      "RoleArn: arn:aws:iam::284415450706:role/service-role/AmazonSageMaker-ExecutionRole-20240309T101533\n"
     ]
    }
   ],
   "execution_count": 2
  },
  {
   "metadata": {
    "ExecuteTime": {
     "end_time": "2024-09-01T16:55:53.669387Z",
     "start_time": "2024-09-01T16:55:53.653882Z"
    }
   },
   "cell_type": "code",
   "source": [
    "bucket = os.environ[\"BUCKET\"]\n",
    "prefix = \"DEMO-smdebug-xgboost-home-win-prediction\""
   ],
   "id": "8a7fd3dca80ab1bd",
   "outputs": [],
   "execution_count": 3
  },
  {
   "metadata": {
    "ExecuteTime": {
     "end_time": "2024-09-01T16:55:54.879714Z",
     "start_time": "2024-09-01T16:55:53.669387Z"
    }
   },
   "cell_type": "code",
   "source": [
    "import shap\n",
    "\n",
    "X, y = shap.datasets.adult()\n",
    "\n",
    "# X_display, y_display = shap.datasets.adult(display=True)\n",
    "# feature_names = list(X.columns)"
   ],
   "id": "785af1334d93e7a2",
   "outputs": [],
   "execution_count": 4
  },
  {
   "metadata": {
    "ExecuteTime": {
     "end_time": "2024-09-01T16:55:54.895518Z",
     "start_time": "2024-09-01T16:55:54.880220Z"
    }
   },
   "cell_type": "code",
   "source": [
    "# create a train/test split\n",
    "from sklearn.model_selection import train_test_split  # For splitting the dataset\n",
    "\n",
    "# X_train, X_test, y_train, y_test = train_test_split(X, y, test_size=0.2, random_state=7)\n",
    "# X_train_display = X_display.loc[X_train.index]"
   ],
   "id": "494b50a4e69772ac",
   "outputs": [],
   "execution_count": 5
  },
  {
   "metadata": {
    "ExecuteTime": {
     "end_time": "2024-09-01T16:55:54.911153Z",
     "start_time": "2024-09-01T16:55:54.895518Z"
    }
   },
   "cell_type": "code",
   "source": [
    "# train = pd.concat(\n",
    "#     [pd.Series(y_train, index=X_train.index, name=\"Income>50K\", dtype=int), X_train],\n",
    "#     axis=1,\n",
    "# )\n",
    "# test = pd.concat(\n",
    "#     [pd.Series(y_test, index=X_test.index, name=\"Income>50K\", dtype=int), X_test],\n",
    "#     axis=1,\n",
    "# )\n",
    "\n",
    "# Use 'csv' format to store the data\n",
    "# The first column is expected to be the output column\n",
    "# train.to_csv(\"train.csv\", index=False, header=False)\n",
    "# test.to_csv(\"validation.csv\", index=False, header=False)\n",
    "# \n",
    "# boto3.Session().resource(\"s3\").Bucket(bucket).Object(\n",
    "#     os.path.join(prefix, \"data/train.csv\")\n",
    "# ).upload_file(\"train.csv\")\n",
    "# boto3.Session().resource(\"s3\").Bucket(bucket).Object(\n",
    "#     os.path.join(prefix, \"data/validation.csv\")\n",
    "# ).upload_file(\"validation.csv\")"
   ],
   "id": "562606c1fd4483f4",
   "outputs": [],
   "execution_count": 6
  },
  {
   "metadata": {
    "ExecuteTime": {
     "end_time": "2024-09-01T16:55:55.790948Z",
     "start_time": "2024-09-01T16:55:54.911153Z"
    }
   },
   "cell_type": "code",
   "source": [
    "from pathlib import Path\n",
    "from pythonProject.program.code.containers.SageMakerContainerBuilder import SageMakerContainerBuilder\n",
    "\n",
    "LOCAL_MODE = True\n",
    "CODE_FOLDER = Path(\"code\")\n",
    "image_name = 'xgb-clf-custom-training-container'\n",
    "\n",
    "builder = SageMakerContainerBuilder(\n",
    "    code_folder=CODE_FOLDER,\n",
    "    image_name=image_name,\n",
    "    local_mode=LOCAL_MODE\n",
    ")\n",
    "\n",
    "# training_container_image = builder.build_and_push()\n",
    "# print(training_container_image)\n",
    "training_container_image = builder.get_image_uri()\n",
    "print(training_container_image)"
   ],
   "id": "c78f765cf0680806",
   "outputs": [
    {
     "name": "stdout",
     "output_type": "stream",
     "text": [
      "284415450706.dkr.ecr.eu-north-1.amazonaws.com/xgb-clf-custom-training-container:latest\n"
     ]
    }
   ],
   "execution_count": 7
  },
  {
   "metadata": {
    "ExecuteTime": {
     "end_time": "2024-09-01T16:55:55.916395Z",
     "start_time": "2024-09-01T16:55:55.790948Z"
    }
   },
   "cell_type": "code",
   "source": [
    "from sagemaker import ProfilerConfig, Profiler\n",
    "from sagemaker.debugger import DebuggerHookConfig, CollectionConfig, Rule, rule_configs\n",
    "from sagemaker.estimator import Estimator\n",
    "\n",
    "use_spot_instances = True and not LOCAL_MODE\n",
    "max_run = 500\n",
    "max_wait = 800 if use_spot_instances else None\n",
    "instance_type = 'ml.m5.4xlarge'\n",
    "save_interval = 2\n",
    "\n",
    "base_job_name = \"demo-smdebug-xgboost-home-win-prediction-classification\"\n",
    "bucket_path = \"s3://{}\".format(bucket)\n",
    "\n",
    "debugger_hook_config = DebuggerHookConfig(\n",
    "    s3_output_path=bucket_path,\n",
    "    collection_configs=[\n",
    "        CollectionConfig(\n",
    "            name=\"average_shap\",\n",
    "            parameters={\n",
    "                \"save_interval\": str(save_interval)\n",
    "            }\n",
    "        ),\n",
    "        CollectionConfig(\n",
    "            name=\"full_shap\",\n",
    "            parameters={\n",
    "                \"save_interval\": str(save_interval)\n",
    "            }\n",
    "        ),\n",
    "    ]\n",
    ")\n",
    "\n",
    "rules = [Rule.sagemaker(rule_configs.create_xgboost_report())]\n",
    "\n",
    "xgb_estimator = Estimator(\n",
    "    image_uri=training_container_image,\n",
    "    instance_count=2,\n",
    "    py_version=\"py310\",\n",
    "    base_job_name=base_job_name,\n",
    "    instance_type=instance_type,\n",
    "    # sagemaker_session=,\n",
    "    role=role,\n",
    "    use_spot_instances=use_spot_instances,\n",
    "    max_run=max_run,\n",
    "    max_wait=max_wait,\n",
    "    disable_profiler=False,\n",
    "    # debugger_hook_config=DebuggerHookConfig(\n",
    "    #     s3_output_path=bucket_path,  # Required\n",
    "    #     collection_configs=[\n",
    "    #         # CollectionConfig(name=\"metrics\", parameters={\"save_interval\": str(save_interval)}),\n",
    "    #         # CollectionConfig(\n",
    "    #         #     name=\"feature_importance\",\n",
    "    #         #     parameters={\"save_interval\": str(save_interval)},\n",
    "    #         # ),\n",
    "    #         CollectionConfig(name=\"full_shap\", parameters={\"save_interval\": str(save_interval)}),\n",
    "    #         CollectionConfig(name=\"average_shap\", parameters={\"save_interval\": str(save_interval)}),\n",
    "    #     ],\n",
    "    # ),\n",
    "    rules=[\n",
    "        Rule.sagemaker(\n",
    "            rule_configs.create_xgboost_report(),\n",
    "        )\n",
    "        # Rule.sagemaker(\n",
    "        #     rule_configs.class_imbalance(),\n",
    "        #     rule_parameters={\n",
    "        #         \"threshold_imbalance\": \"10\",\n",
    "        #         \"threshold_misprediction\": \"0.7\",\n",
    "        #     },\n",
    "        # ),\n",
    "    ],\n",
    "\n",
    ")"
   ],
   "id": "dbca72dbd38c9d51",
   "outputs": [
    {
     "name": "stdout",
     "output_type": "stream",
     "text": [
      "sagemaker.config INFO - Not applying SDK defaults from location: C:\\ProgramData\\sagemaker\\sagemaker\\config.yaml\n",
      "sagemaker.config INFO - Not applying SDK defaults from location: C:\\Users\\kamil\\AppData\\Local\\sagemaker\\sagemaker\\config.yaml\n"
     ]
    }
   ],
   "execution_count": 8
  },
  {
   "metadata": {
    "ExecuteTime": {
     "end_time": "2024-09-01T16:55:58.223438Z",
     "start_time": "2024-09-01T16:55:55.916395Z"
    }
   },
   "cell_type": "code",
   "source": [
    "from sagemaker.session import TrainingInput\n",
    "\n",
    "train_input = TrainingInput(\n",
    "    \"s3://football-data-kamil/football-pipeline/6k6z5zfhjtqf/split-and-transform-data/output/train/train.csv\"\n",
    ")\n",
    "validation_input = TrainingInput(\n",
    "    \"s3://football-data-kamil/football-pipeline/6k6z5zfhjtqf/split-and-transform-data/output/validation/validation.csv\"\n",
    ")\n",
    "\n",
    "# s3://football-data-kamil/DEMO-smdebug-xgboost-home-win-prediction\\data/train.csv\n",
    "# train_input = TrainingInput(f\"s3://football-data-kamil/DEMO-smdebug-xgboost-home-win-prediction\\data/train.csv\", content_type=\"text/csv\")\n",
    "# validation_input = TrainingInput(f\"s3://football-data-kamil/DEMO-smdebug-xgboost-home-win-prediction\\data/validation.csv\", content_type=\"text/csv\")\n",
    "\n",
    "pipeline_input = TrainingInput(\n",
    "    \"s3://football-data-kamil/football-pipeline/6k6z5zfhjtqf/split-and-transform-data/output/model/model.tar.gz\"\n",
    ")\n",
    "\n",
    "\n",
    "\n",
    "xgb_estimator.fit(\n",
    "    {\"train\": train_input, \"validation\": validation_input, \"pipeline\": pipeline_input},\n",
    "    # This is a fire and forget event. By setting wait=False, you submit the job to run in the background.\n",
    "    # Amazon SageMaker starts one training job and release control to next cells in the notebook.\n",
    "    # Follow this notebook to see status of the training job.\n",
    "    wait=False,\n",
    ")"
   ],
   "id": "e1d6613f13088397",
   "outputs": [
    {
     "name": "stderr",
     "output_type": "stream",
     "text": [
      "INFO:sagemaker:Creating training-job with name: demo-smdebug-xgboost-home-win-predictio-2024-09-01-16-55-55-916\n"
     ]
    }
   ],
   "execution_count": 9
  },
  {
   "metadata": {
    "ExecuteTime": {
     "end_time": "2024-09-01T17:03:20.900561Z",
     "start_time": "2024-09-01T17:03:20.417413Z"
    }
   },
   "cell_type": "code",
   "source": [
    "import time\n",
    "\n",
    "for _ in range(36):\n",
    "    job_name = xgb_estimator.latest_training_job.name\n",
    "    client = xgb_estimator.sagemaker_session.sagemaker_client\n",
    "    description = client.describe_training_job(TrainingJobName=job_name)\n",
    "    training_job_status = description[\"TrainingJobStatus\"]\n",
    "    rule_job_summary = xgb_estimator.latest_training_job.rule_job_summary()\n",
    "    rule_evaluation_status = rule_job_summary[0][\"RuleEvaluationStatus\"]\n",
    "    print(\n",
    "        \"Training job status: {}, Rule Evaluation Status: {}\".format(\n",
    "            training_job_status, rule_evaluation_status\n",
    "        )\n",
    "    )\n",
    "\n",
    "    if training_job_status in [\"Completed\", \"Failed\"]:\n",
    "        break\n",
    "\n",
    "    time.sleep(10)"
   ],
   "id": "8f64526ae0c2b387",
   "outputs": [
    {
     "name": "stdout",
     "output_type": "stream",
     "text": [
      "Training job status: Completed, Rule Evaluation Status: NoIssuesFound\n"
     ]
    }
   ],
   "execution_count": 11
  },
  {
   "metadata": {
    "ExecuteTime": {
     "end_time": "2024-09-01T17:14:56.796734Z",
     "start_time": "2024-09-01T17:03:24.165423Z"
    }
   },
   "cell_type": "code",
   "source": [
    "from smdebug.trials import create_trial\n",
    "\n",
    "s3_output_path = xgb_estimator.latest_job_debugger_artifacts_path()\n",
    "trial = create_trial(s3_output_path)"
   ],
   "id": "9a03183c8d5d4056",
   "outputs": [
    {
     "name": "stdout",
     "output_type": "stream",
     "text": [
      "[2024-09-01 19:03:24.212 DESKTOP-Q66KT1Q:30300 INFO utils.py:28] RULE_JOB_STOP_SIGNAL_FILENAME: None\n",
      "[2024-09-01 19:03:24.227 DESKTOP-Q66KT1Q:30300 INFO s3_trial.py:42] Loading trial debug-output at path s3://sagemaker-eu-north-1-284415450706/demo-smdebug-xgboost-home-win-predictio-2024-09-01-16-55-55-916\\debug-output\n",
      "[2024-09-01 19:03:45.552 DESKTOP-Q66KT1Q:30300 WARNING trial.py:147] Waiting to read collections files generated by the training job,from s3://sagemaker-eu-north-1-284415450706/demo-smdebug-xgboost-home-win-predictio-2024-09-01-16-55-55-916\\debug-output\\. If this has been a while, you might want to check that the trial is pointed at the right path.\n",
      "[2024-09-01 19:03:47.654 DESKTOP-Q66KT1Q:30300 WARNING trial.py:147] Waiting to read collections files generated by the training job,from s3://sagemaker-eu-north-1-284415450706/demo-smdebug-xgboost-home-win-predictio-2024-09-01-16-55-55-916\\debug-output\\. If this has been a while, you might want to check that the trial is pointed at the right path.\n",
      "[2024-09-01 19:03:49.756 DESKTOP-Q66KT1Q:30300 WARNING trial.py:147] Waiting to read collections files generated by the training job,from s3://sagemaker-eu-north-1-284415450706/demo-smdebug-xgboost-home-win-predictio-2024-09-01-16-55-55-916\\debug-output\\. If this has been a while, you might want to check that the trial is pointed at the right path.\n"
     ]
    },
    {
     "ename": "KeyboardInterrupt",
     "evalue": "",
     "output_type": "error",
     "traceback": [
      "\u001B[1;31m---------------------------------------------------------------------------\u001B[0m",
      "\u001B[1;31mKeyboardInterrupt\u001B[0m                         Traceback (most recent call last)",
      "Cell \u001B[1;32mIn[12], line 4\u001B[0m\n\u001B[0;32m      1\u001B[0m \u001B[38;5;28;01mfrom\u001B[39;00m \u001B[38;5;21;01msmdebug\u001B[39;00m\u001B[38;5;21;01m.\u001B[39;00m\u001B[38;5;21;01mtrials\u001B[39;00m \u001B[38;5;28;01mimport\u001B[39;00m create_trial\n\u001B[0;32m      3\u001B[0m s3_output_path \u001B[38;5;241m=\u001B[39m xgb_estimator\u001B[38;5;241m.\u001B[39mlatest_job_debugger_artifacts_path()\n\u001B[1;32m----> 4\u001B[0m trial \u001B[38;5;241m=\u001B[39m \u001B[43mcreate_trial\u001B[49m\u001B[43m(\u001B[49m\u001B[43ms3_output_path\u001B[49m\u001B[43m)\u001B[49m\n",
      "File \u001B[1;32m~\\anaconda3\\envs\\py10\\lib\\site-packages\\smdebug\\trials\\utils.py:23\u001B[0m, in \u001B[0;36mcreate_trial\u001B[1;34m(path, name, profiler, output_dir, **kwargs)\u001B[0m\n\u001B[0;32m     21\u001B[0m     \u001B[38;5;28;01mreturn\u001B[39;00m ProfilerTrial(name\u001B[38;5;241m=\u001B[39mname, trial_dir\u001B[38;5;241m=\u001B[39mpath, output_dir\u001B[38;5;241m=\u001B[39moutput_dir, \u001B[38;5;241m*\u001B[39m\u001B[38;5;241m*\u001B[39mkwargs)\n\u001B[0;32m     22\u001B[0m \u001B[38;5;28;01mif\u001B[39;00m s3:\n\u001B[1;32m---> 23\u001B[0m     \u001B[38;5;28;01mreturn\u001B[39;00m S3Trial(name\u001B[38;5;241m=\u001B[39mname, bucket_name\u001B[38;5;241m=\u001B[39mbucket_name, prefix_name\u001B[38;5;241m=\u001B[39mprefix_name, \u001B[38;5;241m*\u001B[39m\u001B[38;5;241m*\u001B[39mkwargs)\n\u001B[0;32m     24\u001B[0m \u001B[38;5;28;01melse\u001B[39;00m:\n\u001B[0;32m     25\u001B[0m     \u001B[38;5;28;01mreturn\u001B[39;00m LocalTrial(name\u001B[38;5;241m=\u001B[39mname, dirname\u001B[38;5;241m=\u001B[39mpath, \u001B[38;5;241m*\u001B[39m\u001B[38;5;241m*\u001B[39mkwargs)\n",
      "File \u001B[1;32m~\\anaconda3\\envs\\py10\\lib\\site-packages\\smdebug\\trials\\s3_trial.py:47\u001B[0m, in \u001B[0;36mS3Trial.__init__\u001B[1;34m(self, name, bucket_name, prefix_name, range_steps, check, index_mode, cache)\u001B[0m\n\u001B[0;32m     45\u001B[0m \u001B[38;5;28mself\u001B[39m\u001B[38;5;241m.\u001B[39mpath \u001B[38;5;241m=\u001B[39m \u001B[38;5;124m\"\u001B[39m\u001B[38;5;124ms3://\u001B[39m\u001B[38;5;124m\"\u001B[39m \u001B[38;5;241m+\u001B[39m \u001B[38;5;28mself\u001B[39m\u001B[38;5;241m.\u001B[39mbucket_name \u001B[38;5;241m+\u001B[39m \u001B[38;5;124m\"\u001B[39m\u001B[38;5;124m/\u001B[39m\u001B[38;5;124m\"\u001B[39m \u001B[38;5;241m+\u001B[39m \u001B[38;5;28mself\u001B[39m\u001B[38;5;241m.\u001B[39mprefix_name\n\u001B[0;32m     46\u001B[0m \u001B[38;5;28mself\u001B[39m\u001B[38;5;241m.\u001B[39mindex_reader \u001B[38;5;241m=\u001B[39m S3IndexReader(\u001B[38;5;28mself\u001B[39m\u001B[38;5;241m.\u001B[39mpath)\n\u001B[1;32m---> 47\u001B[0m \u001B[38;5;28;43mself\u001B[39;49m\u001B[38;5;241;43m.\u001B[39;49m\u001B[43m_load_collections\u001B[49m\u001B[43m(\u001B[49m\u001B[43m)\u001B[49m\n\u001B[0;32m     48\u001B[0m \u001B[38;5;28mself\u001B[39m\u001B[38;5;241m.\u001B[39mrefresh_data()\n",
      "File \u001B[1;32m~\\anaconda3\\envs\\py10\\lib\\site-packages\\smdebug\\trials\\trial.py:168\u001B[0m, in \u001B[0;36mTrial._load_collections\u001B[1;34m(self)\u001B[0m\n\u001B[0;32m    165\u001B[0m                 \u001B[38;5;28;01mraise\u001B[39;00m MissingCollectionFiles\n\u001B[0;32m    167\u001B[0m _fetch()\n\u001B[1;32m--> 168\u001B[0m \u001B[43m_wait_for_collection_files\u001B[49m\u001B[43m(\u001B[49m\u001B[38;5;241;43m1\u001B[39;49m\u001B[43m)\u001B[49m  \u001B[38;5;66;03m# wait for the first collection file\u001B[39;00m\n\u001B[0;32m    169\u001B[0m \u001B[38;5;28mself\u001B[39m\u001B[38;5;241m.\u001B[39m_read_collections(collection_files)\n\u001B[0;32m    170\u001B[0m _wait_for_collection_files(\u001B[38;5;28mself\u001B[39m\u001B[38;5;241m.\u001B[39mnum_workers)  \u001B[38;5;66;03m# wait for all the collection files\u001B[39;00m\n",
      "File \u001B[1;32m~\\anaconda3\\envs\\py10\\lib\\site-packages\\smdebug\\trials\\trial.py:160\u001B[0m, in \u001B[0;36mTrial._load_collections.<locals>._wait_for_collection_files\u001B[1;34m(number_of_collection_file_to_wait_for)\u001B[0m\n\u001B[0;32m    158\u001B[0m \u001B[38;5;28;01mdef\u001B[39;00m \u001B[38;5;21m_wait_for_collection_files\u001B[39m(number_of_collection_file_to_wait_for):\n\u001B[0;32m    159\u001B[0m     \u001B[38;5;28;01mwhile\u001B[39;00m \u001B[38;5;28mlen\u001B[39m(collection_files) \u001B[38;5;241m<\u001B[39m number_of_collection_file_to_wait_for:\n\u001B[1;32m--> 160\u001B[0m         \u001B[43mtime\u001B[49m\u001B[38;5;241;43m.\u001B[39;49m\u001B[43msleep\u001B[49m\u001B[43m(\u001B[49m\u001B[38;5;241;43m2\u001B[39;49m\u001B[43m)\u001B[49m\n\u001B[0;32m    161\u001B[0m         _fetch()\n\u001B[0;32m    162\u001B[0m         \u001B[38;5;28;01mif\u001B[39;00m has_training_ended(\u001B[38;5;28mself\u001B[39m\u001B[38;5;241m.\u001B[39mpath):\n",
      "\u001B[1;31mKeyboardInterrupt\u001B[0m: "
     ]
    }
   ],
   "execution_count": 12
  },
  {
   "metadata": {
    "ExecuteTime": {
     "end_time": "2024-09-01T17:16:17.744769Z",
     "start_time": "2024-09-01T17:16:17.729067Z"
    }
   },
   "cell_type": "code",
   "source": [
    "rule_output_path = xgb_estimator.output_path + xgb_estimator.latest_training_job.job_name + \"/rule-output\"\n",
    "rule_output_path"
   ],
   "id": "d0ed0136641c00de",
   "outputs": [
    {
     "data": {
      "text/plain": [
       "'s3://sagemaker-eu-north-1-284415450706/demo-smdebug-xgboost-home-win-predictio-2024-09-01-16-55-55-916/rule-output'"
      ]
     },
     "execution_count": 17,
     "metadata": {},
     "output_type": "execute_result"
    }
   ],
   "execution_count": 17
  },
  {
   "metadata": {
    "ExecuteTime": {
     "end_time": "2024-09-01T17:16:34.201715Z",
     "start_time": "2024-09-01T17:16:33.300685Z"
    }
   },
   "cell_type": "code",
   "source": "! aws s3 ls {rule_output_path} --recursive",
   "id": "7e4fff924a23d8c7",
   "outputs": [
    {
     "name": "stdout",
     "output_type": "stream",
     "text": [
      "2024-09-01 18:58:46     373700 demo-smdebug-xgboost-home-win-predictio-2024-09-01-16-55-55-916/rule-output/CreateXgboostReport/xgboost_report.html\n",
      "2024-09-01 18:58:44     173452 demo-smdebug-xgboost-home-win-predictio-2024-09-01-16-55-55-916/rule-output/CreateXgboostReport/xgboost_report.ipynb\n"
     ]
    }
   ],
   "execution_count": 18
  },
  {
   "metadata": {
    "ExecuteTime": {
     "end_time": "2024-09-01T17:17:07.165311Z",
     "start_time": "2024-09-01T17:17:05.832717Z"
    }
   },
   "cell_type": "code",
   "source": "! aws s3 cp {rule_output_path} ./report/ --recursive",
   "id": "b6ed1924b5d70e5b",
   "outputs": [
    {
     "name": "stdout",
     "output_type": "stream",
     "text": [
      "Completed 169.4 KiB/534.3 KiB (451.5 KiB/s) with 2 file(s) remaining\n",
      "download: s3://sagemaker-eu-north-1-284415450706/demo-smdebug-xgboost-home-win-predictio-2024-09-01-16-55-55-916/rule-output/CreateXgboostReport/xgboost_report.ipynb to report\\CreateXgboostReport\\xgboost_report.ipynb\n",
      "Completed 169.4 KiB/534.3 KiB (451.5 KiB/s) with 1 file(s) remaining\n",
      "Completed 425.4 KiB/534.3 KiB (1.1 MiB/s) with 1 file(s) remaining  \n",
      "Completed 534.3 KiB/534.3 KiB (1.2 MiB/s) with 1 file(s) remaining  \n",
      "download: s3://sagemaker-eu-north-1-284415450706/demo-smdebug-xgboost-home-win-predictio-2024-09-01-16-55-55-916/rule-output/CreateXgboostReport/xgboost_report.html to report\\CreateXgboostReport\\xgboost_report.html\n"
     ]
    }
   ],
   "execution_count": 19
  },
  {
   "metadata": {
    "ExecuteTime": {
     "end_time": "2024-09-01T17:14:58.495524Z",
     "start_time": "2024-09-01T17:14:58.479891Z"
    }
   },
   "cell_type": "code",
   "source": [
    "sagemaker_client = boto3.client('sagemaker')\n",
    "\n",
    "def get_latest_processing_job():\n",
    "    processing_jobs = sagemaker_client.list_processing_jobs(SortBy='CreationTime', SortOrder='Descending')['ProcessingJobSummaries']\n",
    "    if processing_jobs:\n",
    "        # The latest processing job\n",
    "        latest_job_name = processing_jobs[0]['ProcessingJobName']\n",
    "        return latest_job_name\n",
    "    else:\n",
    "        raise Exception(\"No processing jobs found\")"
   ],
   "id": "d44bff353cf3ff55",
   "outputs": [],
   "execution_count": 13
  },
  {
   "metadata": {
    "ExecuteTime": {
     "end_time": "2024-09-01T17:15:03.939824Z",
     "start_time": "2024-09-01T17:15:03.459529Z"
    }
   },
   "cell_type": "code",
   "source": [
    "import boto3\n",
    "trn_job_name = get_latest_processing_job()\n",
    "\n",
    "response = sagemaker_client.describe_processing_job(\n",
    "    ProcessingJobName=trn_job_name\n",
    ")\n",
    "\n",
    "print(response['ProcessingJobStatus'])\n",
    "print(response.get('FailureReason', 'No failure reason provided'))"
   ],
   "id": "3408b2e0c92c3c01",
   "outputs": [
    {
     "name": "stdout",
     "output_type": "stream",
     "text": [
      "Completed\n",
      "No failure reason provided\n"
     ]
    }
   ],
   "execution_count": 14
  },
  {
   "metadata": {},
   "cell_type": "code",
   "outputs": [],
   "execution_count": null,
   "source": "",
   "id": "34561a7cc8bf2d69"
  }
 ],
 "metadata": {
  "kernelspec": {
   "display_name": "Python 3",
   "language": "python",
   "name": "python3"
  },
  "language_info": {
   "codemirror_mode": {
    "name": "ipython",
    "version": 2
   },
   "file_extension": ".py",
   "mimetype": "text/x-python",
   "name": "python",
   "nbconvert_exporter": "python",
   "pygments_lexer": "ipython2",
   "version": "2.7.6"
  }
 },
 "nbformat": 4,
 "nbformat_minor": 5
}
