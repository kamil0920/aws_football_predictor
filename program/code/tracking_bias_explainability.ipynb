{
 "cells": [
  {
   "cell_type": "code",
   "id": "initial_id",
   "metadata": {
    "collapsed": true
   },
   "source": [
    "import os\n",
    "\n",
    "%load_ext dotenv\n",
    "%dotenv\n",
    "\n",
    "FEATURE_COLUMNS = ['player_rating_home_player_1', 'player_rating_home_player_2', 'player_rating_home_player_3',\n",
    "                   'player_rating_home_player_4', 'player_rating_home_player_5',\n",
    "                   'player_rating_home_player_6', 'player_rating_home_player_7', 'player_rating_home_player_8',\n",
    "                   'player_rating_home_player_9', 'player_rating_home_player_10',\n",
    "                   'player_rating_home_player_11', 'player_rating_away_player_1', 'player_rating_away_player_2',\n",
    "                   'player_rating_away_player_3', 'player_rating_away_player_4',\n",
    "                   'player_rating_away_player_5', 'player_rating_away_player_6', 'player_rating_away_player_7',\n",
    "                   'player_rating_away_player_8', 'player_rating_away_player_9',\n",
    "                   'player_rating_away_player_10', 'player_rating_away_player_11', 'ewm_home_team_goals',\n",
    "                   'ewm_away_team_goals', 'ewm_home_team_goals_conceded', 'ewm_away_team_goals_conceded',\n",
    "                   'points_home', 'points_away', 'home_weighted_wins', 'away_weighted_wins', 'avg_home_team_rating',\n",
    "                   'avg_away_team_rating', 'home_streak_wins', 'away_streak_wins', 'ewm_shoton_home',\n",
    "                   'ewm_shoton_away', 'ewm_possession_home', 'ewm_possession_away', 'avg_home_rating_attack',\n",
    "                   'avg_away_rating_attack', 'avg_away_rating_defence', 'avg_home_rating_defence',\n",
    "                   'average_rating_home', 'average_rating_away', 'num_top_players_home', 'num_top_players_away',\n",
    "                   'ewm_home_team_goals_conceded_x_ewm_shoton_home', 'attacking_strength_home',\n",
    "                   'attacking_strength_away', 'attacking_strength_diff', 'result_match']"
   ],
   "outputs": [],
   "execution_count": null
  },
  {
   "metadata": {},
   "cell_type": "code",
   "source": [
    "import boto3\n",
    "from sagemaker.session import Session\n",
    "from sagemaker import clarify\n",
    "\n",
    "default_prefix = \"sagemaker/DEMO-sagemaker-clarify\"\n",
    "region = os.environ.get(\"AWS_REGION\")\n",
    "default_bucket = os.environ[\"BUCKET\"]\n",
    "execution_role = os.environ[\"ROLE\"]\n",
    "sagemaker_session = Session()\n",
    "\n",
    "clarify_processor = clarify.SageMakerClarifyProcessor(\n",
    "    role=execution_role,\n",
    "    instance_count=1,\n",
    "    instance_type=\"ml.m5.xlarge\",\n",
    "    sagemaker_session=sagemaker_session\n",
    ")"
   ],
   "id": "737e53f19f374f1d",
   "outputs": [],
   "execution_count": null
  },
  {
   "metadata": {},
   "cell_type": "code",
   "source": [
    "from sagemaker.s3 import S3Uploader\n",
    "from sagemaker.inputs import TrainingInput\n",
    "\n",
    "train_uri = 's3://football-data-kamil/football-pipeline/2qrodexra55q/split-and-transform-data/output/train/train.csv'\n",
    "train_input = TrainingInput(train_uri, content_type=\"text/csv\")\n",
    "test_uri = 's3://football-data-kamil/football-pipeline/2qrodexra55q/split-and-transform-data/output/test/test.csv'"
   ],
   "id": "28340e8e4d6bd936",
   "outputs": [],
   "execution_count": null
  },
  {
   "metadata": {},
   "cell_type": "code",
   "source": [
    "from io import StringIO\n",
    "import pandas as pd\n",
    "\n",
    "s3 = boto3.resource('s3')\n",
    "\n",
    "obj = s3.Object(default_bucket, 'football-pipeline/2qrodexra55q/split-and-transform-data/output/train/train.csv')\n",
    "data = obj.get()['Body']"
   ],
   "id": "1982e95d29f9863f",
   "outputs": [],
   "execution_count": null
  },
  {
   "metadata": {},
   "cell_type": "code",
   "source": [
    "train_df = pd.read_csv(data, header=None)\n",
    "train_df.columns = FEATURE_COLUMNS\n",
    "# train_df"
   ],
   "id": "589305f648eecc90",
   "outputs": [],
   "execution_count": null
  },
  {
   "metadata": {},
   "cell_type": "code",
   "source": [
    "bias_report_output_path = \"s3://{}/{}/clarify-bias\".format(default_bucket, default_prefix)\n",
    "bias_data_config = clarify.DataConfig(\n",
    "    s3_data_input_path=train_uri,\n",
    "    s3_output_path=bias_report_output_path,\n",
    "    label=\"result_match\",\n",
    "    headers=train_df.columns.to_list(),\n",
    "    dataset_type=\"text/csv\",\n",
    ")"
   ],
   "id": "9799ccd3dd3b7c6",
   "outputs": [],
   "execution_count": null
  },
  {
   "metadata": {},
   "cell_type": "code",
   "source": [
    "MODEL_PACKAGE_GROUP = \"football-group\"\n",
    "\n",
    "sm = boto3.client(\"sagemaker\")\n",
    "model_packages = sm.list_model_packages(ModelPackageGroupName=MODEL_PACKAGE_GROUP, SortBy=\"CreationTime\", SortOrder=\"Descending\")\n",
    "\n",
    "model_package = [pk for pk in model_packages[\"ModelPackageSummaryList\"] \n",
    "                 if pk[\"ModelApprovalStatus\"] == \"Approved\"][0]\n",
    "\n",
    "model_package_arn = model_package[\"ModelPackageArn\"]\n",
    "\n",
    "models = sm.search(\n",
    "    Resource='Model',\n",
    "    SearchExpression={\n",
    "        'Filters': [\n",
    "            {\n",
    "                'Name': 'Model.Containers.ModelPackageName',\n",
    "                'Operator': 'Equals',\n",
    "                'Value': model_package_arn\n",
    "            },\n",
    "        ]\n",
    "    }\n",
    ")[\"Results\"]\n",
    "\n",
    "model_name = models[0][\"Model\"][\"Model\"][\"ModelName\"]"
   ],
   "id": "222fc6aae0437e45",
   "outputs": [],
   "execution_count": null
  },
  {
   "metadata": {},
   "cell_type": "code",
   "source": [
    "model_config = clarify.ModelConfig(\n",
    "    model_name=model_name,\n",
    "    instance_type=\"ml.m5.xlarge\",\n",
    "    instance_count=1,\n",
    "    accept_type=\"text/csv\",\n",
    "    content_type=\"text/csv\",\n",
    ")"
   ],
   "id": "cf7b4653976d4e3c",
   "outputs": [],
   "execution_count": null
  },
  {
   "metadata": {},
   "cell_type": "code",
   "source": "predictions_config = clarify.ModelPredictedLabelConfig(probability_threshold=0.8)",
   "id": "7a2f6ce5c690862f",
   "outputs": [],
   "execution_count": null
  },
  {
   "metadata": {},
   "cell_type": "code",
   "source": [
    "bias_config = clarify.BiasConfig(\n",
    "    label_values_or_threshold=[1], facet_name=\"num_top_players_home\", facet_values_or_threshold=[0], group_name=\"home_weighted_wins\"\n",
    ")"
   ],
   "id": "6a7ffb1a79b30ea6",
   "outputs": [],
   "execution_count": null
  },
  {
   "metadata": {},
   "cell_type": "code",
   "source": [
    "from sagemaker.experiments import Run\n",
    "\n",
    "with Run(\n",
    "    experiment_name='tracking-bias-explainability',\n",
    "    run_name=\"bias-only\",\n",
    "    sagemaker_session=sagemaker_session,\n",
    ") as run:\n",
    "    clarify_processor.run_bias(\n",
    "        data_config=bias_data_config,\n",
    "        bias_config=bias_config,\n",
    "        model_config=model_config,\n",
    "        model_predicted_label_config=predictions_config,\n",
    "        pre_training_methods=\"all\",\n",
    "        post_training_methods=\"all\",\n",
    "    )"
   ],
   "id": "eb719199d9e98854",
   "outputs": [],
   "execution_count": null
  },
  {
   "metadata": {},
   "cell_type": "code",
   "source": "",
   "id": "246e9d5b16bec41c",
   "outputs": [],
   "execution_count": null
  }
 ],
 "metadata": {
  "kernelspec": {
   "display_name": "Python 3",
   "language": "python",
   "name": "python3"
  },
  "language_info": {
   "codemirror_mode": {
    "name": "ipython",
    "version": 2
   },
   "file_extension": ".py",
   "mimetype": "text/x-python",
   "name": "python",
   "nbconvert_exporter": "python",
   "pygments_lexer": "ipython2",
   "version": "2.7.6"
  }
 },
 "nbformat": 4,
 "nbformat_minor": 5
}
