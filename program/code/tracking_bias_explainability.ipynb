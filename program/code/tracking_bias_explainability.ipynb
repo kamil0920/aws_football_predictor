{
 "cells": [
  {
   "cell_type": "code",
   "id": "initial_id",
   "metadata": {
    "collapsed": true
   },
   "source": [
    "import os\n",
    "\n",
    "%load_ext dotenv\n",
    "%dotenv\n",
    "\n",
    "FEATURE_COLUMNS = ['player_rating_home_player_1', 'player_rating_home_player_2', 'player_rating_home_player_3',\n",
    "                   'player_rating_home_player_4', 'player_rating_home_player_5',\n",
    "                   'player_rating_home_player_6', 'player_rating_home_player_7', 'player_rating_home_player_8',\n",
    "                   'player_rating_home_player_9', 'player_rating_home_player_10',\n",
    "                   'player_rating_home_player_11', 'player_rating_away_player_1', 'player_rating_away_player_2',\n",
    "                   'player_rating_away_player_3', 'player_rating_away_player_4',\n",
    "                   'player_rating_away_player_5', 'player_rating_away_player_6', 'player_rating_away_player_7',\n",
    "                   'player_rating_away_player_8', 'player_rating_away_player_9',\n",
    "                   'player_rating_away_player_10', 'player_rating_away_player_11', 'ewm_home_team_goals',\n",
    "                   'ewm_away_team_goals', 'ewm_home_team_goals_conceded', 'ewm_away_team_goals_conceded',\n",
    "                   'points_home', 'points_away', 'home_weighted_wins', 'away_weighted_wins', 'avg_home_team_rating',\n",
    "                   'avg_away_team_rating', 'home_streak_wins', 'away_streak_wins', 'ewm_shoton_home',\n",
    "                   'ewm_shoton_away', 'ewm_possession_home', 'ewm_possession_away', 'avg_home_rating_attack',\n",
    "                   'avg_away_rating_attack', 'avg_away_rating_defence', 'avg_home_rating_defence',\n",
    "                   'average_rating_home', 'average_rating_away', 'num_top_players_home', 'num_top_players_away',\n",
    "                   'ewm_home_team_goals_conceded_x_ewm_shoton_home', 'attacking_strength_home',\n",
    "                   'attacking_strength_away', 'attacking_strength_diff', 'result_match']"
   ],
   "outputs": [],
   "execution_count": null
  },
  {
   "metadata": {},
   "cell_type": "code",
   "source": [
    "import boto3\n",
    "from sagemaker.session import Session\n",
    "from sagemaker import clarify\n",
    "\n",
    "default_prefix = \"sagemaker/DEMO-sagemaker-clarify\"\n",
    "region = os.environ.get(\"AWS_REGION\")\n",
    "default_bucket = os.environ[\"BUCKET\"]\n",
    "execution_role = os.environ[\"ROLE\"]\n",
    "sagemaker_session = Session()\n",
    "\n",
    "clarify_processor = clarify.SageMakerClarifyProcessor(\n",
    "    role=execution_role,\n",
    "    instance_count=1,\n",
    "    instance_type=\"ml.m5.xlarge\",\n",
    "    sagemaker_session=sagemaker_session\n",
    ")"
   ],
   "id": "737e53f19f374f1d",
   "outputs": [],
   "execution_count": null
  },
  {
   "metadata": {},
   "cell_type": "code",
   "source": [
    "from io import StringIO\n",
    "import pandas as pd\n",
    "\n",
    "s3_uri = os.environ.get(\"S3_TRAIN_PATH\")\n",
    "\n",
    "s3_components = s3_uri.replace(\"s3://\", \"\").split(\"/\")\n",
    "bucket = s3_components[0]\n",
    "key = \"/\".join(s3_components[1:])\n",
    "\n",
    "s3_client = boto3.client('s3')\n",
    "\n",
    "response = s3_client.get_object(Bucket=bucket, Key=key)\n",
    "data = response['Body'].read().decode('utf-8')\n",
    "\n",
    "train_df = pd.read_csv(StringIO(data))\n",
    "train_df.columns = FEATURE_COLUMNS\n",
    "\n",
    "mapping = {1.0: 'home_win', 0.0: 'home_not_win'}\n",
    "train_df['result_match'] = train_df['result_match'].map(mapping)\n",
    "train_df.head()"
   ],
   "id": "1982e95d29f9863f",
   "outputs": [],
   "execution_count": null
  },
  {
   "metadata": {},
   "cell_type": "code",
   "source": [
    "from sagemaker.s3 import S3Uploader\n",
    "\n",
    "S3_LOCATION = f\"s3://{default_bucket}/football\"\n",
    "\n",
    "df_local_path = \"train_df_clarify.csv\"\n",
    "train_df.to_csv(df_local_path, index=False)\n",
    "\n",
    "s3_data_input_path = S3Uploader.upload(local_path=df_local_path, desired_s3_uri=f\"{S3_LOCATION}/clarify\", sagemaker_session=sagemaker_session)\n",
    "\n",
    "os.remove(df_local_path)"
   ],
   "id": "c147b0da8f9ea771",
   "outputs": [],
   "execution_count": null
  },
  {
   "metadata": {},
   "cell_type": "code",
   "source": [
    "bias_report_output_path = \"s3://{}/{}/clarify-bias\".format(default_bucket, default_prefix)\n",
    "bias_data_config = clarify.DataConfig(\n",
    "    s3_data_input_path=s3_data_input_path,\n",
    "    s3_output_path=bias_report_output_path,\n",
    "    label=\"result_match\",\n",
    "    headers=train_df.columns.to_list(),\n",
    "    dataset_type=\"text/csv\",\n",
    ")"
   ],
   "id": "9799ccd3dd3b7c6",
   "outputs": [],
   "execution_count": null
  },
  {
   "metadata": {},
   "cell_type": "code",
   "source": [
    "MODEL_PACKAGE_GROUP = os.environ[\"MODEL_PACKAGE_GROUP\"]\n",
    "\n",
    "sm = boto3.client(\"sagemaker\")\n",
    "model_packages = sm.list_model_packages(ModelPackageGroupName=MODEL_PACKAGE_GROUP, SortBy=\"CreationTime\", SortOrder=\"Descending\")\n",
    "\n",
    "model_package = [pk for pk in model_packages[\"ModelPackageSummaryList\"] \n",
    "                 if pk[\"ModelApprovalStatus\"] == \"Approved\"][0]\n",
    "\n",
    "model_package_arn = model_package[\"ModelPackageArn\"]\n",
    "\n",
    "models = sm.search(\n",
    "    Resource='Model',\n",
    "    SearchExpression={\n",
    "        'Filters': [\n",
    "            {\n",
    "                'Name': 'Model.Containers.ModelPackageName',\n",
    "                'Operator': 'Equals',\n",
    "                'Value': model_package_arn\n",
    "            },\n",
    "        ]\n",
    "    }\n",
    ")[\"Results\"]\n",
    "\n",
    "model_name = models[0][\"Model\"][\"Model\"][\"ModelName\"]\n",
    "print(model_name)"
   ],
   "id": "222fc6aae0437e45",
   "outputs": [],
   "execution_count": null
  },
  {
   "metadata": {},
   "cell_type": "code",
   "source": [
    "content_template = '{\"confidence\":$features}'\n",
    "\n",
    "model_config = clarify.ModelConfig(\n",
    "    model_name=model_name,\n",
    "    instance_type=\"ml.m5.xlarge\",\n",
    "    instance_count=1,\n",
    "    accept_type=\"application/jsonlines\",\n",
    "    content_type=\"text/csv\",\n",
    ")"
   ],
   "id": "cf7b4653976d4e3c",
   "outputs": [],
   "execution_count": null
  },
  {
   "metadata": {},
   "cell_type": "code",
   "source": [
    "probability = 0.65\n",
    "predictions_config = clarify.ModelPredictedLabelConfig(\n",
    "    label='prediction',\n",
    "    probability='confidence',\n",
    "    probability_threshold=probability,\n",
    ")"
   ],
   "id": "7a2f6ce5c690862f",
   "outputs": [],
   "execution_count": null
  },
  {
   "metadata": {},
   "cell_type": "code",
   "source": [
    "bias_config = clarify.BiasConfig(\n",
    "    label_values_or_threshold=['home_win'], facet_name=\"attacking_strength_diff\", facet_values_or_threshold=[0], group_name=\"num_top_players_home\"\n",
    ")"
   ],
   "id": "6a7ffb1a79b30ea6",
   "outputs": [],
   "execution_count": null
  },
  {
   "metadata": {},
   "cell_type": "code",
   "source": [
    "from sagemaker.experiments import Run\n",
    "\n",
    "with Run(\n",
    "    experiment_name='tracking-bias-explainability',\n",
    "    run_name=\"bias-only\",\n",
    "    sagemaker_session=sagemaker_session,\n",
    ") as run:\n",
    "    clarify_processor.run_bias(\n",
    "        data_config=bias_data_config,\n",
    "        bias_config=bias_config,\n",
    "        model_config=model_config,\n",
    "        model_predicted_label_config=predictions_config,\n",
    "        pre_training_methods=\"all\",\n",
    "        post_training_methods=\"all\",\n",
    "    )"
   ],
   "id": "eb719199d9e98854",
   "outputs": [],
   "execution_count": null
  },
  {
   "metadata": {},
   "cell_type": "code",
   "source": [
    "baseline_df = train_df.drop(columns=[\"result_match\"])\n",
    "\n",
    "baseline = baseline_df.values.tolist()\n",
    "\n",
    "shap_config = clarify.SHAPConfig(\n",
    "    baseline=baseline,\n",
    "    num_samples=5,\n",
    "    agg_method=\"mean_abs\",\n",
    "    save_local_shap_values=False,\n",
    ")"
   ],
   "id": "a9ab39f7b27c09e9",
   "outputs": [],
   "execution_count": null
  },
  {
   "metadata": {},
   "cell_type": "code",
   "source": [
    "explainability_output_path = \"s3://{}/{}/clarify-explainability\".format(bucket, default_prefix)\n",
    "explainability_data_config = clarify.DataConfig(\n",
    "    s3_data_input_path=s3_data_input_path,\n",
    "    s3_output_path=explainability_output_path,\n",
    "    label=\"result_match\",\n",
    "    headers=train_df.columns.to_list(),\n",
    "    dataset_type=\"text/csv\",\n",
    ")"
   ],
   "id": "d98ffb599ed930ad",
   "outputs": [],
   "execution_count": null
  },
  {
   "metadata": {},
   "cell_type": "code",
   "source": "train_df.columns.to_list()",
   "id": "86850e5eb1f0577c",
   "outputs": [],
   "execution_count": null
  },
  {
   "metadata": {},
   "cell_type": "code",
   "source": [
    "clarify_processor.run_explainability(\n",
    "    data_config=explainability_data_config,\n",
    "    model_config=model_config,\n",
    "    explainability_config=shap_config,\n",
    "    model_scores='confidence',\n",
    ")"
   ],
   "id": "75cf2423b0e38374",
   "outputs": [],
   "execution_count": null
  },
  {
   "metadata": {},
   "cell_type": "code",
   "source": "explainability_output_path",
   "id": "7436325e294493a2",
   "outputs": [],
   "execution_count": null
  },
  {
   "metadata": {},
   "cell_type": "code",
   "source": "!aws s3 cp {explainability_output_path}/report.html ./explainability-report.html",
   "id": "856c8a336e8fc753",
   "outputs": [],
   "execution_count": null
  }
 ],
 "metadata": {
  "kernelspec": {
   "display_name": "Python 3",
   "language": "python",
   "name": "python3"
  },
  "language_info": {
   "codemirror_mode": {
    "name": "ipython",
    "version": 2
   },
   "file_extension": ".py",
   "mimetype": "text/x-python",
   "name": "python",
   "nbconvert_exporter": "python",
   "pygments_lexer": "ipython2",
   "version": "2.7.6"
  }
 },
 "nbformat": 4,
 "nbformat_minor": 5
}
