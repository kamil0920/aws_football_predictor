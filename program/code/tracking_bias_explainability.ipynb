{
 "cells": [
  {
   "cell_type": "code",
   "id": "initial_id",
   "metadata": {
    "collapsed": true,
    "ExecuteTime": {
     "end_time": "2024-06-16T20:11:25.390175Z",
     "start_time": "2024-06-16T20:11:25.372176Z"
    }
   },
   "source": [
    "import os\n",
    "\n",
    "%load_ext dotenv\n",
    "%dotenv\n",
    "\n",
    "FEATURE_COLUMNS = ['player_rating_home_player_1', 'player_rating_home_player_2', 'player_rating_home_player_3',\n",
    "                   'player_rating_home_player_4', 'player_rating_home_player_5',\n",
    "                   'player_rating_home_player_6', 'player_rating_home_player_7', 'player_rating_home_player_8',\n",
    "                   'player_rating_home_player_9', 'player_rating_home_player_10',\n",
    "                   'player_rating_home_player_11', 'player_rating_away_player_1', 'player_rating_away_player_2',\n",
    "                   'player_rating_away_player_3', 'player_rating_away_player_4',\n",
    "                   'player_rating_away_player_5', 'player_rating_away_player_6', 'player_rating_away_player_7',\n",
    "                   'player_rating_away_player_8', 'player_rating_away_player_9',\n",
    "                   'player_rating_away_player_10', 'player_rating_away_player_11', 'ewm_home_team_goals',\n",
    "                   'ewm_away_team_goals', 'ewm_home_team_goals_conceded', 'ewm_away_team_goals_conceded',\n",
    "                   'points_home', 'points_away', 'home_weighted_wins', 'away_weighted_wins', 'avg_home_team_rating',\n",
    "                   'avg_away_team_rating', 'home_streak_wins', 'away_streak_wins', 'ewm_shoton_home',\n",
    "                   'ewm_shoton_away', 'ewm_possession_home', 'ewm_possession_away', 'avg_home_rating_attack',\n",
    "                   'avg_away_rating_attack', 'avg_away_rating_defence', 'avg_home_rating_defence',\n",
    "                   'average_rating_home', 'average_rating_away', 'num_top_players_home', 'num_top_players_away',\n",
    "                   'ewm_home_team_goals_conceded_x_ewm_shoton_home', 'attacking_strength_home',\n",
    "                   'attacking_strength_away', 'attacking_strength_diff', 'result_match']"
   ],
   "outputs": [],
   "execution_count": 1
  },
  {
   "metadata": {
    "ExecuteTime": {
     "end_time": "2024-06-16T20:11:27.411537Z",
     "start_time": "2024-06-16T20:11:25.391175Z"
    }
   },
   "cell_type": "code",
   "source": [
    "import boto3\n",
    "from sagemaker.session import Session\n",
    "from sagemaker import clarify\n",
    "\n",
    "default_prefix = \"sagemaker/DEMO-sagemaker-clarify\"\n",
    "region = os.environ.get(\"AWS_REGION\")\n",
    "default_bucket = os.environ[\"BUCKET\"]\n",
    "execution_role = os.environ[\"ROLE\"]\n",
    "sagemaker_session = Session()\n",
    "\n",
    "clarify_processor = clarify.SageMakerClarifyProcessor(\n",
    "    role=execution_role,\n",
    "    instance_count=1,\n",
    "    instance_type=\"ml.m5.xlarge\",\n",
    "    sagemaker_session=sagemaker_session\n",
    ")"
   ],
   "id": "737e53f19f374f1d",
   "outputs": [
    {
     "name": "stdout",
     "output_type": "stream",
     "text": [
      "sagemaker.config INFO - Not applying SDK defaults from location: C:\\ProgramData\\sagemaker\\sagemaker\\config.yaml\n",
      "sagemaker.config INFO - Not applying SDK defaults from location: C:\\Users\\kamil\\AppData\\Local\\sagemaker\\sagemaker\\config.yaml\n",
      "sagemaker.config INFO - Not applying SDK defaults from location: C:\\ProgramData\\sagemaker\\sagemaker\\config.yaml\n",
      "sagemaker.config INFO - Not applying SDK defaults from location: C:\\Users\\kamil\\AppData\\Local\\sagemaker\\sagemaker\\config.yaml\n"
     ]
    }
   ],
   "execution_count": 2
  },
  {
   "metadata": {
    "ExecuteTime": {
     "end_time": "2024-06-16T20:11:28.107173Z",
     "start_time": "2024-06-16T20:11:27.412538Z"
    }
   },
   "cell_type": "code",
   "source": [
    "from io import StringIO\n",
    "import pandas as pd\n",
    "\n",
    "s3 = boto3.resource('s3')\n",
    "\n",
    "train_path = os.getenv(\"TRAIN_PATH\")\n",
    "obj = s3.Object(default_bucket, train_path)\n",
    "data = obj.get()['Body']"
   ],
   "id": "1982e95d29f9863f",
   "outputs": [],
   "execution_count": 3
  },
  {
   "metadata": {
    "ExecuteTime": {
     "end_time": "2024-06-16T20:11:28.357277Z",
     "start_time": "2024-06-16T20:11:28.108175Z"
    }
   },
   "cell_type": "code",
   "source": [
    "train_df = pd.read_csv(data, header=None)\n",
    "train_df.columns = FEATURE_COLUMNS\n",
    "\n",
    "mapping = {1.0: 'home_win', 0.0: 'home_not_win'}\n",
    "train_df['result_match'] = train_df['result_match'].map(mapping)\n",
    "train_df.head()"
   ],
   "id": "589305f648eecc90",
   "outputs": [
    {
     "data": {
      "text/plain": [
       "   player_rating_home_player_1  player_rating_home_player_2  \\\n",
       "0                         70.0                         70.0   \n",
       "1                         73.0                         73.0   \n",
       "2                         74.0                         74.0   \n",
       "3                         86.0                         86.0   \n",
       "4                         68.0                         68.0   \n",
       "\n",
       "   player_rating_home_player_3  player_rating_home_player_4  \\\n",
       "0                         70.0                         70.0   \n",
       "1                         73.0                         73.0   \n",
       "2                         74.0                         74.0   \n",
       "3                         86.0                         86.0   \n",
       "4                         68.0                         68.0   \n",
       "\n",
       "   player_rating_home_player_5  player_rating_home_player_6  \\\n",
       "0                         70.0                         70.0   \n",
       "1                         73.0                         73.0   \n",
       "2                         74.0                         74.0   \n",
       "3                         86.0                         86.0   \n",
       "4                         68.0                         68.0   \n",
       "\n",
       "   player_rating_home_player_7  player_rating_home_player_8  \\\n",
       "0                         73.0                         69.0   \n",
       "1                         75.0                         73.0   \n",
       "2                         74.0                         72.0   \n",
       "3                         85.0                         86.0   \n",
       "4                         75.0                         73.0   \n",
       "\n",
       "   player_rating_home_player_9  player_rating_home_player_10  ...  \\\n",
       "0                         74.0                          75.0  ...   \n",
       "1                         74.0                          75.0  ...   \n",
       "2                         73.0                          74.0  ...   \n",
       "3                         81.0                          87.0  ...   \n",
       "4                         77.0                          73.0  ...   \n",
       "\n",
       "   avg_home_rating_defence  average_rating_home  average_rating_away  \\\n",
       "0                     70.0            71.000000            71.545455   \n",
       "1                     73.0            73.363636            82.181818   \n",
       "2                     74.0            74.000000            84.818182   \n",
       "3                     86.0            85.363636            74.363636   \n",
       "4                     68.0            70.818182            76.727273   \n",
       "\n",
       "   num_top_players_home  num_top_players_away  \\\n",
       "0                   0.0                   0.0   \n",
       "1                   0.0                   3.0   \n",
       "2                   0.0                  10.0   \n",
       "3                  10.0                   0.0   \n",
       "4                   0.0                   0.0   \n",
       "\n",
       "   ewm_home_team_goals_conceded_x_ewm_shoton_home  attacking_strength_home  \\\n",
       "0                                         7.92254                47.886667   \n",
       "1                                         9.77076                31.216102   \n",
       "2                                         0.00000                38.541667   \n",
       "3                                         5.19080                16.898406   \n",
       "4                                         0.21420                43.814371   \n",
       "\n",
       "   attacking_strength_away  attacking_strength_diff  result_match  \n",
       "0                55.174242                -7.287576  home_not_win  \n",
       "1                41.378109               -10.162008  home_not_win  \n",
       "2                27.056962                11.484705  home_not_win  \n",
       "3                38.219895               -21.321489      home_win  \n",
       "4                34.459459                 9.354912  home_not_win  \n",
       "\n",
       "[5 rows x 51 columns]"
      ],
      "text/html": [
       "<div>\n",
       "<style scoped>\n",
       "    .dataframe tbody tr th:only-of-type {\n",
       "        vertical-align: middle;\n",
       "    }\n",
       "\n",
       "    .dataframe tbody tr th {\n",
       "        vertical-align: top;\n",
       "    }\n",
       "\n",
       "    .dataframe thead th {\n",
       "        text-align: right;\n",
       "    }\n",
       "</style>\n",
       "<table border=\"1\" class=\"dataframe\">\n",
       "  <thead>\n",
       "    <tr style=\"text-align: right;\">\n",
       "      <th></th>\n",
       "      <th>player_rating_home_player_1</th>\n",
       "      <th>player_rating_home_player_2</th>\n",
       "      <th>player_rating_home_player_3</th>\n",
       "      <th>player_rating_home_player_4</th>\n",
       "      <th>player_rating_home_player_5</th>\n",
       "      <th>player_rating_home_player_6</th>\n",
       "      <th>player_rating_home_player_7</th>\n",
       "      <th>player_rating_home_player_8</th>\n",
       "      <th>player_rating_home_player_9</th>\n",
       "      <th>player_rating_home_player_10</th>\n",
       "      <th>...</th>\n",
       "      <th>avg_home_rating_defence</th>\n",
       "      <th>average_rating_home</th>\n",
       "      <th>average_rating_away</th>\n",
       "      <th>num_top_players_home</th>\n",
       "      <th>num_top_players_away</th>\n",
       "      <th>ewm_home_team_goals_conceded_x_ewm_shoton_home</th>\n",
       "      <th>attacking_strength_home</th>\n",
       "      <th>attacking_strength_away</th>\n",
       "      <th>attacking_strength_diff</th>\n",
       "      <th>result_match</th>\n",
       "    </tr>\n",
       "  </thead>\n",
       "  <tbody>\n",
       "    <tr>\n",
       "      <th>0</th>\n",
       "      <td>70.0</td>\n",
       "      <td>70.0</td>\n",
       "      <td>70.0</td>\n",
       "      <td>70.0</td>\n",
       "      <td>70.0</td>\n",
       "      <td>70.0</td>\n",
       "      <td>73.0</td>\n",
       "      <td>69.0</td>\n",
       "      <td>74.0</td>\n",
       "      <td>75.0</td>\n",
       "      <td>...</td>\n",
       "      <td>70.0</td>\n",
       "      <td>71.000000</td>\n",
       "      <td>71.545455</td>\n",
       "      <td>0.0</td>\n",
       "      <td>0.0</td>\n",
       "      <td>7.92254</td>\n",
       "      <td>47.886667</td>\n",
       "      <td>55.174242</td>\n",
       "      <td>-7.287576</td>\n",
       "      <td>home_not_win</td>\n",
       "    </tr>\n",
       "    <tr>\n",
       "      <th>1</th>\n",
       "      <td>73.0</td>\n",
       "      <td>73.0</td>\n",
       "      <td>73.0</td>\n",
       "      <td>73.0</td>\n",
       "      <td>73.0</td>\n",
       "      <td>73.0</td>\n",
       "      <td>75.0</td>\n",
       "      <td>73.0</td>\n",
       "      <td>74.0</td>\n",
       "      <td>75.0</td>\n",
       "      <td>...</td>\n",
       "      <td>73.0</td>\n",
       "      <td>73.363636</td>\n",
       "      <td>82.181818</td>\n",
       "      <td>0.0</td>\n",
       "      <td>3.0</td>\n",
       "      <td>9.77076</td>\n",
       "      <td>31.216102</td>\n",
       "      <td>41.378109</td>\n",
       "      <td>-10.162008</td>\n",
       "      <td>home_not_win</td>\n",
       "    </tr>\n",
       "    <tr>\n",
       "      <th>2</th>\n",
       "      <td>74.0</td>\n",
       "      <td>74.0</td>\n",
       "      <td>74.0</td>\n",
       "      <td>74.0</td>\n",
       "      <td>74.0</td>\n",
       "      <td>74.0</td>\n",
       "      <td>74.0</td>\n",
       "      <td>72.0</td>\n",
       "      <td>73.0</td>\n",
       "      <td>74.0</td>\n",
       "      <td>...</td>\n",
       "      <td>74.0</td>\n",
       "      <td>74.000000</td>\n",
       "      <td>84.818182</td>\n",
       "      <td>0.0</td>\n",
       "      <td>10.0</td>\n",
       "      <td>0.00000</td>\n",
       "      <td>38.541667</td>\n",
       "      <td>27.056962</td>\n",
       "      <td>11.484705</td>\n",
       "      <td>home_not_win</td>\n",
       "    </tr>\n",
       "    <tr>\n",
       "      <th>3</th>\n",
       "      <td>86.0</td>\n",
       "      <td>86.0</td>\n",
       "      <td>86.0</td>\n",
       "      <td>86.0</td>\n",
       "      <td>86.0</td>\n",
       "      <td>86.0</td>\n",
       "      <td>85.0</td>\n",
       "      <td>86.0</td>\n",
       "      <td>81.0</td>\n",
       "      <td>87.0</td>\n",
       "      <td>...</td>\n",
       "      <td>86.0</td>\n",
       "      <td>85.363636</td>\n",
       "      <td>74.363636</td>\n",
       "      <td>10.0</td>\n",
       "      <td>0.0</td>\n",
       "      <td>5.19080</td>\n",
       "      <td>16.898406</td>\n",
       "      <td>38.219895</td>\n",
       "      <td>-21.321489</td>\n",
       "      <td>home_win</td>\n",
       "    </tr>\n",
       "    <tr>\n",
       "      <th>4</th>\n",
       "      <td>68.0</td>\n",
       "      <td>68.0</td>\n",
       "      <td>68.0</td>\n",
       "      <td>68.0</td>\n",
       "      <td>68.0</td>\n",
       "      <td>68.0</td>\n",
       "      <td>75.0</td>\n",
       "      <td>73.0</td>\n",
       "      <td>77.0</td>\n",
       "      <td>73.0</td>\n",
       "      <td>...</td>\n",
       "      <td>68.0</td>\n",
       "      <td>70.818182</td>\n",
       "      <td>76.727273</td>\n",
       "      <td>0.0</td>\n",
       "      <td>0.0</td>\n",
       "      <td>0.21420</td>\n",
       "      <td>43.814371</td>\n",
       "      <td>34.459459</td>\n",
       "      <td>9.354912</td>\n",
       "      <td>home_not_win</td>\n",
       "    </tr>\n",
       "  </tbody>\n",
       "</table>\n",
       "<p>5 rows × 51 columns</p>\n",
       "</div>"
      ]
     },
     "execution_count": 4,
     "metadata": {},
     "output_type": "execute_result"
    }
   ],
   "execution_count": 4
  },
  {
   "metadata": {
    "ExecuteTime": {
     "end_time": "2024-06-16T20:22:23.660174Z",
     "start_time": "2024-06-16T20:22:23.646175Z"
    }
   },
   "cell_type": "code",
   "source": "train_df['num_top_players_home'].describe()",
   "id": "a4a2d145f18ed8ae",
   "outputs": [
    {
     "data": {
      "text/plain": [
       "count    4255.000000\n",
       "mean        0.874971\n",
       "std         2.204277\n",
       "min         0.000000\n",
       "25%         0.000000\n",
       "50%         0.000000\n",
       "75%         0.000000\n",
       "max        11.000000\n",
       "Name: num_top_players_home, dtype: float64"
      ]
     },
     "execution_count": 12,
     "metadata": {},
     "output_type": "execute_result"
    }
   ],
   "execution_count": 12
  },
  {
   "metadata": {
    "ExecuteTime": {
     "end_time": "2024-06-16T20:11:29.766173Z",
     "start_time": "2024-06-16T20:11:28.359278Z"
    }
   },
   "cell_type": "code",
   "source": [
    "from sagemaker.s3 import S3Uploader\n",
    "\n",
    "S3_LOCATION = f\"s3://{default_bucket}/football\"\n",
    "\n",
    "df_local_path = \"train_df_clarify.csv\"\n",
    "train_df.to_csv(df_local_path, index=False)\n",
    "\n",
    "s3_data_input_path = S3Uploader.upload(local_path=df_local_path, desired_s3_uri=f\"{S3_LOCATION}/clarify\", sagemaker_session=sagemaker_session)\n",
    "\n",
    "os.remove(df_local_path)"
   ],
   "id": "c147b0da8f9ea771",
   "outputs": [],
   "execution_count": 5
  },
  {
   "metadata": {
    "ExecuteTime": {
     "end_time": "2024-06-16T20:11:29.781344Z",
     "start_time": "2024-06-16T20:11:29.767175Z"
    }
   },
   "cell_type": "code",
   "source": [
    "bias_report_output_path = \"s3://{}/{}/clarify-bias\".format(default_bucket, default_prefix)\n",
    "bias_data_config = clarify.DataConfig(\n",
    "    s3_data_input_path=s3_data_input_path,\n",
    "    s3_output_path=bias_report_output_path,\n",
    "    label=\"result_match\",\n",
    "    headers=train_df.columns.to_list(),\n",
    "    dataset_type=\"text/csv\",\n",
    ")"
   ],
   "id": "9799ccd3dd3b7c6",
   "outputs": [],
   "execution_count": 6
  },
  {
   "metadata": {
    "ExecuteTime": {
     "end_time": "2024-06-16T20:11:30.315322Z",
     "start_time": "2024-06-16T20:11:29.782343Z"
    }
   },
   "cell_type": "code",
   "source": [
    "MODEL_PACKAGE_GROUP = os.environ[\"MODEL_PACKAGE_GROUP\"]\n",
    "\n",
    "sm = boto3.client(\"sagemaker\")\n",
    "model_packages = sm.list_model_packages(ModelPackageGroupName=MODEL_PACKAGE_GROUP, SortBy=\"CreationTime\", SortOrder=\"Descending\")\n",
    "\n",
    "model_package = [pk for pk in model_packages[\"ModelPackageSummaryList\"] \n",
    "                 if pk[\"ModelApprovalStatus\"] == \"Approved\"][0]\n",
    "\n",
    "model_package_arn = model_package[\"ModelPackageArn\"]\n",
    "\n",
    "models = sm.search(\n",
    "    Resource='Model',\n",
    "    SearchExpression={\n",
    "        'Filters': [\n",
    "            {\n",
    "                'Name': 'Model.Containers.ModelPackageName',\n",
    "                'Operator': 'Equals',\n",
    "                'Value': model_package_arn\n",
    "            },\n",
    "        ]\n",
    "    }\n",
    ")[\"Results\"]\n",
    "\n",
    "model_name = models[0][\"Model\"][\"Model\"][\"ModelName\"]\n",
    "print(model_name)"
   ],
   "id": "222fc6aae0437e45",
   "outputs": [
    {
     "name": "stdout",
     "output_type": "stream",
     "text": [
      "football-endpoint-model-shadow-0616192632\n"
     ]
    }
   ],
   "execution_count": 7
  },
  {
   "metadata": {
    "ExecuteTime": {
     "end_time": "2024-06-16T20:11:30.331173Z",
     "start_time": "2024-06-16T20:11:30.316323Z"
    }
   },
   "cell_type": "code",
   "source": [
    "content_template = '{\"confidence\":$features}'\n",
    "\n",
    "model_config = clarify.ModelConfig(\n",
    "    model_name=model_name,\n",
    "    instance_type=\"ml.m5.xlarge\",\n",
    "    instance_count=1,\n",
    "    accept_type=\"application/jsonlines\",\n",
    "    content_type=\"text/csv\",\n",
    ")"
   ],
   "id": "cf7b4653976d4e3c",
   "outputs": [],
   "execution_count": 8
  },
  {
   "metadata": {
    "ExecuteTime": {
     "end_time": "2024-06-16T20:11:30.347173Z",
     "start_time": "2024-06-16T20:11:30.332174Z"
    }
   },
   "cell_type": "code",
   "source": [
    "predictions_config = clarify.ModelPredictedLabelConfig(\n",
    "    label='prediction',\n",
    "    probability='confidence',\n",
    "    probability_threshold=0.65,\n",
    ")"
   ],
   "id": "7a2f6ce5c690862f",
   "outputs": [],
   "execution_count": 9
  },
  {
   "metadata": {
    "ExecuteTime": {
     "end_time": "2024-06-16T20:11:30.362996Z",
     "start_time": "2024-06-16T20:11:30.348174Z"
    }
   },
   "cell_type": "code",
   "source": [
    "bias_config = clarify.BiasConfig(\n",
    "    label_values_or_threshold=['home_win'], facet_name=\"num_top_players_home\", facet_values_or_threshold=[0.5], group_name=\"home_weighted_wins\"\n",
    ")"
   ],
   "id": "6a7ffb1a79b30ea6",
   "outputs": [],
   "execution_count": 10
  },
  {
   "metadata": {
    "ExecuteTime": {
     "end_time": "2024-06-16T20:22:23.612996Z",
     "start_time": "2024-06-16T20:11:30.364004Z"
    }
   },
   "cell_type": "code",
   "source": [
    "from sagemaker.experiments import Run\n",
    "\n",
    "with Run(\n",
    "    experiment_name='tracking-bias-explainability',\n",
    "    run_name=\"bias-only\",\n",
    "    sagemaker_session=sagemaker_session,\n",
    ") as run:\n",
    "    clarify_processor.run_bias(\n",
    "        data_config=bias_data_config,\n",
    "        bias_config=bias_config,\n",
    "        model_config=model_config,\n",
    "        model_predicted_label_config=predictions_config,\n",
    "        pre_training_methods=\"all\",\n",
    "        post_training_methods=\"all\",\n",
    "    )"
   ],
   "id": "eb719199d9e98854",
   "outputs": [
    {
     "name": "stderr",
     "output_type": "stream",
     "text": [
      "INFO:sagemaker.experiments.run:The run (bias-only) under experiment (tracking-bias-explainability) already exists. Loading it.\n",
      "INFO:sagemaker.clarify:Analysis Config: {'dataset_type': 'text/csv', 'headers': ['player_rating_home_player_1', 'player_rating_home_player_2', 'player_rating_home_player_3', 'player_rating_home_player_4', 'player_rating_home_player_5', 'player_rating_home_player_6', 'player_rating_home_player_7', 'player_rating_home_player_8', 'player_rating_home_player_9', 'player_rating_home_player_10', 'player_rating_home_player_11', 'player_rating_away_player_1', 'player_rating_away_player_2', 'player_rating_away_player_3', 'player_rating_away_player_4', 'player_rating_away_player_5', 'player_rating_away_player_6', 'player_rating_away_player_7', 'player_rating_away_player_8', 'player_rating_away_player_9', 'player_rating_away_player_10', 'player_rating_away_player_11', 'ewm_home_team_goals', 'ewm_away_team_goals', 'ewm_home_team_goals_conceded', 'ewm_away_team_goals_conceded', 'points_home', 'points_away', 'home_weighted_wins', 'away_weighted_wins', 'avg_home_team_rating', 'avg_away_team_rating', 'home_streak_wins', 'away_streak_wins', 'ewm_shoton_home', 'ewm_shoton_away', 'ewm_possession_home', 'ewm_possession_away', 'avg_home_rating_attack', 'avg_away_rating_attack', 'avg_away_rating_defence', 'avg_home_rating_defence', 'average_rating_home', 'average_rating_away', 'num_top_players_home', 'num_top_players_away', 'ewm_home_team_goals_conceded_x_ewm_shoton_home', 'attacking_strength_home', 'attacking_strength_away', 'attacking_strength_diff', 'result_match'], 'label': 'result_match', 'label_values_or_threshold': ['home_win'], 'facet': [{'name_or_index': 'num_top_players_home', 'value_or_threshold': [0.5]}], 'group_variable': 'home_weighted_wins', 'methods': {'report': {'name': 'report', 'title': 'Analysis Report'}, 'pre_training_bias': {'methods': 'all'}, 'post_training_bias': {'methods': 'all'}}, 'predictor': {'model_name': 'football-endpoint-model-shadow-0616192632', 'instance_type': 'ml.m5.xlarge', 'initial_instance_count': 1, 'accept_type': 'application/jsonlines', 'content_type': 'text/csv', 'label': 'prediction', 'probability': 'confidence'}, 'probability_threshold': 0.65}\n",
      "INFO:sagemaker:Creating processing-job with name Clarify-Bias-2024-06-16-20-11-32-687\n"
     ]
    },
    {
     "name": "stdout",
     "output_type": "stream",
     "text": [
      "................................\u001B[34mWARNING:root:logging.conf not found when configuring logging, using default logging configuration.\u001B[0m\n",
      "\u001B[34mINFO:sagemaker-clarify-processing:Starting SageMaker Clarify Processing job\u001B[0m\n",
      "\u001B[34mINFO:analyzer.data_loading.data_loader_util:Analysis config path: /opt/ml/processing/input/config/analysis_config.json\u001B[0m\n",
      "\u001B[34mINFO:analyzer.data_loading.data_loader_util:Analysis result path: /opt/ml/processing/output\u001B[0m\n",
      "\u001B[34mINFO:analyzer.data_loading.data_loader_util:This host is algo-1.\u001B[0m\n",
      "\u001B[34mINFO:analyzer.data_loading.data_loader_util:This host is the leader.\u001B[0m\n",
      "\u001B[34mINFO:analyzer.data_loading.data_loader_util:Number of hosts in the cluster is 1.\u001B[0m\n",
      "\u001B[34mINFO:sagemaker-clarify-processing:Running Python / Pandas based analyzer.\u001B[0m\n",
      "\u001B[34mINFO:analyzer.data_loading.data_loader_factory:Dataset type: text/csv uri: /opt/ml/processing/input/data\u001B[0m\n",
      "\u001B[34m/usr/local/lib/python3.9/site-packages/analyzer/data_loading/data_readers/csv_data_reader.py:58: FutureWarning: The frame.append method is deprecated and will be removed from pandas in a future version. Use pandas.concat instead.\n",
      "  df = df.append(df_tmp, ignore_index=True)\u001B[0m\n",
      "\u001B[34m/usr/local/lib/python3.9/site-packages/analyzer/data_loading/data_readers/csv_data_reader.py:58: FutureWarning: The frame.append method is deprecated and will be removed from pandas in a future version. Use pandas.concat instead.\n",
      "  df = df.append(df_tmp, ignore_index=True)\u001B[0m\n",
      "\u001B[34mINFO:sagemaker-clarify-processing:Loading dataset...\u001B[0m\n",
      "\u001B[34m/usr/local/lib/python3.9/site-packages/analyzer/data_loading/data_readers/csv_data_reader.py:58: FutureWarning: The frame.append method is deprecated and will be removed from pandas in a future version. Use pandas.concat instead.\n",
      "  df = df.append(df_tmp, ignore_index=True)\u001B[0m\n",
      "\u001B[34mINFO:sagemaker-clarify-processing:Loaded dataset. Dataset info:\u001B[0m\n",
      "\u001B[34m<class 'pandas.core.frame.DataFrame'>\u001B[0m\n",
      "\u001B[34mRangeIndex: 4255 entries, 0 to 4254\u001B[0m\n",
      "\u001B[34mData columns (total 50 columns):\n",
      " #   Column                                          Non-Null Count  Dtype  \u001B[0m\n",
      "\u001B[34m---  ------                                          --------------  -----  \n",
      " 0   player_rating_home_player_1                     4255 non-null   float64\n",
      " 1   player_rating_home_player_2                     4255 non-null   float64\n",
      " 2   player_rating_home_player_3                     4255 non-null   float64\n",
      " 3   player_rating_home_player_4                     4255 non-null   float64\n",
      " 4   player_rating_home_player_5                     4255 non-null   float64\n",
      " 5   player_rating_home_player_6                     4255 non-null   float64\n",
      " 6   player_rating_home_player_7                     4255 non-null   float64\n",
      " 7   player_rating_home_player_8                     4255 non-null   float64\n",
      " 8   player_rating_home_player_9                     4255 non-null   float64\n",
      " 9   player_rating_home_player_10                    4255 non-null   float64\n",
      " 10  player_rating_home_player_11                    4255 non-null   float64\n",
      " 11  player_rating_away_player_1                     4255 non-null   float64\n",
      " 12  player_rating_away_player_2                     4255 non-null   float64\n",
      " 13  player_rating_away_player_3                     4255 non-null   float64\n",
      " 14  player_rating_away_player_4                     4255 non-null   float64\n",
      " 15  player_rating_away_player_5                     4255 non-null   float64\n",
      " 16  player_rating_away_player_6                     4255 non-null   float64\n",
      " 17  player_rating_away_player_7                     4255 non-null   float64\n",
      " 18  player_rating_away_player_8                     4255 non-null   float64\n",
      " 19  player_rating_away_player_9                     4255 non-null   float64\n",
      " 20  player_rating_away_player_10                    4255 non-null   float64\n",
      " 21  player_rating_away_player_11                    4255 non-null   float64\n",
      " 22  ewm_home_team_goals                             4255 non-null   float64\n",
      " 23  ewm_away_team_goals                             4255 non-null   float64\n",
      " 24  ewm_home_team_goals_conceded                    4255 non-null   float64\n",
      " 25  ewm_away_team_goals_conceded                    4255 non-null   float64\n",
      " 26  points_home                                     4255 non-null   float64\n",
      " 27  points_away                                     4255 non-null   float64\n",
      " 28  home_weighted_wins                              4255 non-null   float64\n",
      " 29  away_weighted_wins                              4255 non-null   float64\n",
      " 30  avg_home_team_rating                            4255 non-null   float64\n",
      " 31  avg_away_team_rating                            4255 non-null   float64\n",
      " 32  home_streak_wins                                4255 non-null   float64\n",
      " 33  away_streak_wins                                4255 non-null   float64\n",
      " 34  ewm_shoton_home                                 4255 non-null   float64\n",
      " 35  ewm_shoton_away                                 4255 non-null   float64\n",
      " 36  ewm_possession_home                             4255 non-null   float64\n",
      " 37  ewm_possession_away                             4255 non-null   float64\n",
      " 38  avg_home_rating_attack                          4255 non-null   float64\n",
      " 39  avg_away_rating_attack                          4255 non-null   float64\n",
      " 40  avg_away_rating_defence                         4255 non-null   float64\n",
      " 41  avg_home_rating_defence                         4255 non-null   float64\n",
      " 42  average_rating_home                             4255 non-null   float64\n",
      " 43  average_rating_away                             4255 non-null   float64\n",
      " 44  num_top_players_home                            4255 non-null   float64\n",
      " 45  num_top_players_away                            4255 non-null   float64\n",
      " 46  ewm_home_team_goals_conceded_x_ewm_shoton_home  4255 non-null   float64\n",
      " 47  attacking_strength_home                         4255 non-null   float64\n",
      " 48  attacking_strength_away                         4255 non-null   float64\n",
      " 49  attacking_strength_diff                         4255 non-null   float64\u001B[0m\n",
      "\u001B[34mdtypes: float64(50)\u001B[0m\n",
      "\u001B[34mmemory usage: 1.6 MB\u001B[0m\n",
      "\u001B[34mINFO:analyzer.utils.util:predictor probability configuration will override predictor label configuration\u001B[0m\n",
      "\u001B[34mINFO:analyzer.utils.util:predictor probability configuration confidence will be used to derive the predicted score from predictions\u001B[0m\n",
      "\u001B[34mINFO:analyzer.predictor.managed_endpoint:Spinning up shadow endpoint\u001B[0m\n",
      "\u001B[34mINFO:sagemaker:Creating endpoint-config with name sm-clarify-config-1718569022-1c59\u001B[0m\n",
      "\u001B[34mINFO:analyzer.predictor.managed_endpoint:Creating endpoint: 'sm-clarify-football-endpoint-model-shadow-06161-1718569023-e61e'\u001B[0m\n",
      "\u001B[34mINFO:botocore.client:No endpoints ruleset found for service sagemaker-internal, falling back to legacy endpoint routing.\u001B[0m\n",
      "\u001B[34mINFO:sagemaker-clarify-processing:Using endpoint name: sm-clarify-football-endpoint-model-shadow-06161-1718569023-e61e\u001B[0m\n",
      "\u001B[34mINFO:sagemaker-clarify-processing:Waiting for endpoint ...\u001B[0m\n",
      "\u001B[34mINFO:analyzer.predictor.managed_endpoint:Checking endpoint status:\u001B[0m\n",
      "\u001B[34mLegend:\u001B[0m\n",
      "\u001B[34m(OutOfService: x, Creating: -, Updating: -, InService: !, RollingBack: <, Deleting: o, Failed: *)\u001B[0m\n",
      "\u001B[34mINFO:analyzer.predictor.managed_endpoint:Endpoint is in service after 241 seconds\u001B[0m\n",
      "\u001B[34mINFO:sagemaker-clarify-processing:Endpoint ready.\u001B[0m\n",
      "\u001B[34mINFO:sagemaker-clarify-processing:======================================\u001B[0m\n",
      "\u001B[34mINFO:sagemaker-clarify-processing:Calculating post-training bias metrics\u001B[0m\n",
      "\u001B[34mINFO:sagemaker-clarify-processing:======================================\u001B[0m\n",
      "\u001B[34mINFO:sagemaker-clarify-processing:Getting predictions from the endpoint\u001B[0m\n",
      "\u001B[34mINFO:analyzer.utils.prediction_util:Predicted labels cannot be converted to float and will not be converted to categories.\u001B[0m\n",
      "\u001B[34mINFO:smclarify.bias.metrics.common:Column result_match with data uniqueness fraction 0.0004700352526439483 is classifed as a CATEGORICAL column\u001B[0m\n",
      "\u001B[34mINFO:smclarify.bias.metrics.common:Column num_top_players_home with data uniqueness fraction 0.00282021151586369 is classifed as a CONTINUOUS column\u001B[0m\n",
      "\u001B[34m/usr/local/lib/python3.9/site-packages/smclarify/bias/report.py:591: FutureWarning: In a future version of pandas all arguments of DataFrame.drop except for the argument 'labels' will be keyword-only.\n",
      "  df = df.drop(facet_column.name, 1)\u001B[0m\n",
      "\u001B[34mINFO:smclarify.bias.metrics.common:Column result_match with data uniqueness fraction 0.0004700352526439483 is classifed as a CATEGORICAL column\u001B[0m\n",
      "\u001B[34mINFO:smclarify.bias.metrics.common:Column None with data uniqueness fraction 0.0004700352526439483 is classifed as a CATEGORICAL column\u001B[0m\n",
      "\u001B[34mINFO:smclarify.bias.report:Threshold Interval indices: IntervalIndex([(0.5, 11.0]], dtype='interval[float64, right]')\u001B[0m\n",
      "\u001B[34mINFO:sagemaker-clarify-processing:Calculated global analysis with predictor\u001B[0m\n",
      "\u001B[34mINFO:analyzer.predictor.predictor:Stop using endpoint: sm-clarify-football-endpoint-model-shadow-06161-1718569023-e61e\u001B[0m\n",
      "\u001B[34mINFO:sagemaker:Deleting endpoint configuration with name: sm-clarify-config-1718569022-1c59\u001B[0m\n",
      "\u001B[34mINFO:sagemaker:Deleting endpoint with name: sm-clarify-football-endpoint-model-shadow-06161-1718569023-e61e\u001B[0m\n",
      "\u001B[34mINFO:analyzer.predictor.managed_endpoint:Model endpoint delivered 0.90694 requests per second and a total of 2 requests over 2 seconds\u001B[0m\n",
      "\u001B[34mINFO:sagemaker-clarify-processing:=====================================\u001B[0m\n",
      "\u001B[34mINFO:sagemaker-clarify-processing:Calculating pre-training bias metrics\u001B[0m\n",
      "\u001B[34mINFO:sagemaker-clarify-processing:=====================================\u001B[0m\n",
      "\u001B[34mINFO:smclarify.bias.metrics.common:Column result_match with data uniqueness fraction 0.0004700352526439483 is classifed as a CATEGORICAL column\u001B[0m\n",
      "\u001B[34mINFO:smclarify.bias.metrics.common:Column num_top_players_home with data uniqueness fraction 0.00282021151586369 is classifed as a CONTINUOUS column\u001B[0m\n",
      "\u001B[34m/usr/local/lib/python3.9/site-packages/smclarify/bias/report.py:591: FutureWarning: In a future version of pandas all arguments of DataFrame.drop except for the argument 'labels' will be keyword-only.\n",
      "  df = df.drop(facet_column.name, 1)\u001B[0m\n",
      "\u001B[34mINFO:smclarify.bias.metrics.common:Column result_match with data uniqueness fraction 0.0004700352526439483 is classifed as a CATEGORICAL column\u001B[0m\n",
      "\u001B[34mINFO:smclarify.bias.report:Threshold Interval indices: IntervalIndex([(0.5, 11.0]], dtype='interval[float64, right]')\u001B[0m\n",
      "\u001B[34mINFO:sagemaker-clarify-processing:======================================\u001B[0m\n",
      "\u001B[34mINFO:sagemaker-clarify-processing:Calculating bias statistics for report\u001B[0m\n",
      "\u001B[34mINFO:sagemaker-clarify-processing:======================================\u001B[0m\n",
      "\u001B[34mINFO:smclarify.bias.metrics.common:Column result_match with data uniqueness fraction 0.0004700352526439483 is classifed as a CATEGORICAL column\u001B[0m\n",
      "\u001B[34mINFO:smclarify.bias.metrics.common:Column num_top_players_home with data uniqueness fraction 0.00282021151586369 is classifed as a CONTINUOUS column\u001B[0m\n",
      "\u001B[34m/usr/local/lib/python3.9/site-packages/smclarify/bias/report.py:591: FutureWarning: In a future version of pandas all arguments of DataFrame.drop except for the argument 'labels' will be keyword-only.\n",
      "  df = df.drop(facet_column.name, 1)\u001B[0m\n",
      "\u001B[34mINFO:smclarify.bias.metrics.common:Column result_match with data uniqueness fraction 0.0004700352526439483 is classifed as a CATEGORICAL column\u001B[0m\n",
      "\u001B[34mINFO:smclarify.bias.metrics.common:Column None with data uniqueness fraction 0.0004700352526439483 is classifed as a CATEGORICAL column\u001B[0m\n",
      "\u001B[34mINFO:smclarify.bias.report:Threshold Interval indices: IntervalIndex([(0.5, 11.0]], dtype='interval[float64, right]')\u001B[0m\n",
      "\u001B[34mINFO:smclarify.bias.metrics.common:Column result_match with data uniqueness fraction 0.0004700352526439483 is classifed as a CATEGORICAL column\u001B[0m\n",
      "\u001B[34mINFO:smclarify.bias.metrics.common:Column None with data uniqueness fraction 0.0004700352526439483 is classifed as a CATEGORICAL column\u001B[0m\n",
      "\u001B[34mINFO:analyzer.utils.spark_util:Converting Pandas DataFrame to SparkDataFrame for computing report metadata\u001B[0m\n",
      "\u001B[34mSetting default log level to \"WARN\".\u001B[0m\n",
      "\u001B[34mTo adjust logging level use sc.setLogLevel(newLevel). For SparkR, use setLogLevel(newLevel).\u001B[0m\n",
      "\u001B[34m24/06/16 20:21:10 WARN NativeCodeLoader: Unable to load native-hadoop library for your platform... using builtin-java classes where applicable\u001B[0m\n",
      "\u001B[34m24/06/16 20:21:15 WARN package: Truncated the string representation of a plan since it was too large. This behavior can be adjusted by setting 'spark.sql.debug.maxToStringFields'.\u001B[0m\n",
      "\u001B[34m#015[Stage 0:>                                                          (0 + 4) / 4]#015#015                                                                                #015INFO:sagemaker-clarify-processing:Calculated global analysis without predictor\u001B[0m\n",
      "\u001B[34mINFO:analyzer.predictor.predictor:Stop using endpoint: None\u001B[0m\n",
      "\u001B[34mINFO:sagemaker-clarify-processing:Collected analyses: \u001B[0m\n",
      "\u001B[34m{'version': '1.0', 'post_training_bias_metrics': {'label': 'result_match', 'facets': {'num_top_players_home': [{'value_or_threshold': '(0.5, 11.0]', 'metrics': [{'name': 'AD', 'description': 'Accuracy Difference (AD)', 'value': -0.13221685620813217}, {'name': 'CDDPL', 'description': 'Conditional Demographic Disparity in Predicted Labels (CDDPL)', 'value': -0.061126707479518705}, {'name': 'DAR', 'description': 'Difference in Acceptance Rates (DAR)', 'value': -0.22235951345160898}, {'name': 'DCA', 'description': 'Difference in Conditional Acceptance (DCA)', 'value': -0.15554412276278817}, {'name': 'DCR', 'description': 'Difference in Conditional Rejection (DCR)', 'value': 2.781186747629701}, {'name': 'DI', 'description': 'Disparate Impact (DI)', 'value': 1.3729678699436765}, {'name': 'DPPL', 'description': 'Difference in Positive Proportions in Predicted Labels (DPPL)', 'value': -0.2541875681570338}, {'name': 'DRR', 'description': 'Difference in Rejection Rates (DRR)', 'value': 0.11590497496537766}, {'name': 'FT', 'description': 'Flip Test (FT)', 'value': 0.03163265306122449}, {'name': 'GE', 'description': 'Generalized Entropy (GE)', 'value': 0.0837996545602233}, {'name': 'RD', 'description': 'Recall Difference (RD)', 'value': -0.11331520694295683}, {'name': 'SD', 'description': 'Specificity Difference (SD)', 'value': -0.24770630961757245}, {'name': 'TE', 'description': 'Treatment Equality (TE)', 'value': -0.13652539894049207}]}]}, 'label_value_or_threshold': 'home_win'}, 'pre_training_bias_metrics': {'label': 'result_match', 'facets': {'num_top_players_home': [{'value_or_threshold': '(0.5, 11.0]', 'metrics': [{'name': 'CDDL', 'description': 'Conditional Demographic Disparity in Labels (CDDL)', 'value': -0.030987944161553472}, {'name': 'CI', 'description': 'Class Imbalance (CI)', 'value': 0.5393654524089306}, {'name': 'DPL', 'description': 'Difference in Positive Proportions in Labels (DPL)', 'value': -0.29644025549150954}, {'name': 'JS', 'description': 'Jensen-Shannon Divergence (JS)', 'value': 0.04514986093187593}, {'name': 'KL', 'description': 'Kullback-Liebler Divergence (KL)', 'value': 0.18778714853167106}, {'name': 'KS', 'description': 'Kolmogorov-Smirnov Distance (KS)', 'value': 0.2964402554915096}, {'name': 'LP', 'description': 'L-p Norm (LP)', 'value': 0.4192298297494382}, {'name': 'TVD', 'description': 'Total Variation Distance (TVD)', 'value': 0.29644025549150954}]}]}, 'label_value_or_threshold': 'home_win'}}\u001B[0m\n",
      "\u001B[34mINFO:analyzer.utils.util:['jupyter', 'nbconvert', '--to', 'html', '--output', '/opt/ml/processing/output/report.html', '/opt/ml/processing/output/report.ipynb', '--template', 'sagemaker-xai']\u001B[0m\n",
      "\u001B[34m[NbConvertApp] Converting notebook /opt/ml/processing/output/report.ipynb to html\u001B[0m\n",
      "\u001B[34m[NbConvertApp] Writing 799771 bytes to /opt/ml/processing/output/report.html\u001B[0m\n",
      "\u001B[34mINFO:analyzer.utils.util:['wkhtmltopdf', '-q', '--enable-local-file-access', '/opt/ml/processing/output/report.html', '/opt/ml/processing/output/report.pdf']\u001B[0m\n",
      "\u001B[34mINFO:analyzer.utils.system_util:exit_message: Completed: SageMaker XAI Analyzer ran successfully\u001B[0m\n",
      "\u001B[34mINFO:py4j.clientserver:Closing down clientserver connection\u001B[0m\n",
      "\u001B[34m---!\u001B[0m\n",
      "\n"
     ]
    }
   ],
   "execution_count": 11
  },
  {
   "metadata": {
    "ExecuteTime": {
     "end_time": "2024-06-16T20:22:23.628174Z",
     "start_time": "2024-06-16T20:22:23.614002Z"
    }
   },
   "cell_type": "code",
   "source": "",
   "id": "a9ab39f7b27c09e9",
   "outputs": [],
   "execution_count": 11
  },
  {
   "metadata": {
    "ExecuteTime": {
     "end_time": "2024-06-16T20:22:23.644174Z",
     "start_time": "2024-06-16T20:22:23.629178Z"
    }
   },
   "cell_type": "code",
   "source": "",
   "id": "d98ffb599ed930ad",
   "outputs": [],
   "execution_count": 11
  }
 ],
 "metadata": {
  "kernelspec": {
   "display_name": "Python 3",
   "language": "python",
   "name": "python3"
  },
  "language_info": {
   "codemirror_mode": {
    "name": "ipython",
    "version": 2
   },
   "file_extension": ".py",
   "mimetype": "text/x-python",
   "name": "python",
   "nbconvert_exporter": "python",
   "pygments_lexer": "ipython2",
   "version": "2.7.6"
  }
 },
 "nbformat": 4,
 "nbformat_minor": 5
}
