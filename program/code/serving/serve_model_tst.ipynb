{
 "cells": [
  {
   "cell_type": "code",
   "execution_count": 2,
   "id": "initial_id",
   "metadata": {
    "collapsed": true,
    "ExecuteTime": {
     "end_time": "2024-04-20T17:48:46.281130100Z",
     "start_time": "2024-04-20T17:48:45.963090600Z"
    }
   },
   "source": [
    "from pathlib import Path\n",
    "import sagemaker\n",
    "import boto3\n",
    "\n",
    "sagemaker_session = sagemaker.session.Session()\n",
    "sagemaker_client = boto3.client(\"sagemaker\")\n",
    "\n",
    "Path(\"serving\").mkdir(parents=True, exist_ok=True)\n",
    "BASIC_MODEL_PACKAGE_GROUP = \"basic-football\""
   ],
   "outputs": []
  },
  {
   "cell_type": "code",
   "source": [
    "response = sagemaker_client.list_model_packages(\n",
    "    ModelPackageGroupName=BASIC_MODEL_PACKAGE_GROUP,\n",
    "    ModelApprovalStatus=\"Approved\",\n",
    "    SortBy=\"CreationTime\",\n",
    "    MaxResults=1,\n",
    ")\n",
    "\n",
    "package = (\n",
    "    response[\"ModelPackageSummaryList\"][0]\n",
    "    if response[\"ModelPackageSummaryList\"]\n",
    "    else None\n",
    ")\n",
    "\n",
    "package"
   ],
   "metadata": {
    "collapsed": false,
    "ExecuteTime": {
     "end_time": "2024-04-20T17:48:46.757644600Z",
     "start_time": "2024-04-20T17:48:46.282161Z"
    }
   },
   "id": "1cb6f2327eea9e8a",
   "execution_count": 3,
   "outputs": []
  },
  {
   "cell_type": "code",
   "source": [
    "from sagemaker.s3 import S3Downloader\n",
    "\n",
    "if package:\n",
    "    response = sagemaker_client.describe_model_package(\n",
    "        ModelPackageName=package[\"ModelPackageArn\"],\n",
    "    )\n",
    "\n",
    "    model_data = response[\"InferenceSpecification\"][\"Containers\"][0][\"ModelDataUrl\"]\n",
    "    S3Downloader.download(model_data, Path(\"./\").as_posix())"
   ],
   "metadata": {
    "collapsed": false,
    "ExecuteTime": {
     "end_time": "2024-04-20T17:48:47.632517300Z",
     "start_time": "2024-04-20T17:48:46.750857400Z"
    }
   },
   "id": "6425878c8aad0e13",
   "execution_count": 4,
   "outputs": []
  },
  {
   "cell_type": "code",
   "source": [
    "# !python -m flask --app serving/app.py --debug run --host=0.0.0.0 --port=4242"
   ],
   "metadata": {
    "collapsed": false,
    "ExecuteTime": {
     "end_time": "2024-04-20T13:37:54.060210100Z",
     "start_time": "2024-04-20T13:37:53.999900300Z"
    }
   },
   "id": "8d419e9d6f724a47",
   "execution_count": 8,
   "outputs": []
  },
  {
   "cell_type": "code",
   "source": [
    "# !curl --location --request POST 'http://localhost:4242/predict' --header 'Content-Type: text/plain' --data-raw '71,71,71,71,71,71,72,70,70,71,74,79,79,79,79,79,79,80,80,71,83,80,1.54,1.61,1.26,0.76,20,28,1.377149515625,2.5561203576634663,71.18,78.91,11.75,14.58,3.55,1.805,53.639,20.03,71.33,78.83,79.0,71.0,71.18181818181819,78.9090909090909,0,0,4.473,29.233606557377048,31.40637450199203,-2.172767944614982'"
   ],
   "metadata": {
    "collapsed": false,
    "ExecuteTime": {
     "end_time": "2024-04-20T13:48:36.347441100Z",
     "start_time": "2024-04-20T13:48:34.047152900Z"
    }
   },
   "id": "470e50e2718185fb",
   "execution_count": 10,
   "outputs": []
  },
  {
   "cell_type": "code",
   "source": [],
   "metadata": {
    "collapsed": false
   },
   "id": "f3343a32f8c747cd",
   "execution_count": null,
   "outputs": []
  }
 ],
 "metadata": {
  "kernelspec": {
   "display_name": "Python 3",
   "language": "python",
   "name": "python3"
  },
  "language_info": {
   "codemirror_mode": {
    "name": "ipython",
    "version": 2
   },
   "file_extension": ".py",
   "mimetype": "text/x-python",
   "name": "python",
   "nbconvert_exporter": "python",
   "pygments_lexer": "ipython2",
   "version": "2.7.6"
  }
 },
 "nbformat": 4,
 "nbformat_minor": 5
}
