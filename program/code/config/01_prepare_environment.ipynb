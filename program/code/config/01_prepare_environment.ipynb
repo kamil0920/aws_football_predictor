{
 "cells": [
  {
   "metadata": {
    "ExecuteTime": {
     "end_time": "2024-09-13T15:01:16.013188Z",
     "start_time": "2024-09-13T15:01:16.005385Z"
    }
   },
   "cell_type": "code",
   "source": "",
   "id": "b09ab6a71a90aa70",
   "outputs": [],
   "execution_count": null
  },
  {
   "metadata": {},
   "cell_type": "markdown",
   "source": [
    "### Custom IAM Policy for Role, Policy Management and Elastic Container Registry\n",
    "\n",
    " Steps:\n",
    "- Log in to the AWS Management Console using your Admin or Root User credentials by visiting the [AWS Console login page](https://aws.amazon.com/console/).\n",
    "- Attach a Managed Policy IAMFullAccess and AmazonElasticContainerRegistryPublicFullAccess.\n",
    "- Once you’ve attached the policy with sufficient permissions, switch back to your user and run the initial code to create roles, attach policies and create custom containers."
   ],
   "id": "8dc284ff47444a0"
  },
  {
   "metadata": {
    "ExecuteTime": {
     "end_time": "2024-09-13T15:01:16.122375Z",
     "start_time": "2024-09-13T15:01:16.021196Z"
    }
   },
   "cell_type": "code",
   "source": [
    "import os\n",
    "import boto3\n",
    "from RolePolicyManager import RolePolicyManager\n",
    "\n",
    "%load_ext dotenv\n",
    "%dotenv"
   ],
   "id": "e0110cc7108509a5",
   "outputs": [],
   "execution_count": 1
  },
  {
   "metadata": {
    "ExecuteTime": {
     "end_time": "2024-09-13T15:01:17.196717Z",
     "start_time": "2024-09-13T15:01:16.122375Z"
    }
   },
   "cell_type": "code",
   "source": [
    "account_id = os.environ[\"ACCOUNT_ID\"]\n",
    "domain_id = os.environ[\"DOMAIN_ID\"]\n",
    "region = os.environ[\"AWS_REGION\"]\n",
    "bucket = os.environ[\"BUCKET\"]\n",
    "user_name = os.environ[\"USER_NAME\"]\n",
    "role = os.environ[\"ROLE\"]\n",
    "role_name = os.environ[\"ROLE_NAME\"]\n",
    "policy_name = os.environ[\"POLICY_NAME\"]\n",
    "\n",
    "role_service = RolePolicyManager(account_id, user_name, role_name, policy_name, policy_name, bucket)\n",
    "role_service.create_role_and_policy()"
   ],
   "id": "cb4daff812cdf46b",
   "outputs": [
    {
     "name": "stdout",
     "output_type": "stream",
     "text": [
      "Successfully updated trust relationship for role: AmazonSageMaker-ExecutionRole-20240309T101533\n",
      "Policy AmazonSageMaker-ExecutionPolicy-20240309T101533 already exists.\n",
      "Policy arn: arn:aws:iam::284415450706:policy/AmazonSageMaker-ExecutionPolicy-20240309T101533.\n"
     ]
    }
   ],
   "execution_count": 2
  },
  {
   "metadata": {
    "ExecuteTime": {
     "end_time": "2024-09-13T15:01:18.732310Z",
     "start_time": "2024-09-13T15:01:17.196717Z"
    }
   },
   "cell_type": "code",
   "source": [
    "from botocore.exceptions import ClientError\n",
    "import boto3\n",
    "\n",
    "\n",
    "def create_s3_bucket(s3_client, bucket_name, region=None):\n",
    "    \"\"\"\n",
    "    Create an S3 bucket in a specified region. If no region is provided, the bucket will be created in the S3 default region (us-east-1).\n",
    "\n",
    "    Args:\n",
    "        bucket_name (str): The name of the bucket to create.\n",
    "        region (str): The AWS region where the bucket will be created (optional).\n",
    "\n",
    "    Returns:\n",
    "        bool: True if bucket created successfully, False otherwise.\n",
    "    \"\"\"\n",
    "    try:\n",
    "\n",
    "        if region is None:\n",
    "            s3_client.create_bucket(\n",
    "                Bucket=bucket_name,\n",
    "                CreateBucketConfiguration={\n",
    "                    'LocationConstraint': 'eu-north-1'\n",
    "                }\n",
    "            )\n",
    "        else:\n",
    "            s3_client.create_bucket(\n",
    "                Bucket=bucket_name,\n",
    "                CreateBucketConfiguration={\n",
    "                    'LocationConstraint': region\n",
    "                }\n",
    "            )\n",
    "\n",
    "        print(f'Bucket \"{bucket_name}\" created successfully.')\n",
    "\n",
    "    except ClientError as e:\n",
    "        print(f'Error: {e}')\n",
    "\n",
    "s3_client = role_service.create_client('s3')\n",
    "\n",
    "create_s3_bucket(s3_client, bucket, region)"
   ],
   "id": "6b233baf13a975eb",
   "outputs": [
    {
     "name": "stdout",
     "output_type": "stream",
     "text": [
      "Error: An error occurred (BucketAlreadyOwnedByYou) when calling the CreateBucket operation: Your previous request to create the named bucket succeeded and you already own it.\n"
     ]
    }
   ],
   "execution_count": 3
  },
  {
   "metadata": {
    "ExecuteTime": {
     "end_time": "2024-09-13T15:01:21.273986Z",
     "start_time": "2024-09-13T15:01:18.732310Z"
    }
   },
   "cell_type": "code",
   "source": [
    "from sagemaker.session import Session\n",
    "from sagemaker.s3 import S3Uploader\n",
    "\n",
    "s3_location = f\"s3://{bucket}/football\"\n",
    "sagemaker_session = Session()\n",
    "\n",
    "df_local_path = str(os.environ['DATA_FILEPATH_X'])\n",
    "y_local_path = str(os.environ['DATA_FILEPATH_Y'])\n",
    "\n",
    "s3_client.upload_file(Filename=df_local_path, Bucket=bucket, Key=f\"data/df.csv\")\n",
    "s3_client.upload_file(Filename=y_local_path, Bucket=bucket, Key=f\"data/y.csv\")"
   ],
   "id": "c5f3e535a47c25f5",
   "outputs": [
    {
     "name": "stdout",
     "output_type": "stream",
     "text": [
      "sagemaker.config INFO - Not applying SDK defaults from location: C:\\ProgramData\\sagemaker\\sagemaker\\config.yaml\n",
      "sagemaker.config INFO - Not applying SDK defaults from location: C:\\Users\\kamil\\AppData\\Local\\sagemaker\\sagemaker\\config.yaml\n"
     ]
    }
   ],
   "execution_count": 4
  },
  {
   "metadata": {
    "ExecuteTime": {
     "end_time": "2024-09-13T15:01:21.278331Z",
     "start_time": "2024-09-13T15:01:21.273986Z"
    }
   },
   "cell_type": "code",
   "source": [
    "def create_ecr_repository(repository_name, ecr_client):\n",
    "    try:\n",
    "        response = ecr_client.describe_repositories(\n",
    "            repositoryNames=[repository_name]\n",
    "        )\n",
    "        if response['repositories']:\n",
    "            print(f\"Repository already exists: {response['repositories'][0]['repositoryUri']}\")\n",
    "            return response['repositories'][0]\n",
    "    except ClientError as e:\n",
    "        if e.response['Error']['Code'] == 'RepositoryNotFoundException':\n",
    "            try:\n",
    "                response = ecr_client.create_repository(\n",
    "                    repositoryName=repository_name,\n",
    "                    tags=[\n",
    "                        {\n",
    "                            'Key': 'Project',\n",
    "                            'Value': 'home-win-match-predictor'\n",
    "                        }\n",
    "                    ]\n",
    "                )\n",
    "                print(f\"Repository created successfully: {response['repository']['repositoryUri']}\")\n",
    "                return response['repository']\n",
    "            except ClientError as create_error:\n",
    "                print(f\"Error creating repository: {create_error}\")\n",
    "                return None\n",
    "        else:\n",
    "            print(f\"Error describing repository: {e}\")\n",
    "            return None"
   ],
   "id": "1daac1c297c1a5bb",
   "outputs": [],
   "execution_count": 5
  },
  {
   "metadata": {
    "ExecuteTime": {
     "end_time": "2024-09-13T15:01:21.938080Z",
     "start_time": "2024-09-13T15:01:21.278331Z"
    }
   },
   "cell_type": "code",
   "source": [
    "processor_image_name = 'sagemaker-processing-container'\n",
    "train_image_name = 'xgb-clf-training-container'\n",
    "\n",
    "ecr_client = role_service.create_client('ecr')\n",
    "\n",
    "create_ecr_repository(processor_image_name, ecr_client)\n",
    "create_ecr_repository(train_image_name, ecr_client)"
   ],
   "id": "e41803c6c8963e52",
   "outputs": [
    {
     "name": "stdout",
     "output_type": "stream",
     "text": [
      "Repository already exists: 284415450706.dkr.ecr.eu-north-1.amazonaws.com/sagemaker-processing-container\n",
      "Repository already exists: 284415450706.dkr.ecr.eu-north-1.amazonaws.com/xgb-clf-training-container\n"
     ]
    },
    {
     "data": {
      "text/plain": [
       "{'repositoryArn': 'arn:aws:ecr:eu-north-1:284415450706:repository/xgb-clf-training-container',\n",
       " 'registryId': '284415450706',\n",
       " 'repositoryName': 'xgb-clf-training-container',\n",
       " 'repositoryUri': '284415450706.dkr.ecr.eu-north-1.amazonaws.com/xgb-clf-training-container',\n",
       " 'createdAt': datetime.datetime(2024, 9, 10, 19, 49, 24, 466000, tzinfo=tzlocal()),\n",
       " 'imageTagMutability': 'MUTABLE',\n",
       " 'imageScanningConfiguration': {'scanOnPush': False},\n",
       " 'encryptionConfiguration': {'encryptionType': 'AES256'}}"
      ]
     },
     "execution_count": 6,
     "metadata": {},
     "output_type": "execute_result"
    }
   ],
   "execution_count": 6
  },
  {
   "metadata": {
    "ExecuteTime": {
     "end_time": "2024-09-13T15:01:22.098766Z",
     "start_time": "2024-09-13T15:01:21.938080Z"
    }
   },
   "cell_type": "code",
   "source": [
    "from LifecyclePolicyManager import LifecyclePolicyManager\n",
    "\n",
    "lifecycle_policy = {\n",
    "    \"rules\": [\n",
    "        {\n",
    "            \"rulePriority\": 1,\n",
    "            \"description\": \"Keep only one untagged image, expire all others\",\n",
    "            \"selection\": {\n",
    "                \"tagStatus\": \"any\",\n",
    "                \"countType\": \"imageCountMoreThan\",\n",
    "                \"countNumber\": 1\n",
    "            },\n",
    "            \"action\": {\n",
    "                \"type\": \"expire\"\n",
    "            }\n",
    "        }\n",
    "    ]\n",
    "}\n",
    "\n",
    "lifecycle_manager = LifecyclePolicyManager(account_id)\n",
    "lifecycle_manager.put_lifecycle_policy(ecr_client=ecr_client, image_name=processor_image_name, lifecycle_policy=lifecycle_policy)"
   ],
   "id": "6bab43d45729d41b",
   "outputs": [
    {
     "name": "stdout",
     "output_type": "stream",
     "text": [
      "Lifecycle policy attached to repository sagemaker-processing-container successfully.\n"
     ]
    }
   ],
   "execution_count": 7
  },
  {
   "metadata": {
    "ExecuteTime": {
     "end_time": "2024-09-13T15:01:22.101065Z",
     "start_time": "2024-09-13T15:01:22.098766Z"
    }
   },
   "cell_type": "code",
   "source": "",
   "id": "b015d5aa2bdfcdef",
   "outputs": [],
   "execution_count": 7
  },
  {
   "metadata": {
    "jupyter": {
     "is_executing": true
    },
    "ExecuteTime": {
     "start_time": "2024-09-13T15:01:22.101065Z"
    }
   },
   "cell_type": "code",
   "source": [
    "# from pythonProject\n",
    "\n",
    "tag = ':latest'\n",
    "\n",
    "train_image_uri = '{}.dkr.ecr.{}.amazonaws.com/{}'.format(account_id, region, train_image_name + tag)\n",
    "print(f'Train image name: {train_image_uri}.')\n",
    "!docker build -t $train_image_uri ../containers/training\n",
    "!aws ecr get-login-password --region {region} | docker login --username AWS --password-stdin {account_id}.dkr.ecr.{region}.amazonaws.com\n",
    "!docker push $train_image_uri"
   ],
   "id": "e657a075f6f2952f",
   "outputs": [
    {
     "name": "stdout",
     "output_type": "stream",
     "text": [
      "Train image name: 284415450706.dkr.ecr.eu-north-1.amazonaws.com/xgb-clf-training-container:latest.\n"
     ]
    },
    {
     "name": "stderr",
     "output_type": "stream",
     "text": [
      "#0 building with \"default\" instance using docker driver\n",
      "\n",
      "#1 [internal] load build definition from Dockerfile\n",
      "#1 transferring dockerfile: 381B done\n",
      "#1 DONE 0.0s\n",
      "\n",
      "#2 [auth] library/python:pull token for registry-1.docker.io\n",
      "#2 DONE 0.0s\n",
      "\n",
      "#3 [internal] load metadata for docker.io/library/python:3.10-slim\n",
      "#3 DONE 1.0s\n",
      "\n",
      "#4 [internal] load .dockerignore\n",
      "#4 transferring context: 2B done\n",
      "#4 DONE 0.0s\n",
      "\n",
      "#5 [1/6] FROM docker.io/library/python:3.10-slim@sha256:80619a5316afae7045a3c13371b0ee670f39bac46ea1ed35081d2bf91d6c3dbd\n",
      "#5 DONE 0.0s\n",
      "\n",
      "#6 [internal] load build context\n",
      "#6 transferring context: 65B done\n",
      "#6 DONE 0.0s\n",
      "\n",
      "#7 [2/6] RUN apt-get -y update && apt-get install -y --no-install-recommends     python3     build-essential     libssl-dev\n",
      "#7 CACHED\n",
      "\n",
      "#8 [4/6] RUN pip install --user --upgrade pip\n",
      "#8 CACHED\n",
      "\n",
      "#9 [5/6] RUN pip3 install -r requirements.txt\n",
      "#9 CACHED\n",
      "\n",
      "#10 [3/6] COPY requirements.txt .\n",
      "#10 CACHED\n",
      "\n",
      "#11 [6/6] COPY train.py /opt/ml/code/train.py\n",
      "#11 CACHED\n",
      "\n",
      "#12 exporting to image\n",
      "#12 exporting layers done\n",
      "#12 writing image sha256:c293bbeb51478148464238ca0472589327a1365c97c45e03f54146db4c294cc2 done\n",
      "#12 naming to 284415450706.dkr.ecr.eu-north-1.amazonaws.com/xgb-clf-training-container:latest done\n",
      "#12 DONE 0.0s\n",
      "\n",
      "What's Next?\n",
      "  View a summary of image vulnerabilities and recommendations â†’ docker scout quickview\n"
     ]
    },
    {
     "name": "stdout",
     "output_type": "stream",
     "text": [
      "Login Succeeded\n"
     ]
    }
   ],
   "execution_count": null
  },
  {
   "metadata": {
    "ExecuteTime": {
     "end_time": "2024-09-10T19:21:02.417627Z",
     "start_time": "2024-09-10T19:21:02.414959Z"
    }
   },
   "cell_type": "code",
   "source": [
    "tag = ':latest'\n",
    "\n",
    "processor_image_uri = '{}.dkr.ecr.{}.amazonaws.com/{}'.format(account_id, region, processor_image_name + tag)\n",
    "print(f'Processor image name: {processor_image_uri}.')\n",
    "# !docker build -t $processor_image_uri ../preprocessor/docker\n",
    "# !aws ecr get-login-password --region {region} | docker login --username AWS --password-stdin {account_id}.dkr.ecr.{region}.amazonaws.com\n",
    "# !docker push $processor_image_uri"
   ],
   "id": "877d8c9fea10e92d",
   "outputs": [
    {
     "name": "stdout",
     "output_type": "stream",
     "text": [
      "Processor image name: 284415450706.dkr.ecr.eu-north-1.amazonaws.com/sagemaker-processing-container:latest.\n"
     ]
    }
   ],
   "execution_count": 9
  },
  {
   "metadata": {
    "ExecuteTime": {
     "end_time": "2024-09-10T19:21:04.726914Z",
     "start_time": "2024-09-10T19:21:02.417627Z"
    }
   },
   "cell_type": "code",
   "source": [
    "import json\n",
    "import subprocess\n",
    "\n",
    "session_name = \"FootballPredictorRoleSession\"\n",
    "image_directory = \"../preprocessor/docker\"\n",
    "tag = \":latest\"\n",
    "\n",
    "os.environ['AWS_ACCESS_KEY_ID'] = credentials['AccessKeyId']\n",
    "os.environ['AWS_SECRET_ACCESS_KEY'] = credentials['SecretAccessKey']\n",
    "os.environ['AWS_SESSION_TOKEN'] = credentials['SessionToken']\n",
    "\n",
    "# Define image parameters\n",
    "processor_image_uri = f\"{account_id}.dkr.ecr.{region}.amazonaws.com/{processor_image_name}{tag}\"\n",
    "\n",
    "# Step 3: Build Docker image\n",
    "build_cmd = f\"docker build -t {processor_image_uri} {image_directory}\"\n",
    "subprocess.run(build_cmd, shell=True, check=True)\n",
    "\n",
    "# Step 4: Authenticate Docker to ECR\n",
    "try:\n",
    "    ecr_password = subprocess.run(\n",
    "        [\"aws\", \"ecr\", \"get-login-password\", \"--region\", region],\n",
    "        capture_output=True, text=True, check=True\n",
    "    )\n",
    "    print(\"ECR password retrieved successfully.\")\n",
    "\n",
    "    docker_login_cmd = f\"echo {ecr_password.stdout} | docker login --username AWS --password-stdin {account_id}.dkr.ecr.{region}.amazonaws.com\"\n",
    "    subprocess.run(docker_login_cmd, shell=True, check=True)\n",
    "    print(\"Docker login successful.\")\n",
    "except subprocess.CalledProcessError as e:\n",
    "    print(f\"Error occurred during ECR login: {e}\")\n",
    "    print(f\"Stdout: {e.stdout}\")\n",
    "    print(f\"Stderr: {e.stderr}\")\n",
    "    raise\n",
    "\n",
    "# Step 4: Build and push Docker image\n",
    "processor_image_uri = f\"{account_id}.dkr.ecr.{region}.amazonaws.com/{processor_image_name}{tag}\"\n",
    "try:\n",
    "    build_cmd = f\"docker build -t {processor_image_uri} {image_directory}\"\n",
    "    subprocess.run(build_cmd, shell=True, check=True)\n",
    "    print(f\"Docker image {processor_image_uri} built successfully.\")\n",
    "\n",
    "    push_cmd = f\"docker push {processor_image_uri}\"\n",
    "    subprocess.run(push_cmd, shell=True, check=True)\n",
    "    print(f\"Docker image {processor_image_uri} pushed successfully.\")\n",
    "except subprocess.CalledProcessError as e:\n",
    "    print(f\"Error occurred while building/pushing Docker image: {e}\")\n",
    "    raise\n",
    "\n",
    "\n"
   ],
   "id": "f697cf74c601c158",
   "outputs": [
    {
     "name": "stdout",
     "output_type": "stream",
     "text": [
      "Error occurred during ECR login: Command '['aws', 'ecr', 'get-login-password', '--region', 'eu-north-1']' returned non-zero exit status 254.\n",
      "Stdout: \n",
      "Stderr: \n",
      "An error occurred (AccessDeniedException) when calling the GetAuthorizationToken operation: User: arn:aws:sts::284415450706:assumed-role/AmazonSageMaker-ExecutionRole-20240309T101533/FootballPredictorRoleSession is not authorized to perform: ecr:GetAuthorizationToken on resource: * because no identity-based policy allows the ecr:GetAuthorizationToken action\n",
      "\n"
     ]
    },
    {
     "ename": "CalledProcessError",
     "evalue": "Command '['aws', 'ecr', 'get-login-password', '--region', 'eu-north-1']' returned non-zero exit status 254.",
     "output_type": "error",
     "traceback": [
      "\u001B[1;31m---------------------------------------------------------------------------\u001B[0m",
      "\u001B[1;31mCalledProcessError\u001B[0m                        Traceback (most recent call last)",
      "Cell \u001B[1;32mIn[10], line 21\u001B[0m\n\u001B[0;32m     19\u001B[0m \u001B[38;5;66;03m# Step 4: Authenticate Docker to ECR\u001B[39;00m\n\u001B[0;32m     20\u001B[0m \u001B[38;5;28;01mtry\u001B[39;00m:\n\u001B[1;32m---> 21\u001B[0m     ecr_password \u001B[38;5;241m=\u001B[39m \u001B[43msubprocess\u001B[49m\u001B[38;5;241;43m.\u001B[39;49m\u001B[43mrun\u001B[49m\u001B[43m(\u001B[49m\n\u001B[0;32m     22\u001B[0m \u001B[43m        \u001B[49m\u001B[43m[\u001B[49m\u001B[38;5;124;43m\"\u001B[39;49m\u001B[38;5;124;43maws\u001B[39;49m\u001B[38;5;124;43m\"\u001B[39;49m\u001B[43m,\u001B[49m\u001B[43m \u001B[49m\u001B[38;5;124;43m\"\u001B[39;49m\u001B[38;5;124;43mecr\u001B[39;49m\u001B[38;5;124;43m\"\u001B[39;49m\u001B[43m,\u001B[49m\u001B[43m \u001B[49m\u001B[38;5;124;43m\"\u001B[39;49m\u001B[38;5;124;43mget-login-password\u001B[39;49m\u001B[38;5;124;43m\"\u001B[39;49m\u001B[43m,\u001B[49m\u001B[43m \u001B[49m\u001B[38;5;124;43m\"\u001B[39;49m\u001B[38;5;124;43m--region\u001B[39;49m\u001B[38;5;124;43m\"\u001B[39;49m\u001B[43m,\u001B[49m\u001B[43m \u001B[49m\u001B[43mregion\u001B[49m\u001B[43m]\u001B[49m\u001B[43m,\u001B[49m\n\u001B[0;32m     23\u001B[0m \u001B[43m        \u001B[49m\u001B[43mcapture_output\u001B[49m\u001B[38;5;241;43m=\u001B[39;49m\u001B[38;5;28;43;01mTrue\u001B[39;49;00m\u001B[43m,\u001B[49m\u001B[43m \u001B[49m\u001B[43mtext\u001B[49m\u001B[38;5;241;43m=\u001B[39;49m\u001B[38;5;28;43;01mTrue\u001B[39;49;00m\u001B[43m,\u001B[49m\u001B[43m \u001B[49m\u001B[43mcheck\u001B[49m\u001B[38;5;241;43m=\u001B[39;49m\u001B[38;5;28;43;01mTrue\u001B[39;49;00m\n\u001B[0;32m     24\u001B[0m \u001B[43m    \u001B[49m\u001B[43m)\u001B[49m\n\u001B[0;32m     25\u001B[0m     \u001B[38;5;28mprint\u001B[39m(\u001B[38;5;124m\"\u001B[39m\u001B[38;5;124mECR password retrieved successfully.\u001B[39m\u001B[38;5;124m\"\u001B[39m)\n\u001B[0;32m     27\u001B[0m     docker_login_cmd \u001B[38;5;241m=\u001B[39m \u001B[38;5;124mf\u001B[39m\u001B[38;5;124m\"\u001B[39m\u001B[38;5;124mecho \u001B[39m\u001B[38;5;132;01m{\u001B[39;00mecr_password\u001B[38;5;241m.\u001B[39mstdout\u001B[38;5;132;01m}\u001B[39;00m\u001B[38;5;124m | docker login --username AWS --password-stdin \u001B[39m\u001B[38;5;132;01m{\u001B[39;00maccount_id\u001B[38;5;132;01m}\u001B[39;00m\u001B[38;5;124m.dkr.ecr.\u001B[39m\u001B[38;5;132;01m{\u001B[39;00mregion\u001B[38;5;132;01m}\u001B[39;00m\u001B[38;5;124m.amazonaws.com\u001B[39m\u001B[38;5;124m\"\u001B[39m\n",
      "File \u001B[1;32m~\\AppData\\Local\\Programs\\Python\\Python312\\Lib\\subprocess.py:571\u001B[0m, in \u001B[0;36mrun\u001B[1;34m(input, capture_output, timeout, check, *popenargs, **kwargs)\u001B[0m\n\u001B[0;32m    569\u001B[0m     retcode \u001B[38;5;241m=\u001B[39m process\u001B[38;5;241m.\u001B[39mpoll()\n\u001B[0;32m    570\u001B[0m     \u001B[38;5;28;01mif\u001B[39;00m check \u001B[38;5;129;01mand\u001B[39;00m retcode:\n\u001B[1;32m--> 571\u001B[0m         \u001B[38;5;28;01mraise\u001B[39;00m CalledProcessError(retcode, process\u001B[38;5;241m.\u001B[39margs,\n\u001B[0;32m    572\u001B[0m                                  output\u001B[38;5;241m=\u001B[39mstdout, stderr\u001B[38;5;241m=\u001B[39mstderr)\n\u001B[0;32m    573\u001B[0m \u001B[38;5;28;01mreturn\u001B[39;00m CompletedProcess(process\u001B[38;5;241m.\u001B[39margs, retcode, stdout, stderr)\n",
      "\u001B[1;31mCalledProcessError\u001B[0m: Command '['aws', 'ecr', 'get-login-password', '--region', 'eu-north-1']' returned non-zero exit status 254."
     ]
    }
   ],
   "execution_count": 10
  },
  {
   "metadata": {},
   "cell_type": "code",
   "source": [
    "# Define variables\n",
    "session_name = \"FootballPredictorRoleSession\"\n",
    "\n",
    "# Assume role and get temporary credentials\n",
    "t_credentials = f'$(aws sts assume-role --role-arn ${role} --role-session-name ${session_name} --region ${region} --output json)'\n",
    "\n",
    "# Extract credentials from the JSON response\n",
    "!export AWS_ACCESS_KEY_ID=$(echo $t_credentials | jq -r .Credentials.AccessKeyId)\n",
    "!export AWS_SECRET_ACCESS_KEY=$(echo $t_credentials | jq -r .Credentials.SecretAccessKey)\n",
    "!export AWS_SESSION_TOKEN=$(echo $t_credentials | jq -r .Credentials.SessionToken)\n",
    "\n",
    "# Define image parameters\n",
    "tag = \":latest\"\n",
    "\n",
    "# Construct the image URI\n",
    "train_image_uri = f\"${account_id}.dkr.ecr.${region}.amazonaws.com/${train_image_name}${tag}\"\n",
    "!echo f\"Processor image URI: ${processor_image_uri}\"\n",
    "\n",
    "# Build the Docker image\n",
    "!docker build -t ${processor_image_uri} ../preprocessor/docker\n",
    "\n",
    "# Authenticate Docker to ECR\n",
    "!aws ecr get-login-password --region ${region} | docker login --username AWS --password-stdin ${account_id}.dkr.ecr.${region}.amazonaws.com\n",
    "\n",
    "# Push the Docker image to ECR\n",
    "!docker push ${processor_image_uri}"
   ],
   "id": "8b437fa00e4ac126",
   "outputs": [],
   "execution_count": null
  },
  {
   "metadata": {},
   "cell_type": "code",
   "outputs": [],
   "execution_count": null,
   "source": "",
   "id": "536c7a307552a7b7"
  }
 ],
 "metadata": {
  "kernelspec": {
   "display_name": "Python 3",
   "language": "python",
   "name": "python3"
  },
  "language_info": {
   "codemirror_mode": {
    "name": "ipython",
    "version": 2
   },
   "file_extension": ".py",
   "mimetype": "text/x-python",
   "name": "python",
   "nbconvert_exporter": "python",
   "pygments_lexer": "ipython2",
   "version": "2.7.6"
  }
 },
 "nbformat": 4,
 "nbformat_minor": 5
}
