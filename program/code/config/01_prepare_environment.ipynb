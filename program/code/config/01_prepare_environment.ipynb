{
 "cells": [
  {
   "metadata": {
    "ExecuteTime": {
     "end_time": "2024-09-23T15:33:55.551318Z",
     "start_time": "2024-09-23T15:33:55.549060Z"
    }
   },
   "cell_type": "code",
   "source": "",
   "id": "b09ab6a71a90aa70",
   "outputs": [],
   "execution_count": null
  },
  {
   "metadata": {},
   "cell_type": "markdown",
   "source": [
    "### Custom IAM Policy for Role, Policy Management and Elastic Container Registry\n",
    "\n",
    " Steps:\n",
    "- Log in to the AWS Management Console using your Admin or Root User credentials by visiting the [AWS Console login page](https://aws.amazon.com/console/).\n",
    "- Attach a Managed Policy IAMFullAccess.\n",
    "- Once you’ve attached the policy with sufficient permissions, switch back to your user and run the initial code to create roles, attach policies and create custom containers."
   ],
   "id": "8dc284ff47444a0"
  },
  {
   "metadata": {
    "ExecuteTime": {
     "end_time": "2024-09-23T15:33:55.623412Z",
     "start_time": "2024-09-23T15:33:55.559608Z"
    }
   },
   "cell_type": "code",
   "source": [
    "import os\n",
    "import boto3\n",
    "from RoleManager import RoleManager\n",
    "\n",
    "%load_ext dotenv\n",
    "%dotenv"
   ],
   "id": "e0110cc7108509a5",
   "outputs": [
    {
     "name": "stderr",
     "output_type": "stream",
     "text": [
      "Python-dotenv could not parse statement starting at line 15\n"
     ]
    }
   ],
   "execution_count": 1
  },
  {
   "metadata": {
    "ExecuteTime": {
     "end_time": "2024-09-23T15:33:57.158256Z",
     "start_time": "2024-09-23T15:33:55.705883Z"
    }
   },
   "cell_type": "code",
   "source": [
    "from program.code.config.AWSClientManager import AWSClientManager\n",
    "\n",
    "account_id = os.environ[\"ACCOUNT_ID\"]\n",
    "domain_id = os.environ[\"DOMAIN_ID\"]\n",
    "region = os.environ[\"AWS_REGION\"]\n",
    "bucket = os.environ[\"BUCKET\"]\n",
    "user_name = os.environ[\"USER_NAME\"]\n",
    "role = os.environ[\"ROLE\"]\n",
    "role_name = os.environ[\"ROLE_NAME\"]\n",
    "policy_name = os.environ[\"POLICY_NAME\"]\n",
    "\n",
    "role_service = RoleManager(account_id, user_name, role_name, policy_name, region)\n",
    "role_service.create_role_and_policy()"
   ],
   "id": "cb4daff812cdf46b",
   "outputs": [
    {
     "name": "stdout",
     "output_type": "stream",
     "text": [
      "Successfully updated trust relationship for role: AmazonSageMaker-ExecutionRole-20240309T101533\n"
     ]
    },
    {
     "name": "stderr",
     "output_type": "stream",
     "text": [
      "Policy AmazonSageMaker-ExecutionPolicy-20240309T101533 already exists.\n"
     ]
    }
   ],
   "execution_count": 2
  },
  {
   "metadata": {
    "ExecuteTime": {
     "end_time": "2024-09-23T15:33:58.069511Z",
     "start_time": "2024-09-23T15:33:57.175339Z"
    }
   },
   "cell_type": "code",
   "source": [
    "aws_client_manager = AWSClientManager(account_id, role_name, region)\n",
    "iam_client = aws_client_manager.get_client('iam')"
   ],
   "id": "d78facb603b921b4",
   "outputs": [],
   "execution_count": 3
  },
  {
   "metadata": {
    "ExecuteTime": {
     "end_time": "2024-09-23T15:34:06.687388Z",
     "start_time": "2024-09-23T15:34:05.644037Z"
    }
   },
   "cell_type": "code",
   "source": [
    "from EcrManager import EcrManager\n",
    "\n",
    "processor_image_name = 'sagemaker-processing-container'\n",
    "train_image_name = 'xgb-clf-training-container'\n",
    "\n",
    "ecr_client = aws_client_manager.get_client('ecr')\n",
    "ecr_manager = EcrManager(ecr_client)\n",
    "\n",
    "ecr_manager.create_repository(processor_image_name)\n",
    "ecr_manager.create_repository(train_image_name)"
   ],
   "id": "e41803c6c8963e52",
   "outputs": [
    {
     "data": {
      "text/plain": [
       "{'repositoryArn': 'arn:aws:ecr:eu-north-1:284415450706:repository/xgb-clf-training-container',\n",
       " 'registryId': '284415450706',\n",
       " 'repositoryName': 'xgb-clf-training-container',\n",
       " 'repositoryUri': '284415450706.dkr.ecr.eu-north-1.amazonaws.com/xgb-clf-training-container',\n",
       " 'createdAt': datetime.datetime(2024, 9, 23, 17, 34, 6, 570000, tzinfo=tzlocal()),\n",
       " 'imageTagMutability': 'MUTABLE',\n",
       " 'imageScanningConfiguration': {'scanOnPush': False},\n",
       " 'encryptionConfiguration': {'encryptionType': 'AES256'}}"
      ]
     },
     "execution_count": 4,
     "metadata": {},
     "output_type": "execute_result"
    }
   ],
   "execution_count": 4
  },
  {
   "metadata": {
    "ExecuteTime": {
     "end_time": "2024-09-23T15:34:09.736730Z",
     "start_time": "2024-09-23T15:34:09.598822Z"
    }
   },
   "cell_type": "code",
   "source": [
    "lifecycle_policy = {\n",
    "    \"rules\": [\n",
    "        {\n",
    "            \"rulePriority\": 1,\n",
    "            \"description\": \"Keep only one untagged image, expire all others\",\n",
    "            \"selection\": {\n",
    "                \"tagStatus\": \"any\",\n",
    "                \"countType\": \"imageCountMoreThan\",\n",
    "                \"countNumber\": 1\n",
    "            },\n",
    "            \"action\": {\n",
    "                \"type\": \"expire\"\n",
    "            }\n",
    "        }\n",
    "    ]\n",
    "}\n",
    "\n",
    "ecr_manager.put_lifecycle_policy(processor_image_name, lifecycle_policy)\n",
    "ecr_manager.put_lifecycle_policy(train_image_name, lifecycle_policy)"
   ],
   "id": "6bab43d45729d41b",
   "outputs": [],
   "execution_count": 5
  },
  {
   "metadata": {},
   "cell_type": "code",
   "source": [
    "tag = ':latest'\n",
    "\n",
    "processor_image_uri = '{}.dkr.ecr.{}.amazonaws.com/{}'.format(account_id, region, processor_image_name + tag)\n",
    "print(f'Processor image name: {processor_image_uri}.')\n",
    "!docker build -t $processor_image_uri ../preprocessor/docker\n",
    "!aws ecr get-login-password --region {region} | docker login --username AWS --password-stdin {account_id}.dkr.ecr.{region}.amazonaws.com\n",
    "!docker push $processor_image_uri"
   ],
   "id": "ebbe79d3432c6cff",
   "outputs": [],
   "execution_count": null
  },
  {
   "metadata": {},
   "cell_type": "code",
   "source": [
    "tag = ':latest'\n",
    "\n",
    "train_image_uri = '{}.dkr.ecr.{}.amazonaws.com/{}'.format(account_id, region, train_image_name + tag)\n",
    "print(f'Train image name: {train_image_uri}.')\n",
    "!docker build -t $train_image_uri ../containers/training\n",
    "!aws ecr get-login-password --region {region} | docker login --username AWS --password-stdin {account_id}.dkr.ecr.{region}.amazonaws.com\n",
    "!docker push $train_image_uri"
   ],
   "id": "e657a075f6f2952f",
   "outputs": [],
   "execution_count": null
  },
  {
   "metadata": {},
   "cell_type": "code",
   "source": [
    "from botocore.exceptions import ClientError\n",
    "import logging\n",
    "\n",
    "s3_client = aws_client_manager.get_client('s3')\n",
    "\n",
    "try:\n",
    "    s3_client.create_bucket(\n",
    "        Bucket=bucket,\n",
    "        CreateBucketConfiguration={'LocationConstraint': region}\n",
    "    )\n",
    "    logging.info(f\"S3 bucket {bucket} created successfully.\")\n",
    "except s3_client.exceptions.BucketAlreadyOwnedByYou:\n",
    "    logging.warning(f\"S3 bucket {bucket} already exists and is owned by you.\")\n",
    "except ClientError as e:\n",
    "    logging.error(f\"Error creating S3 bucket: {e}\")\n",
    "    raise"
   ],
   "id": "536c7a307552a7b7",
   "outputs": [],
   "execution_count": null
  },
  {
   "metadata": {},
   "cell_type": "code",
   "source": [
    "from sagemaker.session import Session\n",
    "\n",
    "s3_location = f\"s3://{bucket}/football\"\n",
    "sagemaker_session = Session()\n",
    "\n",
    "df_local_path = str(os.environ['DATA_FILEPATH_X'])\n",
    "y_local_path = str(os.environ['DATA_FILEPATH_Y'])\n",
    "\n",
    "s3_client.upload_file(Filename=df_local_path, Bucket=bucket, Key=f\"data/df.csv\")\n",
    "s3_client.upload_file(Filename=y_local_path, Bucket=bucket, Key=f\"data/y.csv\")"
   ],
   "id": "faa76db1690fd092",
   "outputs": [],
   "execution_count": null
  },
  {
   "metadata": {},
   "cell_type": "code",
   "source": "",
   "id": "d6a83310366b8108",
   "outputs": [],
   "execution_count": null
  }
 ],
 "metadata": {
  "kernelspec": {
   "display_name": "Python 3",
   "language": "python",
   "name": "python3"
  },
  "language_info": {
   "codemirror_mode": {
    "name": "ipython",
    "version": 2
   },
   "file_extension": ".py",
   "mimetype": "text/x-python",
   "name": "python",
   "nbconvert_exporter": "python",
   "pygments_lexer": "ipython2",
   "version": "2.7.6"
  }
 },
 "nbformat": 4,
 "nbformat_minor": 5
}
