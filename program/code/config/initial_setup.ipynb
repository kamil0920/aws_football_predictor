{
 "cells": [
  {
   "metadata": {},
   "cell_type": "markdown",
   "source": [
    "### AWS Configuration Instructions:\n",
    "\n",
    "1. **Create Root User (Skip if already done)**:\n",
    "   - Only use the AWS root account to set up the initial environment.\n",
    "   - To create a root account (if necessary):\n",
    "     - Go to [AWS Account](https://aws.amazon.com/resources/create-account/) and sign up for a root user.\n",
    "\n",
    "2. **Set Up an Admin User and IAM Role**:\n",
    "   - Create an admin user with enough permissions to create role.\n",
    "   \n",
    "   **Steps**:\n",
    "   - Navigate to **IAM** in the AWS Console.\n",
    "   - Click on **Users** > **Add User**.\n",
    "   - Create a user (e.g., `admin-user`) with **Programmatic access** and attach the **AdministratorAccess** policy.\n",
    "   - Download the **Access Key ID** and **Secret Access Key** for AWS CLI configuration.\n",
    "\n",
    "   This user will be used to create role and users.\n",
    "\n",
    "3. **AWS CLI Configuration**:\n",
    "    - Configure the AWS CLI for both admin and developer users:\n",
    "   \n",
    "     ```bash\n",
    "     aws configure\n",
    "     ```\n",
    "    - Enter the **Access Key**, **Secret Key**, default region (e.g., `eu-north-1`), and output format (e.g., `json`).\n"
   ],
   "id": "e4d4263e2833d38f"
  },
  {
   "metadata": {
    "ExecuteTime": {
     "end_time": "2024-11-26T16:10:09.047362Z",
     "start_time": "2024-11-26T16:10:09.017850Z"
    }
   },
   "cell_type": "code",
   "source": [
    "## Uncomment and install libs\n",
    "# %pip install --upgrade pip\n",
    "# %pip install pandas==2.2.2\n",
    "# %pip install xgboost-cpu==2.1.1\n",
    "# %pip install scikit-learn==1.5.1\n",
    "# %pip install numpy==1.24.4\n",
    "# %pip install ipytest==0.14.2\n",
    "# %pip install python-dotenv==1.0.1\n",
    "# %pip install s3fs"
   ],
   "id": "3dc4cfc62c6ff980",
   "outputs": [],
   "execution_count": 14
  },
  {
   "metadata": {
    "ExecuteTime": {
     "end_time": "2024-11-26T16:40:37.787530Z",
     "start_time": "2024-11-26T16:40:37.776049Z"
    }
   },
   "cell_type": "code",
   "source": [
    "import os\n",
    "import logging\n",
    "import time\n",
    "\n",
    "%load_ext dotenv\n",
    "%dotenv\n",
    "\n",
    "logger = logging.getLogger('RoleManager')\n",
    "logger.setLevel(logging.INFO)\n",
    "\n",
    "logger = logging.getLogger('EcrManager')\n",
    "logger.setLevel(logging.INFO)\n",
    "\n",
    "logger = logging.getLogger('AWSClientManager')\n",
    "logger.setLevel(logging.INFO)\n",
    "\n",
    "if not logger.hasHandlers():\n",
    "    console_handler = logging.StreamHandler()  # Log to console\n",
    "    console_handler.setLevel(logging.DEBUG)  # Ensure the handler logs DEBUG messages\n",
    "    formatter = logging.Formatter('%(name)s - %(levelname)s - %(message)s')\n",
    "    console_handler.setFormatter(formatter)\n",
    "\n",
    "    logger.addHandler(console_handler)"
   ],
   "id": "896292e2f59fc5f9",
   "outputs": [],
   "execution_count": 1
  },
  {
   "metadata": {
    "ExecuteTime": {
     "end_time": "2024-11-26T16:40:38.479510Z",
     "start_time": "2024-11-26T16:40:38.383910Z"
    }
   },
   "cell_type": "code",
   "source": [
    "from IAMUserManger import IAMUserManager\n",
    "\n",
    "from AWSClientManager import AWSClientManager\n",
    "from RoleManager import RoleManager\n",
    "\n",
    "logger = logging.getLogger('RoleManager')\n",
    "logger.setLevel(logging.DEBUG)\n",
    "\n",
    "account_id = os.environ[\"ACCOUNT_ID\"]\n",
    "region = os.environ[\"AWS_REGION\"]\n",
    "user_name = os.environ[\"USER_NAME\"]\n",
    "role_name = os.environ[\"ROLE_NAME\"]\n",
    "policy_name = os.environ[\"POLICY_NAME\"]\n",
    "bucket = os.environ[\"BUCKET\"]\n",
    "access_key = os.environ[\"ACCESS_KEY\"]\n",
    "secret_key = os.environ[\"SECRET_KEY\"]"
   ],
   "id": "df9f503eecb8aedf",
   "outputs": [],
   "execution_count": 2
  },
  {
   "metadata": {
    "ExecuteTime": {
     "end_time": "2024-11-26T16:40:51.633354Z",
     "start_time": "2024-11-26T16:40:38.943767Z"
    }
   },
   "cell_type": "code",
   "source": [
    "iam_user_manager = IAMUserManager()\n",
    "iam_user_manager.create_user(user_name)\n",
    "\n",
    "time.sleep(5)\n",
    "\n",
    "role_service = RoleManager(account_id, user_name)\n",
    "role_arn = role_service.create_role_and_policy(role_name, policy_name, region)\n",
    "time.sleep(5)"
   ],
   "id": "f925b6f8351c0406",
   "outputs": [
    {
     "name": "stdout",
     "output_type": "stream",
     "text": [
      "User betonowydzik already exists.\n"
     ]
    },
    {
     "name": "stderr",
     "output_type": "stream",
     "text": [
      "Role \"football-project-execution-role\" already exists.\n"
     ]
    }
   ],
   "execution_count": 3
  },
  {
   "metadata": {
    "ExecuteTime": {
     "end_time": "2024-11-26T16:40:51.637704Z",
     "start_time": "2024-11-26T16:40:51.634360Z"
    }
   },
   "cell_type": "code",
   "source": [
    "if access_key == '':\n",
    "    iam_user_manager.attach_inline_policy(user_name, role_arn)\n",
    "    access_key_info = iam_user_manager.create_access_key(user_name)\n",
    "\n",
    "    access_key = access_key_info['AccessKeyId']\n",
    "    secret_key = access_key_info['SecretAccessKey']\n",
    "    \n",
    "    if access_key_info:\n",
    "        print(f\"Access Key ID: {access_key_info['AccessKeyId']}\")\n",
    "        print(f\"Secret Access Key: {access_key_info['SecretAccessKey']}\")"
   ],
   "id": "f0c001f75b6d0163",
   "outputs": [],
   "execution_count": 4
  },
  {
   "metadata": {},
   "cell_type": "markdown",
   "source": "Add access_key and secret_key in .env file under ACCESS_KEY and SECRET_KEY keys.",
   "id": "1cade1f5e817c923"
  },
  {
   "metadata": {
    "ExecuteTime": {
     "end_time": "2024-11-26T16:40:51.740299Z",
     "start_time": "2024-11-26T16:40:51.638710Z"
    }
   },
   "cell_type": "code",
   "source": "aws_client_manager = AWSClientManager(region=region, access_key_id=access_key, secret_access_key=secret_key, account_id=account_id)",
   "id": "9bc5fedca9a73200",
   "outputs": [],
   "execution_count": 5
  },
  {
   "metadata": {
    "ExecuteTime": {
     "end_time": "2024-11-26T16:40:57.732489Z",
     "start_time": "2024-11-26T16:40:51.741305Z"
    }
   },
   "cell_type": "code",
   "source": [
    "from EcrManager import EcrManager\n",
    "\n",
    "ecr_client = aws_client_manager.get_client('ecr', role_name)\n",
    "ecr_manager = EcrManager(ecr_client)"
   ],
   "id": "9f5fc9c9f1c66220",
   "outputs": [
    {
     "name": "stderr",
     "output_type": "stream",
     "text": [
      "AWSClientManager - INFO - Attempting to assume role: arn:aws:iam::284415450706:role/football-project-execution-role\n",
      "AWSClientManager - INFO - Assumed role football-project-execution-role successfully.\n"
     ]
    }
   ],
   "execution_count": 6
  },
  {
   "metadata": {
    "ExecuteTime": {
     "end_time": "2024-11-26T16:41:08.485710Z",
     "start_time": "2024-11-26T16:40:57.732489Z"
    }
   },
   "cell_type": "code",
   "source": [
    "processor_image_name = 'sagemaker-processing-container'\n",
    "train_image_name = 'xgb-clf-training-container'\n",
    "\n",
    "time.sleep(5)\n",
    "\n",
    "processor_repository = ecr_manager.create_repository(processor_image_name)\n",
    "train_repository = ecr_manager.create_repository(train_image_name)\n",
    "\n",
    "time.sleep(5)\n",
    "\n",
    "ecr_manager.put_lifecycle_policy(processor_image_name)\n",
    "ecr_manager.put_lifecycle_policy(train_image_name)"
   ],
   "id": "b4e86d58b584a9c4",
   "outputs": [],
   "execution_count": 7
  },
  {
   "metadata": {
    "ExecuteTime": {
     "end_time": "2024-11-26T16:42:56.589642Z",
     "start_time": "2024-11-26T16:42:53.090033Z"
    }
   },
   "cell_type": "code",
   "source": [
    "import base64\n",
    "import subprocess\n",
    "\n",
    "auth_data = ecr_client.get_authorization_token()['authorizationData'][0]\n",
    "auth_token = auth_data['authorizationToken']\n",
    "\n",
    "username_password = base64.b64decode(auth_token).decode('utf-8')\n",
    "username, password = username_password.split(':')\n",
    "registry_uri = auth_data['proxyEndpoint']\n",
    "\n",
    "auth_command = f\"docker login --username {username} --password {password} {registry_uri}\"\n",
    "result = subprocess.run(auth_command, shell=True, check=True, stdout=subprocess.PIPE, stderr=subprocess.PIPE, text=True)\n",
    "print(f\"Command executed successfully. Output:\\n{result.stdout}\")\n"
   ],
   "id": "98009974de97216a",
   "outputs": [
    {
     "name": "stdout",
     "output_type": "stream",
     "text": [
      "Command executed successfully. Output:\n",
      "Login Succeeded\n",
      "\n"
     ]
    }
   ],
   "execution_count": 9
  },
  {
   "metadata": {
    "ExecuteTime": {
     "end_time": "2024-10-28T16:53:58.192895Z",
     "start_time": "2024-10-28T16:53:54.856334Z"
    }
   },
   "cell_type": "code",
   "source": [
    "print(\"Docker authenticated successfully to ECR.\")\n",
    "tag = ':latest'\n",
    "processor_image_uri = '{}.dkr.ecr.{}.amazonaws.com/{}'.format(account_id, region, processor_image_name + tag)\n",
    "print(f'Processor image name: {processor_image_uri}.')\n",
    "\n",
    "!docker build -t $processor_image_uri ../containers/preprocessor/docker\n",
    "push_command = f\"docker push {processor_image_uri}\"\n",
    "subprocess.run(push_command, shell=True, check=True)\n",
    "\n",
    "print(f\"Docker image pushed to ECR: {processor_image_uri}\")\n"
   ],
   "id": "39137ff8fd9e6bb3",
   "outputs": [
    {
     "name": "stdout",
     "output_type": "stream",
     "text": [
      "Docker authenticated successfully to ECR.\n",
      "Processor image name: 284415450706.dkr.ecr.eu-north-1.amazonaws.com/sagemaker-processing-container:latest.\n"
     ]
    },
    {
     "name": "stderr",
     "output_type": "stream",
     "text": [
      "#0 building with \"default\" instance using docker driver\n",
      "\n",
      "#1 [internal] load build definition from Dockerfile\n",
      "#1 transferring dockerfile: 222B done\n",
      "#1 DONE 0.0s\n",
      "\n",
      "#2 [internal] load metadata for docker.io/library/python:3.10-slim\n",
      "#2 ...\n",
      "\n",
      "#3 [auth] library/python:pull token for registry-1.docker.io\n",
      "#3 DONE 0.0s\n",
      "\n",
      "#2 [internal] load metadata for docker.io/library/python:3.10-slim\n",
      "#2 DONE 1.1s\n",
      "\n",
      "#4 [internal] load .dockerignore\n",
      "#4 transferring context: 2B done\n",
      "#4 DONE 0.0s\n",
      "\n",
      "#5 [1/4] FROM docker.io/library/python:3.10-slim@sha256:eb9ca77b1a0ffbde84c1dc333beb3490a2638813cc25a339f8575668855b9ff1\n",
      "#5 DONE 0.0s\n",
      "\n",
      "#6 [internal] load build context\n",
      "#6 transferring context: 92B done\n",
      "#6 DONE 0.0s\n",
      "\n",
      "#7 [3/4] RUN pip install --user --upgrade pip\n",
      "#7 CACHED\n",
      "\n",
      "#8 [2/4] COPY requirements.txt .\n",
      "#8 CACHED\n",
      "\n",
      "#9 [4/4] RUN pip3 install -r requirements.txt\n",
      "#9 CACHED\n",
      "\n",
      "#10 exporting to image\n",
      "#10 exporting layers done\n",
      "#10 writing image sha256:b8bca269989bf005f9535cce0be0f840aa44dedeec1c6c41b3c1e78588229862 done\n",
      "#10 naming to 284415450706.dkr.ecr.eu-north-1.amazonaws.com/sagemaker-processing-container:latest done\n",
      "#10 DONE 0.0s\n",
      "\n",
      "What's Next?\n",
      "  View a summary of image vulnerabilities and recommendations â†’ docker scout quickview\n"
     ]
    },
    {
     "name": "stdout",
     "output_type": "stream",
     "text": [
      "Docker image pushed to ECR: 284415450706.dkr.ecr.eu-north-1.amazonaws.com/sagemaker-processing-container:latest\n"
     ]
    }
   ],
   "execution_count": 13
  },
  {
   "metadata": {
    "ExecuteTime": {
     "end_time": "2024-11-26T16:43:01.852419Z",
     "start_time": "2024-11-26T16:42:57.292701Z"
    }
   },
   "cell_type": "code",
   "source": [
    "tag = ':latest'\n",
    "train_image_uri = '{}.dkr.ecr.{}.amazonaws.com/{}'.format(account_id, region, train_image_name + tag)\n",
    "print(f'Train image name: {train_image_uri}.')\n",
    "\n",
    "!docker build -t $train_image_uri ../containers/training/docker\n",
    "push_command = f\"docker push {train_image_uri}\"\n",
    "subprocess.run(push_command, shell=True, check=True)\n",
    "print(f\"Docker image pushed to ECR: {train_image_uri}\")"
   ],
   "id": "58cd7f6b39ef8ce1",
   "outputs": [
    {
     "name": "stdout",
     "output_type": "stream",
     "text": [
      "Train image name: 284415450706.dkr.ecr.eu-north-1.amazonaws.com/xgb-clf-training-container:latest.\n"
     ]
    },
    {
     "name": "stderr",
     "output_type": "stream",
     "text": [
      "#0 building with \"default\" instance using docker driver\n",
      "\n",
      "#1 [internal] load build definition from Dockerfile\n",
      "#1 transferring dockerfile: 386B done\n",
      "#1 DONE 0.0s\n",
      "\n",
      "#2 [internal] load metadata for docker.io/library/python:3.10-slim\n",
      "#2 DONE 0.7s\n",
      "\n",
      "#3 [internal] load .dockerignore\n",
      "#3 transferring context: 2B done\n",
      "#3 DONE 0.0s\n",
      "\n",
      "#4 [1/6] FROM docker.io/library/python:3.10-slim@sha256:af6f1b19eae3400ea3a569ba92d4819a527be4662971d51bb798c923bba30a81\n",
      "#4 DONE 0.0s\n",
      "\n",
      "#5 [internal] load build context\n",
      "#5 transferring context: 65B done\n",
      "#5 DONE 0.0s\n",
      "\n",
      "#6 [3/6] COPY requirements.txt .\n",
      "#6 CACHED\n",
      "\n",
      "#7 [4/6] RUN pip install --user --upgrade pip\n",
      "#7 CACHED\n",
      "\n",
      "#8 [5/6] RUN pip3 install -r requirements.txt\n",
      "#8 CACHED\n",
      "\n",
      "#9 [2/6] RUN apt-get -y update && apt-get install -y --no-install-recommends     python3     build-essential     libssl-dev\n",
      "#9 CACHED\n",
      "\n",
      "#10 [6/6] COPY ../train.py /opt/ml/code/train.py\n",
      "#10 CACHED\n",
      "\n",
      "#11 exporting to image\n",
      "#11 exporting layers done\n",
      "#11 writing image sha256:6e88f867fc154803f77dc89f00b5dbfb0f16688f532e17173f410363c595f13d done\n",
      "#11 naming to 284415450706.dkr.ecr.eu-north-1.amazonaws.com/xgb-clf-training-container:latest done\n",
      "#11 DONE 0.0s\n",
      "\n",
      "What's Next?\n",
      "  View a summary of image vulnerabilities and recommendations â†’ docker scout quickview\n"
     ]
    },
    {
     "name": "stdout",
     "output_type": "stream",
     "text": [
      "Docker image pushed to ECR: 284415450706.dkr.ecr.eu-north-1.amazonaws.com/xgb-clf-training-container:latest\n"
     ]
    }
   ],
   "execution_count": 10
  },
  {
   "metadata": {
    "ExecuteTime": {
     "end_time": "2024-11-11T14:37:41.925706Z",
     "start_time": "2024-11-11T14:37:35.922925Z"
    }
   },
   "cell_type": "code",
   "source": "s3_client = aws_client_manager.get_client('s3', role_name)",
   "id": "902c4fa2cd8155e7",
   "outputs": [
    {
     "name": "stderr",
     "output_type": "stream",
     "text": [
      "AWSClientManager - INFO - Attempting to assume role: arn:aws:iam::284415450706:role/football-project-execution-role\n",
      "AWSClientManager - INFO - Assumed role football-project-execution-role successfully.\n"
     ]
    }
   ],
   "execution_count": 5
  },
  {
   "metadata": {
    "ExecuteTime": {
     "end_time": "2024-10-28T16:54:08.403626Z",
     "start_time": "2024-10-28T16:54:07.713448Z"
    }
   },
   "cell_type": "code",
   "source": [
    "from botocore.exceptions import ClientError\n",
    "\n",
    "try:\n",
    "    s3_client.create_bucket(\n",
    "        Bucket=bucket,\n",
    "        CreateBucketConfiguration={'LocationConstraint': region}\n",
    "    )\n",
    "    logging.info(f\"S3 bucket {bucket} created successfully.\")\n",
    "except s3_client.exceptions.BucketAlreadyOwnedByYou:\n",
    "    logging.warning(f\"S3 bucket {bucket} already exists and is owned by you.\")\n",
    "except ClientError as e:\n",
    "    logging.error(f\"Error creating S3 bucket: {e}\")\n",
    "    raise"
   ],
   "id": "6f86513f3d4536a7",
   "outputs": [
    {
     "name": "stderr",
     "output_type": "stream",
     "text": [
      "WARNING:root:S3 bucket football-bucket already exists and is owned by you.\n"
     ]
    }
   ],
   "execution_count": 16
  },
  {
   "metadata": {
    "ExecuteTime": {
     "end_time": "2024-11-11T14:38:47.620297Z",
     "start_time": "2024-11-11T14:38:46.034443Z"
    }
   },
   "cell_type": "code",
   "source": [
    "df_local_path = str(os.environ['DATA_FILEPATH_X'])\n",
    "y_local_path = str(os.environ['DATA_FILEPATH_Y'])\n",
    "\n",
    "batch_id = 'batch-20231016'\n",
    "\n",
    "s3_client.upload_file(Filename=df_local_path, Bucket=bucket, Key=f\"data/df.csv\", ExtraArgs={'Metadata': {'batch-id': batch_id}})\n",
    "s3_client.upload_file(Filename=y_local_path, Bucket=bucket, Key=f\"data/y.csv\", ExtraArgs={'Metadata': {'batch-id': batch_id}})"
   ],
   "id": "421d2e5bfdb4e123",
   "outputs": [],
   "execution_count": 7
  },
  {
   "metadata": {
    "ExecuteTime": {
     "end_time": "2024-10-28T16:54:09.704984Z",
     "start_time": "2024-10-28T16:54:09.703369Z"
    }
   },
   "cell_type": "code",
   "source": "",
   "id": "d58a4738d9dfa1ef",
   "outputs": [],
   "execution_count": 17
  }
 ],
 "metadata": {
  "kernelspec": {
   "display_name": "Python 3",
   "language": "python",
   "name": "python3"
  },
  "language_info": {
   "codemirror_mode": {
    "name": "ipython",
    "version": 2
   },
   "file_extension": ".py",
   "mimetype": "text/x-python",
   "name": "python",
   "nbconvert_exporter": "python",
   "pygments_lexer": "ipython2",
   "version": "2.7.6"
  }
 },
 "nbformat": 4,
 "nbformat_minor": 5
}
