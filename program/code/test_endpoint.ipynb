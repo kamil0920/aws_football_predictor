{
 "cells": [
  {
   "metadata": {
    "ExecuteTime": {
     "end_time": "2024-05-09T12:33:27.257302Z",
     "start_time": "2024-05-09T12:33:26.505993Z"
    }
   },
   "cell_type": "code",
   "source": [
    "from sagemaker.predictor import Predictor\n",
    "import json\n",
    "import numpy as np\n",
    "\n",
    "ENDPOINT = \"football-endpoint\""
   ],
   "id": "ed96812ad27a3a3f",
   "outputs": [
    {
     "name": "stdout",
     "output_type": "stream",
     "text": [
      "sagemaker.config INFO - Not applying SDK defaults from location: /etc/xdg/xdg-ubuntu/sagemaker/config.yaml\n",
      "sagemaker.config INFO - Not applying SDK defaults from location: /home/kmitura/.config/sagemaker/config.yaml\n"
     ]
    }
   ],
   "execution_count": 1
  },
  {
   "metadata": {
    "ExecuteTime": {
     "end_time": "2024-05-09T12:33:58.915797Z",
     "start_time": "2024-05-09T12:33:58.911914Z"
    }
   },
   "cell_type": "code",
   "source": [
    "payload = \"\"\"\n",
    "86,86,86,86,86,86,83,83,83,88,74,76,76,76,76,76,76,79,68,70,81,79,1.72,2.24,1.7,0.76,49,80,3.2707983786677315,1.3128173828363914,84.27,75.73,22.92,40.63,7.048,5.128,47.796,52.362,82.83,75.5,76.0,86.0,84.27272727272727,75.72727272727273,7,0,11.9816,31.614503816793892,24.044585987261147,7.569917829532745\n",
    "79,79,79,79,79,79,81,86,88,85,82,76,76,76,76,76,76,74,75,72,76,75,1.52,0.82,0.92,1.92,68,17,4.144031675155845,3.887158709814261,81.45,75.27,50.07,3.55,7.592,4.772,43.5,52.919,83.5,74.67,76.0,79.0,81.45454545454545,75.27272727272727,3,0,6.98464,34.50413223140496,43.41279069767442,-8.908658466269458\n",
    "77,77,77,77,77,77,76,75,75,79,77,80,80,80,80,80,80,78,80,86,73,88,2.15,2.24,1.63,1.67,46,65,2.6942883775913384,1.008610065655301,76.73,80.45,42.34,27.71,5.379,7.424,50.032,45.678,76.5,80.83,80.0,77.0,76.72727272727273,80.45454545454545,0,2,8.767769999999999,25.081967213114755,25.74203821656051,-0.6600710034457542\n",
    "\n",
    "\"\"\""
   ],
   "id": "74cef18491fec03",
   "outputs": [],
   "execution_count": 2
  },
  {
   "metadata": {
    "ExecuteTime": {
     "end_time": "2024-05-09T12:37:30.998061Z",
     "start_time": "2024-05-09T12:37:30.559182Z"
    }
   },
   "cell_type": "code",
   "source": [
    "predictor = Predictor(endpoint_name=ENDPOINT)\n",
    "\n",
    "response = predictor.predict(payload, initial_args={\"ContentType\": \"text/csv\"})\n",
    "scores = response.decode(\"utf-8\").strip().split('\\n')\n",
    "scores = [float(score) for score in scores]\n",
    "\n",
    "print(json.dumps(scores, indent=2))"
   ],
   "id": "bdfad4b1aec715e6",
   "outputs": [
    {
     "name": "stdout",
     "output_type": "stream",
     "text": [
      "[\n",
      "  0.5509363412857056,\n",
      "  0.7684333920478821,\n",
      "  0.3455442488193512\n",
      "]\n"
     ]
    }
   ],
   "execution_count": 10
  },
  {
   "metadata": {},
   "cell_type": "code",
   "outputs": [],
   "execution_count": null,
   "source": "",
   "id": "7743d72f46e02923"
  }
 ],
 "metadata": {
  "kernelspec": {
   "display_name": "Python 3",
   "language": "python",
   "name": "python3"
  },
  "language_info": {
   "codemirror_mode": {
    "name": "ipython",
    "version": 2
   },
   "file_extension": ".py",
   "mimetype": "text/x-python",
   "name": "python",
   "nbconvert_exporter": "python",
   "pygments_lexer": "ipython2",
   "version": "2.7.6"
  }
 },
 "nbformat": 4,
 "nbformat_minor": 5
}
