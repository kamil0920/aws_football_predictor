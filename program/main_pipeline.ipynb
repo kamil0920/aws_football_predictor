{
 "cells": [
  {
   "cell_type": "code",
   "outputs": [],
   "source": [
    "%load_ext autoreload\n",
    "%autoreload 2\n",
    "\n",
    "import os\n",
    "import sys\n",
    "from pathlib import Path\n",
    "import warnings\n",
    "\n",
    "warnings.filterwarnings('ignore')\n",
    "CODE_FOLDER = Path(\"code\")\n",
    "CODE_FOLDER.mkdir(parents=True, exist_ok=True)\n",
    "\n",
    "sys.path.append(f\"./{CODE_FOLDER}\")"
   ],
   "metadata": {
    "collapsed": false,
    "ExecuteTime": {
     "end_time": "2024-03-21T17:02:17.439782300Z",
     "start_time": "2024-03-21T17:02:17.406193500Z"
    }
   },
   "id": "dcd6df911098ecb8",
   "execution_count": 1
  },
  {
   "cell_type": "code",
   "outputs": [],
   "source": [
    "# !aws s3api create-bucket --bucket football-data-kamil --create-bucket-configuration LocationConstraint=eu-north-1"
   ],
   "metadata": {
    "collapsed": false,
    "ExecuteTime": {
     "end_time": "2024-03-21T17:02:17.473519500Z",
     "start_time": "2024-03-21T17:02:17.440783Z"
    }
   },
   "id": "15812d9d5c4c5062",
   "execution_count": 2
  },
  {
   "cell_type": "code",
   "outputs": [
    {
     "name": "stdout",
     "output_type": "stream",
     "text": [
      "The autoreload extension is already loaded. To reload it, use:\n",
      "  %reload_ext autoreload\n"
     ]
    }
   ],
   "source": [
    "%load_ext autoreload\n",
    "%autoreload 2\n",
    "%load_ext dotenv\n",
    "%dotenv\n",
    "\n",
    "import sys\n",
    "import logging\n",
    "import ipytest\n",
    "from pathlib import Path\n",
    "\n",
    "\n",
    "CODE_FOLDER = Path(\"code\")\n",
    "CODE_FOLDER.mkdir(parents=True, exist_ok=True)\n",
    "INFERENCE_CODE_FOLDER = CODE_FOLDER / \"inference\"\n",
    "INFERENCE_CODE_FOLDER.mkdir(parents=True, exist_ok=True)\n",
    "\n",
    "sys.path.extend([f\"./{CODE_FOLDER}\", f\"./{INFERENCE_CODE_FOLDER}\"])\n",
    "\n",
    "ipytest.autoconfig(raise_on_error=True)\n",
    "\n",
    "# By default, The SageMaker SDK logs events related to the default\n",
    "# configuration using the INFO level. To prevent these from spoiling\n",
    "# the output of this notebook cells, we can change the logging\n",
    "# level to ERROR instead.\n",
    "logging.getLogger(\"sagemaker.config\").setLevel(logging.ERROR)"
   ],
   "metadata": {
    "collapsed": false,
    "ExecuteTime": {
     "end_time": "2024-03-21T17:02:17.586848500Z",
     "start_time": "2024-03-21T17:02:17.474520400Z"
    }
   },
   "id": "6beb300bf7e34dc7",
   "execution_count": 3
  },
  {
   "cell_type": "code",
   "outputs": [
    {
     "name": "stderr",
     "output_type": "stream",
     "text": [
      "Windows Support for Local Mode is Experimental\n"
     ]
    }
   ],
   "source": [
    "import os\n",
    "import logging\n",
    "\n",
    "from sagemaker.workflow.pipeline_context import PipelineSession, LocalPipelineSession\n",
    "\n",
    "# Update this variable to your bucket name. This name must be unique\n",
    "# across all AWS accounts.\n",
    "BUCKET = os.environ[\"BUCKET\"]\n",
    "S3_LOCATION = f\"s3://{BUCKET}/football\"\n",
    "\n",
    "# To run this notebook in Local Model, this constant must be set to True.\n",
    "# I'm trying to do this automatically by checking for a specific environment\n",
    "# variable that is set by SageMaker when you run the notebook inside SageMaker\n",
    "# Studio. \n",
    "# LOCAL_MODE = \"SAGEMAKER_INTERNAL_IMAGE_URI\" not in os.environ\n",
    "\n",
    "LOCAL_MODE = True\n",
    "\n",
    "# This variable will be used to determine the architecture of the\n",
    "# local machine. If the machine is an ARM64 machine, you will need\n",
    "# to build a custom Docker image using the setup notebook.\n",
    "ARCHITECTURE = !(uname -m)\n",
    "\n",
    "# This is a dummy role that will be ignored when we run the\n",
    "# pipeline in Local Mode.\n",
    "DUMMY_ROLE = \"arn:aws:iam::111111111111:role/service-role/AmazonSageMaker-ExecutionRole-11111111111111\"\n",
    "\n",
    "# We'll use these two variables to configure the steps that do not support\n",
    "# Local Mode.\n",
    "pipeline_session = PipelineSession(default_bucket=BUCKET) if not LOCAL_MODE else LocalPipelineSession(default_bucket=BUCKET)\n",
    "execution_role = os.environ[\"ROLE\"] if not LOCAL_MODE else DUMMY_ROLE\n",
    "\n",
    "if LOCAL_MODE:\n",
    "    config = {\n",
    "        \"session\": pipeline_session,\n",
    "        \"instance_type\": \"local\",\n",
    "        \"role\": DUMMY_ROLE,\n",
    "\n",
    "        # We need to use a custom Docker image when we run the pipeline\n",
    "        # in Local Model on an ARM64 machine.\n",
    "        \"image\": \"sagemaker-tensorflow-training-toolkit-local\" if ARCHITECTURE[0] == \"arm64\" else None,\n",
    "        \"framework_version\": None if ARCHITECTURE[0] == \"arm64\" else \"1.7-1\",\n",
    "        \"py_version\": None if ARCHITECTURE[0] == \"arm64\" else \"py39\",\n",
    "    }\n",
    "else:\n",
    "    config = {\n",
    "        \"session\": pipeline_session,\n",
    "        \"instance_type\": \"ml.c5.xlarge\",\n",
    "        \"role\": execution_role,\n",
    "        \"image\": None,        \n",
    "        \"framework_version\": \"1.7-1\",\n",
    "        \"py_version\": \"py39\",\n",
    "    }\n",
    "\n",
    "# By default, The SageMaker SDK logs events related to the default\n",
    "# configuration using the INFO level. To prevent these from spoiling\n",
    "# the output of this notebook cells, we can change the logging\n",
    "# level to ERROR instead.\n",
    "logging.getLogger(\"sagemaker.config\").setLevel(logging.ERROR)"
   ],
   "metadata": {
    "collapsed": false,
    "ExecuteTime": {
     "end_time": "2024-03-21T17:02:19.110269700Z",
     "start_time": "2024-03-21T17:02:17.587846600Z"
    }
   },
   "id": "ee6bc054dfdcbab",
   "execution_count": 4
  },
  {
   "cell_type": "code",
   "outputs": [],
   "source": [
    "# import boto3\n",
    "# \n",
    "# role = os.environ[\"ROLE\"]\n",
    "# \n",
    "# sagemaker_session = sagemaker.session.Session()\n",
    "# sagemaker_client = boto3.client(\"sagemaker\")\n",
    "# iam_client = boto3.client(\"iam\")\n",
    "# region = boto3.Session().region_name"
   ],
   "metadata": {
    "collapsed": false,
    "ExecuteTime": {
     "end_time": "2024-03-21T17:02:19.177220Z",
     "start_time": "2024-03-21T17:02:19.109269500Z"
    }
   },
   "id": "fc3c33517f84f15f",
   "execution_count": 5
  },
  {
   "cell_type": "code",
   "outputs": [],
   "source": [
    "from sagemaker.s3 import S3Uploader\n",
    "\n",
    "df_local_path=str(os.environ['DATA_FILEPATH_X']) \n",
    "y_local_path=str(os.environ['DATA_FILEPATH_Y'])\n",
    "\n",
    "# S3Uploader.upload(local_path=df_local_path, desired_s3_uri=f\"{S3_LOCATION}/data\", sagemaker_session=sagemaker_session)\n",
    "# S3Uploader.upload(local_path=y_local_path, desired_s3_uri=f\"{S3_LOCATION}/data\", sagemaker_session=sagemaker_session)"
   ],
   "metadata": {
    "collapsed": false,
    "ExecuteTime": {
     "end_time": "2024-03-21T17:02:19.246869600Z",
     "start_time": "2024-03-21T17:02:19.177220Z"
    }
   },
   "id": "54a0a7017c5afb2f",
   "execution_count": 6
  },
  {
   "cell_type": "code",
   "outputs": [],
   "source": [
    "from sagemaker.workflow.steps import CacheConfig\n",
    "\n",
    "cache_config = CacheConfig(enable_caching=True, expire_after=\"15d\")"
   ],
   "metadata": {
    "collapsed": false,
    "ExecuteTime": {
     "end_time": "2024-03-21T17:02:19.318225400Z",
     "start_time": "2024-03-21T17:02:19.247869700Z"
    }
   },
   "id": "36f2b2ff5af7f7bf",
   "execution_count": 7
  },
  {
   "cell_type": "code",
   "outputs": [],
   "source": [
    "from sagemaker.sklearn.processing import SKLearnProcessor\n",
    "from sagemaker.workflow.steps import ProcessingStep\n",
    "from sagemaker.processing import ProcessingInput, ProcessingOutput\n",
    "from sagemaker.workflow.parameters import ParameterString\n",
    "\n",
    "dataset_location = ParameterString(\n",
    "    name=\"dataset_location\",\n",
    "    default_value=f\"{S3_LOCATION}/data\",\n",
    ")\n",
    "\n",
    "processor = SKLearnProcessor(\n",
    "    base_job_name=\"split-and-transform-data\",\n",
    "    framework_version=\"1.2-1\",\n",
    "    instance_type=config[\"instance_type\"],\n",
    "    instance_count=2,\n",
    "    role=config[\"role\"],\n",
    "    sagemaker_session=config[\"session\"],\n",
    ")\n",
    "\n",
    "split_and_transform_data_step = ProcessingStep(\n",
    "    name=\"split-and-transform-data\",\n",
    "    step_args=processor.run(\n",
    "        code=f\"{CODE_FOLDER}/preprocessor.py\",\n",
    "        inputs=[\n",
    "            ProcessingInput(source=dataset_location, destination=\"/opt/ml/processing/input\"),  \n",
    "        ],\n",
    "        outputs=[\n",
    "            ProcessingOutput(output_name=\"train\", source=\"/opt/ml/processing/train\"),\n",
    "            ProcessingOutput(output_name=\"validation\", source=\"/opt/ml/processing/validation\"),\n",
    "            ProcessingOutput(output_name=\"test\", source=\"/opt/ml/processing/test\"),\n",
    "            ProcessingOutput(output_name=\"model\", source=\"/opt/ml/processing/model\"),\n",
    "            \n",
    "            # The baseline output points to the test set before transforming the data. This set\n",
    "            # will be helpful to generate a quality baseline for the model performance.\n",
    "            ProcessingOutput(output_name=\"baseline\", source=\"/opt/ml/processing/baseline\"),\n",
    "        ]\n",
    "    ),\n",
    "    cache_config=cache_config\n",
    ")"
   ],
   "metadata": {
    "collapsed": false,
    "ExecuteTime": {
     "end_time": "2024-03-21T17:02:19.402291Z",
     "start_time": "2024-03-21T17:02:19.318225400Z"
    }
   },
   "id": "9c975fc0201b8f4d",
   "execution_count": 8
  },
  {
   "cell_type": "code",
   "outputs": [
    {
     "data": {
      "text/plain": "{'PipelineArn': 'session1-pipeline'}"
     },
     "execution_count": 9,
     "metadata": {},
     "output_type": "execute_result"
    }
   ],
   "source": [
    "from sagemaker.workflow.pipeline import Pipeline\n",
    "from sagemaker.workflow.pipeline_definition_config import PipelineDefinitionConfig\n",
    "\n",
    "pipeline_definition_config = PipelineDefinitionConfig(use_custom_job_prefix=True)\n",
    "\n",
    "session1_pipeline = Pipeline(\n",
    "    name=\"session1-pipeline\",\n",
    "    parameters=[dataset_location],\n",
    "    steps=[\n",
    "        split_and_transform_data_step,\n",
    "    ],\n",
    "    pipeline_definition_config=pipeline_definition_config,\n",
    "    sagemaker_session=config['session'],\n",
    ")\n",
    "\n",
    "session1_pipeline.upsert(role_arn=config[\"role\"])"
   ],
   "metadata": {
    "collapsed": false,
    "ExecuteTime": {
     "end_time": "2024-03-21T17:02:19.521255100Z",
     "start_time": "2024-03-21T17:02:19.402291Z"
    }
   },
   "id": "98e68ac3054aacb8",
   "execution_count": 9
  },
  {
   "cell_type": "code",
   "outputs": [],
   "source": [
    "# session1_pipeline.start()"
   ],
   "metadata": {
    "collapsed": false,
    "ExecuteTime": {
     "end_time": "2024-03-21T17:02:19.588643400Z",
     "start_time": "2024-03-21T17:02:19.517255400Z"
    }
   },
   "id": "82bc6c8ce7033286",
   "execution_count": 10
  },
  {
   "cell_type": "code",
   "outputs": [
    {
     "name": "stderr",
     "output_type": "stream",
     "text": [
      "INFO:botocore.credentials:Found credentials in shared credentials file: ~/.aws/credentials\n",
      "WARNING:sagemaker.local.local_session:Windows Support for Local Mode is Experimental\n",
      "INFO:botocore.credentials:Found credentials in shared credentials file: ~/.aws/credentials\n",
      "INFO:sagemaker.image_uris:Ignoring unnecessary Python version: py3.\n",
      "INFO:sagemaker.image_uris:Ignoring unnecessary instance type: local.\n"
     ]
    }
   ],
   "source": [
    "from sagemaker.xgboost import XGBoost\n",
    "\n",
    "instance_type = \"ml.c5.xlarge\"\n",
    "\n",
    "estimator = XGBoost(\n",
    "    base_job_name=\"training\",\n",
    "    entry_point=f\"{CODE_FOLDER}/train.py\",\n",
    "    role=config['role'],\n",
    "    instance_count=1,\n",
    "    instance_type=config['instance_type'],\n",
    "    framework_version=config['framework_version'],\n",
    "    image_uri=config[\"image\"],\n",
    "    disable_profiler=True,\n",
    ")"
   ],
   "metadata": {
    "collapsed": false,
    "ExecuteTime": {
     "end_time": "2024-03-21T17:02:19.955973300Z",
     "start_time": "2024-03-21T17:02:19.589643700Z"
    }
   },
   "id": "830a03c119740bea",
   "execution_count": 11
  },
  {
   "cell_type": "code",
   "outputs": [],
   "source": [
    "from sagemaker.workflow.steps import TrainingStep\n",
    "from sagemaker.inputs import TrainingInput\n",
    "\n",
    "\n",
    "# train_model_step = TrainingStep(\n",
    "#     name=\"train-model\",\n",
    "#     step_args=estimator.fit(\n",
    "#         inputs={\n",
    "#             \"train\": TrainingInput(\n",
    "#                 s3_data=split_and_transform_data_step.properties.ProcessingOutputConfig.Outputs[\n",
    "#                     \"train\"\n",
    "#                 ].S3Output.S3Uri,\n",
    "#                 content_type=\"text/csv\"\n",
    "#             ),\n",
    "#             \"validation\": TrainingInput(\n",
    "#                 s3_data=split_and_transform_data_step.properties.ProcessingOutputConfig.Outputs[\n",
    "#                     \"validation\"\n",
    "#                 ].S3Output.S3Uri,\n",
    "#                 content_type=\"text/csv\"\n",
    "#             )\n",
    "#         }\n",
    "#     ),\n",
    "#     cache_config=cache_config\n",
    "# )\n",
    "\n",
    "train_model_step = TrainingStep(\n",
    "    name=\"train-model\",\n",
    "    estimator=estimator,\n",
    "    inputs={\n",
    "        \"train\": TrainingInput(\n",
    "            s3_data=split_and_transform_data_step.properties.ProcessingOutputConfig.Outputs[\"train\"].S3Output.S3Uri,\n",
    "            content_type=\"text/csv\"\n",
    "        ),\n",
    "        \"validation\": TrainingInput(\n",
    "            s3_data=split_and_transform_data_step.properties.ProcessingOutputConfig.Outputs[\"validation\"].S3Output.S3Uri,\n",
    "            content_type=\"text/csv\"\n",
    "        )\n",
    "    },\n",
    "    cache_config=cache_config\n",
    ")"
   ],
   "metadata": {
    "collapsed": false,
    "ExecuteTime": {
     "end_time": "2024-03-21T17:02:20.025974900Z",
     "start_time": "2024-03-21T17:02:19.953973200Z"
    }
   },
   "id": "5dd9879e78a475aa",
   "execution_count": 12
  },
  {
   "cell_type": "code",
   "outputs": [],
   "source": [
    "USE_TUNING_STEP = False and not LOCAL_MODE"
   ],
   "metadata": {
    "collapsed": false,
    "ExecuteTime": {
     "end_time": "2024-03-21T17:02:20.098949300Z",
     "start_time": "2024-03-21T17:02:20.025974900Z"
    }
   },
   "id": "51bc8ae0e97f4cfd",
   "execution_count": 13
  },
  {
   "cell_type": "code",
   "outputs": [],
   "source": [
    "from sagemaker.tuner import HyperparameterTuner\n",
    "from sagemaker.parameter import IntegerParameter, ContinuousParameter\n",
    "\n",
    "hyperparameter_ranges = {\n",
    "    'max_depth': IntegerParameter(min_value=4, max_value=12, scaling_type=\"Auto\"),\n",
    "    'n_estimators': IntegerParameter(min_value=100, max_value=800, scaling_type=\"Auto\"),\n",
    "    'subsample': ContinuousParameter(min_value=0.5, max_value=1.0, scaling_type=\"Auto\"),\n",
    "    'colsample_bytree': ContinuousParameter(min_value=0.7, max_value=1.0, scaling_type=\"Logarithmic\"),\n",
    "    'colsample_bylevel': ContinuousParameter(min_value=0.8, max_value=1.0, scaling_type=\"Logarithmic\"),\n",
    "    'lambda': ContinuousParameter(min_value=0.1, max_value=5.0, scaling_type=\"Logarithmic\"),\n",
    "    'alpha': ContinuousParameter(min_value=0.1, max_value=20, scaling_type=\"Logarithmic\"),\n",
    "    'eta': ContinuousParameter(min_value=0.015, max_value=0.3, scaling_type=\"Logarithmic\"),\n",
    "    'min_child_weight': ContinuousParameter(min_value=10, max_value=35, scaling_type=\"Auto\"),\n",
    "    'colsample_bynode': ContinuousParameter(min_value=0.9, max_value=1, scaling_type=\"Logarithmic\"),\n",
    "    'num_round': IntegerParameter(min_value=10, max_value=30, scaling_type=\"Auto\"),\n",
    "}\n",
    "\n",
    "objective_type = \"Maximize\"\n",
    "metric_definitions = [{'Name': 'custom:f1', 'Regex': 'F1 score: ([0-9\\\\.]+)'}]\n",
    "metric_name = \"custom:f1\"\n",
    "strategy = \"Bayesian\"\n",
    "\n",
    "tuner = HyperparameterTuner(\n",
    "    estimator,\n",
    "    objective_metric_name=metric_name,\n",
    "    objective_type=objective_type,\n",
    "    hyperparameter_ranges=hyperparameter_ranges,\n",
    "    metric_definitions=metric_definitions,\n",
    "    max_jobs=3,\n",
    "    max_parallel_jobs=3,\n",
    ")"
   ],
   "metadata": {
    "collapsed": false,
    "ExecuteTime": {
     "end_time": "2024-03-21T17:02:20.170220100Z",
     "start_time": "2024-03-21T17:02:20.099950700Z"
    }
   },
   "id": "a31e770437cfcbb6",
   "execution_count": 14
  },
  {
   "cell_type": "code",
   "outputs": [],
   "source": [
    "from sagemaker.workflow.steps import TuningStep\n",
    "\n",
    "tune_model_step = TuningStep(\n",
    "    name=\"tune-model\",\n",
    "    tuner=tuner,\n",
    "    inputs={\n",
    "        \"train\": TrainingInput(\n",
    "            s3_data=split_and_transform_data_step.properties.ProcessingOutputConfig.Outputs[\n",
    "                \"train\"\n",
    "            ].S3Output.S3Uri,\n",
    "            content_type=\"text/csv\"\n",
    "        ),\n",
    "        \"validation\": TrainingInput(\n",
    "            s3_data=split_and_transform_data_step.properties.ProcessingOutputConfig.Outputs[\n",
    "                \"validation\"\n",
    "            ].S3Output.S3Uri,\n",
    "            content_type=\"text/csv\"\n",
    "        )\n",
    "    },\n",
    "    cache_config=cache_config\n",
    ")"
   ],
   "metadata": {
    "collapsed": false,
    "ExecuteTime": {
     "end_time": "2024-03-21T17:02:20.242393400Z",
     "start_time": "2024-03-21T17:02:20.170220100Z"
    }
   },
   "id": "473cacc2979587a9",
   "execution_count": 15
  },
  {
   "cell_type": "code",
   "outputs": [
    {
     "data": {
      "text/plain": "{'PipelineArn': 'session2-pipeline'}"
     },
     "execution_count": 16,
     "metadata": {},
     "output_type": "execute_result"
    }
   ],
   "source": [
    "session2_pipeline = Pipeline(\n",
    "    name=\"session2-pipeline\",\n",
    "    parameters=[dataset_location],\n",
    "    steps=[\n",
    "        split_and_transform_data_step,\n",
    "        tune_model_step if USE_TUNING_STEP else train_model_step,\n",
    "    ],\n",
    "    pipeline_definition_config=pipeline_definition_config,\n",
    "    sagemaker_session=config[\"session\"],\n",
    ")\n",
    "\n",
    "session2_pipeline.upsert(role_arn=config['role'])"
   ],
   "metadata": {
    "collapsed": false,
    "ExecuteTime": {
     "end_time": "2024-03-21T17:02:20.326198500Z",
     "start_time": "2024-03-21T17:02:20.243392800Z"
    }
   },
   "id": "fdd3e81e0dca46aa",
   "execution_count": 16
  },
  {
   "cell_type": "code",
   "outputs": [
    {
     "name": "stderr",
     "output_type": "stream",
     "text": [
      "INFO:sagemaker.local.entities:Starting execution for pipeline session2-pipeline. Execution ID is bcbb4212-df80-48ac-8329-695d857ef828\n",
      "INFO:sagemaker.local.entities:Starting pipeline step: 'split-and-transform-data'\n",
      "INFO:sagemaker.local.image:'Docker Compose' found using Docker CLI.\n",
      "INFO:sagemaker.local.local_session:Starting processing job\n",
      "INFO:sagemaker.local.image:Using the long-lived AWS credentials found in session\n",
      "INFO:sagemaker.local.image:docker compose file: \n",
      "networks:\n",
      "  sagemaker-local:\n",
      "    name: sagemaker-local\n",
      "services:\n",
      "  algo-1-lo28j:\n",
      "    container_name: p3ptl309nh-algo-1-lo28j\n",
      "    entrypoint: &id001\n",
      "    - python3\n",
      "    - /opt/ml/processing/input/code/preprocessor.py\n",
      "    environment:\n",
      "    - '[Masked]'\n",
      "    - '[Masked]'\n",
      "    image: 662702820516.dkr.ecr.eu-north-1.amazonaws.com/sagemaker-scikit-learn:1.2-1-cpu-py3\n",
      "    networks:\n",
      "      sagemaker-local:\n",
      "        aliases:\n",
      "        - algo-1-lo28j\n",
      "    stdin_open: true\n",
      "    tty: true\n",
      "    volumes:\n",
      "    - C:\\Users\\kamil\\AppData\\Local\\Temp\\tmp4vsut1vr\\algo-1-lo28j\\config:/opt/ml/config\n",
      "    - C:\\Users\\kamil\\AppData\\Local\\Temp\\tmp4vsut1vr\\algo-1-lo28j\\output:/opt/ml/output\n",
      "    - C:\\Users\\kamil\\AppData\\Local\\Temp\\tmpsh_29f_p:/opt/ml/processing/input\n",
      "    - C:\\Users\\kamil\\AppData\\Local\\Temp\\tmpp85oc6fj:/opt/ml/processing/input/code\n",
      "    - C:\\Users\\kamil\\AppData\\Local\\Temp\\tmpp5hh46u8\\output\\train:/opt/ml/processing/train\n",
      "    - C:\\Users\\kamil\\AppData\\Local\\Temp\\tmpp5hh46u8\\output\\validation:/opt/ml/processing/validation\n",
      "    - C:\\Users\\kamil\\AppData\\Local\\Temp\\tmpp5hh46u8\\output\\test:/opt/ml/processing/test\n",
      "    - C:\\Users\\kamil\\AppData\\Local\\Temp\\tmpp5hh46u8\\output\\model:/opt/ml/processing/model\n",
      "    - C:\\Users\\kamil\\AppData\\Local\\Temp\\tmpp5hh46u8\\output\\baseline:/opt/ml/processing/baseline\n",
      "    - C:\\Users\\kamil\\AppData\\Local\\Temp\\tmp4vsut1vr\\shared:/opt/ml/shared\n",
      "  algo-2-lo28j:\n",
      "    container_name: s7rs71go4w-algo-2-lo28j\n",
      "    entrypoint: *id001\n",
      "    environment:\n",
      "    - '[Masked]'\n",
      "    - '[Masked]'\n",
      "    image: 662702820516.dkr.ecr.eu-north-1.amazonaws.com/sagemaker-scikit-learn:1.2-1-cpu-py3\n",
      "    networks:\n",
      "      sagemaker-local:\n",
      "        aliases:\n",
      "        - algo-2-lo28j\n",
      "    stdin_open: true\n",
      "    tty: true\n",
      "    volumes:\n",
      "    - C:\\Users\\kamil\\AppData\\Local\\Temp\\tmp4vsut1vr\\algo-2-lo28j\\config:/opt/ml/config\n",
      "    - C:\\Users\\kamil\\AppData\\Local\\Temp\\tmp4vsut1vr\\algo-2-lo28j\\output:/opt/ml/output\n",
      "    - C:\\Users\\kamil\\AppData\\Local\\Temp\\tmpsh_29f_p:/opt/ml/processing/input\n",
      "    - C:\\Users\\kamil\\AppData\\Local\\Temp\\tmpp85oc6fj:/opt/ml/processing/input/code\n",
      "    - C:\\Users\\kamil\\AppData\\Local\\Temp\\tmpp5hh46u8\\output\\train:/opt/ml/processing/train\n",
      "    - C:\\Users\\kamil\\AppData\\Local\\Temp\\tmpp5hh46u8\\output\\validation:/opt/ml/processing/validation\n",
      "    - C:\\Users\\kamil\\AppData\\Local\\Temp\\tmpp5hh46u8\\output\\test:/opt/ml/processing/test\n",
      "    - C:\\Users\\kamil\\AppData\\Local\\Temp\\tmpp5hh46u8\\output\\model:/opt/ml/processing/model\n",
      "    - C:\\Users\\kamil\\AppData\\Local\\Temp\\tmpp5hh46u8\\output\\baseline:/opt/ml/processing/baseline\n",
      "    - C:\\Users\\kamil\\AppData\\Local\\Temp\\tmp4vsut1vr\\shared:/opt/ml/shared\n",
      "version: '2.3'\n",
      "\n",
      "INFO:sagemaker.local.image:docker command: docker compose -f C:\\Users\\kamil\\AppData\\Local\\Temp\\tmp4vsut1vr\\docker-compose.yaml up --build --abort-on-container-exit\n"
     ]
    },
    {
     "name": "stdout",
     "output_type": "stream",
     "text": [
      "time=\"2024-03-21T18:02:25+01:00\" level=warning msg=\"a network with name sagemaker-local exists but was not created for project \\\"tmp4vsut1vr\\\".\\nSet `external: true` to use an existing network\"\n",
      " Container p3ptl309nh-algo-1-lo28j  Creating\n",
      " Container s7rs71go4w-algo-2-lo28j  Creating\n",
      " Container p3ptl309nh-algo-1-lo28j  Created\n",
      " Container s7rs71go4w-algo-2-lo28j  Created\n",
      "Attaching to p3ptl309nh-algo-1-lo28j, s7rs71go4w-algo-2-lo28j\n",
      "p3ptl309nh-algo-1-lo28j exited with code 0\n",
      "Aborting on container exit...\n",
      " Container s7rs71go4w-algo-2-lo28j  Stopping\n",
      " Container p3ptl309nh-algo-1-lo28j  Stopping\n",
      " Container p3ptl309nh-algo-1-lo28j  Stopped\n",
      " Container s7rs71go4w-algo-2-lo28j  Stopped\n"
     ]
    },
    {
     "name": "stderr",
     "output_type": "stream",
     "text": [
      "INFO:sagemaker.local.image:===== Job Complete =====\n",
      "INFO:sagemaker.local.entities:Pipeline step 'split-and-transform-data' SUCCEEDED.\n",
      "INFO:sagemaker.local.entities:Starting pipeline step: 'train-model'\n",
      "INFO:sagemaker.local.image:'Docker Compose' found using Docker CLI.\n",
      "INFO:sagemaker.local.local_session:Starting training job\n",
      "INFO:sagemaker.local.image:Using the long-lived AWS credentials found in session\n",
      "INFO:sagemaker.local.image:docker compose file: \n",
      "networks:\n",
      "  sagemaker-local:\n",
      "    name: sagemaker-local\n",
      "services:\n",
      "  algo-1-rzde0:\n",
      "    command: train\n",
      "    container_name: gh6ef30r8p-algo-1-rzde0\n",
      "    environment:\n",
      "    - '[Masked]'\n",
      "    - '[Masked]'\n",
      "    - '[Masked]'\n",
      "    - '[Masked]'\n",
      "    - '[Masked]'\n",
      "    image: 662702820516.dkr.ecr.eu-north-1.amazonaws.com/sagemaker-xgboost:1.7-1\n",
      "    networks:\n",
      "      sagemaker-local:\n",
      "        aliases:\n",
      "        - algo-1-rzde0\n",
      "    stdin_open: true\n",
      "    tty: true\n",
      "    volumes:\n",
      "    - C:\\Users\\kamil\\AppData\\Local\\Temp\\tmpjyhhl_2x\\algo-1-rzde0\\input:/opt/ml/input\n",
      "    - C:\\Users\\kamil\\AppData\\Local\\Temp\\tmpjyhhl_2x\\algo-1-rzde0\\output:/opt/ml/output\n",
      "    - C:\\Users\\kamil\\AppData\\Local\\Temp\\tmpjyhhl_2x\\algo-1-rzde0\\output/data:/opt/ml/output/data\n",
      "    - C:\\Users\\kamil\\AppData\\Local\\Temp\\tmpjyhhl_2x\\model:/opt/ml/model\n",
      "    - C:\\Users\\kamil\\AppData\\Local\\Temp\\tmp3mwfow9i:/opt/ml/input/data/train\n",
      "    - C:\\Users\\kamil\\AppData\\Local\\Temp\\tmpqxwi3ed0:/opt/ml/input/data/validation\n",
      "version: '2.3'\n",
      "\n",
      "INFO:sagemaker.local.image:docker command: docker compose -f C:\\Users\\kamil\\AppData\\Local\\Temp\\tmpjyhhl_2x\\docker-compose.yaml up --build --abort-on-container-exit\n"
     ]
    },
    {
     "name": "stdout",
     "output_type": "stream",
     "text": [
      "time=\"2024-03-21T18:02:30+01:00\" level=warning msg=\"a network with name sagemaker-local exists but was not created for project \\\"tmpjyhhl_2x\\\".\\nSet `external: true` to use an existing network\"\n",
      " Container gh6ef30r8p-algo-1-rzde0  Creating\n",
      " Container gh6ef30r8p-algo-1-rzde0  Created\n",
      "Attaching to gh6ef30r8p-algo-1-rzde0\n",
      "gh6ef30r8p-algo-1-rzde0  | [2024-03-21 17:02:31.545 807596178d6f:1 INFO utils.py:28] RULE_JOB_STOP_SIGNAL_FILENAME: None\r\n",
      "gh6ef30r8p-algo-1-rzde0  | [2024-03-21 17:02:31.558 807596178d6f:1 INFO profiler_config_parser.py:111] Unable to find config at /opt/ml/input/config/profilerconfig.json. Profiler is disabled.\r\n",
      "gh6ef30r8p-algo-1-rzde0  | [2024-03-21:17:02:31:INFO] Imported framework sagemaker_xgboost_container.training\r\n",
      "gh6ef30r8p-algo-1-rzde0  | [2024-03-21:17:02:31:INFO] No GPUs detected (normal if no gpus installed)\r\n",
      "gh6ef30r8p-algo-1-rzde0  | [2024-03-21:17:02:31:INFO] Invoking user training script.\r\n",
      "gh6ef30r8p-algo-1-rzde0  | [2024-03-21:17:02:32:INFO] Module train does not provide a setup.py. \r\n",
      "gh6ef30r8p-algo-1-rzde0  | Generating setup.py\r\n",
      "gh6ef30r8p-algo-1-rzde0  | [2024-03-21:17:02:32:INFO] Generating setup.cfg\r\n",
      "gh6ef30r8p-algo-1-rzde0  | [2024-03-21:17:02:32:INFO] Generating MANIFEST.in\r\n",
      "gh6ef30r8p-algo-1-rzde0  | [2024-03-21:17:02:32:INFO] Installing module with the following command:\r\n",
      "gh6ef30r8p-algo-1-rzde0  | /miniconda3/bin/python3 -m pip install . \r\n",
      "gh6ef30r8p-algo-1-rzde0  | Processing /opt/ml/code\r\n",
      "gh6ef30r8p-algo-1-rzde0  |   Preparing metadata (setup.py) ... \u001B[?25ldone\r\n",
      "gh6ef30r8p-algo-1-rzde0  | \u001B[?25hBuilding wheels for collected packages: train\r\n",
      "gh6ef30r8p-algo-1-rzde0  |   Building wheel for train (setup.py) ... \u001B[?25ldone\r\n",
      "gh6ef30r8p-algo-1-rzde0  | \u001B[?25h  Created wheel for train: filename=train-1.0.0-py2.py3-none-any.whl size=4654 sha256=b5f6235dad46e6941670a3ca8c2eb3260698d4c25978c80fffb922a52aac0f4a\r\n",
      "gh6ef30r8p-algo-1-rzde0  |   Stored in directory: /home/model-server/tmp/pip-ephem-wheel-cache-c0nblc6b/wheels/f3/75/57/158162e9eab7af12b5c338c279b3a81f103b89d74eeb911c00\r\n",
      "gh6ef30r8p-algo-1-rzde0  | Successfully built train\r\n",
      "gh6ef30r8p-algo-1-rzde0  | Installing collected packages: train\r\n",
      "gh6ef30r8p-algo-1-rzde0  | Successfully installed train-1.0.0\r\n",
      "gh6ef30r8p-algo-1-rzde0  | \u001B[33mWARNING: Running pip as the 'root' user can result in broken permissions and conflicting behaviour with the system package manager. It is recommended to use a virtual environment instead: https://pip.pypa.io/warnings/venv\u001B[0m\u001B[33m\r\n",
      "gh6ef30r8p-algo-1-rzde0  | \u001B[0m\r\n",
      "gh6ef30r8p-algo-1-rzde0  | \u001B[1m[\u001B[0m\u001B[34;49mnotice\u001B[0m\u001B[1;39;49m]\u001B[0m\u001B[39;49m A new release of pip is available: \u001B[0m\u001B[31;49m23.3.2\u001B[0m\u001B[39;49m -> \u001B[0m\u001B[32;49m24.0\u001B[0m\r\n",
      "gh6ef30r8p-algo-1-rzde0  | \u001B[1m[\u001B[0m\u001B[34;49mnotice\u001B[0m\u001B[1;39;49m]\u001B[0m\u001B[39;49m To update, run: \u001B[0m\u001B[32;49mpip install --upgrade pip\u001B[0m\r\n",
      "gh6ef30r8p-algo-1-rzde0  | [2024-03-21:17:02:33:INFO] No GPUs detected (normal if no gpus installed)\r\n",
      "gh6ef30r8p-algo-1-rzde0  | [2024-03-21:17:02:33:INFO] Invoking user script\r\n",
      "gh6ef30r8p-algo-1-rzde0  | \r\n",
      "gh6ef30r8p-algo-1-rzde0  | Training Env:\r\n",
      "gh6ef30r8p-algo-1-rzde0  | \r\n",
      "gh6ef30r8p-algo-1-rzde0  | {\r\n",
      "gh6ef30r8p-algo-1-rzde0  |     \"additional_framework_parameters\": {},\r\n",
      "gh6ef30r8p-algo-1-rzde0  |     \"channel_input_dirs\": {\r\n",
      "gh6ef30r8p-algo-1-rzde0  |         \"train\": \"/opt/ml/input/data/train\",\r\n",
      "gh6ef30r8p-algo-1-rzde0  |         \"validation\": \"/opt/ml/input/data/validation\"\r\n",
      "gh6ef30r8p-algo-1-rzde0  |     },\r\n",
      "gh6ef30r8p-algo-1-rzde0  |     \"current_host\": \"algo-1-rzde0\",\r\n",
      "gh6ef30r8p-algo-1-rzde0  |     \"framework_module\": \"sagemaker_xgboost_container.training:main\",\r\n",
      "gh6ef30r8p-algo-1-rzde0  |     \"hosts\": [\r\n",
      "gh6ef30r8p-algo-1-rzde0  |         \"algo-1-rzde0\"\r\n",
      "gh6ef30r8p-algo-1-rzde0  |     ],\r\n",
      "gh6ef30r8p-algo-1-rzde0  |     \"hyperparameters\": {},\r\n",
      "gh6ef30r8p-algo-1-rzde0  |     \"input_config_dir\": \"/opt/ml/input/config\",\r\n",
      "gh6ef30r8p-algo-1-rzde0  |     \"input_data_config\": {\r\n",
      "gh6ef30r8p-algo-1-rzde0  |         \"train\": {\r\n",
      "gh6ef30r8p-algo-1-rzde0  |             \"TrainingInputMode\": \"File\",\r\n",
      "gh6ef30r8p-algo-1-rzde0  |             \"ContentType\": \"text/csv\"\r\n",
      "gh6ef30r8p-algo-1-rzde0  |         },\r\n",
      "gh6ef30r8p-algo-1-rzde0  |         \"validation\": {\r\n",
      "gh6ef30r8p-algo-1-rzde0  |             \"TrainingInputMode\": \"File\",\r\n",
      "gh6ef30r8p-algo-1-rzde0  |             \"ContentType\": \"text/csv\"\r\n",
      "gh6ef30r8p-algo-1-rzde0  |         }\r\n",
      "gh6ef30r8p-algo-1-rzde0  |     },\r\n",
      "gh6ef30r8p-algo-1-rzde0  |     \"input_dir\": \"/opt/ml/input\",\r\n",
      "gh6ef30r8p-algo-1-rzde0  |     \"is_master\": true,\r\n",
      "gh6ef30r8p-algo-1-rzde0  |     \"job_name\": \"train-model-9e6213a5d12c874248cfe4a776374a45\",\r\n",
      "gh6ef30r8p-algo-1-rzde0  |     \"log_level\": 20,\r\n",
      "gh6ef30r8p-algo-1-rzde0  |     \"master_hostname\": \"algo-1-rzde0\",\r\n",
      "gh6ef30r8p-algo-1-rzde0  |     \"model_dir\": \"/opt/ml/model\",\r\n",
      "gh6ef30r8p-algo-1-rzde0  |     \"module_dir\": \"s3://sagemaker-eu-north-1-284415450706/train-model-9e6213a5d12c874248cfe4a776374a45/source/sourcedir.tar.gz\",\r\n",
      "gh6ef30r8p-algo-1-rzde0  |     \"module_name\": \"train\",\r\n",
      "gh6ef30r8p-algo-1-rzde0  |     \"network_interface_name\": \"eth0\",\r\n",
      "gh6ef30r8p-algo-1-rzde0  |     \"num_cpus\": 24,\r\n",
      "gh6ef30r8p-algo-1-rzde0  |     \"num_gpus\": 0,\r\n",
      "gh6ef30r8p-algo-1-rzde0  |     \"output_data_dir\": \"/opt/ml/output/data\",\r\n",
      "gh6ef30r8p-algo-1-rzde0  |     \"output_dir\": \"/opt/ml/output\",\r\n",
      "gh6ef30r8p-algo-1-rzde0  |     \"output_intermediate_dir\": \"/opt/ml/output/intermediate\",\r\n",
      "gh6ef30r8p-algo-1-rzde0  |     \"resource_config\": {\r\n",
      "gh6ef30r8p-algo-1-rzde0  |         \"current_host\": \"algo-1-rzde0\",\r\n",
      "gh6ef30r8p-algo-1-rzde0  |         \"hosts\": [\r\n",
      "gh6ef30r8p-algo-1-rzde0  |             \"algo-1-rzde0\"\r\n",
      "gh6ef30r8p-algo-1-rzde0  |         ]\r\n",
      "gh6ef30r8p-algo-1-rzde0  |     },\r\n",
      "gh6ef30r8p-algo-1-rzde0  |     \"user_entry_point\": \"train.py\"\r\n",
      "gh6ef30r8p-algo-1-rzde0  | }\r\n",
      "gh6ef30r8p-algo-1-rzde0  | \r\n",
      "gh6ef30r8p-algo-1-rzde0  | Environment variables:\r\n",
      "gh6ef30r8p-algo-1-rzde0  | \r\n",
      "gh6ef30r8p-algo-1-rzde0  | SM_HOSTS=[\"algo-1-rzde0\"]\r\n",
      "gh6ef30r8p-algo-1-rzde0  | SM_NETWORK_INTERFACE_NAME=eth0\r\n",
      "gh6ef30r8p-algo-1-rzde0  | SM_HPS={}\r\n",
      "gh6ef30r8p-algo-1-rzde0  | SM_USER_ENTRY_POINT=train.py\r\n",
      "gh6ef30r8p-algo-1-rzde0  | SM_FRAMEWORK_PARAMS={}\r\n",
      "gh6ef30r8p-algo-1-rzde0  | SM_RESOURCE_CONFIG={\"current_host\":\"algo-1-rzde0\",\"hosts\":[\"algo-1-rzde0\"]}\r\n",
      "gh6ef30r8p-algo-1-rzde0  | SM_INPUT_DATA_CONFIG={\"train\":{\"ContentType\":\"text/csv\",\"TrainingInputMode\":\"File\"},\"validation\":{\"ContentType\":\"text/csv\",\"TrainingInputMode\":\"File\"}}\r\n",
      "gh6ef30r8p-algo-1-rzde0  | SM_OUTPUT_DATA_DIR=/opt/ml/output/data\r\n",
      "gh6ef30r8p-algo-1-rzde0  | SM_CHANNELS=[\"train\",\"validation\"]\r\n",
      "gh6ef30r8p-algo-1-rzde0  | SM_CURRENT_HOST=algo-1-rzde0\r\n",
      "gh6ef30r8p-algo-1-rzde0  | SM_MODULE_NAME=train\r\n",
      "gh6ef30r8p-algo-1-rzde0  | SM_LOG_LEVEL=20\r\n",
      "gh6ef30r8p-algo-1-rzde0  | SM_FRAMEWORK_MODULE=sagemaker_xgboost_container.training:main\r\n",
      "gh6ef30r8p-algo-1-rzde0  | SM_INPUT_DIR=/opt/ml/input\r\n",
      "gh6ef30r8p-algo-1-rzde0  | SM_INPUT_CONFIG_DIR=/opt/ml/input/config\r\n",
      "gh6ef30r8p-algo-1-rzde0  | SM_OUTPUT_DIR=/opt/ml/output\r\n",
      "gh6ef30r8p-algo-1-rzde0  | SM_NUM_CPUS=24\r\n",
      "gh6ef30r8p-algo-1-rzde0  | SM_NUM_GPUS=0\r\n",
      "gh6ef30r8p-algo-1-rzde0  | SM_MODEL_DIR=/opt/ml/model\r\n",
      "gh6ef30r8p-algo-1-rzde0  | SM_MODULE_DIR=s3://sagemaker-eu-north-1-284415450706/train-model-9e6213a5d12c874248cfe4a776374a45/source/sourcedir.tar.gz\r\n",
      "gh6ef30r8p-algo-1-rzde0  | SM_TRAINING_ENV={\"additional_framework_parameters\":{},\"channel_input_dirs\":{\"train\":\"/opt/ml/input/data/train\",\"validation\":\"/opt/ml/input/data/validation\"},\"current_host\":\"algo-1-rzde0\",\"framework_module\":\"sagemaker_xgboost_container.training:main\",\"hosts\":[\"algo-1-rzde0\"],\"hyperparameters\":{},\"input_config_dir\":\"/opt/ml/input/config\",\"input_data_config\":{\"train\":{\"ContentType\":\"text/csv\",\"TrainingInputMode\":\"File\"},\"validation\":{\"ContentType\":\"text/csv\",\"TrainingInputMode\":\"File\"}},\"input_dir\":\"/opt/ml/input\",\"is_master\":true,\"job_name\":\"train-model-9e6213a5d12c874248cfe4a776374a45\",\"log_level\":20,\"master_hostname\":\"algo-1-rzde0\",\"model_dir\":\"/opt/ml/model\",\"module_dir\":\"s3://sagemaker-eu-north-1-284415450706/train-model-9e6213a5d12c874248cfe4a776374a45/source/sourcedir.tar.gz\",\"module_name\":\"train\",\"network_interface_name\":\"eth0\",\"num_cpus\":24,\"num_gpus\":0,\"output_data_dir\":\"/opt/ml/output/data\",\"output_dir\":\"/opt/ml/output\",\"output_intermediate_dir\":\"/opt/ml/output/intermediate\",\"resource_config\":{\"current_host\":\"algo-1-rzde0\",\"hosts\":[\"algo-1-rzde0\"]},\"user_entry_point\":\"train.py\"}\r\n",
      "gh6ef30r8p-algo-1-rzde0  | SM_USER_ARGS=[]\r\n",
      "gh6ef30r8p-algo-1-rzde0  | SM_OUTPUT_INTERMEDIATE_DIR=/opt/ml/output/intermediate\r\n",
      "gh6ef30r8p-algo-1-rzde0  | SM_CHANNEL_TRAIN=/opt/ml/input/data/train\r\n",
      "gh6ef30r8p-algo-1-rzde0  | SM_CHANNEL_VALIDATION=/opt/ml/input/data/validation\r\n",
      "gh6ef30r8p-algo-1-rzde0  | PYTHONPATH=/miniconda3/bin:/:/miniconda3/lib/python/site-packages/xgboost/dmlc-core/tracker:/miniconda3/lib/python38.zip:/miniconda3/lib/python3.8:/miniconda3/lib/python3.8/lib-dynload:/miniconda3/lib/python3.8/site-packages\r\n",
      "gh6ef30r8p-algo-1-rzde0  | \r\n",
      "gh6ef30r8p-algo-1-rzde0  | Invoking script with the following command:\r\n",
      "gh6ef30r8p-algo-1-rzde0  | \r\n",
      "gh6ef30r8p-algo-1-rzde0  | /miniconda3/bin/python3 -m train\r\n",
      "gh6ef30r8p-algo-1-rzde0  | \r\n",
      "gh6ef30r8p-algo-1-rzde0  | \r\n",
      "gh6ef30r8p-algo-1-rzde0  | /miniconda3/lib/python3.8/site-packages/xgboost/sklearn.py:835: UserWarning: `early_stopping_rounds` in `fit` method is deprecated for better compatibility with scikit-learn, use `early_stopping_rounds` in constructor or`set_params` instead.\r\n",
      "gh6ef30r8p-algo-1-rzde0  |   warnings.warn(\r\n",
      "gh6ef30r8p-algo-1-rzde0  | F1 score: 0.66\r\n"
     ]
    },
    {
     "name": "stderr",
     "output_type": "stream",
     "text": [
      "INFO:root:creating C:\\Users\\kamil\\AppData\\Local\\Temp\\tmpjyhhl_2x\\artifacts\\output\\data\n",
      "INFO:root:creating C:\\Users\\kamil\\AppData\\Local\\Temp\\tmpjyhhl_2x\\artifacts\\model\\001\n",
      "INFO:root:copying C:\\Users\\kamil\\AppData\\Local\\Temp\\tmpjyhhl_2x\\model\\001\\saved_model.bst -> C:\\Users\\kamil\\AppData\\Local\\Temp\\tmpjyhhl_2x\\artifacts\\model\\001\n"
     ]
    },
    {
     "name": "stdout",
     "output_type": "stream",
     "text": [
      "gh6ef30r8p-algo-1-rzde0 exited with code 0\n",
      "Aborting on container exit...\n",
      " Container gh6ef30r8p-algo-1-rzde0  Stopping\n",
      " Container gh6ef30r8p-algo-1-rzde0  Stopped\n"
     ]
    },
    {
     "name": "stderr",
     "output_type": "stream",
     "text": [
      "INFO:sagemaker.local.image:===== Job Complete =====\n",
      "INFO:sagemaker.local.entities:Pipeline step 'train-model' SUCCEEDED.\n",
      "INFO:sagemaker.local.entities:Pipeline execution bcbb4212-df80-48ac-8329-695d857ef828 SUCCEEDED\n"
     ]
    },
    {
     "data": {
      "text/plain": "<sagemaker.local.entities._LocalPipelineExecution at 0x1b1fbe46cc0>"
     },
     "execution_count": 17,
     "metadata": {},
     "output_type": "execute_result"
    }
   ],
   "source": [
    "session2_pipeline.start()"
   ],
   "metadata": {
    "collapsed": false,
    "ExecuteTime": {
     "end_time": "2024-03-21T17:02:34.751820500Z",
     "start_time": "2024-03-21T17:02:20.321197200Z"
    }
   },
   "id": "d6f72b1c0223eab4",
   "execution_count": 17
  },
  {
   "cell_type": "code",
   "outputs": [
    {
     "data": {
      "text/plain": "{'PipelineArn': 'session2-pipeline',\n 'PipelineDefinition': '{\"Version\": \"2020-12-01\", \"Metadata\": {}, \"Parameters\": [{\"Name\": \"dataset_location\", \"Type\": \"String\", \"DefaultValue\": \"s3://football-data-kamil/football/data\"}], \"PipelineExperimentConfig\": {\"ExperimentName\": {\"Get\": \"Execution.PipelineName\"}, \"TrialName\": {\"Get\": \"Execution.PipelineExecutionId\"}}, \"Steps\": [{\"Name\": \"split-and-transform-data\", \"Type\": \"Processing\", \"Arguments\": {\"ProcessingJobName\": \"split-and-transform-data\", \"ProcessingResources\": {\"ClusterConfig\": {\"InstanceType\": \"local\", \"InstanceCount\": 2, \"VolumeSizeInGB\": 30}}, \"AppSpecification\": {\"ImageUri\": \"662702820516.dkr.ecr.eu-north-1.amazonaws.com/sagemaker-scikit-learn:1.2-1-cpu-py3\", \"ContainerEntrypoint\": [\"python3\", \"/opt/ml/processing/input/code/preprocessor.py\"]}, \"RoleArn\": \"arn:aws:iam::111111111111:role/service-role/AmazonSageMaker-ExecutionRole-11111111111111\", \"ProcessingInputs\": [{\"InputName\": \"input-1\", \"AppManaged\": false, \"S3Input\": {\"S3Uri\": {\"Get\": \"Parameters.dataset_location\"}, \"LocalPath\": \"/opt/ml/processing/input\", \"S3DataType\": \"S3Prefix\", \"S3InputMode\": \"File\", \"S3DataDistributionType\": \"FullyReplicated\", \"S3CompressionType\": \"None\"}}, {\"InputName\": \"code\", \"AppManaged\": false, \"S3Input\": {\"S3Uri\": \"s3://football-data-kamil/session2-pipeline/code/5a2d991f76ac37c77856d191ddfc95ad/preprocessor.py\", \"LocalPath\": \"/opt/ml/processing/input/code\", \"S3DataType\": \"S3Prefix\", \"S3InputMode\": \"File\", \"S3DataDistributionType\": \"FullyReplicated\", \"S3CompressionType\": \"None\"}}], \"ProcessingOutputConfig\": {\"Outputs\": [{\"OutputName\": \"train\", \"AppManaged\": false, \"S3Output\": {\"S3Uri\": {\"Std:Join\": {\"On\": \"/\", \"Values\": [\"s3:/\", \"football-data-kamil\", \"session2-pipeline\", {\"Get\": \"Execution.PipelineExecutionId\"}, \"split-and-transform-data\", \"output\", \"train\"]}}, \"LocalPath\": \"/opt/ml/processing/train\", \"S3UploadMode\": \"EndOfJob\"}}, {\"OutputName\": \"validation\", \"AppManaged\": false, \"S3Output\": {\"S3Uri\": {\"Std:Join\": {\"On\": \"/\", \"Values\": [\"s3:/\", \"football-data-kamil\", \"session2-pipeline\", {\"Get\": \"Execution.PipelineExecutionId\"}, \"split-and-transform-data\", \"output\", \"validation\"]}}, \"LocalPath\": \"/opt/ml/processing/validation\", \"S3UploadMode\": \"EndOfJob\"}}, {\"OutputName\": \"test\", \"AppManaged\": false, \"S3Output\": {\"S3Uri\": {\"Std:Join\": {\"On\": \"/\", \"Values\": [\"s3:/\", \"football-data-kamil\", \"session2-pipeline\", {\"Get\": \"Execution.PipelineExecutionId\"}, \"split-and-transform-data\", \"output\", \"test\"]}}, \"LocalPath\": \"/opt/ml/processing/test\", \"S3UploadMode\": \"EndOfJob\"}}, {\"OutputName\": \"model\", \"AppManaged\": false, \"S3Output\": {\"S3Uri\": {\"Std:Join\": {\"On\": \"/\", \"Values\": [\"s3:/\", \"football-data-kamil\", \"session2-pipeline\", {\"Get\": \"Execution.PipelineExecutionId\"}, \"split-and-transform-data\", \"output\", \"model\"]}}, \"LocalPath\": \"/opt/ml/processing/model\", \"S3UploadMode\": \"EndOfJob\"}}, {\"OutputName\": \"baseline\", \"AppManaged\": false, \"S3Output\": {\"S3Uri\": {\"Std:Join\": {\"On\": \"/\", \"Values\": [\"s3:/\", \"football-data-kamil\", \"session2-pipeline\", {\"Get\": \"Execution.PipelineExecutionId\"}, \"split-and-transform-data\", \"output\", \"baseline\"]}}, \"LocalPath\": \"/opt/ml/processing/baseline\", \"S3UploadMode\": \"EndOfJob\"}}]}}, \"CacheConfig\": {\"Enabled\": true, \"ExpireAfter\": \"15d\"}}, {\"Name\": \"train-model\", \"Type\": \"Training\", \"Arguments\": {\"AlgorithmSpecification\": {\"TrainingInputMode\": \"File\", \"TrainingImage\": \"662702820516.dkr.ecr.eu-north-1.amazonaws.com/sagemaker-xgboost:1.7-1\"}, \"OutputDataConfig\": {\"S3OutputPath\": \"s3://sagemaker-eu-north-1-284415450706/\"}, \"TrainingJobName\": \"train-model-9e6213a5d12c874248cfe4a776374a45\", \"StoppingCondition\": {\"MaxRuntimeInSeconds\": 86400}, \"ResourceConfig\": {\"VolumeSizeInGB\": 30, \"InstanceCount\": 1, \"InstanceType\": \"local\"}, \"RoleArn\": \"arn:aws:iam::111111111111:role/service-role/AmazonSageMaker-ExecutionRole-11111111111111\", \"InputDataConfig\": [{\"DataSource\": {\"S3DataSource\": {\"S3DataType\": \"S3Prefix\", \"S3Uri\": {\"Get\": \"Steps.split-and-transform-data.ProcessingOutputConfig.Outputs[\\'train\\'].S3Output.S3Uri\"}, \"S3DataDistributionType\": \"FullyReplicated\"}}, \"ContentType\": \"text/csv\", \"ChannelName\": \"train\"}, {\"DataSource\": {\"S3DataSource\": {\"S3DataType\": \"S3Prefix\", \"S3Uri\": {\"Get\": \"Steps.split-and-transform-data.ProcessingOutputConfig.Outputs[\\'validation\\'].S3Output.S3Uri\"}, \"S3DataDistributionType\": \"FullyReplicated\"}}, \"ContentType\": \"text/csv\", \"ChannelName\": \"validation\"}], \"HyperParameters\": {\"sagemaker_submit_directory\": \"\\\\\"s3://sagemaker-eu-north-1-284415450706/train-model-9e6213a5d12c874248cfe4a776374a45/source/sourcedir.tar.gz\\\\\"\", \"sagemaker_program\": \"\\\\\"train.py\\\\\"\", \"sagemaker_container_log_level\": \"20\", \"sagemaker_region\": \"\\\\\"eu-north-1\\\\\"\"}, \"DebugHookConfig\": {\"S3OutputPath\": \"s3://sagemaker-eu-north-1-284415450706/\", \"CollectionConfigurations\": []}, \"ProfilerConfig\": {\"DisableProfiler\": true}}, \"CacheConfig\": {\"Enabled\": true, \"ExpireAfter\": \"15d\"}}]}',\n 'PipelineDescription': None,\n 'PipelineName': 'session2-pipeline',\n 'PipelineStatus': 'Active',\n 'RoleArn': '<no_role>',\n 'CreationTime': 1711040540.316938,\n 'LastModifiedTime': 1711040543.040928}"
     },
     "execution_count": 18,
     "metadata": {},
     "output_type": "execute_result"
    }
   ],
   "source": [
    "session2_pipeline.describe()"
   ],
   "metadata": {
    "collapsed": false,
    "ExecuteTime": {
     "end_time": "2024-03-21T17:02:35.788719200Z",
     "start_time": "2024-03-21T17:02:34.745590400Z"
    }
   },
   "id": "9ec4dd37a93f726f",
   "execution_count": 18
  },
  {
   "cell_type": "code",
   "outputs": [],
   "source": [],
   "metadata": {
    "collapsed": false,
    "ExecuteTime": {
     "end_time": "2024-03-21T17:02:35.789719Z",
     "start_time": "2024-03-21T17:02:35.783207100Z"
    }
   },
   "id": "15512c4a518e996b",
   "execution_count": 18
  }
 ],
 "metadata": {
  "kernelspec": {
   "display_name": "Python 3",
   "language": "python",
   "name": "python3"
  },
  "language_info": {
   "codemirror_mode": {
    "name": "ipython",
    "version": 2
   },
   "file_extension": ".py",
   "mimetype": "text/x-python",
   "name": "python",
   "nbconvert_exporter": "python",
   "pygments_lexer": "ipython2",
   "version": "2.7.6"
  }
 },
 "nbformat": 4,
 "nbformat_minor": 5
}
