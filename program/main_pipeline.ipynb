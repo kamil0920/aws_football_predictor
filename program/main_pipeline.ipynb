{
 "cells": [
  {
   "cell_type": "code",
   "outputs": [],
   "source": [
    "%load_ext autoreload\n",
    "%autoreload 2\n",
    "\n",
    "import os\n",
    "import sys\n",
    "from pathlib import Path\n",
    "import warnings\n",
    "\n",
    "warnings.filterwarnings('ignore')\n",
    "CODE_FOLDER = Path(\"code\")\n",
    "CODE_FOLDER.mkdir(parents=True, exist_ok=True)\n",
    "\n",
    "sys.path.append(f\"./{CODE_FOLDER}\")"
   ],
   "metadata": {
    "collapsed": false,
    "ExecuteTime": {
     "end_time": "2024-03-14T20:41:10.276657300Z",
     "start_time": "2024-03-14T20:41:10.228398Z"
    }
   },
   "id": "dcd6df911098ecb8",
   "execution_count": 1
  },
  {
   "cell_type": "code",
   "outputs": [],
   "source": [
    "# !aws s3api create-bucket --bucket football-data-kamil --create-bucket-configuration LocationConstraint=eu-north-1"
   ],
   "metadata": {
    "collapsed": false,
    "ExecuteTime": {
     "end_time": "2024-03-14T20:41:10.310867800Z",
     "start_time": "2024-03-14T20:41:10.275657500Z"
    }
   },
   "id": "15812d9d5c4c5062",
   "execution_count": 2
  },
  {
   "cell_type": "code",
   "outputs": [
    {
     "name": "stdout",
     "output_type": "stream",
     "text": [
      "The autoreload extension is already loaded. To reload it, use:\n",
      "  %reload_ext autoreload\n"
     ]
    }
   ],
   "source": [
    "%load_ext autoreload\n",
    "%autoreload 2\n",
    "%load_ext dotenv\n",
    "%dotenv\n",
    "\n",
    "import sys\n",
    "import logging\n",
    "import ipytest\n",
    "import json\n",
    "from pathlib import Path\n",
    "\n",
    "\n",
    "CODE_FOLDER = Path(\"code\")\n",
    "CODE_FOLDER.mkdir(parents=True, exist_ok=True)\n",
    "INFERENCE_CODE_FOLDER = CODE_FOLDER / \"inference\"\n",
    "INFERENCE_CODE_FOLDER.mkdir(parents=True, exist_ok=True)\n",
    "\n",
    "sys.path.extend([f\"./{CODE_FOLDER}\", f\"./{INFERENCE_CODE_FOLDER}\"])\n",
    "\n",
    "ipytest.autoconfig(raise_on_error=True)\n",
    "\n",
    "# By default, The SageMaker SDK logs events related to the default\n",
    "# configuration using the INFO level. To prevent these from spoiling\n",
    "# the output of this notebook cells, we can change the logging\n",
    "# level to ERROR instead.\n",
    "logging.getLogger(\"sagemaker.config\").setLevel(logging.ERROR)"
   ],
   "metadata": {
    "collapsed": false,
    "ExecuteTime": {
     "end_time": "2024-03-14T20:41:10.423660800Z",
     "start_time": "2024-03-14T20:41:10.309868100Z"
    }
   },
   "id": "6beb300bf7e34dc7",
   "execution_count": 3
  },
  {
   "cell_type": "code",
   "outputs": [],
   "source": [
    "bucket = os.environ[\"BUCKET\"]\n",
    "role = os.environ[\"ROLE\"]\n",
    "S3_LOCATION = f\"s3://{bucket}/football\""
   ],
   "metadata": {
    "collapsed": false,
    "ExecuteTime": {
     "end_time": "2024-03-14T20:41:10.462549Z",
     "start_time": "2024-03-14T20:41:10.418658500Z"
    }
   },
   "id": "76aac5e2cae3d7d1",
   "execution_count": 4
  },
  {
   "cell_type": "code",
   "outputs": [
    {
     "name": "stderr",
     "output_type": "stream",
     "text": [
      "Windows Support for Local Mode is Experimental\n"
     ]
    }
   ],
   "source": [
    "import sagemaker\n",
    "from sagemaker.workflow.pipeline_context import PipelineSession, LocalPipelineSession\n",
    "\n",
    "LOCAL_MODE = True\n",
    "\n",
    "pipeline_session = PipelineSession(default_bucket=bucket) if not LOCAL_MODE else None\n",
    "\n",
    "if LOCAL_MODE:\n",
    "    config = {\n",
    "        \"session\": LocalPipelineSession(default_bucket=bucket),\n",
    "        # \"instance_type\": \"local\",\n",
    "        \"instance_type\": \"ml.m5.xlarge\",\n",
    "        \"image\": None,\n",
    "    }\n",
    "else:\n",
    "    config = {\n",
    "        \"session\": pipeline_session,\n",
    "        \"instance_type\": \"ml.m5.xlarge\",\n",
    "        \"image\": None,\n",
    "    }\n",
    "\n",
    "# config[\"framework_version\"] = \"2.11\"\n",
    "config[\"py_version\"] = \"py312\""
   ],
   "metadata": {
    "collapsed": false,
    "ExecuteTime": {
     "end_time": "2024-03-14T20:41:11.661509800Z",
     "start_time": "2024-03-14T20:41:10.455548600Z"
    }
   },
   "id": "ee6bc054dfdcbab",
   "execution_count": 5
  },
  {
   "cell_type": "code",
   "outputs": [],
   "source": [
    "import boto3\n",
    "\n",
    "sagemaker_session = sagemaker.session.Session()\n",
    "sagemaker_client = boto3.client(\"sagemaker\")\n",
    "iam_client = boto3.client(\"iam\")\n",
    "region = boto3.Session().region_name"
   ],
   "metadata": {
    "collapsed": false,
    "ExecuteTime": {
     "end_time": "2024-03-14T20:41:12.046938200Z",
     "start_time": "2024-03-14T20:41:11.661509800Z"
    }
   },
   "id": "fc3c33517f84f15f",
   "execution_count": 6
  },
  {
   "cell_type": "code",
   "outputs": [],
   "source": [
    "from sagemaker.s3 import S3Uploader\n",
    "\n",
    "df_local_path=str(os.environ['DATA_FILEPATH_X']) \n",
    "y_local_path=str(os.environ['DATA_FILEPATH_y'])\n",
    "\n",
    "# S3Uploader.upload(local_path=df_local_path, desired_s3_uri=f\"{S3_LOCATION}/data\", sagemaker_session=sagemaker_session)\n",
    "# S3Uploader.upload(local_path=y_local_path, desired_s3_uri=f\"{S3_LOCATION}/data\", sagemaker_session=sagemaker_session)"
   ],
   "metadata": {
    "collapsed": false,
    "ExecuteTime": {
     "end_time": "2024-03-14T20:41:12.116614Z",
     "start_time": "2024-03-14T20:41:12.047940100Z"
    }
   },
   "id": "54a0a7017c5afb2f",
   "execution_count": 7
  },
  {
   "cell_type": "code",
   "outputs": [],
   "source": [
    "# 's3://football-data-kamil/football/data/df.csv'\n",
    "# 's3://football-data-kamil/football/data/y.csv'"
   ],
   "metadata": {
    "collapsed": false,
    "ExecuteTime": {
     "end_time": "2024-03-14T20:41:12.185455100Z",
     "start_time": "2024-03-14T20:41:12.117613800Z"
    }
   },
   "id": "96807f85051338c4",
   "execution_count": 8
  },
  {
   "cell_type": "code",
   "outputs": [
    {
     "data": {
      "text/plain": "   player_rating_home_player_1  player_rating_home_player_2  \\\n0                           72                           72   \n1                           79                           79   \n2                           77                           77   \n3                           82                           82   \n4                           77                           77   \n\n   player_rating_home_player_3  player_rating_home_player_4  \\\n0                           72                           72   \n1                           79                           79   \n2                           77                           77   \n3                           82                           82   \n4                           77                           77   \n\n   player_rating_home_player_5  player_rating_home_player_6  \\\n0                           72                           72   \n1                           79                           79   \n2                           77                           77   \n3                           82                           82   \n4                           77                           77   \n\n   player_rating_home_player_7  player_rating_home_player_8  \\\n0                           79                           75   \n1                           78                           75   \n2                           72                           82   \n3                           72                           73   \n4                           67                           75   \n\n   player_rating_home_player_9  player_rating_home_player_10  ...  \\\n0                           85                            87  ...   \n1                           74                            81  ...   \n2                           76                            73  ...   \n3                           77                            73  ...   \n4                           82                            84  ...   \n\n   ewm_possession_home  ewm_possession_away  avg_home_rating_attack  \\\n0                  NaN                  NaN                   78.50   \n1                  NaN                  NaN                   75.83   \n2                  NaN                  NaN                   76.33   \n3                  NaN                  NaN                   76.33   \n4                  NaN                  NaN                   77.00   \n\n   avg_away_rating_attack  avg_away_rating_defence  avg_home_rating_defence  \\\n0                   71.50                     71.0                     72.0   \n1                   82.33                     84.0                     79.0   \n2                   73.50                     76.0                     77.0   \n3                   77.50                     73.0                     82.0   \n4                   79.33                     84.0                     77.0   \n\n   average_rating_home  average_rating_away  defensive_weakness_home  \\\n0            75.545455            71.272727                      NaN   \n1            77.272727            83.090909                      NaN   \n2            76.636364            74.636364                      NaN   \n3            78.909091            75.454545                      NaN   \n4            77.000000            81.454545                      NaN   \n\n   defensive_weakness_away  \n0                      NaN  \n1                      NaN  \n2                      NaN  \n3                      NaN  \n4                      NaN  \n\n[5 rows x 46 columns]",
      "text/html": "<div>\n<style scoped>\n    .dataframe tbody tr th:only-of-type {\n        vertical-align: middle;\n    }\n\n    .dataframe tbody tr th {\n        vertical-align: top;\n    }\n\n    .dataframe thead th {\n        text-align: right;\n    }\n</style>\n<table border=\"1\" class=\"dataframe\">\n  <thead>\n    <tr style=\"text-align: right;\">\n      <th></th>\n      <th>player_rating_home_player_1</th>\n      <th>player_rating_home_player_2</th>\n      <th>player_rating_home_player_3</th>\n      <th>player_rating_home_player_4</th>\n      <th>player_rating_home_player_5</th>\n      <th>player_rating_home_player_6</th>\n      <th>player_rating_home_player_7</th>\n      <th>player_rating_home_player_8</th>\n      <th>player_rating_home_player_9</th>\n      <th>player_rating_home_player_10</th>\n      <th>...</th>\n      <th>ewm_possession_home</th>\n      <th>ewm_possession_away</th>\n      <th>avg_home_rating_attack</th>\n      <th>avg_away_rating_attack</th>\n      <th>avg_away_rating_defence</th>\n      <th>avg_home_rating_defence</th>\n      <th>average_rating_home</th>\n      <th>average_rating_away</th>\n      <th>defensive_weakness_home</th>\n      <th>defensive_weakness_away</th>\n    </tr>\n  </thead>\n  <tbody>\n    <tr>\n      <th>0</th>\n      <td>72</td>\n      <td>72</td>\n      <td>72</td>\n      <td>72</td>\n      <td>72</td>\n      <td>72</td>\n      <td>79</td>\n      <td>75</td>\n      <td>85</td>\n      <td>87</td>\n      <td>...</td>\n      <td>NaN</td>\n      <td>NaN</td>\n      <td>78.50</td>\n      <td>71.50</td>\n      <td>71.0</td>\n      <td>72.0</td>\n      <td>75.545455</td>\n      <td>71.272727</td>\n      <td>NaN</td>\n      <td>NaN</td>\n    </tr>\n    <tr>\n      <th>1</th>\n      <td>79</td>\n      <td>79</td>\n      <td>79</td>\n      <td>79</td>\n      <td>79</td>\n      <td>79</td>\n      <td>78</td>\n      <td>75</td>\n      <td>74</td>\n      <td>81</td>\n      <td>...</td>\n      <td>NaN</td>\n      <td>NaN</td>\n      <td>75.83</td>\n      <td>82.33</td>\n      <td>84.0</td>\n      <td>79.0</td>\n      <td>77.272727</td>\n      <td>83.090909</td>\n      <td>NaN</td>\n      <td>NaN</td>\n    </tr>\n    <tr>\n      <th>2</th>\n      <td>77</td>\n      <td>77</td>\n      <td>77</td>\n      <td>77</td>\n      <td>77</td>\n      <td>77</td>\n      <td>72</td>\n      <td>82</td>\n      <td>76</td>\n      <td>73</td>\n      <td>...</td>\n      <td>NaN</td>\n      <td>NaN</td>\n      <td>76.33</td>\n      <td>73.50</td>\n      <td>76.0</td>\n      <td>77.0</td>\n      <td>76.636364</td>\n      <td>74.636364</td>\n      <td>NaN</td>\n      <td>NaN</td>\n    </tr>\n    <tr>\n      <th>3</th>\n      <td>82</td>\n      <td>82</td>\n      <td>82</td>\n      <td>82</td>\n      <td>82</td>\n      <td>82</td>\n      <td>72</td>\n      <td>73</td>\n      <td>77</td>\n      <td>73</td>\n      <td>...</td>\n      <td>NaN</td>\n      <td>NaN</td>\n      <td>76.33</td>\n      <td>77.50</td>\n      <td>73.0</td>\n      <td>82.0</td>\n      <td>78.909091</td>\n      <td>75.454545</td>\n      <td>NaN</td>\n      <td>NaN</td>\n    </tr>\n    <tr>\n      <th>4</th>\n      <td>77</td>\n      <td>77</td>\n      <td>77</td>\n      <td>77</td>\n      <td>77</td>\n      <td>77</td>\n      <td>67</td>\n      <td>75</td>\n      <td>82</td>\n      <td>84</td>\n      <td>...</td>\n      <td>NaN</td>\n      <td>NaN</td>\n      <td>77.00</td>\n      <td>79.33</td>\n      <td>84.0</td>\n      <td>77.0</td>\n      <td>77.000000</td>\n      <td>81.454545</td>\n      <td>NaN</td>\n      <td>NaN</td>\n    </tr>\n  </tbody>\n</table>\n<p>5 rows × 46 columns</p>\n</div>"
     },
     "execution_count": 9,
     "metadata": {},
     "output_type": "execute_result"
    }
   ],
   "source": [
    "import pandas as pd\n",
    "import numpy as np\n",
    "\n",
    "football = pd.read_csv(df_local_path)\n",
    "y = pd.read_csv(y_local_path)\n",
    "football.head()"
   ],
   "metadata": {
    "collapsed": false,
    "ExecuteTime": {
     "end_time": "2024-03-14T20:41:12.286719100Z",
     "start_time": "2024-03-14T20:41:12.186455700Z"
    }
   },
   "id": "a02ac148f8254fd",
   "execution_count": 9
  },
  {
   "cell_type": "code",
   "outputs": [],
   "source": [
    "from sagemaker.workflow.steps import CacheConfig\n",
    "\n",
    "cache_config = CacheConfig(enable_caching=True, expire_after=\"15d\")"
   ],
   "metadata": {
    "collapsed": false,
    "ExecuteTime": {
     "end_time": "2024-03-14T20:41:12.369711400Z",
     "start_time": "2024-03-14T20:41:12.282719500Z"
    }
   },
   "id": "36f2b2ff5af7f7bf",
   "execution_count": 10
  },
  {
   "cell_type": "code",
   "outputs": [],
   "source": [
    "from sagemaker.workflow.parameters import ParameterString\n",
    "\n",
    "dataset_location = ParameterString(\n",
    "    name=\"dataset_location\",\n",
    "    default_value=f\"{S3_LOCATION}/data\",\n",
    ")"
   ],
   "metadata": {
    "collapsed": false,
    "ExecuteTime": {
     "end_time": "2024-03-14T20:41:12.427126500Z",
     "start_time": "2024-03-14T20:41:12.353710Z"
    }
   },
   "id": "3fe504128f2c9524",
   "execution_count": 11
  },
  {
   "cell_type": "code",
   "outputs": [],
   "source": [
    "from sagemaker.sklearn.processing import SKLearnProcessor\n",
    "\n",
    "processor = SKLearnProcessor(\n",
    "    base_job_name=\"preprocess-data\",\n",
    "    framework_version=\"1.2-1\",\n",
    "    instance_type=config[\"instance_type\"],\n",
    "    instance_count=1,\n",
    "    role=role,\n",
    "    sagemaker_session=config[\"session\"],\n",
    ")"
   ],
   "metadata": {
    "collapsed": false,
    "ExecuteTime": {
     "end_time": "2024-03-14T20:41:12.508291800Z",
     "start_time": "2024-03-14T20:41:12.426126200Z"
    }
   },
   "id": "ff6453e68a84ccd3",
   "execution_count": 12
  },
  {
   "cell_type": "code",
   "outputs": [],
   "source": [
    "from sagemaker.workflow.steps import ProcessingStep\n",
    "from sagemaker.processing import ProcessingInput, ProcessingOutput\n",
    "\n",
    "\n",
    "preprocessing_step = ProcessingStep(\n",
    "    name=\"preprocess-data\",\n",
    "    step_args=processor.run(\n",
    "        code=f\"{CODE_FOLDER}/preprocessor.py\",\n",
    "        inputs=[\n",
    "            ProcessingInput(\n",
    "                source=dataset_location, destination=\"/opt/ml/processing/input\"\n",
    "            ),\n",
    "        ],\n",
    "        outputs=[\n",
    "            ProcessingOutput(\n",
    "                output_name=\"train\",\n",
    "                source=\"/opt/ml/processing/train\",\n",
    "                destination=f\"{S3_LOCATION}/preprocessing/train\",\n",
    "            ),\n",
    "            ProcessingOutput(\n",
    "                output_name=\"validation\",\n",
    "                source=\"/opt/ml/processing/validation\",\n",
    "                destination=f\"{S3_LOCATION}/preprocessing/validation\",\n",
    "            ),\n",
    "            ProcessingOutput(\n",
    "                output_name=\"test\",\n",
    "                source=\"/opt/ml/processing/test\",\n",
    "                destination=f\"{S3_LOCATION}/preprocessing/test\",\n",
    "            ),\n",
    "            ProcessingOutput(\n",
    "                output_name=\"model\",\n",
    "                source=\"/opt/ml/processing/model\",\n",
    "                destination=f\"{S3_LOCATION}/preprocessing/model\",\n",
    "            ),\n",
    "            ProcessingOutput(\n",
    "                output_name=\"train-baseline\",\n",
    "                source=\"/opt/ml/processing/train-baseline\",\n",
    "                destination=f\"{S3_LOCATION}/preprocessing/train-baseline\",\n",
    "            ),\n",
    "            ProcessingOutput(\n",
    "                output_name=\"test-baseline\",\n",
    "                source=\"/opt/ml/processing/test-baseline\",\n",
    "                destination=f\"{S3_LOCATION}/preprocessing/test-baseline\",\n",
    "            ),\n",
    "        ],\n",
    "    ),\n",
    "    cache_config=cache_config,\n",
    ")"
   ],
   "metadata": {
    "collapsed": false,
    "ExecuteTime": {
     "end_time": "2024-03-14T20:41:12.581017Z",
     "start_time": "2024-03-14T20:41:12.509290300Z"
    }
   },
   "id": "9c975fc0201b8f4d",
   "execution_count": 13
  },
  {
   "cell_type": "code",
   "outputs": [
    {
     "data": {
      "text/plain": "{'PipelineArn': 'session1-pipeline'}"
     },
     "execution_count": 17,
     "metadata": {},
     "output_type": "execute_result"
    }
   ],
   "source": [
    "from sagemaker.workflow.pipeline import Pipeline\n",
    "from sagemaker.workflow.pipeline_definition_config import PipelineDefinitionConfig\n",
    "\n",
    "pipeline_definition_config = PipelineDefinitionConfig(use_custom_job_prefix=True)\n",
    "\n",
    "session1_pipeline = Pipeline(\n",
    "    name=\"session1-pipeline\",\n",
    "    parameters=[dataset_location],\n",
    "    steps=[\n",
    "        preprocessing_step,\n",
    "    ],\n",
    "    # pipeline_definition_config=pipeline_definition_config,\n",
    "    sagemaker_session=config[\"session\"],\n",
    ")\n",
    "\n",
    "session1_pipeline.upsert(role_arn=role)"
   ],
   "metadata": {
    "collapsed": false,
    "ExecuteTime": {
     "end_time": "2024-03-14T20:48:49.194920700Z",
     "start_time": "2024-03-14T20:48:49.122346500Z"
    }
   },
   "id": "98e68ac3054aacb8",
   "execution_count": 17
  },
  {
   "cell_type": "code",
   "outputs": [
    {
     "ename": "KeyboardInterrupt",
     "evalue": "",
     "output_type": "error",
     "traceback": [
      "\u001B[1;31m---------------------------------------------------------------------------\u001B[0m",
      "\u001B[1;31mKeyboardInterrupt\u001B[0m                         Traceback (most recent call last)",
      "Cell \u001B[1;32mIn[25], line 6\u001B[0m\n\u001B[0;32m      1\u001B[0m \u001B[38;5;66;03m# %%script false --no-raise-error\u001B[39;00m\n\u001B[0;32m      2\u001B[0m \u001B[38;5;66;03m#| eval: false\u001B[39;00m\n\u001B[0;32m      3\u001B[0m \u001B[38;5;66;03m#| code: true\u001B[39;00m\n\u001B[0;32m      4\u001B[0m \u001B[38;5;66;03m#| output: false\u001B[39;00m\n\u001B[1;32m----> 6\u001B[0m \u001B[43msession1_pipeline\u001B[49m\u001B[38;5;241;43m.\u001B[39;49m\u001B[43mstart\u001B[49m\u001B[43m(\u001B[49m\u001B[43m)\u001B[49m\n",
      "File \u001B[1;32m~\\Documents\\football_project\\aws_pipeline\\pythonProject\\.venv\\Lib\\site-packages\\sagemaker\\workflow\\pipeline.py:372\u001B[0m, in \u001B[0;36mPipeline.start\u001B[1;34m(self, parameters, execution_display_name, execution_description, parallelism_config, selective_execution_config)\u001B[0m\n\u001B[0;32m    370\u001B[0m \u001B[38;5;28;01mif\u001B[39;00m \u001B[38;5;28mself\u001B[39m\u001B[38;5;241m.\u001B[39msagemaker_session\u001B[38;5;241m.\u001B[39mlocal_mode:\n\u001B[0;32m    371\u001B[0m     update_args(kwargs, PipelineParameters\u001B[38;5;241m=\u001B[39mparameters)\n\u001B[1;32m--> 372\u001B[0m     \u001B[38;5;28;01mreturn\u001B[39;00m \u001B[38;5;28;43mself\u001B[39;49m\u001B[38;5;241;43m.\u001B[39;49m\u001B[43msagemaker_session\u001B[49m\u001B[38;5;241;43m.\u001B[39;49m\u001B[43msagemaker_client\u001B[49m\u001B[38;5;241;43m.\u001B[39;49m\u001B[43mstart_pipeline_execution\u001B[49m\u001B[43m(\u001B[49m\u001B[38;5;241;43m*\u001B[39;49m\u001B[38;5;241;43m*\u001B[39;49m\u001B[43mkwargs\u001B[49m\u001B[43m)\u001B[49m\n\u001B[0;32m    373\u001B[0m update_args(kwargs, PipelineParameters\u001B[38;5;241m=\u001B[39mformat_start_parameters(parameters))\n\u001B[0;32m    375\u001B[0m \u001B[38;5;66;03m# retry on AccessDeniedException to cover case of tag propagation delay\u001B[39;00m\n",
      "File \u001B[1;32m~\\Documents\\football_project\\aws_pipeline\\pythonProject\\.venv\\Lib\\site-packages\\sagemaker\\local\\local_session.py:535\u001B[0m, in \u001B[0;36mLocalSagemakerClient.start_pipeline_execution\u001B[1;34m(self, PipelineName, **kwargs)\u001B[0m\n\u001B[0;32m    528\u001B[0m     error_response \u001B[38;5;241m=\u001B[39m {\n\u001B[0;32m    529\u001B[0m         \u001B[38;5;124m\"\u001B[39m\u001B[38;5;124mError\u001B[39m\u001B[38;5;124m\"\u001B[39m: {\n\u001B[0;32m    530\u001B[0m             \u001B[38;5;124m\"\u001B[39m\u001B[38;5;124mCode\u001B[39m\u001B[38;5;124m\"\u001B[39m: \u001B[38;5;124m\"\u001B[39m\u001B[38;5;124mResourceNotFound\u001B[39m\u001B[38;5;124m\"\u001B[39m,\n\u001B[0;32m    531\u001B[0m             \u001B[38;5;124m\"\u001B[39m\u001B[38;5;124mMessage\u001B[39m\u001B[38;5;124m\"\u001B[39m: \u001B[38;5;124m\"\u001B[39m\u001B[38;5;124mPipeline \u001B[39m\u001B[38;5;132;01m{}\u001B[39;00m\u001B[38;5;124m does not exist\u001B[39m\u001B[38;5;124m\"\u001B[39m\u001B[38;5;241m.\u001B[39mformat(PipelineName),\n\u001B[0;32m    532\u001B[0m         }\n\u001B[0;32m    533\u001B[0m     }\n\u001B[0;32m    534\u001B[0m     \u001B[38;5;28;01mraise\u001B[39;00m ClientError(error_response, \u001B[38;5;124m\"\u001B[39m\u001B[38;5;124mstart_pipeline_execution\u001B[39m\u001B[38;5;124m\"\u001B[39m)\n\u001B[1;32m--> 535\u001B[0m \u001B[38;5;28;01mreturn\u001B[39;00m \u001B[43mLocalSagemakerClient\u001B[49m\u001B[38;5;241;43m.\u001B[39;49m\u001B[43m_pipelines\u001B[49m\u001B[43m[\u001B[49m\u001B[43mPipelineName\u001B[49m\u001B[43m]\u001B[49m\u001B[38;5;241;43m.\u001B[39;49m\u001B[43mstart\u001B[49m\u001B[43m(\u001B[49m\u001B[38;5;241;43m*\u001B[39;49m\u001B[38;5;241;43m*\u001B[39;49m\u001B[43mkwargs\u001B[49m\u001B[43m)\u001B[49m\n",
      "File \u001B[1;32m~\\Documents\\football_project\\aws_pipeline\\pythonProject\\.venv\\Lib\\site-packages\\sagemaker\\local\\entities.py:678\u001B[0m, in \u001B[0;36m_LocalPipeline.start\u001B[1;34m(self, **kwargs)\u001B[0m\n\u001B[0;32m    675\u001B[0m \u001B[38;5;28;01mfrom\u001B[39;00m \u001B[38;5;21;01msagemaker\u001B[39;00m\u001B[38;5;21;01m.\u001B[39;00m\u001B[38;5;21;01mlocal\u001B[39;00m\u001B[38;5;21;01m.\u001B[39;00m\u001B[38;5;21;01mpipeline\u001B[39;00m \u001B[38;5;28;01mimport\u001B[39;00m LocalPipelineExecutor\n\u001B[0;32m    677\u001B[0m execution_id \u001B[38;5;241m=\u001B[39m \u001B[38;5;28mstr\u001B[39m(uuid4())\n\u001B[1;32m--> 678\u001B[0m execution \u001B[38;5;241m=\u001B[39m \u001B[43m_LocalPipelineExecution\u001B[49m\u001B[43m(\u001B[49m\n\u001B[0;32m    679\u001B[0m \u001B[43m    \u001B[49m\u001B[43mexecution_id\u001B[49m\u001B[38;5;241;43m=\u001B[39;49m\u001B[43mexecution_id\u001B[49m\u001B[43m,\u001B[49m\n\u001B[0;32m    680\u001B[0m \u001B[43m    \u001B[49m\u001B[43mpipeline\u001B[49m\u001B[38;5;241;43m=\u001B[39;49m\u001B[38;5;28;43mself\u001B[39;49m\u001B[38;5;241;43m.\u001B[39;49m\u001B[43mpipeline\u001B[49m\u001B[43m,\u001B[49m\n\u001B[0;32m    681\u001B[0m \u001B[43m    \u001B[49m\u001B[43mlocal_session\u001B[49m\u001B[38;5;241;43m=\u001B[39;49m\u001B[38;5;28;43mself\u001B[39;49m\u001B[38;5;241;43m.\u001B[39;49m\u001B[43mlocal_session\u001B[49m\u001B[43m,\u001B[49m\n\u001B[0;32m    682\u001B[0m \u001B[43m    \u001B[49m\u001B[38;5;241;43m*\u001B[39;49m\u001B[38;5;241;43m*\u001B[39;49m\u001B[43mkwargs\u001B[49m\u001B[43m,\u001B[49m\n\u001B[0;32m    683\u001B[0m \u001B[43m\u001B[49m\u001B[43m)\u001B[49m\n\u001B[0;32m    685\u001B[0m \u001B[38;5;28mself\u001B[39m\u001B[38;5;241m.\u001B[39m_executions[execution_id] \u001B[38;5;241m=\u001B[39m execution\n\u001B[0;32m    686\u001B[0m logger\u001B[38;5;241m.\u001B[39minfo(\n\u001B[0;32m    687\u001B[0m     \u001B[38;5;124m\"\u001B[39m\u001B[38;5;124mStarting execution for pipeline \u001B[39m\u001B[38;5;132;01m%s\u001B[39;00m\u001B[38;5;124m. Execution ID is \u001B[39m\u001B[38;5;132;01m%s\u001B[39;00m\u001B[38;5;124m\"\u001B[39m,\n\u001B[0;32m    688\u001B[0m     \u001B[38;5;28mself\u001B[39m\u001B[38;5;241m.\u001B[39mpipeline\u001B[38;5;241m.\u001B[39mname,\n\u001B[0;32m    689\u001B[0m     execution_id,\n\u001B[0;32m    690\u001B[0m )\n",
      "File \u001B[1;32m~\\Documents\\football_project\\aws_pipeline\\pythonProject\\.venv\\Lib\\site-packages\\sagemaker\\local\\entities.py:721\u001B[0m, in \u001B[0;36m_LocalPipelineExecution.__init__\u001B[1;34m(self, execution_id, pipeline, PipelineParameters, PipelineExecutionDescription, PipelineExecutionDisplayName, local_session)\u001B[0m\n\u001B[0;32m    719\u001B[0m \u001B[38;5;28mself\u001B[39m\u001B[38;5;241m.\u001B[39mlast_modified_time \u001B[38;5;241m=\u001B[39m \u001B[38;5;28mself\u001B[39m\u001B[38;5;241m.\u001B[39mcreation_time\n\u001B[0;32m    720\u001B[0m \u001B[38;5;28mself\u001B[39m\u001B[38;5;241m.\u001B[39mstep_execution \u001B[38;5;241m=\u001B[39m {}\n\u001B[1;32m--> 721\u001B[0m \u001B[38;5;28mself\u001B[39m\u001B[38;5;241m.\u001B[39mpipeline_dag \u001B[38;5;241m=\u001B[39m \u001B[43mPipelineGraph\u001B[49m\u001B[38;5;241;43m.\u001B[39;49m\u001B[43mfrom_pipeline\u001B[49m\u001B[43m(\u001B[49m\u001B[38;5;28;43mself\u001B[39;49m\u001B[38;5;241;43m.\u001B[39;49m\u001B[43mpipeline\u001B[49m\u001B[43m)\u001B[49m\n\u001B[0;32m    722\u001B[0m \u001B[38;5;28mself\u001B[39m\u001B[38;5;241m.\u001B[39m_initialize_step_execution(\u001B[38;5;28mself\u001B[39m\u001B[38;5;241m.\u001B[39mpipeline_dag\u001B[38;5;241m.\u001B[39mstep_map\u001B[38;5;241m.\u001B[39mvalues())\n\u001B[0;32m    723\u001B[0m \u001B[38;5;28mself\u001B[39m\u001B[38;5;241m.\u001B[39mpipeline_parameters \u001B[38;5;241m=\u001B[39m \u001B[38;5;28mself\u001B[39m\u001B[38;5;241m.\u001B[39m_initialize_and_validate_parameters(PipelineParameters)\n",
      "File \u001B[1;32m~\\Documents\\football_project\\aws_pipeline\\pythonProject\\.venv\\Lib\\site-packages\\sagemaker\\workflow\\pipeline.py:1054\u001B[0m, in \u001B[0;36mPipelineGraph.from_pipeline\u001B[1;34m(cls, pipeline)\u001B[0m\n\u001B[0;32m   1051\u001B[0m \u001B[38;5;129m@classmethod\u001B[39m\n\u001B[0;32m   1052\u001B[0m \u001B[38;5;28;01mdef\u001B[39;00m \u001B[38;5;21mfrom_pipeline\u001B[39m(\u001B[38;5;28mcls\u001B[39m, pipeline: Pipeline):\n\u001B[0;32m   1053\u001B[0m \u001B[38;5;250m    \u001B[39m\u001B[38;5;124;03m\"\"\"Create a PipelineGraph object from the Pipeline object.\"\"\"\u001B[39;00m\n\u001B[1;32m-> 1054\u001B[0m     compiled_steps \u001B[38;5;241m=\u001B[39m \u001B[43mStepsCompiler\u001B[49m(\n\u001B[0;32m   1055\u001B[0m         pipeline_name\u001B[38;5;241m=\u001B[39mpipeline\u001B[38;5;241m.\u001B[39mname,\n\u001B[0;32m   1056\u001B[0m         sagemaker_session\u001B[38;5;241m=\u001B[39mpipeline\u001B[38;5;241m.\u001B[39msagemaker_session,\n\u001B[0;32m   1057\u001B[0m         pipeline_definition_config\u001B[38;5;241m=\u001B[39mpipeline\u001B[38;5;241m.\u001B[39mpipeline_definition_config,\n\u001B[0;32m   1058\u001B[0m         steps\u001B[38;5;241m=\u001B[39mpipeline\u001B[38;5;241m.\u001B[39msteps,\n\u001B[0;32m   1059\u001B[0m     )\u001B[38;5;241m.\u001B[39mbuild()\n\u001B[0;32m   1060\u001B[0m     \u001B[38;5;28;01mreturn\u001B[39;00m \u001B[38;5;28mcls\u001B[39m(compiled_steps)\n",
      "File \u001B[1;32m_pydevd_bundle\\\\pydevd_cython_win32_312_64.pyx:1187\u001B[0m, in \u001B[0;36m_pydevd_bundle.pydevd_cython_win32_312_64.SafeCallWrapper.__call__\u001B[1;34m()\u001B[0m\n",
      "File \u001B[1;32m_pydevd_bundle\\\\pydevd_cython_win32_312_64.pyx:627\u001B[0m, in \u001B[0;36m_pydevd_bundle.pydevd_cython_win32_312_64.PyDBFrame.trace_dispatch\u001B[1;34m()\u001B[0m\n",
      "File \u001B[1;32m_pydevd_bundle\\\\pydevd_cython_win32_312_64.pyx:937\u001B[0m, in \u001B[0;36m_pydevd_bundle.pydevd_cython_win32_312_64.PyDBFrame.trace_dispatch\u001B[1;34m()\u001B[0m\n",
      "File \u001B[1;32m_pydevd_bundle\\\\pydevd_cython_win32_312_64.pyx:928\u001B[0m, in \u001B[0;36m_pydevd_bundle.pydevd_cython_win32_312_64.PyDBFrame.trace_dispatch\u001B[1;34m()\u001B[0m\n",
      "File \u001B[1;32m_pydevd_bundle\\\\pydevd_cython_win32_312_64.pyx:585\u001B[0m, in \u001B[0;36m_pydevd_bundle.pydevd_cython_win32_312_64.PyDBFrame.do_wait_suspend\u001B[1;34m()\u001B[0m\n",
      "File \u001B[1;32mC:\\Program Files\\JetBrains\\PyCharm 2023.3.2\\plugins\\python\\helpers\\pydev\\pydevd.py:1184\u001B[0m, in \u001B[0;36mPyDB.do_wait_suspend\u001B[1;34m(self, thread, frame, event, arg, send_suspend_message, is_unhandled_exception)\u001B[0m\n\u001B[0;32m   1181\u001B[0m         from_this_thread\u001B[38;5;241m.\u001B[39mappend(frame_id)\n\u001B[0;32m   1183\u001B[0m \u001B[38;5;28;01mwith\u001B[39;00m \u001B[38;5;28mself\u001B[39m\u001B[38;5;241m.\u001B[39m_threads_suspended_single_notification\u001B[38;5;241m.\u001B[39mnotify_thread_suspended(thread_id, stop_reason):\n\u001B[1;32m-> 1184\u001B[0m     \u001B[38;5;28;43mself\u001B[39;49m\u001B[38;5;241;43m.\u001B[39;49m\u001B[43m_do_wait_suspend\u001B[49m\u001B[43m(\u001B[49m\u001B[43mthread\u001B[49m\u001B[43m,\u001B[49m\u001B[43m \u001B[49m\u001B[43mframe\u001B[49m\u001B[43m,\u001B[49m\u001B[43m \u001B[49m\u001B[43mevent\u001B[49m\u001B[43m,\u001B[49m\u001B[43m \u001B[49m\u001B[43marg\u001B[49m\u001B[43m,\u001B[49m\u001B[43m \u001B[49m\u001B[43msuspend_type\u001B[49m\u001B[43m,\u001B[49m\u001B[43m \u001B[49m\u001B[43mfrom_this_thread\u001B[49m\u001B[43m)\u001B[49m\n",
      "File \u001B[1;32mC:\\Program Files\\JetBrains\\PyCharm 2023.3.2\\plugins\\python\\helpers\\pydev\\pydevd.py:1199\u001B[0m, in \u001B[0;36mPyDB._do_wait_suspend\u001B[1;34m(self, thread, frame, event, arg, suspend_type, from_this_thread)\u001B[0m\n\u001B[0;32m   1196\u001B[0m             \u001B[38;5;28mself\u001B[39m\u001B[38;5;241m.\u001B[39m_call_mpl_hook()\n\u001B[0;32m   1198\u001B[0m         \u001B[38;5;28mself\u001B[39m\u001B[38;5;241m.\u001B[39mprocess_internal_commands()\n\u001B[1;32m-> 1199\u001B[0m         \u001B[43mtime\u001B[49m\u001B[38;5;241;43m.\u001B[39;49m\u001B[43msleep\u001B[49m\u001B[43m(\u001B[49m\u001B[38;5;241;43m0.01\u001B[39;49m\u001B[43m)\u001B[49m\n\u001B[0;32m   1201\u001B[0m \u001B[38;5;28mself\u001B[39m\u001B[38;5;241m.\u001B[39mcancel_async_evaluation(get_current_thread_id(thread), \u001B[38;5;28mstr\u001B[39m(\u001B[38;5;28mid\u001B[39m(frame)))\n\u001B[0;32m   1203\u001B[0m \u001B[38;5;66;03m# process any stepping instructions\u001B[39;00m\n",
      "\u001B[1;31mKeyboardInterrupt\u001B[0m: "
     ]
    }
   ],
   "source": [
    "# %%script false --no-raise-error\n",
    "#| eval: false\n",
    "#| code: true\n",
    "#| output: false\n",
    "\n",
    "session1_pipeline.start()"
   ],
   "metadata": {
    "collapsed": false,
    "ExecuteTime": {
     "end_time": "2024-03-14T20:54:38.514539400Z",
     "start_time": "2024-03-14T20:54:36.694159900Z"
    }
   },
   "id": "82bc6c8ce7033286",
   "execution_count": 25
  },
  {
   "cell_type": "code",
   "outputs": [],
   "source": [],
   "metadata": {
    "collapsed": false,
    "ExecuteTime": {
     "start_time": "2024-03-14T20:44:52.416768200Z"
    }
   },
   "id": "2bdb9a32be46584d"
  }
 ],
 "metadata": {
  "kernelspec": {
   "display_name": "Python 3",
   "language": "python",
   "name": "python3"
  },
  "language_info": {
   "codemirror_mode": {
    "name": "ipython",
    "version": 2
   },
   "file_extension": ".py",
   "mimetype": "text/x-python",
   "name": "python",
   "nbconvert_exporter": "python",
   "pygments_lexer": "ipython2",
   "version": "2.7.6"
  }
 },
 "nbformat": 4,
 "nbformat_minor": 5
}
