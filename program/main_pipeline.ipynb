{
 "cells": [
  {
   "cell_type": "code",
   "outputs": [],
   "source": [
    "%load_ext autoreload\n",
    "%autoreload 2\n",
    "\n",
    "import os\n",
    "import sys\n",
    "from pathlib import Path\n",
    "import warnings\n",
    "\n",
    "warnings.filterwarnings('ignore')\n",
    "CODE_FOLDER = Path(\"code\")\n",
    "CODE_FOLDER.mkdir(parents=True, exist_ok=True)\n",
    "\n",
    "sys.path.append(f\"./{CODE_FOLDER}\")"
   ],
   "metadata": {
    "collapsed": false,
    "ExecuteTime": {
     "end_time": "2024-03-23T15:26:24.633858Z",
     "start_time": "2024-03-23T15:26:24.588663200Z"
    }
   },
   "id": "dcd6df911098ecb8",
   "execution_count": 1
  },
  {
   "cell_type": "code",
   "outputs": [],
   "source": [
    "# !aws s3api create-bucket --bucket football-data-kamil --create-bucket-configuration LocationConstraint=eu-north-1"
   ],
   "metadata": {
    "collapsed": false,
    "ExecuteTime": {
     "end_time": "2024-03-23T15:26:24.654740200Z",
     "start_time": "2024-03-23T15:26:24.622295800Z"
    }
   },
   "id": "15812d9d5c4c5062",
   "execution_count": 2
  },
  {
   "cell_type": "code",
   "outputs": [
    {
     "name": "stdout",
     "output_type": "stream",
     "text": [
      "The autoreload extension is already loaded. To reload it, use:\n",
      "  %reload_ext autoreload\n"
     ]
    }
   ],
   "source": [
    "%load_ext autoreload\n",
    "%autoreload 2\n",
    "%load_ext dotenv\n",
    "%dotenv\n",
    "\n",
    "import sys\n",
    "import logging\n",
    "import ipytest\n",
    "from pathlib import Path\n",
    "\n",
    "CODE_FOLDER = Path(\"code\")\n",
    "CODE_FOLDER.mkdir(parents=True, exist_ok=True)\n",
    "INFERENCE_CODE_FOLDER = CODE_FOLDER / \"inference\"\n",
    "INFERENCE_CODE_FOLDER.mkdir(parents=True, exist_ok=True)\n",
    "\n",
    "sys.path.extend([f\"./{CODE_FOLDER}\", f\"./{INFERENCE_CODE_FOLDER}\"])\n",
    "\n",
    "ipytest.autoconfig(raise_on_error=True)\n",
    "\n",
    "# By default, The SageMaker SDK logs events related to the default\n",
    "# configuration using the INFO level. To prevent these from spoiling\n",
    "# the output of this notebook cells, we can change the logging\n",
    "# level to ERROR instead.\n",
    "logging.getLogger(\"sagemaker.config\").setLevel(logging.ERROR)"
   ],
   "metadata": {
    "collapsed": false,
    "ExecuteTime": {
     "end_time": "2024-03-23T15:26:24.785357900Z",
     "start_time": "2024-03-23T15:26:24.655740700Z"
    }
   },
   "id": "6beb300bf7e34dc7",
   "execution_count": 3
  },
  {
   "cell_type": "code",
   "outputs": [],
   "source": [
    "import os\n",
    "import logging\n",
    "\n",
    "from sagemaker.workflow.pipeline_context import PipelineSession, LocalPipelineSession\n",
    "\n",
    "# Update this variable to your bucket name. This name must be unique\n",
    "# across all AWS accounts.\n",
    "BUCKET = os.environ[\"BUCKET\"]\n",
    "S3_LOCATION = f\"s3://{BUCKET}/football\"\n",
    "\n",
    "# To run this notebook in Local Model, this constant must be set to True.\n",
    "# I'm trying to do this automatically by checking for a specific environment\n",
    "# variable that is set by SageMaker when you run the notebook inside SageMaker\n",
    "# Studio. \n",
    "# LOCAL_MODE = \"SAGEMAKER_INTERNAL_IMAGE_URI\" not in os.environ\n",
    "\n",
    "LOCAL_MODE = False\n",
    "\n",
    "# This variable will be used to determine the architecture of the\n",
    "# local machine. If the machine is an ARM64 machine, you will need\n",
    "# to build a custom Docker image using the setup notebook.\n",
    "ARCHITECTURE = !(uname -m)\n",
    "\n",
    "# This is a dummy role that will be ignored when we run the\n",
    "# pipeline in Local Mode.\n",
    "DUMMY_ROLE = \"arn:aws:iam::111111111111:role/service-role/AmazonSageMaker-ExecutionRole-11111111111111\"\n",
    "\n",
    "# We'll use these two variables to configure the steps that do not support\n",
    "# Local Mode.\n",
    "pipeline_session = PipelineSession() if not LOCAL_MODE else LocalPipelineSession(default_bucket=BUCKET)\n",
    "execution_role = os.environ[\"ROLE\"] if not LOCAL_MODE else DUMMY_ROLE\n",
    "\n",
    "if LOCAL_MODE:\n",
    "    config = {\n",
    "        \"session\": pipeline_session,\n",
    "        \"instance_type\": \"local\",\n",
    "        \"role\": DUMMY_ROLE,\n",
    "\n",
    "        # We need to use a custom Docker image when we run the pipeline\n",
    "        # in Local Model on an ARM64 machine.\n",
    "        \"image\": \"sagemaker-tensorflow-training-toolkit-local\" if ARCHITECTURE[0] == \"arm64\" else None,\n",
    "        \"framework_version\": None if ARCHITECTURE[0] == \"arm64\" else \"1.7-1\",\n",
    "        \"py_version\": None if ARCHITECTURE[0] == \"arm64\" else \"py3\",\n",
    "    }\n",
    "else:\n",
    "    config = {\n",
    "        \"session\": pipeline_session,\n",
    "        \"instance_type\": \"ml.c5.xlarge\",\n",
    "        \"role\": execution_role,\n",
    "        \"image\": None,\n",
    "        \"framework_version\": \"1.7-1\",\n",
    "        \"py_version\": \"py3\",\n",
    "    }\n",
    "\n",
    "# By default, The SageMaker SDK logs events related to the default\n",
    "# configuration using the INFO level. To prevent these from spoiling\n",
    "# the output of this notebook cells, we can change the logging\n",
    "# level to ERROR instead.\n",
    "logging.getLogger(\"sagemaker.config\").setLevel(logging.ERROR)"
   ],
   "metadata": {
    "collapsed": false,
    "ExecuteTime": {
     "end_time": "2024-03-23T15:26:27.783738300Z",
     "start_time": "2024-03-23T15:26:24.775358600Z"
    }
   },
   "id": "ee6bc054dfdcbab",
   "execution_count": 4
  },
  {
   "cell_type": "code",
   "outputs": [],
   "source": [
    "# import boto3\n",
    "# \n",
    "# role = os.environ[\"ROLE\"]\n",
    "# \n",
    "# sagemaker_session = sagemaker.session.Session()\n",
    "# sagemaker_client = boto3.client(\"sagemaker\")\n",
    "# iam_client = boto3.client(\"iam\")\n",
    "# region = boto3.Session().region_name"
   ],
   "metadata": {
    "collapsed": false,
    "ExecuteTime": {
     "end_time": "2024-03-23T15:26:27.854900800Z",
     "start_time": "2024-03-23T15:26:27.783738300Z"
    }
   },
   "id": "fc3c33517f84f15f",
   "execution_count": 5
  },
  {
   "cell_type": "code",
   "outputs": [],
   "source": [
    "from sagemaker.s3 import S3Uploader\n",
    "\n",
    "df_local_path = str(os.environ['DATA_FILEPATH_X'])\n",
    "y_local_path = str(os.environ['DATA_FILEPATH_Y'])\n",
    "\n",
    "# S3Uploader.upload(local_path=df_local_path, desired_s3_uri=f\"{S3_LOCATION}/data\", sagemaker_session=sagemaker_session)\n",
    "# S3Uploader.upload(local_path=y_local_path, desired_s3_uri=f\"{S3_LOCATION}/data\", sagemaker_session=sagemaker_session)"
   ],
   "metadata": {
    "collapsed": false,
    "ExecuteTime": {
     "end_time": "2024-03-23T15:26:27.924877300Z",
     "start_time": "2024-03-23T15:26:27.860898300Z"
    }
   },
   "id": "54a0a7017c5afb2f",
   "execution_count": 6
  },
  {
   "cell_type": "code",
   "outputs": [],
   "source": [
    "from sagemaker.workflow.steps import CacheConfig\n",
    "\n",
    "cache_config = CacheConfig(enable_caching=True, expire_after=\"15d\")"
   ],
   "metadata": {
    "collapsed": false,
    "ExecuteTime": {
     "end_time": "2024-03-23T15:26:28.056414800Z",
     "start_time": "2024-03-23T15:26:27.925877100Z"
    }
   },
   "id": "36f2b2ff5af7f7bf",
   "execution_count": 7
  },
  {
   "cell_type": "code",
   "outputs": [],
   "source": [
    "# from sagemaker.sklearn.processing import SKLearnProcessor\n",
    "from sagemaker.workflow.steps import ProcessingStep\n",
    "from sagemaker.processing import ProcessingInput, ProcessingOutput\n",
    "from sagemaker.workflow.parameters import ParameterString\n",
    "\n",
    "dataset_location = ParameterString(\n",
    "    name=\"dataset_location\",\n",
    "    default_value=f\"{S3_LOCATION}/data\",\n",
    ")\n",
    "\n",
    "processing_repository_uri = os.environ[\"PREPROCESSING_IMAGE_URI\"]\n",
    "\n",
    "from sagemaker.processing import ScriptProcessor\n",
    "\n",
    "processor = ScriptProcessor(\n",
    "    command=[\"python3\"],\n",
    "    image_uri=processing_repository_uri,\n",
    "    role=config['role'],\n",
    "    instance_count=1,\n",
    "    instance_type=\"ml.m5.xlarge\",\n",
    ")\n",
    "\n",
    "split_and_transform_data_step = ProcessingStep(\n",
    "    name=\"split-and-transform-data\",\n",
    "    processor=processor,\n",
    "    code=f\"{CODE_FOLDER}/preprocessor.py\",\n",
    "    inputs=[\n",
    "        ProcessingInput(source=dataset_location, destination=\"/opt/ml/processing/input\"),\n",
    "    ],\n",
    "    outputs=[\n",
    "        ProcessingOutput(output_name=\"train\", source=\"/opt/ml/processing/train\"),\n",
    "        ProcessingOutput(output_name=\"validation\", source=\"/opt/ml/processing/validation\"),\n",
    "        ProcessingOutput(output_name=\"test\", source=\"/opt/ml/processing/test\"),\n",
    "        ProcessingOutput(output_name=\"model\", source=\"/opt/ml/processing/model\"),\n",
    "\n",
    "        # The baseline output points to the test set before transforming the data. This set\n",
    "        # will be helpful to generate a quality baseline for the model performance.\n",
    "        ProcessingOutput(output_name=\"baseline\", source=\"/opt/ml/processing/baseline\"),\n",
    "    ],\n",
    "    cache_config=cache_config\n",
    ")"
   ],
   "metadata": {
    "collapsed": false,
    "ExecuteTime": {
     "end_time": "2024-03-23T15:26:28.288542200Z",
     "start_time": "2024-03-23T15:26:28.014416800Z"
    }
   },
   "id": "9c975fc0201b8f4d",
   "execution_count": 8
  },
  {
   "cell_type": "code",
   "outputs": [
    {
     "data": {
      "text/plain": "{'PipelineArn': 'arn:aws:sagemaker:eu-north-1:284415450706:pipeline/session1-pipeline',\n 'ResponseMetadata': {'RequestId': 'de0ca658-9555-464e-8745-8629585581bd',\n  'HTTPStatusCode': 200,\n  'HTTPHeaders': {'x-amzn-requestid': 'de0ca658-9555-464e-8745-8629585581bd',\n   'content-type': 'application/x-amz-json-1.1',\n   'content-length': '86',\n   'date': 'Sat, 23 Mar 2024 15:26:31 GMT'},\n  'RetryAttempts': 0}}"
     },
     "execution_count": 9,
     "metadata": {},
     "output_type": "execute_result"
    }
   ],
   "source": [
    "from sagemaker.workflow.pipeline import Pipeline\n",
    "from sagemaker.workflow.pipeline_definition_config import PipelineDefinitionConfig\n",
    "\n",
    "pipeline_definition_config = PipelineDefinitionConfig(use_custom_job_prefix=True)\n",
    "\n",
    "session1_pipeline = Pipeline(\n",
    "    name=\"session1-pipeline\",\n",
    "    parameters=[dataset_location],\n",
    "    steps=[\n",
    "        split_and_transform_data_step,\n",
    "    ],\n",
    "    pipeline_definition_config=pipeline_definition_config,\n",
    "    sagemaker_session=config['session'],\n",
    ")\n",
    "\n",
    "session1_pipeline.upsert(role_arn=config[\"role\"])"
   ],
   "metadata": {
    "collapsed": false,
    "ExecuteTime": {
     "end_time": "2024-03-23T15:26:31.554550600Z",
     "start_time": "2024-03-23T15:26:28.288542200Z"
    }
   },
   "id": "98e68ac3054aacb8",
   "execution_count": 9
  },
  {
   "cell_type": "code",
   "outputs": [],
   "source": [
    "# session1_pipeline.start()"
   ],
   "metadata": {
    "collapsed": false,
    "ExecuteTime": {
     "end_time": "2024-03-23T15:26:31.620115700Z",
     "start_time": "2024-03-23T15:26:31.549551500Z"
    }
   },
   "id": "82bc6c8ce7033286",
   "execution_count": 10
  },
  {
   "cell_type": "code",
   "outputs": [
    {
     "name": "stderr",
     "output_type": "stream",
     "text": [
      "INFO:botocore.credentials:Found credentials in shared credentials file: ~/.aws/credentials\n",
      "INFO:botocore.credentials:Found credentials in shared credentials file: ~/.aws/credentials\n",
      "INFO:sagemaker.image_uris:Ignoring unnecessary Python version: py3.\n",
      "INFO:sagemaker.image_uris:Ignoring unnecessary instance type: ml.c5.xlarge.\n"
     ]
    }
   ],
   "source": [
    "from sagemaker.xgboost import XGBoost\n",
    "\n",
    "use_spot_instances = True\n",
    "max_run = 2400\n",
    "max_wait = 1200 if use_spot_instances else None\n",
    "instance_type = \"ml.m5.2xlarge\"\n",
    "\n",
    "estimator = XGBoost(\n",
    "    base_job_name=\"training\",\n",
    "    entry_point=f\"{CODE_FOLDER}/train.py\",\n",
    "    role=config['role'],\n",
    "    instance_count=1,\n",
    "    instance_type=config['instance_type'],\n",
    "    framework_version=config['framework_version'],\n",
    "    # image_uri=config[\"image\"],\n",
    "    disable_profiler=True,\n",
    "    py_version=config['py_version'],\n",
    "    use_spot_instances=use_spot_instances,\n",
    "    max_run=1000,\n",
    "    max_wait=max_wait,\n",
    ")"
   ],
   "metadata": {
    "collapsed": false,
    "ExecuteTime": {
     "end_time": "2024-03-23T15:26:32.152493700Z",
     "start_time": "2024-03-23T15:26:31.622115700Z"
    }
   },
   "id": "830a03c119740bea",
   "execution_count": 11
  },
  {
   "cell_type": "code",
   "outputs": [],
   "source": [
    "from sagemaker.workflow.steps import TrainingStep\n",
    "from sagemaker.inputs import TrainingInput\n",
    "\n",
    "train_model_step = TrainingStep(\n",
    "    name=\"train-model\",\n",
    "    estimator=estimator,\n",
    "    inputs={\n",
    "        \"train\": TrainingInput(\n",
    "            s3_data=split_and_transform_data_step.properties.ProcessingOutputConfig.Outputs[\"train\"].S3Output.S3Uri,\n",
    "            content_type=\"text/csv\"\n",
    "        ),\n",
    "        \"validation\": TrainingInput(\n",
    "            s3_data=split_and_transform_data_step.properties.ProcessingOutputConfig.Outputs[\"validation\"].S3Output.S3Uri,\n",
    "            content_type=\"text/csv\"\n",
    "        )\n",
    "    },\n",
    "    cache_config=cache_config\n",
    ")"
   ],
   "metadata": {
    "collapsed": false,
    "ExecuteTime": {
     "end_time": "2024-03-23T15:26:32.220012900Z",
     "start_time": "2024-03-23T15:26:32.146926800Z"
    }
   },
   "id": "5dd9879e78a475aa",
   "execution_count": 12
  },
  {
   "cell_type": "code",
   "outputs": [],
   "source": [
    "USE_TUNING_STEP = True and not LOCAL_MODE"
   ],
   "metadata": {
    "collapsed": false,
    "ExecuteTime": {
     "end_time": "2024-03-23T15:26:32.296877100Z",
     "start_time": "2024-03-23T15:26:32.220012900Z"
    }
   },
   "id": "51bc8ae0e97f4cfd",
   "execution_count": 13
  },
  {
   "cell_type": "code",
   "outputs": [],
   "source": [
    "from sagemaker.tuner import HyperparameterTuner, WarmStartConfig, WarmStartTypes\n",
    "from sagemaker.parameter import IntegerParameter, ContinuousParameter\n",
    "\n",
    "hyperparameter_ranges = {\n",
    "    'eta': ContinuousParameter(min_value=0.05, max_value=0.3, scaling_type=\"Logarithmic\"),\n",
    "    'max_depth': IntegerParameter(min_value=5, max_value=15, scaling_type=\"Auto\"),\n",
    "    'subsample': ContinuousParameter(min_value=0.7, max_value=1.0, scaling_type=\"Auto\"),\n",
    "    'colsample_bytree': ContinuousParameter(min_value=0.7, max_value=1.0, scaling_type=\"Logarithmic\"),\n",
    "    'lambda': ContinuousParameter(min_value=5, max_value=12, scaling_type=\"Logarithmic\"),\n",
    "    'alpha': ContinuousParameter(min_value=1, max_value=10, scaling_type=\"Logarithmic\"),\n",
    "    'min_child_weight': ContinuousParameter(min_value=0.4, max_value=1.0, scaling_type=\"Auto\"),\n",
    "}\n",
    "\n",
    "objective_type = \"Maximize\"\n",
    "metric_definitions = [\n",
    "    {'Name': 'validation:logloss',\n",
    "     'Regex': '.*\\[[0-9]+\\].*#011validation_0-logloss:([-+]?[0-9]*\\.?[0-9]+(?:[eE][-+]?[0-9]+)?).*'\n",
    "     },\n",
    "    {'Name': 'validation:f1',\n",
    "     'Regex': 'F1 score: ([0-9\\\\.]+)'\n",
    "     },\n",
    "]\n",
    "metric_name = \"validation:f1\"\n",
    "strategy = \"Bayesian\"\n",
    "\n",
    "tuner = HyperparameterTuner(\n",
    "    estimator=estimator,\n",
    "    objective_metric_name=metric_name,\n",
    "    objective_type=objective_type,\n",
    "    hyperparameter_ranges=hyperparameter_ranges,\n",
    "    metric_definitions=metric_definitions,\n",
    "    max_jobs=8,\n",
    "    max_parallel_jobs=2,\n",
    "    early_stopping_type='Auto',\n",
    ")"
   ],
   "metadata": {
    "collapsed": false,
    "ExecuteTime": {
     "end_time": "2024-03-23T15:26:32.363608600Z",
     "start_time": "2024-03-23T15:26:32.292878300Z"
    }
   },
   "id": "a31e770437cfcbb6",
   "execution_count": 14
  },
  {
   "cell_type": "code",
   "outputs": [],
   "source": [
    "from sagemaker.workflow.steps import TuningStep\n",
    "\n",
    "tune_model_step = TuningStep(\n",
    "    name=\"tune-model\",\n",
    "    tuner=tuner,\n",
    "    inputs={\n",
    "        \"train\": TrainingInput(\n",
    "            s3_data=split_and_transform_data_step.properties.ProcessingOutputConfig.Outputs[\"train\"].S3Output.S3Uri,\n",
    "            content_type=\"text/csv\"\n",
    "        ),\n",
    "        \"validation\": TrainingInput(\n",
    "            s3_data=split_and_transform_data_step.properties.ProcessingOutputConfig.Outputs[\"validation\"].S3Output.S3Uri,\n",
    "            content_type=\"text/csv\"\n",
    "        )\n",
    "    },\n",
    "    cache_config=cache_config\n",
    ")\n"
   ],
   "metadata": {
    "collapsed": false,
    "ExecuteTime": {
     "end_time": "2024-03-23T15:26:32.438941500Z",
     "start_time": "2024-03-23T15:26:32.364608500Z"
    }
   },
   "id": "473cacc2979587a9",
   "execution_count": 15
  },
  {
   "cell_type": "code",
   "outputs": [
    {
     "name": "stderr",
     "output_type": "stream",
     "text": [
      "WARNING:sagemaker.estimator:No finished training job found associated with this estimator. Please make sure this estimator is only used for building workflow config\n",
      "WARNING:sagemaker.estimator:No finished training job found associated with this estimator. Please make sure this estimator is only used for building workflow config\n",
      "WARNING:sagemaker.estimator:No finished training job found associated with this estimator. Please make sure this estimator is only used for building workflow config\n",
      "WARNING:sagemaker.estimator:No finished training job found associated with this estimator. Please make sure this estimator is only used for building workflow config\n"
     ]
    },
    {
     "data": {
      "text/plain": "{'PipelineArn': 'arn:aws:sagemaker:eu-north-1:284415450706:pipeline/session2-pipeline',\n 'ResponseMetadata': {'RequestId': '2abc00c4-6f74-4d90-bf52-fb89364c1018',\n  'HTTPStatusCode': 200,\n  'HTTPHeaders': {'x-amzn-requestid': '2abc00c4-6f74-4d90-bf52-fb89364c1018',\n   'content-type': 'application/x-amz-json-1.1',\n   'content-length': '86',\n   'date': 'Sat, 23 Mar 2024 15:26:34 GMT'},\n  'RetryAttempts': 0}}"
     },
     "execution_count": 16,
     "metadata": {},
     "output_type": "execute_result"
    }
   ],
   "source": [
    "session2_pipeline = Pipeline(\n",
    "    name=\"session2-pipeline\",\n",
    "    parameters=[dataset_location],\n",
    "    steps=[\n",
    "        split_and_transform_data_step,\n",
    "        tune_model_step if USE_TUNING_STEP else train_model_step,\n",
    "    ],\n",
    "    pipeline_definition_config=pipeline_definition_config,\n",
    "    sagemaker_session=config[\"session\"],\n",
    ")\n",
    "\n",
    "session2_pipeline.upsert(role_arn=config['role'])"
   ],
   "metadata": {
    "collapsed": false,
    "ExecuteTime": {
     "end_time": "2024-03-23T15:26:35.521307200Z",
     "start_time": "2024-03-23T15:26:32.436942500Z"
    }
   },
   "id": "fdd3e81e0dca46aa",
   "execution_count": 16
  },
  {
   "cell_type": "code",
   "outputs": [],
   "source": [
    "# session2_pipeline.start()"
   ],
   "metadata": {
    "collapsed": false,
    "ExecuteTime": {
     "end_time": "2024-03-23T15:26:35.597819600Z",
     "start_time": "2024-03-23T15:26:35.522307200Z"
    }
   },
   "id": "d6f72b1c0223eab4",
   "execution_count": 17
  },
  {
   "cell_type": "code",
   "outputs": [
    {
     "name": "stderr",
     "output_type": "stream",
     "text": [
      "INFO:sagemaker.image_uris:Ignoring unnecessary Python version: py3.\n",
      "INFO:sagemaker.image_uris:Ignoring unnecessary instance type: ml.c5.xlarge.\n"
     ]
    }
   ],
   "source": [
    "from sagemaker.xgboost import XGBoostProcessor\n",
    "\n",
    "evaluation_processor = XGBoostProcessor(\n",
    "    base_job_name=\"evaluation-processor\",\n",
    "    image_uri=config[\"image\"],\n",
    "    framework_version=config[\"framework_version\"],\n",
    "    py_version=config[\"py_version\"],\n",
    "    instance_type=config[\"instance_type\"],\n",
    "    instance_count=1,\n",
    "    role=config['role'],\n",
    "    sagemaker_session=config[\"session\"],\n",
    ")"
   ],
   "metadata": {
    "collapsed": false,
    "ExecuteTime": {
     "end_time": "2024-03-23T15:26:35.706768100Z",
     "start_time": "2024-03-23T15:26:35.592820100Z"
    }
   },
   "id": "d73cf8acd2617076",
   "execution_count": 18
  },
  {
   "cell_type": "code",
   "outputs": [],
   "source": [
    "model_assets = train_model_step.properties.ModelArtifacts.S3ModelArtifacts\n",
    "\n",
    "if USE_TUNING_STEP:\n",
    "    model_assets = tune_model_step.get_top_model_s3_uri(\n",
    "        top_k=0, s3_bucket=config[\"session\"].default_bucket()\n",
    "    )"
   ],
   "metadata": {
    "collapsed": false,
    "ExecuteTime": {
     "end_time": "2024-03-23T15:26:37.368269700Z",
     "start_time": "2024-03-23T15:26:35.689769Z"
    }
   },
   "id": "21bd3f63e2f1f757",
   "execution_count": 19
  },
  {
   "cell_type": "code",
   "outputs": [],
   "source": [
    "from sagemaker.workflow.properties import PropertyFile\n",
    "\n",
    "evaluation_report = PropertyFile(\n",
    "    name=\"evaluation-report\", output_name=\"evaluation\", path=\"evaluation.json\"\n",
    ")"
   ],
   "metadata": {
    "collapsed": false,
    "ExecuteTime": {
     "end_time": "2024-03-23T15:26:37.437516900Z",
     "start_time": "2024-03-23T15:26:37.368269700Z"
    }
   },
   "id": "f41bc50b964b336a",
   "execution_count": 20
  },
  {
   "cell_type": "code",
   "outputs": [],
   "source": [
    "evaluate_model_step = ProcessingStep(\n",
    "    name=\"evaluate-model\",\n",
    "    step_args=evaluation_processor.run(\n",
    "        inputs=[\n",
    "            # The first input is the test split that we generated on\n",
    "            # the first step of the pipeline when we split and\n",
    "            # transformed the data.\n",
    "            ProcessingInput(\n",
    "                source=split_and_transform_data_step.properties.ProcessingOutputConfig.Outputs[\n",
    "                    \"test\"\n",
    "                ].S3Output.S3Uri,\n",
    "                destination=\"/opt/ml/processing/test\",\n",
    "            ),\n",
    "            # The second input is the model that we generated on\n",
    "            # the Training or Tunning Step.\n",
    "            ProcessingInput(\n",
    "                source=model_assets,\n",
    "                destination=\"/opt/ml/processing/model\",\n",
    "            ),\n",
    "        ],\n",
    "        outputs=[\n",
    "            # The output is the evaluation report that we generated\n",
    "            # in the evaluation script.\n",
    "            ProcessingOutput(\n",
    "                output_name=\"evaluation\", source=\"/opt/ml/processing/evaluation\"\n",
    "            ),\n",
    "        ],\n",
    "        code=f\"{CODE_FOLDER}/evaluation.py\",\n",
    "    ),\n",
    "    property_files=[evaluation_report],\n",
    "    cache_config=cache_config,\n",
    ")"
   ],
   "metadata": {
    "collapsed": false,
    "ExecuteTime": {
     "end_time": "2024-03-23T15:26:37.512222600Z",
     "start_time": "2024-03-23T15:26:37.437516900Z"
    }
   },
   "id": "2147eaf6e5f6b450",
   "execution_count": 21
  },
  {
   "cell_type": "code",
   "outputs": [],
   "source": [
    "MODEL_PACKAGE_GROUP = \"football\""
   ],
   "metadata": {
    "collapsed": false,
    "ExecuteTime": {
     "end_time": "2024-03-23T15:26:37.584518800Z",
     "start_time": "2024-03-23T15:26:37.509223500Z"
    }
   },
   "id": "b5316f20b1976431",
   "execution_count": 22
  },
  {
   "cell_type": "code",
   "outputs": [],
   "source": [
    "from sagemaker.xgboost.model import XGBoostModel\n",
    "\n",
    "xgb_model = XGBoostModel(\n",
    "    model_data=model_assets,\n",
    "    framework_version=config[\"framework_version\"],\n",
    "    sagemaker_session=config[\"session\"],\n",
    "    role=config[\"role\"],\n",
    ")"
   ],
   "metadata": {
    "collapsed": false,
    "ExecuteTime": {
     "end_time": "2024-03-23T15:26:37.650584600Z",
     "start_time": "2024-03-23T15:26:37.580517200Z"
    }
   },
   "id": "921687e78a615fce",
   "execution_count": 23
  },
  {
   "cell_type": "code",
   "outputs": [],
   "source": [
    "from sagemaker.model_metrics import ModelMetrics, MetricsSource\n",
    "from sagemaker.workflow.functions import Join\n",
    "\n",
    "model_metrics = ModelMetrics(\n",
    "    model_statistics=MetricsSource(\n",
    "        s3_uri=Join(\n",
    "            on=\"/\",\n",
    "            values=[\n",
    "                evaluate_model_step.properties.ProcessingOutputConfig.Outputs[\n",
    "                    \"evaluation\"\n",
    "                ].S3Output.S3Uri,\n",
    "                \"evaluation.json\",\n",
    "            ],\n",
    "        ),\n",
    "        content_type=\"application/json\",\n",
    "    )\n",
    ")"
   ],
   "metadata": {
    "collapsed": false,
    "ExecuteTime": {
     "end_time": "2024-03-23T15:26:37.742106900Z",
     "start_time": "2024-03-23T15:26:37.651583900Z"
    }
   },
   "id": "b6361beead213632",
   "execution_count": 24
  },
  {
   "cell_type": "code",
   "outputs": [
    {
     "name": "stderr",
     "output_type": "stream",
     "text": [
      "INFO:sagemaker.image_uris:Ignoring unnecessary instance type: ml.c5.xlarge.\n"
     ]
    }
   ],
   "source": [
    "from sagemaker.workflow.model_step import ModelStep\n",
    "\n",
    "register_model_step = ModelStep(\n",
    "    name=\"register-model\",\n",
    "    step_args=xgb_model.register(\n",
    "        model_package_group_name=MODEL_PACKAGE_GROUP,\n",
    "        approval_status=\"Approved\",\n",
    "        model_metrics=model_metrics,\n",
    "        content_types=[\"text/csv\"],\n",
    "        response_types=[\"application/json\"],\n",
    "        inference_instances=[config[\"instance_type\"]],\n",
    "        transform_instances=[config[\"instance_type\"]],\n",
    "        domain=\"MACHINE_LEARNING\",\n",
    "        task=\"CLASSIFICATION\",\n",
    "        framework=\"XGBOOST\",\n",
    "        framework_version=config[\"framework_version\"],\n",
    "    ),\n",
    ")"
   ],
   "metadata": {
    "collapsed": false,
    "ExecuteTime": {
     "end_time": "2024-03-23T15:26:37.813234Z",
     "start_time": "2024-03-23T15:26:37.722106800Z"
    }
   },
   "id": "911f3804666f3732",
   "execution_count": 25
  },
  {
   "cell_type": "code",
   "outputs": [],
   "source": [
    "from sagemaker.workflow.parameters import ParameterFloat\n",
    "\n",
    "f1_threshold = ParameterFloat(name=\"f1_threshold\", default_value=0.66)"
   ],
   "metadata": {
    "collapsed": false,
    "ExecuteTime": {
     "end_time": "2024-03-23T15:28:23.722419600Z",
     "start_time": "2024-03-23T15:28:23.653231500Z"
    }
   },
   "id": "b0d757e05ef0a9cc",
   "execution_count": 31
  },
  {
   "cell_type": "code",
   "outputs": [],
   "source": [
    "from sagemaker.workflow.fail_step import FailStep\n",
    "\n",
    "fail_step = FailStep(\n",
    "    name=\"fail\",\n",
    "    error_message=Join(\n",
    "        on=\" \",\n",
    "        values=[\n",
    "            \"Execution failed because the model's f1 score was lower than\",\n",
    "            f1_threshold,\n",
    "        ],\n",
    "    ),\n",
    ")"
   ],
   "metadata": {
    "collapsed": false,
    "ExecuteTime": {
     "end_time": "2024-03-23T15:28:23.951227200Z",
     "start_time": "2024-03-23T15:28:23.881798900Z"
    }
   },
   "id": "4f95bcd0cce77e3b",
   "execution_count": 32
  },
  {
   "cell_type": "code",
   "outputs": [],
   "source": [
    "from sagemaker.workflow.functions import JsonGet\n",
    "from sagemaker.workflow.conditions import ConditionGreaterThanOrEqualTo\n",
    "\n",
    "condition = ConditionGreaterThanOrEqualTo(\n",
    "    left=JsonGet(\n",
    "        step_name=evaluate_model_step.name,\n",
    "        property_file=evaluation_report,\n",
    "        json_path=\"metrics.f1.value\",\n",
    "    ),\n",
    "    right=f1_threshold,\n",
    ")\n",
    "\n",
    "from sagemaker.workflow.condition_step import ConditionStep\n",
    "\n",
    "condition_step = ConditionStep(\n",
    "    name=\"check-model-f1-score\",\n",
    "    conditions=[condition],\n",
    "    if_steps=[register_model_step] if not LOCAL_MODE else [],\n",
    "    else_steps=[fail_step],\n",
    ")"
   ],
   "metadata": {
    "collapsed": false,
    "ExecuteTime": {
     "end_time": "2024-03-23T15:28:24.313086900Z",
     "start_time": "2024-03-23T15:28:24.224502900Z"
    }
   },
   "id": "c01a84104571ea15",
   "execution_count": 33
  },
  {
   "cell_type": "code",
   "outputs": [],
   "source": [
    "session3_pipeline = Pipeline(\n",
    "    name=\"session3-pipeline\",\n",
    "    parameters=[dataset_location, f1_threshold],\n",
    "    steps=[\n",
    "        split_and_transform_data_step,\n",
    "        tune_model_step if USE_TUNING_STEP else train_model_step,\n",
    "        evaluate_model_step,\n",
    "        condition_step,\n",
    "    ],\n",
    "    pipeline_definition_config=pipeline_definition_config,\n",
    "    sagemaker_session=config[\"session\"],\n",
    ")\n",
    "\n",
    "session3_pipeline.upsert(role_arn=config['role'])"
   ],
   "metadata": {
    "collapsed": false,
    "ExecuteTime": {
     "end_time": "2024-03-23T16:44:26.808535400Z",
     "start_time": "2024-03-23T16:44:26.697770500Z"
    }
   },
   "id": "6dfcaba4a8bdd098",
   "execution_count": 36
  },
  {
   "cell_type": "code",
   "outputs": [],
   "source": [
    "session3_pipeline.start()"
   ],
   "metadata": {
    "collapsed": false,
    "ExecuteTime": {
     "end_time": "2024-03-23T16:44:32.957183700Z",
     "start_time": "2024-03-23T16:44:32.874737500Z"
    }
   },
   "id": "e5e4d56cefdcbf09",
   "execution_count": 37
  },
  {
   "cell_type": "code",
   "outputs": [],
   "source": [],
   "metadata": {
    "collapsed": false,
    "ExecuteTime": {
     "end_time": "2024-03-23T15:28:29.365806200Z",
     "start_time": "2024-03-23T15:28:29.364804100Z"
    }
   },
   "id": "3b4756ed29856a1a",
   "execution_count": 35
  },
  {
   "cell_type": "code",
   "outputs": [],
   "source": [],
   "metadata": {
    "collapsed": false
   },
   "id": "4c6aaa11d47b258"
  }
 ],
 "metadata": {
  "kernelspec": {
   "display_name": "Python 3",
   "language": "python",
   "name": "python3"
  },
  "language_info": {
   "codemirror_mode": {
    "name": "ipython",
    "version": 2
   },
   "file_extension": ".py",
   "mimetype": "text/x-python",
   "name": "python",
   "nbconvert_exporter": "python",
   "pygments_lexer": "ipython2",
   "version": "2.7.6"
  }
 },
 "nbformat": 4,
 "nbformat_minor": 5
}
