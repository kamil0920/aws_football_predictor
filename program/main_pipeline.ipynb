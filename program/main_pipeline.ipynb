{
 "cells": [
  {
   "cell_type": "code",
   "source": [
    "import json\n",
    "import logging\n",
    "import sys\n",
    "import warnings\n",
    "from pathlib import Path\n",
    "\n",
    "import ipytest\n",
    "\n",
    "%load_ext autoreload\n",
    "%autoreload 2\n",
    "%load_ext dotenv\n",
    "%dotenv\n",
    "\n",
    "CODE_FOLDER = Path(\"code\")\n",
    "CODE_FOLDER.mkdir(parents=True, exist_ok=True)\n",
    "INFERENCE_CODE_FOLDER = CODE_FOLDER / \"inference\"\n",
    "INFERENCE_CODE_FOLDER.mkdir(parents=True, exist_ok=True)\n",
    "\n",
    "sys.path.extend([f\"./{CODE_FOLDER}\", f\"./{INFERENCE_CODE_FOLDER}\"])\n",
    "\n",
    "ipytest.autoconfig(raise_on_error=True)\n",
    "\n",
    "logging.getLogger('sagemaker').setLevel(logging.ERROR)\n",
    "warnings.filterwarnings('ignore')"
   ],
   "metadata": {
    "collapsed": false,
    "ExecuteTime": {
     "end_time": "2024-05-07T10:19:46.442987Z",
     "start_time": "2024-05-07T10:19:46.381230Z"
    }
   },
   "id": "6beb300bf7e34dc7",
   "outputs": [],
   "execution_count": 1
  },
  {
   "cell_type": "code",
   "source": [
    "# !aws s3api create-bucket --bucket football-data-kamil --create-bucket-configuration LocationConstraint=eu-north-1"
   ],
   "metadata": {
    "collapsed": false,
    "ExecuteTime": {
     "end_time": "2024-05-07T10:19:46.779189Z",
     "start_time": "2024-05-07T10:19:46.770757Z"
    }
   },
   "id": "bd1ac55d994fc2d1",
   "outputs": [],
   "execution_count": 2
  },
  {
   "cell_type": "code",
   "source": [
    "import sagemaker\n",
    "import boto3\n",
    "\n",
    "sagemaker_session = sagemaker.session.Session()\n",
    "sagemaker_client = boto3.client(\"sagemaker\")\n",
    "iam_client = boto3.client(\"iam\")\n",
    "region = boto3.Session().region_name"
   ],
   "metadata": {
    "collapsed": false,
    "ExecuteTime": {
     "end_time": "2024-05-07T10:19:47.921729Z",
     "start_time": "2024-05-07T10:19:46.825149Z"
    }
   },
   "id": "9ecad0246ed456da",
   "outputs": [
    {
     "name": "stdout",
     "output_type": "stream",
     "text": [
      "sagemaker.config INFO - Not applying SDK defaults from location: /etc/xdg/xdg-ubuntu/sagemaker/config.yaml\n",
      "sagemaker.config INFO - Not applying SDK defaults from location: /home/kmitura/.config/sagemaker/config.yaml\n"
     ]
    }
   ],
   "execution_count": 3
  },
  {
   "cell_type": "code",
   "source": [
    "import os\n",
    "from sagemaker.workflow.pipeline_context import PipelineSession, LocalPipelineSession\n",
    "\n",
    "DUMMY_ROLE = \"arn:aws:iam::111111111111:role/service-role/AmazonSageMaker-ExecutionRole-11111111111111\"\n",
    "BUCKET = os.environ[\"BUCKET\"]\n",
    "S3_LOCATION = f\"s3://{BUCKET}/football\"\n",
    "LOCAL_MODE = False\n",
    "\n",
    "role = os.environ[\"ROLE\"]\n",
    "\n",
    "architecture = !(uname -m)\n",
    "IS_ARM64_ARCHITECTURE = architecture[0] == \"arm64\"\n",
    "\n",
    "if LOCAL_MODE:\n",
    "    config = {\n",
    "        \"session\": LocalPipelineSession(default_bucket=BUCKET),\n",
    "        \"instance_type\": \"local\",\n",
    "        \"image\": \"sagemaker-xgboost-training-toolkit-local\" if IS_ARM64_ARCHITECTURE else None\n",
    "    }\n",
    "else:\n",
    "    config = {\n",
    "        \"session\": PipelineSession(default_bucket=BUCKET) if not LOCAL_MODE else None,\n",
    "        \"instance_type\": \"ml.c5.xlarge\",\n",
    "        \"image\": None,\n",
    "    }\n",
    "\n",
    "config[\"framework_version\"] = \"1.7-1\"\n",
    "config[\"py_version\"] = \"py310\""
   ],
   "metadata": {
    "collapsed": false,
    "ExecuteTime": {
     "end_time": "2024-05-07T10:19:47.975887Z",
     "start_time": "2024-05-07T10:19:47.922724Z"
    }
   },
   "id": "ee6bc054dfdcbab",
   "outputs": [],
   "execution_count": 4
  },
  {
   "cell_type": "code",
   "source": [
    "\n",
    "\n",
    "df_local_path = str(os.environ['DATA_FILEPATH_X'])\n",
    "y_local_path = str(os.environ['DATA_FILEPATH_Y'])\n",
    "\n",
    "# S3Uploader.upload(local_path=df_local_path, desired_s3_uri=f\"{S3_LOCATION}/data\", sagemaker_session=config['session'])\n",
    "# S3Uploader.upload(local_path=y_local_path, desired_s3_uri=f\"{S3_LOCATION}/data\", sagemaker_session=config['session'])"
   ],
   "metadata": {
    "collapsed": false,
    "ExecuteTime": {
     "end_time": "2024-05-07T10:19:47.990536Z",
     "start_time": "2024-05-07T10:19:47.976766Z"
    }
   },
   "id": "54a0a7017c5afb2f",
   "outputs": [],
   "execution_count": 5
  },
  {
   "cell_type": "code",
   "source": [
    "from sagemaker.workflow.steps import CacheConfig\n",
    "\n",
    "cache_config = CacheConfig(enable_caching=True, expire_after=\"15d\")"
   ],
   "metadata": {
    "collapsed": false,
    "ExecuteTime": {
     "end_time": "2024-05-07T10:19:48.007768Z",
     "start_time": "2024-05-07T10:19:47.992208Z"
    }
   },
   "id": "36f2b2ff5af7f7bf",
   "outputs": [],
   "execution_count": 6
  },
  {
   "cell_type": "code",
   "source": [
    "from sagemaker.workflow.pipeline_definition_config import PipelineDefinitionConfig\n",
    "from sagemaker.sklearn import SKLearnProcessor\n",
    "from sagemaker.workflow.steps import ProcessingStep\n",
    "from sagemaker.processing import ProcessingInput, ProcessingOutput\n",
    "from sagemaker.workflow.parameters import ParameterString\n",
    "from sagemaker.workflow.retry import (\n",
    "    SageMakerJobExceptionTypeEnum,\n",
    ")\n",
    "\n",
    "retry_policy = {\n",
    "    \"ExceptionType\": SageMakerJobExceptionTypeEnum.INTERNAL_ERROR,\n",
    "    \"IntervalSeconds\": 2,\n",
    "    \"BackoffRate\": 2,\n",
    "    \"MaxAttempts\": 5,\n",
    "    \"ExpireAfterMin\": 1\n",
    "}\n",
    "\n",
    "pipeline_definition_config = PipelineDefinitionConfig(use_custom_job_prefix=True)\n",
    "\n",
    "dataset_location = ParameterString(\n",
    "    name=\"dataset_location\",\n",
    "    default_value=f\"{S3_LOCATION}/data\",\n",
    ")\n",
    "\n",
    "processor = SKLearnProcessor(\n",
    "    base_job_name=\"split-and-transform-data\",\n",
    "    framework_version=\"1.2-1\",\n",
    "    instance_type=config[\"instance_type\"],\n",
    "    instance_count=1,\n",
    "    role=role,\n",
    "    sagemaker_session=config['session'],\n",
    ")\n",
    "\n",
    "split_and_transform_data_step = ProcessingStep(\n",
    "    name=\"split-and-transform-data\",\n",
    "    step_args=processor.run(\n",
    "        code=f\"{CODE_FOLDER}/preprocessor.py\",\n",
    "        inputs=[\n",
    "            ProcessingInput(source=dataset_location, destination=\"/opt/ml/processing/input\"),\n",
    "        ],\n",
    "        outputs=[\n",
    "            ProcessingOutput(output_name=\"train\", source=\"/opt/ml/processing/train\"),\n",
    "            ProcessingOutput(output_name=\"validation\", source=\"/opt/ml/processing/validation\"),\n",
    "            ProcessingOutput(output_name=\"test\", source=\"/opt/ml/processing/test\"),\n",
    "            ProcessingOutput(output_name=\"model\", source=\"/opt/ml/processing/model\"),\n",
    "            ProcessingOutput(output_name=\"train-baseline\", source=\"/opt/ml/processing/train-baseline\"),\n",
    "            ProcessingOutput(output_name=\"test-baseline\", source=\"/opt/ml/processing/test-baseline\"),\n",
    "        ]\n",
    "    ),\n",
    "    cache_config=cache_config,\n",
    ")"
   ],
   "metadata": {
    "collapsed": false,
    "ExecuteTime": {
     "end_time": "2024-05-07T10:19:48.037351Z",
     "start_time": "2024-05-07T10:19:48.008657Z"
    }
   },
   "id": "9c975fc0201b8f4d",
   "outputs": [],
   "execution_count": 7
  },
  {
   "cell_type": "code",
   "source": [
    "# from sagemaker.workflow.pipeline import Pipeline\n",
    "# \n",
    "# session1_pipeline = Pipeline(\n",
    "#     name=\"session1-pipeline\",\n",
    "#     parameters=[dataset_location],\n",
    "#     steps=[\n",
    "#         split_and_transform_data_step,\n",
    "#     ],\n",
    "#     pipeline_definition_config=pipeline_definition_config,\n",
    "#     sagemaker_session=config['session'],\n",
    "# )\n",
    "# \n",
    "# session1_pipeline.upsert(role)\n",
    "# # session1_pipeline.start()"
   ],
   "metadata": {
    "collapsed": false,
    "ExecuteTime": {
     "end_time": "2024-05-07T10:19:48.052064Z",
     "start_time": "2024-05-07T10:19:48.038219Z"
    }
   },
   "id": "98e68ac3054aacb8",
   "outputs": [],
   "execution_count": 8
  },
  {
   "cell_type": "code",
   "source": [
    "from sagemaker.xgboost import XGBoost\n",
    "\n",
    "use_spot_instances = True and not LOCAL_MODE\n",
    "max_run = 1000\n",
    "max_wait = 1200 if use_spot_instances else None\n",
    "instance_type = \"ml.m5.2xlarge\"\n",
    "\n",
    "xgboost = XGBoost(\n",
    "    base_job_name=\"training\",\n",
    "    entry_point=f\"{CODE_FOLDER}/train.py\",\n",
    "    role=role,\n",
    "    instance_count=1,\n",
    "    instance_type=config['instance_type'],\n",
    "    framework_version=config['framework_version'],\n",
    "    disable_profiler=True,\n",
    "    use_spot_instances=use_spot_instances,\n",
    "    max_run=max_run,\n",
    "    max_wait=max_wait,\n",
    "    sagemaker_session=config['session']\n",
    ")"
   ],
   "metadata": {
    "collapsed": false,
    "ExecuteTime": {
     "end_time": "2024-05-07T10:19:48.081528Z",
     "start_time": "2024-05-07T10:19:48.053147Z"
    }
   },
   "id": "830a03c119740bea",
   "outputs": [],
   "execution_count": 9
  },
  {
   "cell_type": "code",
   "source": [
    "from sagemaker.workflow.steps import TrainingStep\n",
    "from sagemaker.inputs import TrainingInput\n",
    "\n",
    "\n",
    "def create_training_step(estimator):\n",
    "    \"\"\"Create a SageMaker TrainingStep using the provided estimator.\"\"\"\n",
    "    return TrainingStep(\n",
    "        name=\"train-model\",\n",
    "        step_args=estimator.fit(\n",
    "            inputs={\n",
    "                \"train\": TrainingInput(\n",
    "                    s3_data=split_and_transform_data_step.properties.ProcessingOutputConfig.Outputs[\n",
    "                        \"train\"\n",
    "                    ].S3Output.S3Uri,\n",
    "                    content_type=\"text/csv\",\n",
    "                ),\n",
    "                \"validation\": TrainingInput(\n",
    "                    s3_data=split_and_transform_data_step.properties.ProcessingOutputConfig.Outputs[\n",
    "                        \"validation\"\n",
    "                    ].S3Output.S3Uri,\n",
    "                    content_type=\"text/csv\",\n",
    "                ),\n",
    "            },\n",
    "        ),\n",
    "        cache_config=cache_config,\n",
    "    )\n",
    "\n",
    "train_model_step = create_training_step(xgboost)"
   ],
   "metadata": {
    "collapsed": false,
    "ExecuteTime": {
     "end_time": "2024-05-07T10:19:48.098478Z",
     "start_time": "2024-05-07T10:19:48.082388Z"
    }
   },
   "id": "5dd9879e78a475aa",
   "outputs": [],
   "execution_count": 10
  },
  {
   "cell_type": "code",
   "source": [
    "USE_TUNING_STEP = False and not LOCAL_MODE"
   ],
   "metadata": {
    "collapsed": false,
    "ExecuteTime": {
     "end_time": "2024-05-07T10:19:48.113207Z",
     "start_time": "2024-05-07T10:19:48.099502Z"
    }
   },
   "id": "51bc8ae0e97f4cfd",
   "outputs": [],
   "execution_count": 11
  },
  {
   "cell_type": "code",
   "source": [
    "from sagemaker.tuner import HyperparameterTuner\n",
    "from sagemaker.parameter import IntegerParameter, ContinuousParameter\n",
    "\n",
    "hyperparameter_ranges = {\n",
    "    'eta': ContinuousParameter(min_value=0.05, max_value=0.3, scaling_type=\"Logarithmic\"),\n",
    "    'max_depth': IntegerParameter(min_value=5, max_value=15, scaling_type=\"Auto\"),\n",
    "    'subsample': ContinuousParameter(min_value=0.7, max_value=1.0, scaling_type=\"Auto\"),\n",
    "    'colsample_bytree': ContinuousParameter(min_value=0.7, max_value=1.0, scaling_type=\"Logarithmic\"),\n",
    "    'lambda': ContinuousParameter(min_value=5, max_value=12, scaling_type=\"Logarithmic\"),\n",
    "    'alpha': ContinuousParameter(min_value=1, max_value=10, scaling_type=\"Logarithmic\"),\n",
    "    'min_child_weight': ContinuousParameter(min_value=0.4, max_value=1.0, scaling_type=\"Auto\"),\n",
    "}\n",
    "\n",
    "objective_type = \"Maximize\"\n",
    "metric_definitions = [\n",
    "    {'Name': 'validation:logloss',\n",
    "     'Regex': r\".*\\[[0-9]+\\].*#011validation_0-logloss:([-+]?[0-9]*\\.?[0-9]+(?:[eE][-+]?[0-9]+)?).*\"\n",
    "     },\n",
    "    {'Name': 'validation:f1',\n",
    "     'Regex': 'F1 score: ([0-9\\\\.]+)'\n",
    "     },\n",
    "]\n",
    "metric_name = \"validation:f1\"\n",
    "strategy = \"Bayesian\"\n",
    "\n",
    "tuner = HyperparameterTuner(\n",
    "    estimator=xgboost,\n",
    "    objective_metric_name=metric_name,\n",
    "    objective_type=objective_type,\n",
    "    hyperparameter_ranges=hyperparameter_ranges,\n",
    "    metric_definitions=metric_definitions,\n",
    "    max_jobs=8,\n",
    "    max_parallel_jobs=2,\n",
    "    early_stopping_type='Auto',\n",
    ")"
   ],
   "metadata": {
    "collapsed": false,
    "ExecuteTime": {
     "end_time": "2024-05-07T10:19:48.130122Z",
     "start_time": "2024-05-07T10:19:48.115252Z"
    }
   },
   "id": "a31e770437cfcbb6",
   "outputs": [],
   "execution_count": 12
  },
  {
   "cell_type": "code",
   "source": [
    "from sagemaker.workflow.steps import TuningStep\n",
    "\n",
    "tune_model_step = TuningStep(\n",
    "    name=\"tune-model\",\n",
    "    step_args=tuner.fit(\n",
    "        inputs={\n",
    "            \"train\": TrainingInput(\n",
    "                s3_data=split_and_transform_data_step.properties.ProcessingOutputConfig.Outputs[\n",
    "                    \"train\"\n",
    "                ].S3Output.S3Uri,\n",
    "                content_type=\"text/csv\"\n",
    "            ),\n",
    "            \"validation\": TrainingInput(\n",
    "                s3_data=split_and_transform_data_step.properties.ProcessingOutputConfig.Outputs[\n",
    "                    \"validation\"\n",
    "                ].S3Output.S3Uri,\n",
    "                content_type=\"text/csv\"\n",
    "            )\n",
    "        },\n",
    "    ),\n",
    "    cache_config=cache_config\n",
    ")"
   ],
   "metadata": {
    "collapsed": false,
    "ExecuteTime": {
     "end_time": "2024-05-07T10:19:48.144845Z",
     "start_time": "2024-05-07T10:19:48.131004Z"
    }
   },
   "id": "473cacc2979587a9",
   "outputs": [],
   "execution_count": 13
  },
  {
   "cell_type": "code",
   "source": [
    "# session2_pipeline = Pipeline(\n",
    "#     name=\"session2-pipeline\",\n",
    "#     parameters=[dataset_location],\n",
    "#     steps=[\n",
    "#         split_and_transform_data_step,\n",
    "#         tune_model_step if USE_TUNING_STEP else train_model_step,\n",
    "#     ],\n",
    "#     pipeline_definition_config=pipeline_definition_config,\n",
    "#     sagemaker_session=config[\"session\"],\n",
    "# )\n",
    "# \n",
    "# session2_pipeline.upsert(role_arn=role)\n",
    "# # session2_pipeline.start()"
   ],
   "metadata": {
    "collapsed": false,
    "ExecuteTime": {
     "end_time": "2024-05-07T10:19:48.159237Z",
     "start_time": "2024-05-07T10:19:48.145699Z"
    }
   },
   "id": "fdd3e81e0dca46aa",
   "outputs": [],
   "execution_count": 14
  },
  {
   "cell_type": "code",
   "source": [
    "from sagemaker.xgboost import XGBoostProcessor\n",
    "\n",
    "evaluation_processor = XGBoostProcessor(\n",
    "    base_job_name=\"evaluation-processor\",\n",
    "    image_uri=config[\"image\"],\n",
    "    framework_version=config[\"framework_version\"],\n",
    "    instance_type=config[\"instance_type\"],\n",
    "    instance_count=1,\n",
    "    role=role,\n",
    "    sagemaker_session=config[\"session\"],\n",
    ")"
   ],
   "metadata": {
    "collapsed": false,
    "ExecuteTime": {
     "end_time": "2024-05-07T10:19:48.291095Z",
     "start_time": "2024-05-07T10:19:48.160189Z"
    }
   },
   "id": "d73cf8acd2617076",
   "outputs": [],
   "execution_count": 15
  },
  {
   "cell_type": "code",
   "source": [
    "from sagemaker.workflow.properties import PropertyFile\n",
    "\n",
    "evaluation_report = PropertyFile(\n",
    "    name=\"evaluation-report\", output_name=\"evaluation\", path=\"evaluation.json\"\n",
    ")"
   ],
   "metadata": {
    "collapsed": false,
    "ExecuteTime": {
     "end_time": "2024-05-07T10:19:48.304400Z",
     "start_time": "2024-05-07T10:19:48.291949Z"
    }
   },
   "id": "f41bc50b964b336a",
   "outputs": [],
   "execution_count": 16
  },
  {
   "cell_type": "code",
   "source": [
    "model_assets = train_model_step.properties.ModelArtifacts.S3ModelArtifacts\n",
    "\n",
    "if USE_TUNING_STEP:\n",
    "    model_assets = tune_model_step.get_top_model_s3_uri(\n",
    "        top_k=0,\n",
    "        s3_bucket=config[\"session\"].default_bucket(),\n",
    "    )"
   ],
   "metadata": {
    "collapsed": false,
    "ExecuteTime": {
     "end_time": "2024-05-07T10:19:48.321557Z",
     "start_time": "2024-05-07T10:19:48.305214Z"
    }
   },
   "id": "d55dcab3ed97a887",
   "outputs": [],
   "execution_count": 17
  },
  {
   "cell_type": "code",
   "source": [
    "evaluate_model_step = ProcessingStep(\n",
    "    name=\"evaluate-model\",\n",
    "    step_args=evaluation_processor.run(\n",
    "        inputs=[\n",
    "            ProcessingInput(\n",
    "                source=split_and_transform_data_step.properties.ProcessingOutputConfig.Outputs[\n",
    "                    \"test\"\n",
    "                ].S3Output.S3Uri,\n",
    "                destination=\"/opt/ml/processing/test\",\n",
    "            ),\n",
    "            ProcessingInput(\n",
    "                source=model_assets,\n",
    "                destination=\"/opt/ml/processing/model\",\n",
    "            ),\n",
    "        ],\n",
    "        outputs=[\n",
    "            ProcessingOutput(\n",
    "                output_name=\"evaluation\", source=\"/opt/ml/processing/evaluation\"\n",
    "            ),\n",
    "        ],\n",
    "        code=f\"{CODE_FOLDER}/evaluation.py\",\n",
    "    ),\n",
    "    property_files=[evaluation_report],\n",
    "    cache_config=cache_config,\n",
    ")"
   ],
   "metadata": {
    "collapsed": false,
    "ExecuteTime": {
     "end_time": "2024-05-07T10:19:48.342796Z",
     "start_time": "2024-05-07T10:19:48.322786Z"
    }
   },
   "id": "2147eaf6e5f6b450",
   "outputs": [],
   "execution_count": 18
  },
  {
   "cell_type": "code",
   "source": [
    "# session3_pipeline = Pipeline(\n",
    "#     name=\"session3-pipeline\",\n",
    "#     parameters=[dataset_location],\n",
    "#     steps=[\n",
    "#         split_and_transform_data_step,\n",
    "#         tune_model_step if USE_TUNING_STEP else train_model_step,\n",
    "#         evaluate_model_step,\n",
    "#     ],\n",
    "#     pipeline_definition_config=pipeline_definition_config,\n",
    "#     sagemaker_session=config[\"session\"],\n",
    "# )\n",
    "# \n",
    "# session3_pipeline.upsert(role_arn=role)\n",
    "# # session3_pipeline.start()"
   ],
   "metadata": {
    "collapsed": false,
    "ExecuteTime": {
     "end_time": "2024-05-07T10:19:48.357549Z",
     "start_time": "2024-05-07T10:19:48.343976Z"
    }
   },
   "id": "6a397939003d913d",
   "outputs": [],
   "execution_count": 19
  },
  {
   "cell_type": "code",
   "source": [
    "BASIC_MODEL_PACKAGE_GROUP = \"basic-football\""
   ],
   "metadata": {
    "collapsed": false,
    "ExecuteTime": {
     "end_time": "2024-05-07T10:19:48.372731Z",
     "start_time": "2024-05-07T10:19:48.358339Z"
    }
   },
   "id": "4a2fd3f026fefc58",
   "outputs": [],
   "execution_count": 20
  },
  {
   "cell_type": "code",
   "source": [
    "from sagemaker.xgboost.model import XGBoostModel\n",
    "\n",
    "xgb_model = XGBoostModel(\n",
    "    model_data=model_assets,\n",
    "    framework_version=config[\"framework_version\"],\n",
    "    sagemaker_session=config[\"session\"],\n",
    "    role=role,\n",
    ")"
   ],
   "metadata": {
    "collapsed": false,
    "ExecuteTime": {
     "end_time": "2024-05-07T10:19:48.386009Z",
     "start_time": "2024-05-07T10:19:48.373890Z"
    }
   },
   "id": "5cd6b925adb4a12e",
   "outputs": [],
   "execution_count": 21
  },
  {
   "cell_type": "code",
   "source": [
    "from sagemaker.model_metrics import MetricsSource, ModelMetrics\n",
    "from sagemaker.workflow.functions import Join\n",
    "\n",
    "model_metrics = ModelMetrics(\n",
    "    model_statistics=MetricsSource(\n",
    "        s3_uri=Join(\n",
    "            on=\"/\",\n",
    "            values=[\n",
    "                evaluate_model_step.properties.ProcessingOutputConfig.Outputs[\n",
    "                    \"evaluation\"\n",
    "                ].S3Output.S3Uri,\n",
    "                \"evaluation.json\",\n",
    "            ],\n",
    "        ),\n",
    "        content_type=\"application/json\",\n",
    "    ),\n",
    ")"
   ],
   "metadata": {
    "collapsed": false,
    "ExecuteTime": {
     "end_time": "2024-05-07T10:19:48.400219Z",
     "start_time": "2024-05-07T10:19:48.386941Z"
    }
   },
   "id": "4f1255fb2188d37d",
   "outputs": [],
   "execution_count": 22
  },
  {
   "cell_type": "code",
   "source": [
    "from sagemaker.workflow.model_step import ModelStep\n",
    "\n",
    "def create_registration_step(\n",
    "        model,\n",
    "        model_package_group_name,\n",
    "        approval_status=\"Approved\",\n",
    "        content_types=[\"text/csv\"],\n",
    "        response_types=[\"text/csv\"],\n",
    "        model_metrics=None,\n",
    "        drift_check_baselines=None,\n",
    "):\n",
    "    \"\"\"Create a Registration Step using the supplied parameters.\"\"\"\n",
    "    return ModelStep(\n",
    "        name=\"register\",\n",
    "        step_args=model.register(\n",
    "            model_package_group_name=model_package_group_name,\n",
    "            approval_status=approval_status,\n",
    "            model_metrics=model_metrics,\n",
    "            drift_check_baselines=drift_check_baselines,\n",
    "            content_types=content_types,\n",
    "            response_types=response_types,\n",
    "            inference_instances=[config[\"instance_type\"]],\n",
    "            transform_instances=[config[\"instance_type\"]],\n",
    "            framework_version=config[\"framework_version\"],\n",
    "            domain=\"MACHINE_LEARNING\",\n",
    "            task=\"CLASSIFICATION\",\n",
    "            framework=\"XGBOOST\",\n",
    "        ),\n",
    "    )\n",
    "\n",
    "\n",
    "register_model_step = create_registration_step(\n",
    "    xgb_model,\n",
    "    BASIC_MODEL_PACKAGE_GROUP,\n",
    "    model_metrics=model_metrics,\n",
    ")"
   ],
   "metadata": {
    "collapsed": false,
    "ExecuteTime": {
     "end_time": "2024-05-07T10:19:48.666788Z",
     "start_time": "2024-05-07T10:19:48.401340Z"
    }
   },
   "id": "7f97e2d4f10652ce",
   "outputs": [],
   "execution_count": 23
  },
  {
   "cell_type": "code",
   "source": [
    "from sagemaker.workflow.functions import JsonGet\n",
    "from sagemaker.workflow.fail_step import FailStep\n",
    "from sagemaker.workflow.parameters import ParameterFloat\n",
    "from sagemaker.workflow.condition_step import ConditionStep\n",
    "from sagemaker.workflow.conditions import ConditionGreaterThanOrEqualTo\n",
    "\n",
    "f1_threshold = ParameterFloat(name=\"f1_threshold\", default_value=0.64)\n",
    "\n",
    "fail_step = FailStep(\n",
    "    name=\"fail\",\n",
    "    error_message=Join(\n",
    "        on=\" \",\n",
    "        values=[\n",
    "            \"Execution failed because the model's f1 result was lower than\",\n",
    "            f1_threshold,\n",
    "        ],\n",
    "    ),\n",
    ")\n",
    "\n",
    "condition = ConditionGreaterThanOrEqualTo(\n",
    "    left=JsonGet(\n",
    "        step_name=evaluate_model_step.name,\n",
    "        property_file=evaluation_report,\n",
    "        json_path=\"metrics.f1.value\",\n",
    "    ),\n",
    "    right=f1_threshold,\n",
    ")\n",
    "\n",
    "condition_step = ConditionStep(\n",
    "    name=\"check-model-f1-score\",\n",
    "    conditions=[condition],\n",
    "    if_steps=[register_model_step],\n",
    "    else_steps=[fail_step],\n",
    ")"
   ],
   "metadata": {
    "collapsed": false,
    "ExecuteTime": {
     "end_time": "2024-05-07T10:19:48.684083Z",
     "start_time": "2024-05-07T10:19:48.667654Z"
    }
   },
   "id": "d8ab4d19cbfc11ae",
   "outputs": [],
   "execution_count": 24
  },
  {
   "cell_type": "code",
   "source": [
    "# session5_pipeline = Pipeline(\n",
    "#     name=\"session5-pipeline\",\n",
    "#     parameters=[dataset_location, f1_threshold],\n",
    "#     steps=[\n",
    "#         split_and_transform_data_step,\n",
    "#         tune_model_step if USE_TUNING_STEP else train_model_step,\n",
    "#         evaluate_model_step,\n",
    "#         condition_step,\n",
    "#     ],\n",
    "#     pipeline_definition_config=pipeline_definition_config,\n",
    "#     sagemaker_session=config[\"session\"],\n",
    "# )\n",
    "# \n",
    "# session5_pipeline.upsert(role_arn=role)\n",
    "# # session5_pipeline.start()"
   ],
   "metadata": {
    "collapsed": false,
    "ExecuteTime": {
     "end_time": "2024-05-07T10:19:48.697582Z",
     "start_time": "2024-05-07T10:19:48.684977Z"
    }
   },
   "id": "ffcc8d2ed776023d",
   "outputs": [],
   "execution_count": 25
  },
  {
   "cell_type": "code",
   "source": [
    "response = sagemaker_client.list_model_packages(\n",
    "    ModelPackageGroupName=BASIC_MODEL_PACKAGE_GROUP,\n",
    "    ModelApprovalStatus=\"Approved\",\n",
    "    SortBy=\"CreationTime\",\n",
    "    MaxResults=1,\n",
    ")\n",
    "\n",
    "package = (\n",
    "    response[\"ModelPackageSummaryList\"][0]\n",
    "    if response[\"ModelPackageSummaryList\"]\n",
    "    else None\n",
    ")\n",
    "\n",
    "# package"
   ],
   "metadata": {
    "collapsed": false,
    "ExecuteTime": {
     "end_time": "2024-05-07T10:19:48.988938Z",
     "start_time": "2024-05-07T10:19:48.698626Z"
    }
   },
   "id": "dd32108d3539c4c2",
   "outputs": [],
   "execution_count": 26
  },
  {
   "cell_type": "code",
   "source": [
    "lambda_role_name = \"lambda-deployment-role\"\n",
    "lambda_role_arn = None\n",
    "\n",
    "try:\n",
    "    response = iam_client.create_role(\n",
    "        RoleName=lambda_role_name,\n",
    "        AssumeRolePolicyDocument=json.dumps(\n",
    "            {\n",
    "                \"Version\": \"2012-10-17\",\n",
    "                \"Statement\": [\n",
    "                    {\n",
    "                        \"Effect\": \"Allow\",\n",
    "                        \"Principal\": {\n",
    "                            \"Service\": [\"lambda.amazonaws.com\", \"events.amazonaws.com\"],\n",
    "                        },\n",
    "                        \"Action\": \"sts:AssumeRole\",\n",
    "                    },\n",
    "                ],\n",
    "            },\n",
    "        ),\n",
    "        Description=\"Lambda Endpoint Deployment\",\n",
    "    )\n",
    "\n",
    "    lambda_role_arn = response[\"Role\"][\"Arn\"]\n",
    "\n",
    "    iam_client.attach_role_policy(\n",
    "        PolicyArn=\"arn:aws:iam::aws:policy/service-role/AWSLambdaBasicExecutionRole\",\n",
    "        RoleName=lambda_role_name,\n",
    "    )\n",
    "\n",
    "    iam_client.attach_role_policy(\n",
    "        PolicyArn=\"arn:aws:iam::aws:policy/AmazonSageMakerFullAccess\",\n",
    "        RoleName=lambda_role_name,\n",
    "    )\n",
    "\n",
    "    print(f'Role \"{lambda_role_name}\" created with ARN \"{lambda_role_arn}\".')\n",
    "except iam_client.exceptions.EntityAlreadyExistsException:\n",
    "    response = iam_client.get_role(RoleName=lambda_role_name)\n",
    "    lambda_role_arn = response[\"Role\"][\"Arn\"]\n",
    "    print(f'Role \"{lambda_role_name}\" already exists with ARN \"{lambda_role_arn}\".')"
   ],
   "metadata": {
    "collapsed": false,
    "ExecuteTime": {
     "end_time": "2024-05-07T10:19:49.998609Z",
     "start_time": "2024-05-07T10:19:48.991211Z"
    }
   },
   "id": "a2004f5f8a325cd",
   "outputs": [
    {
     "name": "stdout",
     "output_type": "stream",
     "text": [
      "Role \"lambda-deployment-role\" already exists with ARN \"arn:aws:iam::284415450706:role/lambda-deployment-role\".\n"
     ]
    }
   ],
   "execution_count": 27
  },
  {
   "cell_type": "code",
   "source": [
    "from sagemaker.lambda_helper import Lambda\n",
    "\n",
    "ENDPOINT = \"football-endpoint\"\n",
    "DATA_CAPTURE_DESTINATION = f\"{S3_LOCATION}/monitoring/data-capture\"\n",
    "DATA_CAPTURE_PERCENTAGE = 100\n",
    "\n",
    "deploy_lambda_fn = Lambda(\n",
    "    function_name=\"deployment_fn\",\n",
    "    execution_role_arn=lambda_role_arn,\n",
    "    script=(CODE_FOLDER / \"lambda\" / \"lambda.py\").as_posix(),\n",
    "    handler=\"lambda.lambda_handler\",\n",
    "    timeout=600,\n",
    "    session=sagemaker_session,\n",
    "    runtime=\"python3.11\",\n",
    "    environment={\n",
    "        \"Variables\": {\n",
    "            \"ENDPOINT\": ENDPOINT,\n",
    "            \"DATA_CAPTURE_DESTINATION\": DATA_CAPTURE_DESTINATION,\n",
    "            \"DATA_CAPTURE_PERCENTAGE\": str(DATA_CAPTURE_PERCENTAGE),\n",
    "            \"ROLE\": role,\n",
    "        },\n",
    "    },\n",
    ")\n",
    "\n",
    "deploy_lambda_fn_response = deploy_lambda_fn.upsert()\n",
    "deploy_lambda_fn_response"
   ],
   "metadata": {
    "collapsed": false,
    "ExecuteTime": {
     "end_time": "2024-05-07T10:19:50.829579Z",
     "start_time": "2024-05-07T10:19:50.000845Z"
    }
   },
   "id": "4d3b3b8b5a8bf88",
   "outputs": [
    {
     "data": {
      "text/plain": [
       "{'ResponseMetadata': {'RequestId': '012329f0-473c-47bf-a521-775499ce463e',\n",
       "  'HTTPStatusCode': 200,\n",
       "  'HTTPHeaders': {'date': 'Tue, 07 May 2024 10:19:50 GMT',\n",
       "   'content-type': 'application/json',\n",
       "   'content-length': '1606',\n",
       "   'connection': 'keep-alive',\n",
       "   'x-amzn-requestid': '012329f0-473c-47bf-a521-775499ce463e'},\n",
       "  'RetryAttempts': 0},\n",
       " 'FunctionName': 'deployment_fn',\n",
       " 'FunctionArn': 'arn:aws:lambda:eu-north-1:284415450706:function:deployment_fn',\n",
       " 'Runtime': 'python3.11',\n",
       " 'Role': 'arn:aws:iam::284415450706:role/lambda-deployment-role',\n",
       " 'Handler': 'lambda.lambda_handler',\n",
       " 'CodeSize': 3151,\n",
       " 'Description': '',\n",
       " 'Timeout': 600,\n",
       " 'MemorySize': 128,\n",
       " 'LastModified': '2024-05-07T10:19:50.000+0000',\n",
       " 'CodeSha256': 'wqZNokY/nP8G0kmq3wWXJDre9QJf9ZwStjWLtePXJto=',\n",
       " 'Version': '$LATEST',\n",
       " 'Environment': {'Variables': {'ROLE': 'arn:aws:iam::284415450706:role/service-role/AmazonSageMaker-ExecutionRole-20240309T101533',\n",
       "   'DATA_CAPTURE_PERCENTAGE': '100',\n",
       "   'DATA_CAPTURE_DESTINATION': 's3://football-data-kamil/football/monitoring/data-capture',\n",
       "   'ENDPOINT': 'football-endpoint'}},\n",
       " 'TracingConfig': {'Mode': 'PassThrough'},\n",
       " 'RevisionId': '940ed7ba-4130-45b5-aa18-3dba70c2c7f9',\n",
       " 'Layers': [],\n",
       " 'State': 'Active',\n",
       " 'LastUpdateStatus': 'InProgress',\n",
       " 'LastUpdateStatusReason': 'The function is being created.',\n",
       " 'LastUpdateStatusReasonCode': 'Creating',\n",
       " 'PackageType': 'Zip',\n",
       " 'Architectures': ['x86_64'],\n",
       " 'EphemeralStorage': {'Size': 512},\n",
       " 'SnapStart': {'ApplyOn': 'None', 'OptimizationStatus': 'Off'},\n",
       " 'RuntimeVersionConfig': {'RuntimeVersionArn': 'arn:aws:lambda:eu-north-1::runtime:1bebe65bb4f19dd8c37baeb0be18a0b278155b42bfe12dd28480199436d18229'},\n",
       " 'LoggingConfig': {'LogFormat': 'Text',\n",
       "  'LogGroup': '/aws/lambda/deployment_fn'}}"
      ]
     },
     "execution_count": 28,
     "metadata": {},
     "output_type": "execute_result"
    }
   ],
   "execution_count": 28
  },
  {
   "cell_type": "code",
   "source": [
    "from sagemaker.workflow.lambda_step import LambdaStep\n",
    "\n",
    "\n",
    "def create_deployment_step(register_model_step):\n",
    "    \"\"\"Create a Deploy Step using the supplied parameters.\"\"\"\n",
    "    return LambdaStep(\n",
    "        name=\"deploy\",\n",
    "        lambda_func=deploy_lambda_fn,\n",
    "        inputs={\n",
    "            \"model_package_arn\": register_model_step.properties.ModelPackageArn,\n",
    "        },\n",
    "    )\n",
    "\n",
    "\n",
    "deploy_step = create_deployment_step(register_model_step)"
   ],
   "metadata": {
    "collapsed": false,
    "ExecuteTime": {
     "end_time": "2024-05-07T10:19:50.848378Z",
     "start_time": "2024-05-07T10:19:50.831633Z"
    }
   },
   "id": "b3f5eb5289dcdb89",
   "outputs": [],
   "execution_count": 29
  },
  {
   "cell_type": "code",
   "source": [
    "condition_step = ConditionStep(\n",
    "    name=\"check-model-f1-score\",\n",
    "    conditions=[condition],\n",
    "    if_steps=[register_model_step, deploy_step],\n",
    "    else_steps=[fail_step],\n",
    ")"
   ],
   "metadata": {
    "collapsed": false,
    "ExecuteTime": {
     "end_time": "2024-05-07T10:19:50.863781Z",
     "start_time": "2024-05-07T10:19:50.851346Z"
    }
   },
   "id": "93920bd415ce9d60",
   "outputs": [],
   "execution_count": 30
  },
  {
   "cell_type": "code",
   "source": [
    "# session6_pipeline = Pipeline(\n",
    "#     name=\"session6-pipeline\",\n",
    "#     parameters=[dataset_location, f1_threshold],\n",
    "#     steps=[\n",
    "#         split_and_transform_data_step,\n",
    "#         tune_model_step if USE_TUNING_STEP else train_model_step,\n",
    "#         evaluate_model_step,\n",
    "#         condition_step,\n",
    "#     ],\n",
    "#     pipeline_definition_config=pipeline_definition_config,\n",
    "#     sagemaker_session=config[\"session\"],\n",
    "# )\n",
    "# \n",
    "# session6_pipeline.upsert(role_arn=role)"
   ],
   "metadata": {
    "collapsed": false,
    "ExecuteTime": {
     "end_time": "2024-05-07T10:19:50.876476Z",
     "start_time": "2024-05-07T10:19:50.864644Z"
    }
   },
   "id": "afc088fa81b0356",
   "outputs": [],
   "execution_count": 31
  },
  {
   "cell_type": "code",
   "source": [
    "# session6_pipeline.start()"
   ],
   "metadata": {
    "collapsed": false,
    "ExecuteTime": {
     "end_time": "2024-05-07T10:19:50.888969Z",
     "start_time": "2024-05-07T10:19:50.877245Z"
    }
   },
   "id": "2a53db12df12f93f",
   "outputs": [],
   "execution_count": 32
  },
  {
   "cell_type": "code",
   "source": [
    "PENDING_MODEL_PACKAGE_GROUP = \"pending-football\""
   ],
   "metadata": {
    "collapsed": false,
    "ExecuteTime": {
     "end_time": "2024-05-07T10:19:50.901787Z",
     "start_time": "2024-05-07T10:19:50.889785Z"
    }
   },
   "id": "e0de768336bd09ce",
   "outputs": [],
   "execution_count": 33
  },
  {
   "cell_type": "code",
   "source": [
    "event_pattern = f\"\"\"\n",
    "{{\n",
    "  \"source\": [\"aws.sagemaker\"],\n",
    "  \"detail-type\": [\"SageMaker Model Package State Change\"],\n",
    "  \"detail\": {{\n",
    "    \"ModelPackageGroupName\": [\"{PENDING_MODEL_PACKAGE_GROUP}\"],\n",
    "    \"ModelApprovalStatus\": [\"Approved\"]\n",
    "  }}\n",
    "}}\n",
    "\"\"\""
   ],
   "metadata": {
    "collapsed": false,
    "ExecuteTime": {
     "end_time": "2024-05-07T10:19:50.914795Z",
     "start_time": "2024-05-07T10:19:50.902826Z"
    }
   },
   "id": "7371a0686f11a762",
   "outputs": [],
   "execution_count": 34
  },
  {
   "cell_type": "code",
   "source": [
    "rule_name = \"PendingModelApprovedRule\"\n",
    "\n",
    "events_client = boto3.client(\"events\")\n",
    "rule_response = events_client.put_rule(\n",
    "    Name=rule_name,\n",
    "    EventPattern=event_pattern,\n",
    "    State=\"ENABLED\",\n",
    "    RoleArn=role,\n",
    ")\n",
    "\n",
    "response = events_client.put_targets(\n",
    "    Rule=rule_name,\n",
    "    Targets=[\n",
    "        {\n",
    "            \"Id\": \"1\",\n",
    "            \"Arn\": deploy_lambda_fn_response[\"FunctionArn\"],\n",
    "        },\n",
    "    ],\n",
    ")\n",
    "\n",
    "lambda_function_name = deploy_lambda_fn_response[\"FunctionName\"]\n",
    "lambda_client = boto3.client(\"lambda\")\n",
    "\n",
    "try:\n",
    "    response = lambda_client.add_permission(\n",
    "        Action=\"lambda:InvokeFunction\",\n",
    "        FunctionName=lambda_function_name,\n",
    "        Principal=\"events.amazonaws.com\",\n",
    "        SourceArn=rule_response[\"RuleArn\"],\n",
    "        StatementId=\"EventBridge\",\n",
    "    )\n",
    "except lambda_client.exceptions.ResourceConflictException:\n",
    "    print(f'Function \"{lambda_function_name}\" already has the specified permission.')"
   ],
   "metadata": {
    "collapsed": false,
    "ExecuteTime": {
     "end_time": "2024-05-07T10:19:51.522840Z",
     "start_time": "2024-05-07T10:19:50.915804Z"
    }
   },
   "id": "b8e958d5bf277450",
   "outputs": [
    {
     "name": "stdout",
     "output_type": "stream",
     "text": [
      "Function \"deployment_fn\" already has the specified permission.\n"
     ]
    }
   ],
   "execution_count": 35
  },
  {
   "cell_type": "code",
   "source": [
    "register_model_step = create_registration_step(\n",
    "    xgb_model,\n",
    "    PENDING_MODEL_PACKAGE_GROUP,\n",
    "    approval_status=\"PendingManualApproval\",\n",
    "    model_metrics=model_metrics,\n",
    ")\n",
    "\n",
    "condition_step = ConditionStep(\n",
    "    name=\"check-model-f1-score\",\n",
    "    conditions=[condition],\n",
    "    if_steps=[register_model_step],\n",
    "    else_steps=[fail_step],\n",
    ")"
   ],
   "metadata": {
    "collapsed": false,
    "ExecuteTime": {
     "end_time": "2024-05-07T10:19:51.556143Z",
     "start_time": "2024-05-07T10:19:51.525668Z"
    }
   },
   "id": "b57cac7776df4d3f",
   "outputs": [],
   "execution_count": 36
  },
  {
   "cell_type": "code",
   "source": [
    "# session7_pipeline = Pipeline(\n",
    "#     name=\"session7-pipeline\",\n",
    "#     parameters=[dataset_location, f1_threshold],\n",
    "#     steps=[\n",
    "#         split_and_transform_data_step,\n",
    "#         tune_model_step if USE_TUNING_STEP else train_model_step,\n",
    "#         evaluate_model_step,\n",
    "#         condition_step,\n",
    "#     ],\n",
    "#     pipeline_definition_config=pipeline_definition_config,\n",
    "#     sagemaker_session=config[\"session\"],\n",
    "# )\n",
    "# \n",
    "# session7_pipeline.upsert(role_arn=role)\n",
    "# # session7_pipeline.start()"
   ],
   "metadata": {
    "collapsed": false,
    "ExecuteTime": {
     "end_time": "2024-05-07T10:19:51.569748Z",
     "start_time": "2024-05-07T10:19:51.557080Z"
    }
   },
   "id": "8cdb08e68094516c",
   "outputs": [],
   "execution_count": 37
  },
  {
   "cell_type": "code",
   "source": [
    "transformation_pipeline_model = Join(\n",
    "    on=\"/\",\n",
    "    values=[\n",
    "        split_and_transform_data_step.properties.ProcessingOutputConfig.Outputs[\n",
    "            \"model\"\n",
    "        ].S3Output.S3Uri,\n",
    "        \"model.tar.gz\",\n",
    "    ],\n",
    ")"
   ],
   "metadata": {
    "collapsed": false,
    "ExecuteTime": {
     "end_time": "2024-05-07T10:19:51.583070Z",
     "start_time": "2024-05-07T10:19:51.570833Z"
    }
   },
   "id": "d9e89a7f7ee2c908",
   "outputs": [],
   "execution_count": 38
  },
  {
   "cell_type": "code",
   "source": [
    "from sagemaker.xgboost import XGBoostModel\n",
    "from sagemaker.sklearn.model import SKLearnModel\n",
    "\n",
    "preprocessing_model = SKLearnModel(\n",
    "    model_data=transformation_pipeline_model,\n",
    "    entry_point=\"preprocessing_component.py\",\n",
    "    source_dir=str(INFERENCE_CODE_FOLDER),\n",
    "    framework_version=\"1.2-1\",\n",
    "    sagemaker_session=config[\"session\"],\n",
    "    role=role,\n",
    ")\n",
    "xgb_model = XGBoostModel(\n",
    "    model_data=model_assets,\n",
    "    framework_version=config[\"framework_version\"],\n",
    "    sagemaker_session=config[\"session\"],\n",
    "    role=role,\n",
    ")\n",
    "\n",
    "post_processing_model = SKLearnModel(\n",
    "    model_data=transformation_pipeline_model,\n",
    "    entry_point=\"postprocessing_component.py\",\n",
    "    source_dir=str(INFERENCE_CODE_FOLDER),\n",
    "    framework_version='1.2-1',\n",
    "    sagemaker_session=config[\"session\"],\n",
    "    role=role,\n",
    ")\n",
    "\n",
    "from sagemaker.pipeline import PipelineModel\n",
    "\n",
    "pipeline_model = PipelineModel(\n",
    "    name=\"inference-model\",\n",
    "    models=[preprocessing_model, xgb_model, post_processing_model],\n",
    "    sagemaker_session=config[\"session\"],\n",
    "    role=role,\n",
    ")"
   ],
   "metadata": {
    "collapsed": false,
    "ExecuteTime": {
     "end_time": "2024-05-07T10:19:51.599841Z",
     "start_time": "2024-05-07T10:19:51.584232Z"
    }
   },
   "id": "9fe35dc98ac0443c",
   "outputs": [],
   "execution_count": 39
  },
  {
   "cell_type": "code",
   "source": [
    "PIPELINE_MODEL_PACKAGE_GROUP = \"pipeline-football\""
   ],
   "metadata": {
    "collapsed": false,
    "ExecuteTime": {
     "end_time": "2024-05-07T10:19:51.618499Z",
     "start_time": "2024-05-07T10:19:51.600695Z"
    }
   },
   "id": "80c82d8b2052e5a5",
   "outputs": [],
   "execution_count": 40
  },
  {
   "cell_type": "code",
   "source": [
    "register_model_step = create_registration_step(\n",
    "    pipeline_model,\n",
    "    PIPELINE_MODEL_PACKAGE_GROUP,\n",
    "    content_types=[\"text/csv\", ],\n",
    "    response_types=[\"text/csv\", ],\n",
    "    model_metrics=model_metrics,\n",
    ")\n",
    "\n",
    "deploy_step = create_deployment_step(register_model_step)\n",
    "\n",
    "condition_step = ConditionStep(\n",
    "    name=\"check-model-f1-score\",\n",
    "    conditions=[condition],\n",
    "    if_steps=[register_model_step, deploy_step],\n",
    "    else_steps=[fail_step],\n",
    ")"
   ],
   "metadata": {
    "collapsed": false,
    "ExecuteTime": {
     "end_time": "2024-05-07T10:19:52.374893Z",
     "start_time": "2024-05-07T10:19:51.619712Z"
    }
   },
   "id": "14c377bf700f4eb9",
   "outputs": [],
   "execution_count": 41
  },
  {
   "cell_type": "code",
   "source": [
    "# session_pipeline = Pipeline(\n",
    "#     name=\"session-pipeline\",\n",
    "#     parameters=[dataset_location, f1_threshold],\n",
    "#     steps=[\n",
    "#         split_and_transform_data_step,\n",
    "#         tune_model_step if USE_TUNING_STEP else train_model_step,\n",
    "#         evaluate_model_step,\n",
    "#         condition_step,\n",
    "#     ],\n",
    "#     pipeline_definition_config=pipeline_definition_config,\n",
    "#     sagemaker_session=config[\"session\"],\n",
    "# )\n",
    "# \n",
    "# session_pipeline.upsert(role_arn=role)\n",
    "# # session_pipeline.start()"
   ],
   "metadata": {
    "collapsed": false,
    "ExecuteTime": {
     "end_time": "2024-05-07T10:19:52.397732Z",
     "start_time": "2024-05-07T10:19:52.377770Z"
    }
   },
   "id": "bdd64955a008254b",
   "outputs": [],
   "execution_count": 42
  },
  {
   "cell_type": "code",
   "source": [
    "from datetime import datetime\n",
    "\n",
    "GROUND_TRUTH_LOCATION = f\"{S3_LOCATION}/monitoring/groundtruth\"\n",
    "DATA_QUALITY_LOCATION = f\"{S3_LOCATION}/monitoring/data-quality\"\n",
    "MODEL_QUALITY_LOCATION = f\"{S3_LOCATION}/monitoring/model-quality\""
   ],
   "metadata": {
    "collapsed": false,
    "ExecuteTime": {
     "end_time": "2024-05-07T10:19:52.410795Z",
     "start_time": "2024-05-07T10:19:52.398567Z"
    }
   },
   "id": "3eac86467b76e3e",
   "outputs": [],
   "execution_count": 43
  },
  {
   "cell_type": "code",
   "source": [
    "from sagemaker.model_monitor.dataset_format import DatasetFormat\n",
    "from sagemaker.workflow.check_job_config import CheckJobConfig\n",
    "from sagemaker.workflow.quality_check_step import (\n",
    "    DataQualityCheckConfig,\n",
    "    QualityCheckStep,\n",
    ")\n",
    "\n",
    "data_quality_baseline_step = QualityCheckStep(\n",
    "    name=\"generate-data-quality-baseline\",\n",
    "    check_job_config=CheckJobConfig(\n",
    "        instance_type=\"ml.c5.xlarge\",\n",
    "        instance_count=1,\n",
    "        volume_size_in_gb=20,\n",
    "        sagemaker_session=config[\"session\"],\n",
    "        role=role,\n",
    "    ),\n",
    "    quality_check_config=DataQualityCheckConfig(\n",
    "        baseline_dataset=split_and_transform_data_step.properties.ProcessingOutputConfig.Outputs[\n",
    "            \"train-baseline\"\n",
    "        ].S3Output.S3Uri,\n",
    "        dataset_format=DatasetFormat.csv(header=True),\n",
    "        output_s3_uri=DATA_QUALITY_LOCATION,\n",
    "    ),\n",
    "    model_package_group_name=PIPELINE_MODEL_PACKAGE_GROUP,\n",
    "    skip_check=True,\n",
    "    register_new_baseline=True,\n",
    "    cache_config=cache_config,\n",
    ")"
   ],
   "metadata": {
    "collapsed": false,
    "ExecuteTime": {
     "end_time": "2024-05-07T10:19:52.435897Z",
     "start_time": "2024-05-07T10:19:52.411636Z"
    }
   },
   "id": "9dad1c7708926dcd",
   "outputs": [],
   "execution_count": 44
  },
  {
   "metadata": {
    "ExecuteTime": {
     "end_time": "2024-05-07T10:19:52.449786Z",
     "start_time": "2024-05-07T10:19:52.436844Z"
    }
   },
   "cell_type": "code",
   "source": [
    "from sagemaker.drift_check_baselines import DriftCheckBaselines\n",
    "\n",
    "data_quality_model_metrics = ModelMetrics(\n",
    "    model_data_statistics=MetricsSource(\n",
    "        s3_uri=data_quality_baseline_step.properties.CalculatedBaselineStatistics,\n",
    "        content_type=\"application/json\",\n",
    "    ),\n",
    "    model_data_constraints=MetricsSource(\n",
    "        s3_uri=data_quality_baseline_step.properties.CalculatedBaselineConstraints,\n",
    "        content_type=\"application/json\",\n",
    "    ),\n",
    ")\n",
    "\n",
    "data_quality_drift_check_baselines = DriftCheckBaselines(\n",
    "    model_data_statistics=MetricsSource(\n",
    "        s3_uri=data_quality_baseline_step.properties.BaselineUsedForDriftCheckStatistics,\n",
    "        content_type=\"application/json\",\n",
    "    ),\n",
    "    model_data_constraints=MetricsSource(\n",
    "        s3_uri=data_quality_baseline_step.properties.BaselineUsedForDriftCheckConstraints,\n",
    "        content_type=\"application/json\",\n",
    "    ),\n",
    ")"
   ],
   "id": "e544a8f642af3b32",
   "outputs": [],
   "execution_count": 45
  },
  {
   "metadata": {
    "ExecuteTime": {
     "end_time": "2024-05-07T10:19:53.267932Z",
     "start_time": "2024-05-07T10:19:52.450644Z"
    }
   },
   "cell_type": "code",
   "source": [
    "register_model_step = create_registration_step(\n",
    "    pipeline_model,\n",
    "    PIPELINE_MODEL_PACKAGE_GROUP,\n",
    "    content_types=[\"text/csv\", \"application/json\"],\n",
    "    response_types=[\"text/csv\", \"application/json\"],\n",
    "    model_metrics=data_quality_model_metrics,\n",
    "    drift_check_baselines=data_quality_drift_check_baselines,\n",
    ")"
   ],
   "id": "97df53e794c9f096",
   "outputs": [],
   "execution_count": 46
  },
  {
   "metadata": {
    "ExecuteTime": {
     "end_time": "2024-05-07T10:19:53.291241Z",
     "start_time": "2024-05-07T10:19:53.270188Z"
    }
   },
   "cell_type": "code",
   "source": [
    "condition_step = ConditionStep(\n",
    "    name=\"check-model-f1-score\",\n",
    "    conditions=[condition],\n",
    "    if_steps=[register_model_step],\n",
    "    else_steps=[fail_step],\n",
    ")"
   ],
   "id": "d61728e6e984d24d",
   "outputs": [],
   "execution_count": 47
  },
  {
   "metadata": {
    "ExecuteTime": {
     "end_time": "2024-05-07T10:19:53.306426Z",
     "start_time": "2024-05-07T10:19:53.292193Z"
    }
   },
   "cell_type": "code",
   "source": [
    "# session9_pipeline = Pipeline(\n",
    "#     name=\"session9-pipeline\",\n",
    "#     parameters=[dataset_location, f1_threshold],\n",
    "#     steps=[\n",
    "#         split_and_transform_data_step,\n",
    "#         train_model_step,\n",
    "#         evaluate_model_step,\n",
    "#         data_quality_baseline_step,\n",
    "#         condition_step,\n",
    "#     ],\n",
    "#     pipeline_definition_config=pipeline_definition_config,\n",
    "#     sagemaker_session=config[\"session\"],\n",
    "# )\n",
    "# \n",
    "# session9_pipeline.upsert(role_arn=role)"
   ],
   "id": "75c38ac269c3d0dd",
   "outputs": [],
   "execution_count": 48
  },
  {
   "metadata": {
    "ExecuteTime": {
     "end_time": "2024-05-07T10:19:53.318740Z",
     "start_time": "2024-05-07T10:19:53.307379Z"
    }
   },
   "cell_type": "code",
   "source": "# session9_pipeline.start()",
   "id": "def814480e2c71d0",
   "outputs": [],
   "execution_count": 49
  },
  {
   "metadata": {
    "ExecuteTime": {
     "end_time": "2024-05-07T10:19:53.336274Z",
     "start_time": "2024-05-07T10:19:53.319556Z"
    }
   },
   "cell_type": "code",
   "source": [
    "# from sagemaker.s3 import S3Downloader\n",
    "# \n",
    "# try:\n",
    "#     response = json.loads(\n",
    "#         S3Downloader.read_file(f\"{DATA_QUALITY_LOCATION}/statistics.json\"),\n",
    "#     )\n",
    "#     print(json.dumps(response[\"features\"][49], indent=2))\n",
    "# except Exception:\n",
    "#     pass"
   ],
   "id": "7234d979b1e284c",
   "outputs": [],
   "execution_count": 50
  },
  {
   "metadata": {
    "ExecuteTime": {
     "end_time": "2024-05-07T10:19:53.349764Z",
     "start_time": "2024-05-07T10:19:53.337075Z"
    }
   },
   "cell_type": "code",
   "source": [
    "# try:\n",
    "#     response = json.loads(\n",
    "#         S3Downloader.read_file(f\"{DATA_QUALITY_LOCATION}/constraints.json\"),\n",
    "#     )\n",
    "#     print(json.dumps(response, indent=2))\n",
    "# except Exception:\n",
    "#     pass"
   ],
   "id": "3f1e7d378982ae93",
   "outputs": [],
   "execution_count": 51
  },
  {
   "metadata": {
    "ExecuteTime": {
     "end_time": "2024-05-07T10:19:53.983811Z",
     "start_time": "2024-05-07T10:19:53.350827Z"
    }
   },
   "cell_type": "code",
   "source": [
    "create_model_step = ModelStep(\n",
    "    name=\"create-model\",\n",
    "    step_args=pipeline_model.create(instance_type=config[\"instance_type\"]),\n",
    ")"
   ],
   "id": "45b9b1375c0b7881",
   "outputs": [],
   "execution_count": 52
  },
  {
   "metadata": {
    "ExecuteTime": {
     "end_time": "2024-05-07T10:19:54.008455Z",
     "start_time": "2024-05-07T10:19:53.985875Z"
    }
   },
   "cell_type": "code",
   "source": [
    "from sagemaker.transformer import Transformer\n",
    "\n",
    "transformer = Transformer(\n",
    "    model_name=create_model_step.properties.ModelName,\n",
    "    instance_type=config[\"instance_type\"],\n",
    "    instance_count=1,\n",
    "    strategy=\"MultiRecord\",\n",
    "    accept=\"text/csv\",\n",
    "    assemble_with=\"Line\",\n",
    "    output_path=f\"{S3_LOCATION}/transform\",\n",
    "    sagemaker_session=config[\"session\"],\n",
    ")"
   ],
   "id": "d3d89334f6fa95ed",
   "outputs": [],
   "execution_count": 53
  },
  {
   "cell_type": "code",
   "source": [
    "from sagemaker.workflow.steps import TransformStep\n",
    "\n",
    "generate_test_predictions_step = TransformStep(\n",
    "    name=\"generate-test-predictions\",\n",
    "    step_args=transformer.transform(\n",
    "        # We will use the baseline set we generated when we split the data.\n",
    "        # This set corresponds to the test split before the transformation step.\n",
    "        data=split_and_transform_data_step.properties.ProcessingOutputConfig.Outputs[\n",
    "            \"test-baseline\"\n",
    "        ].S3Output.S3Uri,\n",
    "        join_source=\"Input\",\n",
    "        split_type=\"Line\",\n",
    "        content_type=\"text/csv\",\n",
    "        # We want to output the first and the second to last field from\n",
    "        # the joint set. The first field corresponds to the groundtruth,\n",
    "        # and the second to last field corresponds to the prediction.\n",
    "        #\n",
    "        # Notice how the first field is the groundtruth coming from the\n",
    "        # test set. The second to last field is the prediction coming the\n",
    "        # model.\n",
    "        output_filter=\"$[-3,-2]\",\n",
    "    ),\n",
    "    cache_config=cache_config,\n",
    ")"
   ],
   "metadata": {
    "collapsed": false,
    "ExecuteTime": {
     "end_time": "2024-05-07T10:19:54.023106Z",
     "start_time": "2024-05-07T10:19:54.009593Z"
    }
   },
   "id": "4d24821c4c814a93",
   "outputs": [],
   "execution_count": 54
  },
  {
   "metadata": {
    "ExecuteTime": {
     "end_time": "2024-05-07T10:19:54.047372Z",
     "start_time": "2024-05-07T10:19:54.024103Z"
    }
   },
   "cell_type": "code",
   "source": [
    "from sagemaker.workflow.quality_check_step import ModelQualityCheckConfig\n",
    "\n",
    "model_quality_baseline_step = QualityCheckStep(\n",
    "    name=\"generate-model-quality-baseline\",\n",
    "    check_job_config=CheckJobConfig(\n",
    "        instance_type=\"ml.m5.xlarge\",\n",
    "        instance_count=1,\n",
    "        volume_size_in_gb=20,\n",
    "        sagemaker_session=config[\"session\"],\n",
    "        role=role,\n",
    "    ),\n",
    "    quality_check_config=ModelQualityCheckConfig(\n",
    "        # We are going to use the output of the Transform Step to generate\n",
    "        # the model quality baseline.\n",
    "        baseline_dataset=generate_test_predictions_step.properties.TransformOutput.S3OutputPath,\n",
    "        dataset_format=DatasetFormat.csv(header=False),\n",
    "        # We need to specify the problem type and the fields where the prediction\n",
    "        # and groundtruth are so the process knows how to interpret the results.\n",
    "        problem_type=\"MulticlassClassification\",\n",
    "        # Since the data doesn't have headers, SageMaker will autocreate headers for it.\n",
    "        # _c0 corresponds to the first column, and _c1 corresponds to the second column.\n",
    "        ground_truth_attribute=\"_c0\",\n",
    "        inference_attribute=\"_c1\",\n",
    "        output_s3_uri=MODEL_QUALITY_LOCATION,\n",
    "        \n",
    "    ),\n",
    "    model_package_group_name=PIPELINE_MODEL_PACKAGE_GROUP,\n",
    "    skip_check=True,\n",
    "    register_new_baseline=True,\n",
    "    cache_config=cache_config,\n",
    ")"
   ],
   "id": "736500dd22b14ae0",
   "outputs": [],
   "execution_count": 55
  },
  {
   "metadata": {
    "ExecuteTime": {
     "end_time": "2024-05-07T10:19:54.061850Z",
     "start_time": "2024-05-07T10:19:54.048184Z"
    }
   },
   "cell_type": "code",
   "source": [
    "from sagemaker.drift_check_baselines import DriftCheckBaselines\n",
    "\n",
    "model_quality_model_metrics = ModelMetrics(\n",
    "    model_statistics=MetricsSource(\n",
    "        s3_uri=model_quality_baseline_step.properties.CalculatedBaselineStatistics,\n",
    "        content_type=\"application/json\",\n",
    "    ),\n",
    "    model_constraints=MetricsSource(\n",
    "        s3_uri=model_quality_baseline_step.properties.CalculatedBaselineConstraints,\n",
    "        content_type=\"application/json\",\n",
    "    ),\n",
    "    model_data_statistics=MetricsSource(\n",
    "        s3_uri=data_quality_baseline_step.properties.CalculatedBaselineStatistics,\n",
    "        content_type=\"application/json\",\n",
    "    ),\n",
    "    model_data_constraints=MetricsSource(\n",
    "        s3_uri=data_quality_baseline_step.properties.CalculatedBaselineConstraints,\n",
    "        content_type=\"application/json\",\n",
    "    ),\n",
    ")\n",
    "\n",
    "model_quality_drift_check_baselines = DriftCheckBaselines(\n",
    "    model_statistics=MetricsSource(\n",
    "        s3_uri=model_quality_baseline_step.properties.BaselineUsedForDriftCheckStatistics,\n",
    "        content_type=\"application/json\",\n",
    "    ),\n",
    "    model_constraints=MetricsSource(\n",
    "        s3_uri=model_quality_baseline_step.properties.BaselineUsedForDriftCheckConstraints,\n",
    "        content_type=\"application/json\",\n",
    "    ),\n",
    "    model_data_statistics=MetricsSource(\n",
    "        s3_uri=data_quality_baseline_step.properties.BaselineUsedForDriftCheckStatistics,\n",
    "        content_type=\"application/json\",\n",
    "    ),\n",
    "    model_data_constraints=MetricsSource(\n",
    "        s3_uri=data_quality_baseline_step.properties.BaselineUsedForDriftCheckConstraints,\n",
    "        content_type=\"application/json\",\n",
    "    ),\n",
    ")"
   ],
   "id": "1da439292fc196c4",
   "outputs": [],
   "execution_count": 56
  },
  {
   "metadata": {
    "ExecuteTime": {
     "end_time": "2024-05-07T10:19:54.825649Z",
     "start_time": "2024-05-07T10:19:54.062648Z"
    }
   },
   "cell_type": "code",
   "source": [
    "register_model_step = create_registration_step(\n",
    "    pipeline_model,\n",
    "    PIPELINE_MODEL_PACKAGE_GROUP,\n",
    "    content_types=[\"text/csv\", \"application/json\"],\n",
    "    response_types=[\"text/csv\", \"application/json\"],\n",
    "    model_metrics=model_quality_model_metrics,\n",
    "    drift_check_baselines=model_quality_drift_check_baselines,\n",
    ")"
   ],
   "id": "9e5e753aeffd5a63",
   "outputs": [],
   "execution_count": 57
  },
  {
   "metadata": {
    "ExecuteTime": {
     "end_time": "2024-05-07T10:19:54.851621Z",
     "start_time": "2024-05-07T10:19:54.828673Z"
    }
   },
   "cell_type": "code",
   "source": [
    "condition_step = ConditionStep(\n",
    "    name=\"check-model-f1-score\",\n",
    "    conditions=[condition],\n",
    "    if_steps=(\n",
    "        [\n",
    "            create_model_step,\n",
    "            generate_test_predictions_step,\n",
    "            model_quality_baseline_step,\n",
    "            deploy_step\n",
    "        ]\n",
    "    ),\n",
    "    else_steps=[fail_step],\n",
    ")"
   ],
   "id": "f3e221a7f2ff7b0d",
   "outputs": [],
   "execution_count": 58
  },
  {
   "metadata": {
    "ExecuteTime": {
     "end_time": "2024-05-07T10:19:56.966654Z",
     "start_time": "2024-05-07T10:19:54.852601Z"
    }
   },
   "cell_type": "code",
   "source": [
    "from sagemaker.workflow.pipeline import Pipeline\n",
    "\n",
    "session10_pipeline = Pipeline(\n",
    "    name=\"session10-pipeline\",\n",
    "    parameters=[dataset_location, f1_threshold],\n",
    "    steps=[\n",
    "        split_and_transform_data_step,\n",
    "        train_model_step,\n",
    "        evaluate_model_step,\n",
    "        data_quality_baseline_step,\n",
    "        condition_step,\n",
    "    ],\n",
    "    pipeline_definition_config=pipeline_definition_config,\n",
    "    sagemaker_session=config[\"session\"],\n",
    ")\n",
    "\n",
    "session10_pipeline.upsert(role_arn=role)"
   ],
   "id": "3ee02cbf857e8e11",
   "outputs": [
    {
     "data": {
      "text/plain": [
       "{'PipelineArn': 'arn:aws:sagemaker:eu-north-1:284415450706:pipeline/session10-pipeline',\n",
       " 'ResponseMetadata': {'RequestId': '1bf123f6-c04e-4eac-81d5-45ec095b590c',\n",
       "  'HTTPStatusCode': 200,\n",
       "  'HTTPHeaders': {'x-amzn-requestid': '1bf123f6-c04e-4eac-81d5-45ec095b590c',\n",
       "   'content-type': 'application/x-amz-json-1.1',\n",
       "   'content-length': '87',\n",
       "   'date': 'Tue, 07 May 2024 10:19:56 GMT'},\n",
       "  'RetryAttempts': 0}}"
      ]
     },
     "execution_count": 59,
     "metadata": {},
     "output_type": "execute_result"
    }
   ],
   "execution_count": 59
  },
  {
   "metadata": {
    "ExecuteTime": {
     "end_time": "2024-05-07T10:19:57.220367Z",
     "start_time": "2024-05-07T10:19:56.969838Z"
    }
   },
   "cell_type": "code",
   "source": "# session10_pipeline.start()",
   "id": "f70de8c617f5f9a2",
   "outputs": [
    {
     "data": {
      "text/plain": [
       "_PipelineExecution(arn='arn:aws:sagemaker:eu-north-1:284415450706:pipeline/session10-pipeline/execution/nak8pp351k0t', sagemaker_session=<sagemaker.workflow.pipeline_context.PipelineSession object at 0x7c86f634e0e0>)"
      ]
     },
     "execution_count": 60,
     "metadata": {},
     "output_type": "execute_result"
    }
   ],
   "execution_count": 60
  },
  {
   "metadata": {
    "ExecuteTime": {
     "end_time": "2024-05-07T10:45:30.865453Z",
     "start_time": "2024-05-07T10:45:30.526900Z"
    }
   },
   "cell_type": "code",
   "source": [
    "from sagemaker.s3 import S3Downloader\n",
    "\n",
    "try:\n",
    "    response = json.loads(\n",
    "        S3Downloader.read_file(f\"{MODEL_QUALITY_LOCATION}/constraints.json\"),\n",
    "    )\n",
    "    print(json.dumps(response, indent=2))\n",
    "except Exception:\n",
    "    pass"
   ],
   "id": "2e4a803e0b8f2260",
   "outputs": [
    {
     "name": "stdout",
     "output_type": "stream",
     "text": [
      "{\n",
      "  \"version\": 0.0,\n",
      "  \"multiclass_classification_constraints\": {\n",
      "    \"accuracy\": {\n",
      "      \"threshold\": 0.6030871003307607,\n",
      "      \"comparison_operator\": \"LessThanThreshold\"\n",
      "    },\n",
      "    \"weighted_recall\": {\n",
      "      \"threshold\": 0.6030871003307607,\n",
      "      \"comparison_operator\": \"LessThanThreshold\"\n",
      "    },\n",
      "    \"weighted_precision\": {\n",
      "      \"threshold\": 0.6371214166058752,\n",
      "      \"comparison_operator\": \"LessThanThreshold\"\n",
      "    },\n",
      "    \"weighted_f0_5\": {\n",
      "      \"threshold\": 0.608972579378614,\n",
      "      \"comparison_operator\": \"LessThanThreshold\"\n",
      "    },\n",
      "    \"weighted_f1\": {\n",
      "      \"threshold\": 0.5892193930857728,\n",
      "      \"comparison_operator\": \"LessThanThreshold\"\n",
      "    },\n",
      "    \"weighted_f2\": {\n",
      "      \"threshold\": 0.5909092539695012,\n",
      "      \"comparison_operator\": \"LessThanThreshold\"\n",
      "    }\n",
      "  }\n",
      "}\n"
     ]
    }
   ],
   "execution_count": 62
  },
  {
   "metadata": {
    "ExecuteTime": {
     "end_time": "2024-05-07T09:55:59.733054Z",
     "start_time": "2024-05-07T09:55:59.718105Z"
    }
   },
   "cell_type": "code",
   "source": [
    "# from sagemaker import ModelPackage\n",
    "# from sagemaker.model_monitor import DataCaptureConfig\n",
    "# \n",
    "# \n",
    "# def deploy_model():\n",
    "#     \"\"\"Deploy the latest model registered in the Model Registry.\"\"\"\n",
    "#     response = sagemaker_client.list_model_packages(\n",
    "#         ModelPackageGroupName=PIPELINE_MODEL_PACKAGE_GROUP,\n",
    "#         ModelApprovalStatus=\"Approved\",\n",
    "#         SortBy=\"CreationTime\",\n",
    "#         MaxResults=1,\n",
    "#     )\n",
    "# \n",
    "#     package = (\n",
    "#         response[\"ModelPackageSummaryList\"][0]\n",
    "#         if response[\"ModelPackageSummaryList\"]\n",
    "#         else None\n",
    "#     )\n",
    "# \n",
    "#     if package:\n",
    "#         model_package = ModelPackage(\n",
    "#             model_package_arn=package[\"ModelPackageArn\"],\n",
    "#             sagemaker_session=sagemaker_session,\n",
    "#             role=role,\n",
    "#         )\n",
    "# \n",
    "#         model_package.deploy(\n",
    "#             endpoint_name=ENDPOINT,\n",
    "#             initial_instance_count=1,\n",
    "#             instance_type=config[\"instance_type\"],\n",
    "#             # We must enable Data Capture to monitor the model.\n",
    "#             data_capture_config=DataCaptureConfig(\n",
    "#                 enable_capture=True,\n",
    "#                 sampling_percentage=100,\n",
    "#                 destination_s3_uri=DATA_CAPTURE_DESTINATION,\n",
    "#                 capture_options=[\"REQUEST\", \"RESPONSE\"],\n",
    "#                 csv_content_types=[\"text/csv\"],\n",
    "#                 json_content_types=[\"application/json\"],\n",
    "#             ),\n",
    "#         )\n",
    "#         \n",
    "# sagemaker_client.delete_endpoint_config(\n",
    "#     EndpointConfigName='football-endpoint'\n",
    "# )\n",
    "# \n",
    "# deploy_model()"
   ],
   "id": "4f7c157cab4662ee",
   "outputs": [],
   "execution_count": 5
  },
  {
   "cell_type": "code",
   "source": [
    "from sagemaker.base_serializers import CSVSerializer\n",
    "from sagemaker.base_deserializers import CSVDeserializer, JSONDeserializer\n",
    "from sagemaker import Predictor\n",
    "import pandas as pd\n",
    "\n",
    "def read_last_few_lines(csv_path):\n",
    "    chunk_size = 2000\n",
    "    last_chunk = None\n",
    "\n",
    "    for chunk in pd.read_csv(csv_path, chunksize=chunk_size):\n",
    "        last_chunk = chunk\n",
    "\n",
    "    if last_chunk is not None:\n",
    "        return last_chunk.tail(10)\n",
    "    else:\n",
    "        return pd.DataFrame()\n",
    "\n",
    "df = read_last_few_lines(df_local_path)"
   ],
   "metadata": {
    "collapsed": false,
    "ExecuteTime": {
     "end_time": "2024-05-07T10:45:39.870590Z",
     "start_time": "2024-05-07T10:45:39.835274Z"
    }
   },
   "id": "19d14e6e6687375a",
   "outputs": [],
   "execution_count": 63
  },
  {
   "metadata": {
    "ExecuteTime": {
     "end_time": "2024-05-07T10:49:53.057347Z",
     "start_time": "2024-05-07T10:49:52.256329Z"
    }
   },
   "cell_type": "code",
   "source": [
    "predictor = Predictor(\n",
    "    endpoint_name=ENDPOINT,\n",
    "    serializer=CSVSerializer(),\n",
    "    deserializer=CSVDeserializer(),\n",
    "    sagemaker_session=sagemaker_session,\n",
    ")\n",
    "\n",
    "def generate_fake_traffic(data):\n",
    "    \"\"\"Generate fake traffic to the endpoint.\"\"\"\n",
    "    df_ = data.copy()\n",
    "    df_.reset_index(drop=True, inplace=True)\n",
    "    for index, row in df_.iterrows():\n",
    "        print(f'index: {index}')\n",
    "        payload = \",\".join([str(x) for x in row.to_list()])\n",
    "        predictor.predict(\n",
    "            payload,\n",
    "            initial_args={\"ContentType\": \"text/csv\", \"Accept\": \"text/csv\"},\n",
    "            # The `inference_id` field is important to match\n",
    "            # it later with a corresponding ground-truth label.\n",
    "            inference_id=str(index),\n",
    "        )\n",
    "\n",
    "generate_fake_traffic(df)"
   ],
   "id": "d0684f77bf5e6cc7",
   "outputs": [
    {
     "name": "stdout",
     "output_type": "stream",
     "text": [
      "index: 0\n",
      "index: 1\n",
      "index: 2\n",
      "index: 3\n",
      "index: 4\n",
      "index: 5\n",
      "index: 6\n",
      "index: 7\n",
      "index: 8\n",
      "index: 9\n"
     ]
    }
   ],
   "execution_count": 71
  },
  {
   "metadata": {
    "ExecuteTime": {
     "end_time": "2024-05-07T10:52:22.506044Z",
     "start_time": "2024-05-07T10:52:21.902297Z"
    }
   },
   "cell_type": "code",
   "source": [
    "files = S3Downloader.list(DATA_CAPTURE_DESTINATION)\n",
    "if len(files):\n",
    "    lines = S3Downloader.read_file(files[-1])\n",
    "    print(f\"File: {files[-1]}\")\n",
    "    print(json.dumps(json.loads(lines.split(\"\\n\")[0]), indent=2))"
   ],
   "id": "c935a7ac29088f9b",
   "outputs": [
    {
     "name": "stdout",
     "output_type": "stream",
     "text": [
      "File: s3://football-data-kamil/football/monitoring/data-capture/football-endpoint/AllTraffic/2024/05/07/10/49-52-573-0a495977-f20c-430b-b3f3-5900bda11891.jsonl\n",
      "{\n",
      "  \"captureData\": {\n",
      "    \"endpointInput\": {\n",
      "      \"observedContentType\": \"text/csv\",\n",
      "      \"mode\": \"INPUT\",\n",
      "      \"data\": \"72.0,72.0,72.0,72.0,72.0,72.0,70.0,71.0,75.0,77.0,76.0,75.0,75.0,75.0,75.0,75.0,75.0,60.0,79.0,67.0,74.0,76.0,1.31,1.99,2.51,0.77,44.0,38.0,1.9897295928105807,1.6952394889987854,72.82,73.27,21.74,14.01,5.33,4.913,51.094,53.04,73.5,71.83,75.0,72.0,72.81818181818181,73.27272727272727,0.0,0.0,13.3783,33.2579185520362,24.85467128027681,8.403247271759387\",\n",
      "      \"encoding\": \"CSV\"\n",
      "    },\n",
      "    \"endpointOutput\": {\n",
      "      \"observedContentType\": \"text/csv; charset=utf-8\",\n",
      "      \"mode\": \"OUTPUT\",\n",
      "      \"data\": \"home_win,0.5370060205459595\\n\",\n",
      "      \"encoding\": \"CSV\"\n",
      "    }\n",
      "  },\n",
      "  \"eventMetadata\": {\n",
      "    \"eventId\": \"4a856a8f-c39a-4161-b683-9e2fceb3a8d9\",\n",
      "    \"inferenceId\": \"0\",\n",
      "    \"inferenceTime\": \"2024-05-07T10:49:52Z\"\n",
      "  },\n",
      "  \"eventVersion\": \"0\"\n",
      "}\n"
     ]
    }
   ],
   "execution_count": 73
  },
  {
   "metadata": {
    "ExecuteTime": {
     "end_time": "2024-05-07T10:52:37.189090Z",
     "start_time": "2024-05-07T10:52:36.825210Z"
    }
   },
   "cell_type": "code",
   "source": [
    "import random\n",
    "from datetime import datetime\n",
    "\n",
    "from sagemaker.s3 import S3Uploader\n",
    "\n",
    "records = []\n",
    "for inference_id in range(len(df)):\n",
    "    random.seed(inference_id)\n",
    "\n",
    "    records.append(\n",
    "        json.dumps(\n",
    "            {\n",
    "                \"groundTruthData\": {\n",
    "                    \"data\": random.choice([\"home_win\", \"home_not_win\"]),\n",
    "                    \"encoding\": \"CSV\",\n",
    "                },\n",
    "                \"eventMetadata\": {\n",
    "                    \"eventId\": str(inference_id),\n",
    "                },\n",
    "                \"eventVersion\": \"0\",\n",
    "            },\n",
    "        ),\n",
    "    )\n",
    "\n",
    "groundtruth_payload = \"\\n\".join(records)\n",
    "upload_time = datetime.utcnow()\n",
    "uri = f\"{GROUND_TRUTH_LOCATION}/{upload_time:%Y/%m/%d/%H/%M%S}.jsonl\"\n",
    "S3Uploader.upload_string_as_file_body(groundtruth_payload, uri)"
   ],
   "id": "585d4c077e40790",
   "outputs": [
    {
     "data": {
      "text/plain": [
       "'s3://football-data-kamil/football/monitoring/groundtruth/2024/05/07/10/5236.jsonl'"
      ]
     },
     "execution_count": 74,
     "metadata": {},
     "output_type": "execute_result"
    }
   ],
   "execution_count": 74
  },
  {
   "metadata": {
    "ExecuteTime": {
     "end_time": "2024-05-07T10:52:44.177574Z",
     "start_time": "2024-05-07T10:52:44.142223Z"
    }
   },
   "cell_type": "code",
   "source": [
    "from sagemaker.model_monitor import ModelQualityMonitor\n",
    "\n",
    "model_monitor = ModelQualityMonitor(\n",
    "    instance_type=config[\"instance_type\"],\n",
    "    instance_count=1,\n",
    "    max_runtime_in_seconds=1800,\n",
    "    volume_size_in_gb=20,\n",
    "    role=role,\n",
    "    sagemaker_session=sagemaker_session\n",
    ")"
   ],
   "id": "67a4f557a0316cf7",
   "outputs": [],
   "execution_count": 75
  },
  {
   "metadata": {
    "ExecuteTime": {
     "end_time": "2024-05-07T10:53:02.335317Z",
     "start_time": "2024-05-07T10:52:45.843659Z"
    }
   },
   "cell_type": "code",
   "source": [
    "import time\n",
    "\n",
    "from sagemaker.model_monitor import CronExpressionGenerator, EndpointInput\n",
    "\n",
    "model_monitor.create_monitoring_schedule(\n",
    "    monitor_schedule_name=\"football-model-monitoring-schedule\",\n",
    "    endpoint_input=EndpointInput(\n",
    "        endpoint_name=predictor.endpoint_name,\n",
    "        inference_attribute=\"0\",\n",
    "        destination=\"/opt/ml/processing/input_data\",\n",
    "    ),\n",
    "    problem_type=\"MulticlassClassification\",\n",
    "    ground_truth_input=GROUND_TRUTH_LOCATION,\n",
    "    constraints=f\"{MODEL_QUALITY_LOCATION}/constraints.json\",\n",
    "    schedule_cron_expression=CronExpressionGenerator.hourly(),\n",
    "    output_s3_uri=MODEL_QUALITY_LOCATION,\n",
    "    enable_cloudwatch_metrics=True,\n",
    ")\n",
    "\n",
    "time.sleep(10)\n",
    "model_monitor.start_monitoring_schedule()"
   ],
   "id": "3836d702079964c6",
   "outputs": [],
   "execution_count": 76
  },
  {
   "metadata": {
    "ExecuteTime": {
     "end_time": "2024-05-07T11:46:33.119964Z",
     "start_time": "2024-05-07T11:46:33.106032Z"
    }
   },
   "cell_type": "code",
   "source": [
    "import json\n",
    "from sagemaker.s3 import S3Downloader\n",
    "\n",
    "def check_execution(monitoring_schedule):\n",
    "    \"\"\"Check the execution of the Monitoring Job.\n",
    "\n",
    "    This function checks the execution of the Monitoring\n",
    "    Job and prints out the list of violations if the job\n",
    "    completed.\n",
    "    \"\"\"\n",
    "    executions = monitoring_schedule.list_executions()\n",
    "\n",
    "    if executions:\n",
    "        execution = executions[-1].describe()\n",
    "        print(f\"Processing Job Status: {execution['ProcessingJobStatus']}\")\n",
    "\n",
    "        if execution[\"ProcessingJobStatus\"] == \"Completed\":\n",
    "            # print(f\"Exit Message: \\\"{execution['ExitMessage']}\\\"\")\n",
    "            print(\n",
    "                f\"Last Modified Time: {execution['LastModifiedTime']}\",\n",
    "                end=\"\\n\\n\",\n",
    "            )\n",
    "            print(\"Execution:\")\n",
    "            print(json.dumps(execution, default=str, indent=2), end=\"\\n\\n\")\n",
    "\n",
    "            latest_monitoring_violations = (\n",
    "                monitoring_schedule.latest_monitoring_constraint_violations()\n",
    "            )\n",
    "            \n",
    "            print(f'latest_monitoring_violations: {latest_monitoring_violations}')\n",
    "            \n",
    "            response = json.loads(\n",
    "                S3Downloader.read_file(latest_monitoring_violations.file_s3_uri),\n",
    "            )\n",
    "            print(\"Violations:\")\n",
    "            print(json.dumps(response, indent=2))\n"
   ],
   "id": "45664cad61586d7f",
   "outputs": [],
   "execution_count": 89
  },
  {
   "metadata": {
    "ExecuteTime": {
     "end_time": "2024-05-07T11:46:35.650422Z",
     "start_time": "2024-05-07T11:46:34.106287Z"
    }
   },
   "cell_type": "code",
   "source": "check_execution(model_monitor)",
   "id": "37c2ac261b2382e",
   "outputs": [
    {
     "name": "stdout",
     "output_type": "stream",
     "text": [
      "Processing Job Status: Completed\n",
      "Last Modified Time: 2024-05-07 13:21:27.015000+02:00\n",
      "\n",
      "Execution:\n",
      "{\n",
      "  \"ProcessingInputs\": [\n",
      "    {\n",
      "      \"InputName\": \"constraints\",\n",
      "      \"AppManaged\": false,\n",
      "      \"S3Input\": {\n",
      "        \"S3Uri\": \"s3://football-data-kamil/football/monitoring/model-quality/constraints.json\",\n",
      "        \"LocalPath\": \"/opt/ml/processing/baseline/constraints\",\n",
      "        \"S3DataType\": \"S3Prefix\",\n",
      "        \"S3InputMode\": \"File\",\n",
      "        \"S3DataDistributionType\": \"FullyReplicated\"\n",
      "      }\n",
      "    },\n",
      "    {\n",
      "      \"InputName\": \"endpoint_input_1\",\n",
      "      \"AppManaged\": false,\n",
      "      \"S3Input\": {\n",
      "        \"S3Uri\": \"s3://football-data-kamil/football/monitoring/model-quality/merge/football-endpoint/AllTraffic/2024/05/07/10\",\n",
      "        \"LocalPath\": \"/opt/ml/processing/input_data/football-endpoint/AllTraffic/2024/05/07/10\",\n",
      "        \"S3DataType\": \"S3Prefix\",\n",
      "        \"S3InputMode\": \"File\",\n",
      "        \"S3DataDistributionType\": \"FullyReplicated\",\n",
      "        \"S3CompressionType\": \"None\"\n",
      "      }\n",
      "    }\n",
      "  ],\n",
      "  \"ProcessingOutputConfig\": {\n",
      "    \"Outputs\": [\n",
      "      {\n",
      "        \"OutputName\": \"result\",\n",
      "        \"S3Output\": {\n",
      "          \"S3Uri\": \"s3://football-data-kamil/football/monitoring/model-quality/football-endpoint/football-model-monitoring-schedule/2024/05/07/11\",\n",
      "          \"LocalPath\": \"/opt/ml/processing/output\",\n",
      "          \"S3UploadMode\": \"Continuous\"\n",
      "        },\n",
      "        \"AppManaged\": false\n",
      "      }\n",
      "    ]\n",
      "  },\n",
      "  \"ProcessingJobName\": \"model-quality-monitoring-202405071100-6ab85434dcc6a7ffcfed2c71\",\n",
      "  \"ProcessingResources\": {\n",
      "    \"ClusterConfig\": {\n",
      "      \"InstanceCount\": 1,\n",
      "      \"InstanceType\": \"ml.c5.xlarge\",\n",
      "      \"VolumeSizeInGB\": 20\n",
      "    }\n",
      "  },\n",
      "  \"StoppingCondition\": {\n",
      "    \"MaxRuntimeInSeconds\": 1800\n",
      "  },\n",
      "  \"AppSpecification\": {\n",
      "    \"ImageUri\": \"895015795356.dkr.ecr.eu-north-1.amazonaws.com/sagemaker-model-monitor-analyzer\"\n",
      "  },\n",
      "  \"Environment\": {\n",
      "    \"analysis_type\": \"MODEL_QUALITY\",\n",
      "    \"baseline_constraints\": \"/opt/ml/processing/baseline/constraints/constraints.json\",\n",
      "    \"dataset_format\": \"{\\\"sagemakerMergeJson\\\":{\\\"captureIndexNames\\\":[\\\"endpointOutput\\\"],\\\"originalDatasetFormat\\\":null}}\",\n",
      "    \"dataset_source\": \"/opt/ml/processing/input_data\",\n",
      "    \"end_time\": \"2024-05-07T11:00:00Z\",\n",
      "    \"inference_attribute\": \"0\",\n",
      "    \"metric_time\": \"2024-05-07T10:00:00Z\",\n",
      "    \"monitoring_input_type\": \"ENDPOINT_INPUT\",\n",
      "    \"output_path\": \"/opt/ml/processing/output\",\n",
      "    \"problem_type\": \"MulticlassClassification\",\n",
      "    \"publish_cloudwatch_metrics\": \"Enabled\",\n",
      "    \"sagemaker_endpoint_name\": \"football-endpoint\",\n",
      "    \"sagemaker_monitoring_schedule_name\": \"football-model-monitoring-schedule\",\n",
      "    \"start_time\": \"2024-05-07T10:00:00Z\"\n",
      "  },\n",
      "  \"RoleArn\": \"arn:aws:iam::284415450706:role/service-role/AmazonSageMaker-ExecutionRole-20240309T101533\",\n",
      "  \"ProcessingJobArn\": \"arn:aws:sagemaker:eu-north-1:284415450706:processing-job/model-quality-monitoring-202405071100-6ab85434dcc6a7ffcfed2c71\",\n",
      "  \"ProcessingJobStatus\": \"Completed\",\n",
      "  \"ExitMessage\": \"CompletedWithViolations: Job completed successfully with 5 violations.\",\n",
      "  \"ProcessingEndTime\": \"2024-05-07 13:21:26.626000+02:00\",\n",
      "  \"ProcessingStartTime\": \"2024-05-07 13:19:49.296000+02:00\",\n",
      "  \"LastModifiedTime\": \"2024-05-07 13:21:27.015000+02:00\",\n",
      "  \"CreationTime\": \"2024-05-07 13:14:43.655000+02:00\",\n",
      "  \"MonitoringScheduleArn\": \"arn:aws:sagemaker:eu-north-1:284415450706:monitoring-schedule/football-model-monitoring-schedule\",\n",
      "  \"ResponseMetadata\": {\n",
      "    \"RequestId\": \"ae37d6c6-9d2b-4153-b3de-9b1c7385fcbc\",\n",
      "    \"HTTPStatusCode\": 200,\n",
      "    \"HTTPHeaders\": {\n",
      "      \"x-amzn-requestid\": \"ae37d6c6-9d2b-4153-b3de-9b1c7385fcbc\",\n",
      "      \"content-type\": \"application/x-amz-json-1.1\",\n",
      "      \"content-length\": \"2696\",\n",
      "      \"date\": \"Tue, 07 May 2024 11:46:33 GMT\"\n",
      "    },\n",
      "    \"RetryAttempts\": 0\n",
      "  }\n",
      "}\n",
      "\n",
      "latest_monitoring_violations: <sagemaker.model_monitor.monitoring_files.ConstraintViolations object at 0x7c86f561d8d0>\n",
      "Violations:\n",
      "{\n",
      "  \"violations\": [\n",
      "    {\n",
      "      \"constraint_check_type\": \"LessThanThreshold\",\n",
      "      \"description\": \"Metric weightedF2 with 0.4545454545454545 was LessThanThreshold '0.5909092539695012'\",\n",
      "      \"metric_name\": \"weightedF2\"\n",
      "    },\n",
      "    {\n",
      "      \"constraint_check_type\": \"LessThanThreshold\",\n",
      "      \"description\": \"Metric accuracy with 0.5 was LessThanThreshold '0.6030871003307607'\",\n",
      "      \"metric_name\": \"accuracy\"\n",
      "    },\n",
      "    {\n",
      "      \"constraint_check_type\": \"LessThanThreshold\",\n",
      "      \"description\": \"Metric weightedRecall with 0.5 was LessThanThreshold '0.6030871003307607'\",\n",
      "      \"metric_name\": \"weightedRecall\"\n",
      "    },\n",
      "    {\n",
      "      \"constraint_check_type\": \"LessThanThreshold\",\n",
      "      \"description\": \"Metric weightedPrecision with 0.33333333333333337 was LessThanThreshold '0.6371214166058752'\",\n",
      "      \"metric_name\": \"weightedPrecision\"\n",
      "    },\n",
      "    {\n",
      "      \"constraint_check_type\": \"LessThanThreshold\",\n",
      "      \"description\": \"Metric weightedF1 with 0.4 was LessThanThreshold '0.5892193930857728'\",\n",
      "      \"metric_name\": \"weightedF1\"\n",
      "    }\n",
      "  ]\n",
      "}\n"
     ]
    }
   ],
   "execution_count": 90
  },
  {
   "metadata": {
    "ExecuteTime": {
     "end_time": "2024-05-07T11:46:45.369774Z",
     "start_time": "2024-05-07T11:46:39.523185Z"
    }
   },
   "cell_type": "code",
   "source": [
    "try:\n",
    "    model_monitor.delete_monitoring_schedule()\n",
    "except Exception as e:\n",
    "    print(e)\n",
    "    \n",
    "# # Define the monitoring schedule name\n",
    "# monitoring_schedule_name = \"football-model-monitoring-schedule\"\n",
    "# \n",
    "# # Delete the monitoring schedule\n",
    "# sagemaker_session.delete_monitoring_schedule(monitoring_schedule_name)"
   ],
   "id": "b38b6795e55cc975",
   "outputs": [],
   "execution_count": 91
  },
  {
   "metadata": {},
   "cell_type": "code",
   "outputs": [],
   "execution_count": null,
   "source": "",
   "id": "76aa12531e17a989"
  }
 ],
 "metadata": {
  "kernelspec": {
   "display_name": "Python 3",
   "language": "python",
   "name": "python3"
  },
  "language_info": {
   "codemirror_mode": {
    "name": "ipython",
    "version": 2
   },
   "file_extension": ".py",
   "mimetype": "text/x-python",
   "name": "python",
   "nbconvert_exporter": "python",
   "pygments_lexer": "ipython2",
   "version": "2.7.6"
  }
 },
 "nbformat": 4,
 "nbformat_minor": 5
}
