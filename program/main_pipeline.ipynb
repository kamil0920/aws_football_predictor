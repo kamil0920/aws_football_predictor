{
 "cells": [
  {
   "cell_type": "code",
   "source": [
    "import json\n",
    "import logging\n",
    "import sys\n",
    "import warnings\n",
    "from pathlib import Path\n",
    "import boto3\n",
    "import os\n",
    "import ipytest\n",
    "\n",
    "from sagemaker.workflow.pipeline import Pipeline\n",
    "\n",
    "%load_ext autoreload\n",
    "%autoreload 2\n",
    "%load_ext dotenv\n",
    "%dotenv\n",
    "\n",
    "CODE_FOLDER = Path(\"code\")\n",
    "CODE_FOLDER.mkdir(parents=True, exist_ok=True)\n",
    "INFERENCE_CODE_FOLDER = CODE_FOLDER / \"inference\"\n",
    "INFERENCE_CODE_FOLDER.mkdir(parents=True, exist_ok=True)\n",
    "\n",
    "sys.path.extend([f\"./{CODE_FOLDER}\", f\"./{INFERENCE_CODE_FOLDER}\"])\n",
    "\n",
    "ipytest.autoconfig(raise_on_error=True)\n",
    "\n",
    "logging.getLogger('sagemaker').setLevel(logging.ERROR)\n",
    "warnings.filterwarnings('ignore')"
   ],
   "metadata": {
    "collapsed": false,
    "ExecuteTime": {
     "end_time": "2024-06-02T17:31:47.637928600Z",
     "start_time": "2024-06-02T17:31:47.558850600Z"
    }
   },
   "id": "6beb300bf7e34dc7",
   "outputs": [
    {
     "name": "stdout",
     "output_type": "stream",
     "text": [
      "The autoreload extension is already loaded. To reload it, use:\n",
      "  %reload_ext autoreload\n",
      "The dotenv extension is already loaded. To reload it, use:\n",
      "  %reload_ext dotenv\n"
     ]
    }
   ],
   "execution_count": 36
  },
  {
   "cell_type": "code",
   "source": [
    "BUCKET = os.environ[\"BUCKET\"]\n",
    "region = boto3.Session().region_name\n",
    "\n",
    "# !aws s3api create-bucket --bucket BUCKET --create-bucket-configuration LocationConstraint=region"
   ],
   "metadata": {
    "collapsed": false,
    "ExecuteTime": {
     "end_time": "2024-06-02T17:31:47.729022Z",
     "start_time": "2024-06-02T17:31:47.639931500Z"
    }
   },
   "id": "bd1ac55d994fc2d1",
   "outputs": [],
   "execution_count": 37
  },
  {
   "cell_type": "code",
   "source": [
    "import sagemaker\n",
    "\n",
    "sagemaker_session = sagemaker.session.Session()\n",
    "sagemaker_client = boto3.client(\"sagemaker\")\n",
    "iam_client = boto3.client(\"iam\")"
   ],
   "metadata": {
    "collapsed": false,
    "ExecuteTime": {
     "end_time": "2024-06-02T17:31:47.815680400Z",
     "start_time": "2024-06-02T17:31:47.717021200Z"
    }
   },
   "id": "9ecad0246ed456da",
   "outputs": [],
   "execution_count": 38
  },
  {
   "cell_type": "code",
   "source": [
    "from sagemaker.workflow.pipeline_context import PipelineSession, LocalPipelineSession\n",
    "\n",
    "DUMMY_ROLE = \"arn:aws:iam::111111111111:role/service-role/AmazonSageMaker-ExecutionRole-11111111111111\"\n",
    "S3_LOCATION = f\"s3://{BUCKET}/football\"\n",
    "role = os.environ[\"ROLE\"]\n",
    "LOCAL_MODE = False\n",
    "\n",
    "architecture = !(uname -m)\n",
    "IS_ARM64_ARCHITECTURE = architecture[0] == \"arm64\"\n",
    "\n",
    "if LOCAL_MODE:\n",
    "    config = {\n",
    "        \"session\": LocalPipelineSession(default_bucket=BUCKET),\n",
    "        \"instance_type\": \"local\",\n",
    "        \"image\": \"sagemaker-xgboost-training-toolkit-local\" if IS_ARM64_ARCHITECTURE else None\n",
    "    }\n",
    "else:\n",
    "    config = {\n",
    "        \"session\": PipelineSession(default_bucket=BUCKET) if not LOCAL_MODE else None,\n",
    "        \"instance_type\": \"ml.c5.4xlarge\",\n",
    "        \"image\": None,\n",
    "    }\n",
    "\n",
    "config[\"framework_version\"] = \"1.7-1\"\n",
    "config[\"py_version\"] = \"py310\""
   ],
   "metadata": {
    "collapsed": false,
    "ExecuteTime": {
     "end_time": "2024-06-02T17:31:47.914130400Z",
     "start_time": "2024-06-02T17:31:47.808681400Z"
    }
   },
   "id": "ee6bc054dfdcbab",
   "outputs": [],
   "execution_count": 39
  },
  {
   "cell_type": "code",
   "source": [
    "from sagemaker.s3 import S3Uploader\n",
    "\n",
    "df_local_path = str(os.environ['DATA_FILEPATH_X'])\n",
    "y_local_path = str(os.environ['DATA_FILEPATH_Y'])\n",
    "\n",
    "# S3Uploader.upload(local_path=df_local_path, desired_s3_uri=f\"{S3_LOCATION}/data\", sagemaker_session=config['session'])\n",
    "# S3Uploader.upload(local_path=y_local_path, desired_s3_uri=f\"{S3_LOCATION}/data\", sagemaker_session=config['session'])"
   ],
   "metadata": {
    "collapsed": false,
    "ExecuteTime": {
     "end_time": "2024-06-02T17:31:47.996262900Z",
     "start_time": "2024-06-02T17:31:47.907130600Z"
    }
   },
   "id": "54a0a7017c5afb2f",
   "outputs": [],
   "execution_count": 40
  },
  {
   "cell_type": "code",
   "source": [
    "from sagemaker.workflow.steps import CacheConfig\n",
    "\n",
    "cache_config = CacheConfig(enable_caching=True, expire_after=\"15d\")"
   ],
   "metadata": {
    "collapsed": false,
    "ExecuteTime": {
     "end_time": "2024-06-02T17:31:48.044552700Z",
     "start_time": "2024-06-02T17:31:47.976264Z"
    }
   },
   "id": "36f2b2ff5af7f7bf",
   "outputs": [],
   "execution_count": 41
  },
  {
   "cell_type": "code",
   "source": [
    "from sagemaker.workflow.pipeline_definition_config import PipelineDefinitionConfig\n",
    "from sagemaker.sklearn import SKLearnProcessor\n",
    "from sagemaker.workflow.steps import ProcessingStep\n",
    "from sagemaker.processing import ProcessingInput, ProcessingOutput\n",
    "from sagemaker.workflow.parameters import ParameterString\n",
    "\n",
    "pipeline_definition_config = PipelineDefinitionConfig(use_custom_job_prefix=True)\n",
    "\n",
    "dataset_location = ParameterString(\n",
    "    name=\"dataset_location\",\n",
    "    default_value=f\"{S3_LOCATION}/data\",\n",
    ")\n",
    "\n",
    "processor = SKLearnProcessor(\n",
    "    base_job_name=\"split-and-transform-data\",\n",
    "    framework_version=\"1.2-1\",\n",
    "    instance_type=config[\"instance_type\"],\n",
    "    instance_count=1,\n",
    "    role=role,\n",
    "    sagemaker_session=config['session'],\n",
    ")\n",
    "\n",
    "split_and_transform_data_step = ProcessingStep(\n",
    "    name=\"split-and-transform-data\",\n",
    "    step_args=processor.run(\n",
    "        code=f\"{CODE_FOLDER}/preprocessor.py\",\n",
    "        inputs=[\n",
    "            ProcessingInput(source=dataset_location, destination=\"/opt/ml/processing/input\"),\n",
    "        ],\n",
    "        outputs=[\n",
    "            ProcessingOutput(output_name=\"train\", source=\"/opt/ml/processing/train\"),\n",
    "            ProcessingOutput(output_name=\"validation\", source=\"/opt/ml/processing/validation\"),\n",
    "            ProcessingOutput(output_name=\"test\", source=\"/opt/ml/processing/test\"),\n",
    "            ProcessingOutput(output_name=\"model\", source=\"/opt/ml/processing/model\"),\n",
    "            ProcessingOutput(output_name=\"train-baseline\", source=\"/opt/ml/processing/train-baseline\"),\n",
    "            ProcessingOutput(output_name=\"test-baseline\", source=\"/opt/ml/processing/test-baseline\"),\n",
    "        ]\n",
    "    ),\n",
    "    cache_config=cache_config,\n",
    ")"
   ],
   "metadata": {
    "collapsed": false,
    "ExecuteTime": {
     "end_time": "2024-06-02T17:31:48.123823700Z",
     "start_time": "2024-06-02T17:31:48.044552700Z"
    }
   },
   "id": "9c975fc0201b8f4d",
   "outputs": [],
   "execution_count": 42
  },
  {
   "cell_type": "code",
   "source": [
    "from sagemaker.workflow.steps import TrainingStep\n",
    "from sagemaker.inputs import TrainingInput\n",
    "\n",
    "\n",
    "def create_training_step(estimator):\n",
    "    \"\"\"Create a SageMaker TrainingStep using the provided estimator.\"\"\"\n",
    "    return TrainingStep(\n",
    "        name=\"train-model\",\n",
    "        step_args=estimator.fit(\n",
    "            inputs={\n",
    "                \"train\": TrainingInput(\n",
    "                    s3_data=split_and_transform_data_step.properties.ProcessingOutputConfig.Outputs[\n",
    "                        \"train\"\n",
    "                    ].S3Output.S3Uri,\n",
    "                    content_type=\"text/csv\",\n",
    "                ),\n",
    "                \"validation\": TrainingInput(\n",
    "                    s3_data=split_and_transform_data_step.properties.ProcessingOutputConfig.Outputs[\n",
    "                        \"validation\"\n",
    "                    ].S3Output.S3Uri,\n",
    "                    content_type=\"text/csv\",\n",
    "                ),\n",
    "                \"pipeline\": TrainingInput(\n",
    "                    s3_data=split_and_transform_data_step.properties.ProcessingOutputConfig.Outputs[\n",
    "                        \"model\"\n",
    "                    ].S3Output.S3Uri,\n",
    "                    content_type=\"application/tar+gzip\",\n",
    "                ),\n",
    "            },\n",
    "        ),\n",
    "        cache_config=cache_config,\n",
    "    )"
   ],
   "metadata": {
    "collapsed": false,
    "ExecuteTime": {
     "end_time": "2024-06-02T17:31:48.193497Z",
     "start_time": "2024-06-02T17:31:48.123823700Z"
    }
   },
   "id": "5dd9879e78a475aa",
   "outputs": [],
   "execution_count": 43
  },
  {
   "cell_type": "code",
   "outputs": [
    {
     "name": "stdout",
     "output_type": "stream",
     "text": [
      "284415450706.dkr.ecr.eu-north-1.amazonaws.com/xgb-clf-custom-training-container:latest\n"
     ]
    }
   ],
   "source": [
    "from pythonProject.program.code.containers.SageMakerTrainContainerBuilder import SageMakerTrainContainerBuilder\n",
    "\n",
    "IMAGE_NAME = \"xgb-clf-custom-training-container\"\n",
    "builder = SageMakerTrainContainerBuilder(\n",
    "    code_folder=CODE_FOLDER, \n",
    "    image_name=IMAGE_NAME,\n",
    "    local_mode=LOCAL_MODE\n",
    ")\n",
    "\n",
    "# training_container_image = builder.build_and_push()\n",
    "# print(training_container_image)\n",
    "\n",
    "training_container_image = builder.get_image_uri()\n",
    "print(training_container_image)"
   ],
   "metadata": {
    "collapsed": false,
    "ExecuteTime": {
     "end_time": "2024-06-02T17:31:49.039053100Z",
     "start_time": "2024-06-02T17:31:48.194496900Z"
    }
   },
   "id": "c589837afe0d6d2b",
   "execution_count": 44
  },
  {
   "metadata": {
    "ExecuteTime": {
     "end_time": "2024-06-02T17:31:49.102601300Z",
     "start_time": "2024-06-02T17:31:49.026053200Z"
    }
   },
   "cell_type": "code",
   "source": [
    "from sagemaker.estimator import Estimator\n",
    "\n",
    "use_spot_instances = True and not LOCAL_MODE\n",
    "max_run = 500\n",
    "max_wait = 800 if use_spot_instances else None\n",
    "instance_type = config['instance_type']\n",
    "\n",
    "xgb_estimator = Estimator(\n",
    "    image_uri=training_container_image,\n",
    "    instance_count=1,\n",
    "    instance_type=config[\"instance_type\"],\n",
    "    sagemaker_session=config[\"session\"],\n",
    "    role=role,\n",
    "    use_spot_instances=use_spot_instances,\n",
    "    max_run=max_run,\n",
    "    max_wait=max_wait,\n",
    "    disable_profiler=True\n",
    ")\n",
    "\n",
    "xgb_train_model_step = create_training_step(xgb_estimator)"
   ],
   "id": "542afa6921b58b27",
   "outputs": [],
   "execution_count": 45
  },
  {
   "cell_type": "code",
   "source": [
    "USE_TUNING_STEP = False and not LOCAL_MODE"
   ],
   "metadata": {
    "collapsed": false,
    "ExecuteTime": {
     "end_time": "2024-06-02T17:31:49.173932700Z",
     "start_time": "2024-06-02T17:31:49.100602900Z"
    }
   },
   "id": "51bc8ae0e97f4cfd",
   "outputs": [],
   "execution_count": 46
  },
  {
   "cell_type": "code",
   "source": [
    "from sagemaker.tuner import HyperparameterTuner\n",
    "from sagemaker.parameter import IntegerParameter, ContinuousParameter\n",
    "\n",
    "hyperparameter_ranges = {\n",
    "    'eta': ContinuousParameter(min_value=0.05, max_value=0.3, scaling_type=\"Logarithmic\"),\n",
    "    'max_depth': IntegerParameter(min_value=5, max_value=15, scaling_type=\"Auto\"),\n",
    "    'subsample': ContinuousParameter(min_value=0.7, max_value=1.0, scaling_type=\"Auto\"),\n",
    "    'colsample_bytree': ContinuousParameter(min_value=0.7, max_value=1.0, scaling_type=\"Logarithmic\"),\n",
    "    'lambda': ContinuousParameter(min_value=5, max_value=12, scaling_type=\"Logarithmic\"),\n",
    "    'alpha': ContinuousParameter(min_value=1, max_value=10, scaling_type=\"Logarithmic\"),\n",
    "    'min_child_weight': ContinuousParameter(min_value=0.4, max_value=1.0, scaling_type=\"Auto\"),\n",
    "}\n",
    "\n",
    "objective_type = \"Maximize\"\n",
    "metric_definitions = [\n",
    "    {'Name': 'validation:logloss',\n",
    "     'Regex': r\".*\\[[0-9]+\\].*#011validation_0-logloss:([-+]?[0-9]*\\.?[0-9]+(?:[eE][-+]?[0-9]+)?).*\"\n",
    "     },\n",
    "    {'Name': 'validation:f1',\n",
    "     'Regex': 'F1 score: ([0-9\\\\.]+)'\n",
    "     },\n",
    "]\n",
    "\n",
    "metric_name = \"validation:f1\"\n",
    "strategy = \"Bayesian\"\n",
    "\n",
    "tuner = HyperparameterTuner(\n",
    "    estimator=xgb_estimator,\n",
    "    objective_metric_name=metric_name,\n",
    "    objective_type=objective_type,\n",
    "    hyperparameter_ranges=hyperparameter_ranges,\n",
    "    metric_definitions=metric_definitions,\n",
    "    max_jobs=8,\n",
    "    max_parallel_jobs=2,\n",
    "    early_stopping_type='Auto',\n",
    ")"
   ],
   "metadata": {
    "collapsed": false,
    "ExecuteTime": {
     "end_time": "2024-06-02T17:31:49.242229200Z",
     "start_time": "2024-06-02T17:31:49.170932300Z"
    }
   },
   "id": "a31e770437cfcbb6",
   "outputs": [],
   "execution_count": 47
  },
  {
   "cell_type": "code",
   "source": [
    "from sagemaker.workflow.steps import TuningStep\n",
    "\n",
    "tune_model_step = TuningStep(\n",
    "    name=\"tune-model\",\n",
    "    step_args=tuner.fit(\n",
    "        inputs={\n",
    "            \"train\": TrainingInput(\n",
    "                s3_data=split_and_transform_data_step.properties.ProcessingOutputConfig.Outputs[\n",
    "                    \"train\"\n",
    "                ].S3Output.S3Uri,\n",
    "                content_type=\"text/csv\"\n",
    "            ),\n",
    "            \"validation\": TrainingInput(\n",
    "                s3_data=split_and_transform_data_step.properties.ProcessingOutputConfig.Outputs[\n",
    "                    \"validation\"\n",
    "                ].S3Output.S3Uri,\n",
    "                content_type=\"text/csv\"\n",
    "            ),\n",
    "            \"pipeline\": TrainingInput(\n",
    "                s3_data=split_and_transform_data_step.properties.ProcessingOutputConfig.Outputs[\n",
    "                    \"model\"\n",
    "                ].S3Output.S3Uri,\n",
    "                content_type=\"application/tar+gzip\",\n",
    "            ),\n",
    "        },\n",
    "    ),\n",
    "    cache_config=cache_config\n",
    ")"
   ],
   "metadata": {
    "collapsed": false,
    "ExecuteTime": {
     "end_time": "2024-06-02T17:31:49.312346900Z",
     "start_time": "2024-06-02T17:31:49.243230200Z"
    }
   },
   "id": "473cacc2979587a9",
   "outputs": [],
   "execution_count": 48
  },
  {
   "cell_type": "code",
   "source": [
    "from sagemaker.xgboost import XGBoostProcessor\n",
    "\n",
    "evaluation_processor = XGBoostProcessor(\n",
    "    base_job_name=\"evaluation-processor\",\n",
    "    image_uri=config[\"image\"],\n",
    "    framework_version=config[\"framework_version\"],\n",
    "    instance_type=config[\"instance_type\"],\n",
    "    instance_count=1,\n",
    "    role=role,\n",
    "    sagemaker_session=config[\"session\"],\n",
    ")"
   ],
   "metadata": {
    "collapsed": false,
    "ExecuteTime": {
     "end_time": "2024-06-02T17:31:49.393777800Z",
     "start_time": "2024-06-02T17:31:49.313347900Z"
    }
   },
   "id": "d73cf8acd2617076",
   "outputs": [],
   "execution_count": 49
  },
  {
   "cell_type": "code",
   "source": [
    "from sagemaker.workflow.properties import PropertyFile\n",
    "\n",
    "model_assets = xgb_train_model_step.properties.ModelArtifacts.S3ModelArtifacts\n",
    "\n",
    "if USE_TUNING_STEP:\n",
    "    model_assets = tune_model_step.get_top_model_s3_uri(\n",
    "        top_k=0,\n",
    "        s3_bucket=config[\"session\"].default_bucket(),\n",
    "    )\n",
    "\n",
    "evaluation_report = PropertyFile(\n",
    "    name=\"evaluation-report\", output_name=\"evaluation\", path=\"evaluation.json\"\n",
    ")\n",
    "\n",
    "evaluate_model_step = ProcessingStep(\n",
    "    name=\"evaluate-model\",\n",
    "    step_args=evaluation_processor.run(\n",
    "        inputs=[\n",
    "            ProcessingInput(\n",
    "                source=split_and_transform_data_step.properties.ProcessingOutputConfig.Outputs[\n",
    "                    \"test\"\n",
    "                ].S3Output.S3Uri,\n",
    "                destination=\"/opt/ml/processing/test\",\n",
    "            ),\n",
    "            ProcessingInput(\n",
    "                source=model_assets,\n",
    "                destination=\"/opt/ml/processing/model\",\n",
    "            ),\n",
    "        ],\n",
    "        outputs=[\n",
    "            ProcessingOutput(\n",
    "                output_name=\"evaluation\", source=\"/opt/ml/processing/evaluation\"\n",
    "            ),\n",
    "        ],\n",
    "        code=f\"{CODE_FOLDER}/evaluation.py\",\n",
    "    ),\n",
    "    property_files=[evaluation_report],\n",
    "    cache_config=cache_config,\n",
    ")"
   ],
   "metadata": {
    "collapsed": false,
    "ExecuteTime": {
     "end_time": "2024-06-02T17:31:49.463788500Z",
     "start_time": "2024-06-02T17:31:49.393777800Z"
    }
   },
   "id": "2147eaf6e5f6b450",
   "outputs": [],
   "execution_count": 50
  },
  {
   "cell_type": "code",
   "source": [
    "from sagemaker.xgboost.model import XGBoostModel\n",
    "\n",
    "xgb_model = XGBoostModel(\n",
    "    model_data=model_assets,\n",
    "    framework_version=config[\"framework_version\"],\n",
    "    sagemaker_session=config[\"session\"],\n",
    "    role=role,\n",
    ")"
   ],
   "metadata": {
    "collapsed": false,
    "ExecuteTime": {
     "end_time": "2024-06-02T17:31:49.532432800Z",
     "start_time": "2024-06-02T17:31:49.464790800Z"
    }
   },
   "id": "5cd6b925adb4a12e",
   "outputs": [],
   "execution_count": 51
  },
  {
   "cell_type": "code",
   "source": [
    "from sagemaker.model_metrics import MetricsSource, ModelMetrics\n",
    "from sagemaker.workflow.functions import Join\n",
    "\n",
    "model_metrics = ModelMetrics(\n",
    "    model_statistics=MetricsSource(\n",
    "        s3_uri=Join(\n",
    "            on=\"/\",\n",
    "            values=[\n",
    "                evaluate_model_step.properties.ProcessingOutputConfig.Outputs[\n",
    "                    \"evaluation\"\n",
    "                ].S3Output.S3Uri,\n",
    "                \"evaluation.json\",\n",
    "            ],\n",
    "        ),\n",
    "        content_type=\"application/json\",\n",
    "    ),\n",
    ")"
   ],
   "metadata": {
    "collapsed": false,
    "ExecuteTime": {
     "end_time": "2024-06-02T17:31:49.599375200Z",
     "start_time": "2024-06-02T17:31:49.532432800Z"
    }
   },
   "id": "4f1255fb2188d37d",
   "outputs": [],
   "execution_count": 52
  },
  {
   "cell_type": "code",
   "source": [
    "from sagemaker.workflow.model_step import ModelStep\n",
    "\n",
    "def create_registration_step(\n",
    "        model,\n",
    "        model_package_group_name,\n",
    "        approval_status=\"Approved\",\n",
    "        content_types=[\"text/csv\"],\n",
    "        response_types=[\"text/csv\"],\n",
    "        model_metrics=None,\n",
    "        drift_check_baselines=None,\n",
    "):\n",
    "    \"\"\"Create a Registration Step using the supplied parameters.\"\"\"\n",
    "    return ModelStep(\n",
    "        name=\"register\",\n",
    "        step_args=model.register(\n",
    "            model_package_group_name=model_package_group_name,\n",
    "            approval_status=approval_status,\n",
    "            model_metrics=model_metrics,\n",
    "            drift_check_baselines=drift_check_baselines,\n",
    "            content_types=content_types,\n",
    "            response_types=response_types,\n",
    "            inference_instances=[config[\"instance_type\"]],\n",
    "            transform_instances=[config[\"instance_type\"]],\n",
    "            framework_version=config[\"framework_version\"],\n",
    "            domain=\"MACHINE_LEARNING\",\n",
    "            task=\"CLASSIFICATION\",\n",
    "            framework=\"XGBOOST\",\n",
    "        ),\n",
    "    )"
   ],
   "metadata": {
    "collapsed": false,
    "ExecuteTime": {
     "end_time": "2024-06-02T17:31:49.667387600Z",
     "start_time": "2024-06-02T17:31:49.599375200Z"
    }
   },
   "id": "7f97e2d4f10652ce",
   "outputs": [],
   "execution_count": 53
  },
  {
   "cell_type": "code",
   "outputs": [
    {
     "name": "stdout",
     "output_type": "stream",
     "text": [
      "Pushing Docker image to ECR...\n"
     ]
    },
    {
     "name": "stderr",
     "output_type": "stream",
     "text": [
      "Pushing image: 100%|██████████| 100/100 [00:02<00:00, 49.67it/s]\n"
     ]
    },
    {
     "name": "stdout",
     "output_type": "stream",
     "text": [
      "Docker image pushed to ECR successfully.\n",
      "284415450706.dkr.ecr.eu-north-1.amazonaws.com/xgb-clf-custom-inference-container:latest\n"
     ]
    }
   ],
   "source": [
    "from pythonProject.program.code.containers.SageMakerInferenceContainerBuilder import SageMakerInferenceContainerBuilder\n",
    "\n",
    "IMAGE_NAME = \"xgb-clf-custom-inference-container\"\n",
    "\n",
    "builder = SageMakerInferenceContainerBuilder(\n",
    "    code_folder=CODE_FOLDER,\n",
    "    image_name=IMAGE_NAME,\n",
    "    local_mode=LOCAL_MODE\n",
    ")\n",
    "\n",
    "inference_container_image = builder.build_and_push()\n",
    "print(inference_container_image)\n",
    "\n",
    "# inference_container_image = builder.get_image_uri()\n",
    "# print(inference_container_image)"
   ],
   "metadata": {
    "collapsed": false,
    "ExecuteTime": {
     "end_time": "2024-06-02T17:31:58.449939800Z",
     "start_time": "2024-06-02T17:31:49.668388300Z"
    }
   },
   "id": "2de3443082a82057",
   "execution_count": 54
  },
  {
   "metadata": {
    "ExecuteTime": {
     "end_time": "2024-06-02T17:31:58.505943400Z",
     "start_time": "2024-06-02T17:31:58.436940600Z"
    }
   },
   "cell_type": "code",
   "source": [
    "from sagemaker.xgboost import XGBoostModel\n",
    "\n",
    "custom_xgb_model = XGBoostModel(\n",
    "    name=\"custom-xgb-football-model\",\n",
    "    image_uri=inference_container_image,\n",
    "    model_data=xgb_train_model_step.properties.ModelArtifacts.S3ModelArtifacts,\n",
    "    entry_point=\"inference.py\",\n",
    "    source_dir=(CODE_FOLDER / \"pipeline\").as_posix(),\n",
    "    framework_version=config[\"framework_version\"],\n",
    "    sagemaker_session=config[\"session\"],\n",
    "    role=role,\n",
    ")\n",
    "\n",
    "\n",
    "# from sagemaker.model import Model\n",
    "# \n",
    "# custom_xgb_model = Model(\n",
    "#     image_uri=image_uri,\n",
    "#     model_data=xgb_train_model_step.properties.ModelArtifacts.S3ModelArtifacts,\n",
    "#     role=role,\n",
    "#     entry_point=\"inference.py\",\n",
    "#     source_dir=(CODE_FOLDER / \"pipeline\").as_posix(),\n",
    "#     framework_version=config[\"framework_version\"],\n",
    "#     sagemaker_session=config[\"session\"],\n",
    "# )"
   ],
   "id": "84db24af90917208",
   "outputs": [],
   "execution_count": 55
  },
  {
   "metadata": {
    "ExecuteTime": {
     "end_time": "2024-06-02T17:31:58.574967100Z",
     "start_time": "2024-06-02T17:31:58.506946400Z"
    }
   },
   "cell_type": "code",
   "source": [
    "MODEL_PACKAGE_GROUP = \"football-group\"\n",
    "GROUND_TRUTH_LOCATION = f\"{S3_LOCATION}/monitoring/groundtruth\"\n",
    "DATA_QUALITY_LOCATION = f\"{S3_LOCATION}/monitoring/data-quality\"\n",
    "MODEL_QUALITY_LOCATION = f\"{S3_LOCATION}/monitoring/model-quality\""
   ],
   "id": "2777c034747d921d",
   "outputs": [],
   "execution_count": 56
  },
  {
   "metadata": {
    "ExecuteTime": {
     "end_time": "2024-06-02T17:31:58.653214500Z",
     "start_time": "2024-06-02T17:31:58.576967200Z"
    }
   },
   "cell_type": "code",
   "source": [
    "from sagemaker.model_monitor.dataset_format import DatasetFormat\n",
    "from sagemaker.workflow.check_job_config import CheckJobConfig\n",
    "from sagemaker.workflow.quality_check_step import (\n",
    "    DataQualityCheckConfig,\n",
    "    QualityCheckStep,\n",
    ")\n",
    "\n",
    "data_quality_baseline_step = QualityCheckStep(\n",
    "    name=\"generate-data-quality-baseline\",\n",
    "    check_job_config=CheckJobConfig(\n",
    "        instance_type=\"ml.c5.xlarge\",\n",
    "        instance_count=1,\n",
    "        volume_size_in_gb=20,\n",
    "        sagemaker_session=config[\"session\"],\n",
    "        role=role,\n",
    "    ),\n",
    "    quality_check_config=DataQualityCheckConfig(\n",
    "        baseline_dataset=split_and_transform_data_step.properties.ProcessingOutputConfig.Outputs[\n",
    "            \"train-baseline\"\n",
    "        ].S3Output.S3Uri,\n",
    "        dataset_format=DatasetFormat.csv(header=True),\n",
    "        output_s3_uri=DATA_QUALITY_LOCATION,\n",
    "    ),\n",
    "    model_package_group_name=MODEL_PACKAGE_GROUP,\n",
    "    skip_check=True,\n",
    "    register_new_baseline=True,\n",
    "    cache_config=cache_config,\n",
    ")"
   ],
   "id": "b558799dac61cc3d",
   "outputs": [],
   "execution_count": 57
  },
  {
   "metadata": {
    "ExecuteTime": {
     "end_time": "2024-06-02T17:31:59.706751600Z",
     "start_time": "2024-06-02T17:31:58.653214500Z"
    }
   },
   "cell_type": "code",
   "source": [
    "create_model_step = ModelStep(\n",
    "    name=\"create-model\",\n",
    "    step_args=custom_xgb_model.create(instance_type=config[\"instance_type\"]),\n",
    ")"
   ],
   "id": "f04d18cc8deba11a",
   "outputs": [],
   "execution_count": 58
  },
  {
   "metadata": {
    "ExecuteTime": {
     "end_time": "2024-06-02T17:31:59.774540500Z",
     "start_time": "2024-06-02T17:31:59.707750500Z"
    }
   },
   "cell_type": "code",
   "source": [
    "from sagemaker.transformer import Transformer\n",
    "\n",
    "transformer = Transformer(\n",
    "    model_name=create_model_step.properties.ModelName,\n",
    "    instance_type=config[\"instance_type\"],\n",
    "    instance_count=1,\n",
    "    strategy=\"MultiRecord\",\n",
    "    accept=\"text/csv\",\n",
    "    assemble_with=\"Line\",\n",
    "    output_path=f\"{S3_LOCATION}/transform\",\n",
    "    sagemaker_session=config[\"session\"],\n",
    ")"
   ],
   "id": "ef6d542c90adcd3b",
   "outputs": [],
   "execution_count": 59
  },
  {
   "metadata": {
    "ExecuteTime": {
     "end_time": "2024-06-02T17:31:59.846001800Z",
     "start_time": "2024-06-02T17:31:59.775539400Z"
    }
   },
   "cell_type": "code",
   "source": [
    "from sagemaker.workflow.steps import TransformStep\n",
    "\n",
    "# https://github.com/aws/sagemaker-python-sdk/issues/4042 - problem with MultiRecord\n",
    "\n",
    "generate_test_predictions_step = TransformStep(\n",
    "    name=\"generate-test-predictions\",\n",
    "    step_args=transformer.transform(\n",
    "        # We will use the baseline set we generated when we split the data.\n",
    "        # This set corresponds to the test split before the transformation step.\n",
    "        data=split_and_transform_data_step.properties.ProcessingOutputConfig.Outputs[\n",
    "            \"test-baseline\"\n",
    "        ].S3Output.S3Uri,\n",
    "        join_source=\"Input\",\n",
    "        split_type=\"Line\",\n",
    "        content_type=\"text/csv\",\n",
    "        # We want to output the first and the second to last field from\n",
    "        # the joint set. The first field corresponds to the groundtruth,\n",
    "        # and the second to last field corresponds to the prediction.\n",
    "        #\n",
    "        # Notice how the first field is the groundtruth coming from the\n",
    "        # test set. The second to last field is the prediction coming the\n",
    "        # model.\n",
    "        output_filter=\"$[0,-1]\",\n",
    "    ),\n",
    "    cache_config=cache_config,\n",
    ")"
   ],
   "id": "451fb0386710cbb7",
   "outputs": [],
   "execution_count": 60
  },
  {
   "metadata": {
    "ExecuteTime": {
     "end_time": "2024-06-02T17:31:59.923223800Z",
     "start_time": "2024-06-02T17:31:59.846001800Z"
    }
   },
   "cell_type": "code",
   "source": [
    "from sagemaker.workflow.quality_check_step import ModelQualityCheckConfig\n",
    "\n",
    "model_quality_baseline_step = QualityCheckStep(\n",
    "    name=\"generate-model-quality-baseline\",\n",
    "    check_job_config=CheckJobConfig(\n",
    "        instance_type=\"ml.m5.xlarge\",\n",
    "        instance_count=1,\n",
    "        volume_size_in_gb=20,\n",
    "        sagemaker_session=config[\"session\"],\n",
    "        role=role,\n",
    "    ),\n",
    "    quality_check_config=ModelQualityCheckConfig(\n",
    "        # We are going to use the output of the Transform Step to generate\n",
    "        # the model quality baseline.\n",
    "        baseline_dataset=generate_test_predictions_step.properties.TransformOutput.S3OutputPath,\n",
    "        dataset_format=DatasetFormat.csv(header=False),\n",
    "        # We need to specify the problem type and the fields where the prediction\n",
    "        # and groundtruth are so the process knows how to interpret the results.\n",
    "        problem_type=\"MulticlassClassification\",\n",
    "        # Since the data doesn't have headers, SageMaker will autocreate headers for it.\n",
    "        # _c0 corresponds to the first column, and _c1 corresponds to the second column.\n",
    "        ground_truth_attribute=\"_c0\",\n",
    "        inference_attribute=\"_c1\",\n",
    "        output_s3_uri=MODEL_QUALITY_LOCATION,\n",
    "\n",
    "    ),\n",
    "    model_package_group_name=MODEL_PACKAGE_GROUP,\n",
    "    skip_check=True,\n",
    "    register_new_baseline=True,\n",
    "    cache_config=cache_config,\n",
    ")"
   ],
   "id": "f113a0f94469d137",
   "outputs": [],
   "execution_count": 61
  },
  {
   "metadata": {
    "ExecuteTime": {
     "end_time": "2024-06-02T17:31:59.993765200Z",
     "start_time": "2024-06-02T17:31:59.924223Z"
    }
   },
   "cell_type": "code",
   "source": [
    "from sagemaker.drift_check_baselines import DriftCheckBaselines\n",
    "\n",
    "model_quality_model_metrics = ModelMetrics(\n",
    "    model_statistics=MetricsSource(\n",
    "        s3_uri=model_quality_baseline_step.properties.CalculatedBaselineStatistics,\n",
    "        content_type=\"application/json\",\n",
    "    ),\n",
    "    model_constraints=MetricsSource(\n",
    "        s3_uri=model_quality_baseline_step.properties.CalculatedBaselineConstraints,\n",
    "        content_type=\"application/json\",\n",
    "    ),\n",
    "    model_data_statistics=MetricsSource(\n",
    "        s3_uri=data_quality_baseline_step.properties.CalculatedBaselineStatistics,\n",
    "        content_type=\"application/json\",\n",
    "    ),\n",
    "    model_data_constraints=MetricsSource(\n",
    "        s3_uri=data_quality_baseline_step.properties.CalculatedBaselineConstraints,\n",
    "        content_type=\"application/json\",\n",
    "    ),\n",
    ")\n",
    "\n",
    "model_quality_drift_check_baselines = DriftCheckBaselines(\n",
    "    model_statistics=MetricsSource(\n",
    "        s3_uri=model_quality_baseline_step.properties.BaselineUsedForDriftCheckStatistics,\n",
    "        content_type=\"application/json\",\n",
    "    ),\n",
    "    model_constraints=MetricsSource(\n",
    "        s3_uri=model_quality_baseline_step.properties.BaselineUsedForDriftCheckConstraints,\n",
    "        content_type=\"application/json\",\n",
    "    ),\n",
    "    model_data_statistics=MetricsSource(\n",
    "        s3_uri=data_quality_baseline_step.properties.BaselineUsedForDriftCheckStatistics,\n",
    "        content_type=\"application/json\",\n",
    "    ),\n",
    "    model_data_constraints=MetricsSource(\n",
    "        s3_uri=data_quality_baseline_step.properties.BaselineUsedForDriftCheckConstraints,\n",
    "        content_type=\"application/json\",\n",
    "    ),\n",
    ")"
   ],
   "id": "b20bf573f3d31eaa",
   "outputs": [],
   "execution_count": 62
  },
  {
   "metadata": {
    "ExecuteTime": {
     "end_time": "2024-06-02T17:32:00.587969100Z",
     "start_time": "2024-06-02T17:31:59.993765200Z"
    }
   },
   "cell_type": "code",
   "source": [
    "register_model_step = create_registration_step(\n",
    "    custom_xgb_model,\n",
    "    MODEL_PACKAGE_GROUP,\n",
    "    content_types=[\"text/csv\", \"application/json\"],\n",
    "    response_types=[\"text/csv\", \"application/json\"],\n",
    "    model_metrics=model_quality_model_metrics,\n",
    "    drift_check_baselines=model_quality_drift_check_baselines,\n",
    ")"
   ],
   "id": "5feb3043cf773a1d",
   "outputs": [],
   "execution_count": 63
  },
  {
   "cell_type": "code",
   "source": [
    "from sagemaker.workflow.functions import JsonGet\n",
    "from sagemaker.workflow.fail_step import FailStep\n",
    "from sagemaker.workflow.parameters import ParameterFloat\n",
    "from sagemaker.workflow.condition_step import ConditionStep\n",
    "from sagemaker.workflow.conditions import ConditionGreaterThanOrEqualTo\n",
    "\n",
    "f1_threshold = ParameterFloat(name=\"f1_threshold\", default_value=0.64)\n",
    "\n",
    "fail_step = FailStep(\n",
    "    name=\"fail\",\n",
    "    error_message=Join(\n",
    "        on=\" \",\n",
    "        values=[\n",
    "            \"Execution failed because the model's f1 result was lower than\",\n",
    "            f1_threshold,\n",
    "        ],\n",
    "    ),\n",
    ")\n",
    "\n",
    "condition = ConditionGreaterThanOrEqualTo(\n",
    "    left=JsonGet(\n",
    "        step_name=evaluate_model_step.name,\n",
    "        property_file=evaluation_report,\n",
    "        json_path=\"metrics.f1.value\",\n",
    "    ),\n",
    "    right=f1_threshold,\n",
    ")"
   ],
   "metadata": {
    "collapsed": false,
    "ExecuteTime": {
     "end_time": "2024-06-02T17:32:00.660034800Z",
     "start_time": "2024-06-02T17:32:00.590971200Z"
    }
   },
   "id": "d8ab4d19cbfc11ae",
   "outputs": [],
   "execution_count": 64
  },
  {
   "cell_type": "code",
   "source": [
    "lambda_role_name = \"lambda-deployment-role\"\n",
    "lambda_role_arn = None\n",
    "\n",
    "try:\n",
    "    response = iam_client.create_role(\n",
    "        RoleName=lambda_role_name,\n",
    "        AssumeRolePolicyDocument=json.dumps(\n",
    "            {\n",
    "                \"Version\": \"2012-10-17\",\n",
    "                \"Statement\": [\n",
    "                    {\n",
    "                        \"Effect\": \"Allow\",\n",
    "                        \"Principal\": {\n",
    "                            \"Service\": [\"lambda.amazonaws.com\", \"events.amazonaws.com\"],\n",
    "                        },\n",
    "                        \"Action\": \"sts:AssumeRole\",\n",
    "                    },\n",
    "                ],\n",
    "            },\n",
    "        ),\n",
    "        Description=\"Lambda Endpoint Deployment\",\n",
    "    )\n",
    "\n",
    "    lambda_role_arn = response[\"Role\"][\"Arn\"]\n",
    "\n",
    "    iam_client.attach_role_policy(\n",
    "        PolicyArn=\"arn:aws:iam::aws:policy/service-role/AWSLambdaBasicExecutionRole\",\n",
    "        RoleName=lambda_role_name,\n",
    "    )\n",
    "\n",
    "    iam_client.attach_role_policy(\n",
    "        PolicyArn=\"arn:aws:iam::aws:policy/AmazonSageMakerFullAccess\",\n",
    "        RoleName=lambda_role_name,\n",
    "    )\n",
    "\n",
    "    print(f'Role \"{lambda_role_name}\" created with ARN \"{lambda_role_arn}\".')\n",
    "except iam_client.exceptions.EntityAlreadyExistsException:\n",
    "    response = iam_client.get_role(RoleName=lambda_role_name)\n",
    "    lambda_role_arn = response[\"Role\"][\"Arn\"]\n",
    "    print(f'Role \"{lambda_role_name}\" already exists with ARN \"{lambda_role_arn}\".')"
   ],
   "metadata": {
    "collapsed": false,
    "ExecuteTime": {
     "end_time": "2024-06-02T17:32:01.710221800Z",
     "start_time": "2024-06-02T17:32:00.661033300Z"
    }
   },
   "id": "a2004f5f8a325cd",
   "outputs": [
    {
     "name": "stdout",
     "output_type": "stream",
     "text": [
      "Role \"lambda-deployment-role\" already exists with ARN \"arn:aws:iam::284415450706:role/lambda-deployment-role\".\n"
     ]
    }
   ],
   "execution_count": 65
  },
  {
   "cell_type": "code",
   "source": [
    "from sagemaker.lambda_helper import Lambda\n",
    "\n",
    "ENDPOINT = \"football-endpoint\"\n",
    "DATA_CAPTURE_DESTINATION = f\"{S3_LOCATION}/monitoring/data-capture\"\n",
    "DATA_CAPTURE_PERCENTAGE = 100\n",
    "\n",
    "deploy_lambda_fn = Lambda(\n",
    "    function_name=\"deployment_fn\",\n",
    "    execution_role_arn=lambda_role_arn,\n",
    "    script=(CODE_FOLDER / \"lambda\" / \"lambda.py\").as_posix(),\n",
    "    handler=\"lambda.lambda_handler\",\n",
    "    timeout=600,\n",
    "    session=sagemaker_session,\n",
    "    runtime=\"python3.11\",\n",
    "    environment={\n",
    "        \"Variables\": {\n",
    "            \"ENDPOINT\": ENDPOINT,\n",
    "            \"DATA_CAPTURE_DESTINATION\": DATA_CAPTURE_DESTINATION,\n",
    "            \"DATA_CAPTURE_PERCENTAGE\": str(DATA_CAPTURE_PERCENTAGE),\n",
    "            \"ROLE\": role,\n",
    "            \"MODEL_PACKAGE_GROUP\": MODEL_PACKAGE_GROUP\n",
    "        },\n",
    "    },\n",
    ")\n",
    "\n",
    "deploy_lambda_fn_response = deploy_lambda_fn.upsert()"
   ],
   "metadata": {
    "collapsed": false,
    "ExecuteTime": {
     "end_time": "2024-06-02T17:32:02.783788100Z",
     "start_time": "2024-06-02T17:32:01.698218600Z"
    }
   },
   "id": "4d3b3b8b5a8bf88",
   "outputs": [],
   "execution_count": 66
  },
  {
   "cell_type": "code",
   "source": [
    "from sagemaker.workflow.lambda_step import LambdaStep\n",
    "\n",
    "\n",
    "def create_deployment_step(register_model_step):\n",
    "    \"\"\"Create a Deploy Step using the supplied parameters.\"\"\"\n",
    "    return LambdaStep(\n",
    "        name=\"deploy\",\n",
    "        lambda_func=deploy_lambda_fn,\n",
    "        inputs={\n",
    "            \"model_package_arn\": register_model_step.properties.ModelPackageArn,\n",
    "        },\n",
    "    )"
   ],
   "metadata": {
    "collapsed": false,
    "ExecuteTime": {
     "end_time": "2024-06-02T17:32:02.852017100Z",
     "start_time": "2024-06-02T17:32:02.783788100Z"
    }
   },
   "id": "b3f5eb5289dcdb89",
   "outputs": [],
   "execution_count": 67
  },
  {
   "cell_type": "code",
   "source": [
    "deploy_step = create_deployment_step(register_model_step)\n",
    "\n",
    "condition_step = ConditionStep(\n",
    "    name=\"check-model-f1-score\",\n",
    "    conditions=[condition],\n",
    "    if_steps=(\n",
    "        [\n",
    "            create_model_step,\n",
    "            generate_test_predictions_step,\n",
    "            model_quality_baseline_step,\n",
    "            deploy_step\n",
    "        ]\n",
    "    ),\n",
    "    else_steps=[fail_step],\n",
    ")"
   ],
   "metadata": {
    "collapsed": false,
    "ExecuteTime": {
     "end_time": "2024-06-02T17:32:02.920885800Z",
     "start_time": "2024-06-02T17:32:02.853017400Z"
    }
   },
   "id": "93920bd415ce9d60",
   "outputs": [],
   "execution_count": 68
  },
  {
   "cell_type": "code",
   "source": [
    "session_pipeline = Pipeline(\n",
    "    name=\"session19-pipeline\",\n",
    "    parameters=[dataset_location, f1_threshold],\n",
    "    steps=[\n",
    "        split_and_transform_data_step,\n",
    "        tune_model_step if USE_TUNING_STEP else xgb_train_model_step,\n",
    "        evaluate_model_step,\n",
    "        condition_step,\n",
    "    ],\n",
    "    pipeline_definition_config=pipeline_definition_config,\n",
    "    sagemaker_session=config[\"session\"],\n",
    ")\n",
    "\n",
    "session_pipeline.upsert(role_arn=role)"
   ],
   "metadata": {
    "collapsed": false,
    "ExecuteTime": {
     "end_time": "2024-06-02T17:32:07.510195900Z",
     "start_time": "2024-06-02T17:32:02.920885800Z"
    }
   },
   "id": "afc088fa81b0356",
   "outputs": [
    {
     "data": {
      "text/plain": "{'PipelineArn': 'arn:aws:sagemaker:eu-north-1:284415450706:pipeline/session19-pipeline',\n 'ResponseMetadata': {'RequestId': '34c7bf06-fa05-459f-ad68-0b19cd3fa051',\n  'HTTPStatusCode': 200,\n  'HTTPHeaders': {'x-amzn-requestid': '34c7bf06-fa05-459f-ad68-0b19cd3fa051',\n   'content-type': 'application/x-amz-json-1.1',\n   'content-length': '87',\n   'date': 'Sun, 02 Jun 2024 17:32:05 GMT'},\n  'RetryAttempts': 0}}"
     },
     "execution_count": 69,
     "metadata": {},
     "output_type": "execute_result"
    }
   ],
   "execution_count": 69
  },
  {
   "cell_type": "code",
   "source": [
    "session_pipeline.start()"
   ],
   "metadata": {
    "collapsed": false,
    "ExecuteTime": {
     "end_time": "2024-06-02T17:32:07.834705100Z",
     "start_time": "2024-06-02T17:32:07.510195900Z"
    }
   },
   "id": "2a53db12df12f93f",
   "outputs": [
    {
     "data": {
      "text/plain": "_PipelineExecution(arn='arn:aws:sagemaker:eu-north-1:284415450706:pipeline/session19-pipeline/execution/8zpc2qpirdn8', sagemaker_session=<sagemaker.workflow.pipeline_context.PipelineSession object at 0x0000014F8167E7E0>)"
     },
     "execution_count": 70,
     "metadata": {},
     "output_type": "execute_result"
    }
   ],
   "execution_count": 70
  },
  {
   "metadata": {
    "ExecuteTime": {
     "end_time": "2024-06-02T12:51:47.380889400Z",
     "start_time": "2024-06-02T12:51:47.365289100Z"
    }
   },
   "cell_type": "code",
   "source": [],
   "id": "16d3aeb78055ffae",
   "outputs": [],
   "execution_count": 35
  },
  {
   "cell_type": "code",
   "outputs": [],
   "source": [],
   "metadata": {
    "collapsed": false,
    "ExecuteTime": {
     "end_time": "2024-06-02T12:51:47.382887200Z",
     "start_time": "2024-06-02T12:51:47.367702900Z"
    }
   },
   "id": "432e8569a7645f1e",
   "execution_count": 35
  },
  {
   "cell_type": "code",
   "outputs": [
    {
     "name": "stdout",
     "output_type": "stream",
     "text": [
      "Predictions: [('home_win', 0.9), ('home_win', 0.7), ('home_not_win', 0.65), ('home_not_win', 0.8)]\n",
      "Predictions shape: (4, 2)\n",
      "CSV Output:\n",
      " home_win,0.9\r\n",
      "home_win,0.7\r\n",
      "home_not_win,0.65\r\n",
      "home_not_win,0.8\r\n",
      "\n",
      "Processing JSON response\n",
      "JSON Output:\n",
      " ('[{\"prediction\": \"home_win\", \"confidence\": 0.9}, {\"prediction\": \"home_win\", \"confidence\": 0.7}, {\"prediction\": \"home_not_win\", \"confidence\": 0.65}, {\"prediction\": \"home_not_win\", \"confidence\": 0.8}]', 'application/json')\n"
     ]
    }
   ],
   "source": [
    "import csv\n",
    "import json\n",
    "import numpy as np\n",
    "from io import StringIO\n",
    "\n",
    "\n",
    "try:\n",
    "    from sagemaker_containers.beta.framework import encoders, worker\n",
    "except ImportError:\n",
    "    # We don't have access to the `worker` instance when testing locally.\n",
    "    # We'll set it to None so we can change the way functions create\n",
    "    # a response.\n",
    "    worker = None\n",
    "    \n",
    "    \n",
    "def _get_classes():\n",
    "    # Placeholder for getting the classes\n",
    "    return [\"home_not_win\", \"home_win\"]\n",
    "\n",
    "def output_fn(prediction, response_content_type):\n",
    "    classes = _get_classes()\n",
    "\n",
    "    if response_content_type == \"text/csv\":\n",
    "        output = StringIO()\n",
    "        writer = csv.writer(output, quoting=csv.QUOTE_MINIMAL)\n",
    "        \n",
    "        # Write data rows\n",
    "        predictions = [(classes[np.argmax(x)], float(x[np.argmax(x)])) for x in prediction]\n",
    "        print(f\"Predictions: {predictions}\")\n",
    "        print(f\"Predictions shape: {np.shape(predictions)}\")\n",
    "        for pred, conf in predictions:\n",
    "            writer.writerow([pred, conf])\n",
    "\n",
    "        output.seek(0)\n",
    "        return output.getvalue()\n",
    "\n",
    "    if response_content_type == \"application/json\":\n",
    "        print(\"Processing JSON response\")\n",
    "        predictions = [{'prediction': classes[np.argmax(x)], 'confidence': float(x[np.argmax(x)])} for x in prediction]\n",
    "        result = json.dumps(predictions)\n",
    "\n",
    "        return (\n",
    "            worker.Response(result, mimetype=response_content_type)\n",
    "            if worker\n",
    "            else (result, response_content_type)\n",
    "        )\n",
    "\n",
    "    raise Exception(f\"{response_content_type} accept type is not supported.\")\n",
    "\n",
    "# Sample prediction data for testing\n",
    "sample_prediction = np.array([[0.1, 0.9], [0.3, 0.7], [0.65, 0.35], [0.8, 0.2]])\n",
    "\n",
    "# Run the output function for CSV\n",
    "output_csv = output_fn(sample_prediction, \"text/csv\")\n",
    "print(\"CSV Output:\\n\", output_csv)\n",
    "\n",
    "# Run the output function for JSON\n",
    "output_json = output_fn(sample_prediction, \"application/json\")\n",
    "print(\"JSON Output:\\n\", output_json)"
   ],
   "metadata": {
    "collapsed": false,
    "ExecuteTime": {
     "end_time": "2024-06-02T12:51:47.444890300Z",
     "start_time": "2024-06-02T12:51:47.369887300Z"
    }
   },
   "id": "61b18f64a966aa51",
   "execution_count": 36
  },
  {
   "cell_type": "code",
   "outputs": [
    {
     "data": {
      "text/plain": "'1.0'"
     },
     "execution_count": 37,
     "metadata": {},
     "output_type": "execute_result"
    }
   ],
   "source": [
    "csv.__version__"
   ],
   "metadata": {
    "collapsed": false,
    "ExecuteTime": {
     "end_time": "2024-06-02T12:51:47.517192400Z",
     "start_time": "2024-06-02T12:51:47.444890300Z"
    }
   },
   "id": "e666159a1957e1bf",
   "execution_count": 37
  },
  {
   "cell_type": "code",
   "outputs": [],
   "source": [],
   "metadata": {
    "collapsed": false,
    "ExecuteTime": {
     "end_time": "2024-06-02T12:51:47.518192500Z",
     "start_time": "2024-06-02T12:51:47.514836800Z"
    }
   },
   "id": "f733269e39bd0399",
   "execution_count": 37
  }
 ],
 "metadata": {
  "kernelspec": {
   "display_name": "Python 3",
   "language": "python",
   "name": "python3"
  },
  "language_info": {
   "codemirror_mode": {
    "name": "ipython",
    "version": 2
   },
   "file_extension": ".py",
   "mimetype": "text/x-python",
   "name": "python",
   "nbconvert_exporter": "python",
   "pygments_lexer": "ipython2",
   "version": "2.7.6"
  }
 },
 "nbformat": 4,
 "nbformat_minor": 5
}
