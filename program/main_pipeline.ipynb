{
 "cells": [
  {
   "cell_type": "code",
   "outputs": [
    {
     "name": "stdout",
     "output_type": "stream",
     "text": [
      "The autoreload extension is already loaded. To reload it, use:\n",
      "  %reload_ext autoreload\n"
     ]
    }
   ],
   "source": [
    "%load_ext autoreload\n",
    "%autoreload 2\n",
    "\n",
    "import os\n",
    "import sys\n",
    "from pathlib import Path\n",
    "import warnings\n",
    "\n",
    "warnings.filterwarnings('ignore')\n",
    "CODE_FOLDER = Path(\"code\")\n",
    "CODE_FOLDER.mkdir(parents=True, exist_ok=True)\n",
    "\n",
    "sys.path.append(f\"./{CODE_FOLDER}\")"
   ],
   "metadata": {
    "collapsed": false,
    "ExecuteTime": {
     "end_time": "2024-04-17T18:09:14.515544700Z",
     "start_time": "2024-04-17T18:09:14.384971100Z"
    }
   },
   "id": "dcd6df911098ecb8",
   "execution_count": 56
  },
  {
   "cell_type": "code",
   "outputs": [],
   "source": [
    "# !aws s3api create-bucket --bucket football-data-kamil --create-bucket-configuration LocationConstraint=eu-north-1"
   ],
   "metadata": {
    "collapsed": false,
    "ExecuteTime": {
     "end_time": "2024-04-17T18:09:14.539194700Z",
     "start_time": "2024-04-17T18:09:14.450942Z"
    }
   },
   "id": "15812d9d5c4c5062",
   "execution_count": 57
  },
  {
   "cell_type": "code",
   "outputs": [
    {
     "name": "stdout",
     "output_type": "stream",
     "text": [
      "The autoreload extension is already loaded. To reload it, use:\n",
      "  %reload_ext autoreload\n",
      "The dotenv extension is already loaded. To reload it, use:\n",
      "  %reload_ext dotenv\n"
     ]
    }
   ],
   "source": [
    "%load_ext autoreload\n",
    "%autoreload 2\n",
    "%load_ext dotenv\n",
    "%dotenv\n",
    "\n",
    "import sys\n",
    "import logging\n",
    "import ipytest\n",
    "from pathlib import Path\n",
    "\n",
    "CODE_FOLDER = Path(\"code\")\n",
    "CODE_FOLDER.mkdir(parents=True, exist_ok=True)\n",
    "INFERENCE_CODE_FOLDER = CODE_FOLDER / \"inference\"\n",
    "INFERENCE_CODE_FOLDER.mkdir(parents=True, exist_ok=True)\n",
    "\n",
    "sys.path.extend([f\"./{CODE_FOLDER}\", f\"./{INFERENCE_CODE_FOLDER}\"])\n",
    "\n",
    "ipytest.autoconfig(raise_on_error=True)\n",
    "\n",
    "# By default, The SageMaker SDK logs events related to the default\n",
    "# configuration using the INFO level. To prevent these from spoiling\n",
    "# the output of this notebook cells, we can change the logging\n",
    "# level to ERROR instead.\n",
    "logging.getLogger(\"sagemaker.config\").setLevel(logging.ERROR)"
   ],
   "metadata": {
    "collapsed": false,
    "ExecuteTime": {
     "end_time": "2024-04-17T18:09:14.591399600Z",
     "start_time": "2024-04-17T18:09:14.519704600Z"
    }
   },
   "id": "6beb300bf7e34dc7",
   "execution_count": 58
  },
  {
   "cell_type": "code",
   "outputs": [],
   "source": [
    "import os\n",
    "import logging\n",
    "\n",
    "from sagemaker.workflow.pipeline_context import PipelineSession, LocalPipelineSession\n",
    "\n",
    "# Update this variable to your bucket name. This name must be unique\n",
    "# across all AWS accounts.\n",
    "BUCKET = os.environ[\"BUCKET\"]\n",
    "S3_LOCATION = f\"s3://{BUCKET}/football\"\n",
    "\n",
    "# To run this notebook in Local Model, this constant must be set to True.\n",
    "# I'm trying to do this automatically by checking for a specific environment\n",
    "# variable that is set by SageMaker when you run the notebook inside SageMaker\n",
    "# Studio. \n",
    "# LOCAL_MODE = \"SAGEMAKER_INTERNAL_IMAGE_URI\" not in os.environ\n",
    "\n",
    "LOCAL_MODE = False\n",
    "\n",
    "# This variable will be used to determine the architecture of the\n",
    "# local machine. If the machine is an ARM64 machine, you will need\n",
    "# to build a custom Docker image using the setup notebook.\n",
    "ARCHITECTURE = !(uname -m)\n",
    "\n",
    "# This is a dummy role that will be ignored when we run the\n",
    "# pipeline in Local Mode.\n",
    "DUMMY_ROLE = \"arn:aws:iam::111111111111:role/service-role/AmazonSageMaker-ExecutionRole-11111111111111\"\n",
    "\n",
    "# We'll use these two variables to configure the steps that do not support\n",
    "# Local Mode.\n",
    "pipeline_session = PipelineSession() if not LOCAL_MODE else LocalPipelineSession(default_bucket=BUCKET)\n",
    "execution_role = os.environ[\"ROLE\"] if not LOCAL_MODE else DUMMY_ROLE\n",
    "\n",
    "if LOCAL_MODE:\n",
    "    config = {\n",
    "        \"session\": pipeline_session,\n",
    "        \"instance_type\": \"local\",\n",
    "        \"role\": DUMMY_ROLE,\n",
    "\n",
    "        # We need to use a custom Docker image when we run the pipeline\n",
    "        # in Local Model on an ARM64 machine.\n",
    "        \"image\": \"sagemaker-tensorflow-training-toolkit-local\" if ARCHITECTURE[0] == \"arm64\" else None,\n",
    "        \"framework_version\": None if ARCHITECTURE[0] == \"arm64\" else \"1.7-1\",\n",
    "        \"py_version\": None if ARCHITECTURE[0] == \"arm64\" else \"py38\",\n",
    "    }\n",
    "else:\n",
    "    config = {\n",
    "        \"session\": pipeline_session,\n",
    "        \"instance_type\": \"ml.c5.xlarge\",\n",
    "        \"role\": execution_role,\n",
    "        \"image\": None,\n",
    "        \"framework_version\": \"1.7-1\",\n",
    "        \"py_version\": \"py3\",\n",
    "    }\n",
    "\n",
    "# By default, The SageMaker SDK logs events related to the default\n",
    "# configuration using the INFO level. To prevent these from spoiling\n",
    "# the output of this notebook cells, we can change the logging\n",
    "# level to ERROR instead.\n",
    "logging.getLogger(\"sagemaker.config\").setLevel(logging.ERROR)"
   ],
   "metadata": {
    "collapsed": false,
    "ExecuteTime": {
     "end_time": "2024-04-17T18:09:14.690813900Z",
     "start_time": "2024-04-17T18:09:14.590376700Z"
    }
   },
   "id": "ee6bc054dfdcbab",
   "execution_count": 59
  },
  {
   "cell_type": "code",
   "outputs": [],
   "source": [
    "import boto3\n",
    "\n",
    "s3_client = boto3.client('s3')\n",
    "iam_client = boto3.client(\"iam\")\n",
    "sagemaker_client = boto3.client(\"sagemaker\")"
   ],
   "metadata": {
    "collapsed": false,
    "ExecuteTime": {
     "end_time": "2024-04-17T18:09:14.798276Z",
     "start_time": "2024-04-17T18:09:14.679414500Z"
    }
   },
   "id": "fc3c33517f84f15f",
   "execution_count": 60
  },
  {
   "cell_type": "code",
   "outputs": [
    {
     "data": {
      "text/plain": "'s3://football-data-kamil/football/data/y.csv'"
     },
     "execution_count": 61,
     "metadata": {},
     "output_type": "execute_result"
    }
   ],
   "source": [
    "from sagemaker.s3 import S3Uploader\n",
    "\n",
    "df_local_path = str(os.environ['DATA_FILEPATH_X'])\n",
    "y_local_path = str(os.environ['DATA_FILEPATH_Y'])\n",
    "\n",
    "S3Uploader.upload(local_path=df_local_path, desired_s3_uri=f\"{S3_LOCATION}/data\", sagemaker_session=config['session'])\n",
    "S3Uploader.upload(local_path=y_local_path, desired_s3_uri=f\"{S3_LOCATION}/data\", sagemaker_session=config['session'])"
   ],
   "metadata": {
    "collapsed": false,
    "ExecuteTime": {
     "end_time": "2024-04-17T18:09:17.175634100Z",
     "start_time": "2024-04-17T18:09:14.763414900Z"
    }
   },
   "id": "54a0a7017c5afb2f",
   "execution_count": 61
  },
  {
   "cell_type": "code",
   "outputs": [],
   "source": [
    "from sagemaker.workflow.steps import CacheConfig\n",
    "\n",
    "cache_config = CacheConfig(enable_caching=True, expire_after=\"15d\")"
   ],
   "metadata": {
    "collapsed": false,
    "ExecuteTime": {
     "end_time": "2024-04-17T18:09:17.240772600Z",
     "start_time": "2024-04-17T18:09:17.175634100Z"
    }
   },
   "id": "36f2b2ff5af7f7bf",
   "execution_count": 62
  },
  {
   "cell_type": "code",
   "outputs": [
    {
     "name": "stderr",
     "output_type": "stream",
     "text": [
      "INFO:sagemaker.image_uris:Defaulting to only available Python version: py3\n"
     ]
    }
   ],
   "source": [
    "from sagemaker.sklearn import SKLearnProcessor\n",
    "from sagemaker.workflow.steps import ProcessingStep\n",
    "from sagemaker.processing import ProcessingInput, ProcessingOutput\n",
    "from sagemaker.workflow.parameters import ParameterString\n",
    "from sagemaker.workflow.retry import (\n",
    "    SageMakerJobExceptionTypeEnum,\n",
    "    SageMakerJobStepRetryPolicy\n",
    ")\n",
    "\n",
    "retry_policy = {\n",
    "    \"ExceptionType\": SageMakerJobExceptionTypeEnum.INTERNAL_ERROR,\n",
    "    \"IntervalSeconds\": 2,\n",
    "    \"BackoffRate\": 2,\n",
    "    \"MaxAttempts\": 5,\n",
    "    \"ExpireAfterMin\": 5\n",
    "}\n",
    "\n",
    "dataset_location = ParameterString(\n",
    "    name=\"dataset_location\",\n",
    "    default_value=f\"{S3_LOCATION}/data\",\n",
    ")\n",
    "\n",
    "processor = SKLearnProcessor(\n",
    "    base_job_name=\"split-and-transform-data\",\n",
    "    framework_version=\"1.2-1\",\n",
    "    instance_type=config[\"instance_type\"],\n",
    "    instance_count=1,\n",
    "    role=config[\"role\"],\n",
    "    sagemaker_session=config[\"session\"],\n",
    ")\n",
    "\n",
    "split_and_transform_data_step = ProcessingStep(\n",
    "    name=\"split-and-transform-data\",\n",
    "    step_args=processor.run(\n",
    "        code=f\"{CODE_FOLDER}/preprocessor.py\",\n",
    "        inputs=[\n",
    "            ProcessingInput(source=dataset_location, destination=\"/opt/ml/processing/input\"),\n",
    "        ],\n",
    "        outputs=[\n",
    "            ProcessingOutput(output_name=\"train\", source=\"/opt/ml/processing/train\"),\n",
    "            ProcessingOutput(output_name=\"validation\", source=\"/opt/ml/processing/validation\"),\n",
    "            ProcessingOutput(output_name=\"test\", source=\"/opt/ml/processing/test\"),\n",
    "            ProcessingOutput(output_name=\"model\", source=\"/opt/ml/processing/model\"),\n",
    "            ProcessingOutput(output_name=\"train-baseline\", source=\"/opt/ml/processing/train-baseline\"),\n",
    "            ProcessingOutput(output_name=\"test-baseline\", source=\"/opt/ml/processing/test-baseline\"),\n",
    "        ]\n",
    "    ),\n",
    "    cache_config=cache_config,\n",
    ")\n",
    "\n"
   ],
   "metadata": {
    "collapsed": false,
    "ExecuteTime": {
     "end_time": "2024-04-17T18:09:17.322959800Z",
     "start_time": "2024-04-17T18:09:17.242849900Z"
    }
   },
   "id": "9c975fc0201b8f4d",
   "execution_count": 63
  },
  {
   "cell_type": "code",
   "outputs": [],
   "source": [
    "from sagemaker.workflow.pipeline import Pipeline\n",
    "from sagemaker.workflow.pipeline_definition_config import PipelineDefinitionConfig\n",
    "\n",
    "pipeline_definition_config = PipelineDefinitionConfig(use_custom_job_prefix=True)\n",
    "\n",
    "# session1_pipeline = Pipeline(\n",
    "#     name=\"session1-pipeline\",\n",
    "#     parameters=[dataset_location],\n",
    "#     steps=[\n",
    "#         split_and_transform_data_step,\n",
    "#     ],\n",
    "#     pipeline_definition_config=pipeline_definition_config,\n",
    "#     sagemaker_session=config['session'],\n",
    "# )\n",
    "# \n",
    "# session1_pipeline.upsert(role_arn=config[\"role\"])\n",
    "# session1_pipeline.start()"
   ],
   "metadata": {
    "collapsed": false,
    "ExecuteTime": {
     "end_time": "2024-04-17T18:09:17.387894Z",
     "start_time": "2024-04-17T18:09:17.319854400Z"
    }
   },
   "id": "98e68ac3054aacb8",
   "execution_count": 64
  },
  {
   "cell_type": "code",
   "outputs": [
    {
     "name": "stderr",
     "output_type": "stream",
     "text": [
      "INFO:sagemaker.image_uris:Ignoring unnecessary Python version: py3.\n",
      "INFO:sagemaker.image_uris:Ignoring unnecessary instance type: ml.c5.xlarge.\n"
     ]
    }
   ],
   "source": [
    "from sagemaker.xgboost import XGBoost\n",
    "\n",
    "use_spot_instances = True and not LOCAL_MODE\n",
    "max_run = 1000\n",
    "max_wait = 1200 if use_spot_instances else None\n",
    "instance_type = \"ml.m5.2xlarge\"\n",
    "\n",
    "estimator = XGBoost(\n",
    "    base_job_name=\"training\",\n",
    "    entry_point=f\"{CODE_FOLDER}/train.py\",\n",
    "    role=config['role'],\n",
    "    instance_count=1,\n",
    "    instance_type=config['instance_type'],\n",
    "    framework_version=config['framework_version'],\n",
    "    disable_profiler=True,\n",
    "    py_version=config['py_version'],\n",
    "    use_spot_instances=use_spot_instances,\n",
    "    max_run=max_run,\n",
    "    max_wait=max_wait,\n",
    ")"
   ],
   "metadata": {
    "collapsed": false,
    "ExecuteTime": {
     "end_time": "2024-04-17T18:09:17.477352400Z",
     "start_time": "2024-04-17T18:09:17.385841300Z"
    }
   },
   "id": "830a03c119740bea",
   "execution_count": 65
  },
  {
   "cell_type": "code",
   "outputs": [],
   "source": [
    "from sagemaker.workflow.steps import TrainingStep\n",
    "from sagemaker.inputs import TrainingInput\n",
    "\n",
    "train_model_step = TrainingStep(\n",
    "    name=\"train-model\",\n",
    "    estimator=estimator,\n",
    "    inputs={\n",
    "        \"train\": TrainingInput(\n",
    "            s3_data=split_and_transform_data_step.properties.ProcessingOutputConfig.Outputs[\"train\"].S3Output.S3Uri,\n",
    "            content_type=\"text/csv\"\n",
    "        ),\n",
    "        \"validation\": TrainingInput(\n",
    "            s3_data=split_and_transform_data_step.properties.ProcessingOutputConfig.Outputs[\"validation\"].S3Output.S3Uri,\n",
    "            content_type=\"text/csv\"\n",
    "        )\n",
    "    },\n",
    "    cache_config=cache_config\n",
    ")\n",
    "\n",
    "# train_model_step = TrainingStep(\n",
    "#     name=\"train-model\",\n",
    "#     step_args=estimator.fit(\n",
    "#         inputs={\n",
    "#             \"train\": TrainingInput(\n",
    "#                 s3_data=split_and_transform_data_step.properties.ProcessingOutputConfig.Outputs[\"train\"].S3Output.S3Uri.to_string(),\n",
    "#                 content_type=\"text/csv\"\n",
    "#             ),\n",
    "#             \"validation\": TrainingInput(\n",
    "#                 s3_data=split_and_transform_data_step.properties.ProcessingOutputConfig.Outputs[\"validation\"].S3Output.S3Uri.to_string(),\n",
    "#                 content_type=\"text/csv\"\n",
    "#             )\n",
    "#         }\n",
    "#     ),\n",
    "#     cache_config=cache_config\n",
    "# )"
   ],
   "metadata": {
    "collapsed": false,
    "ExecuteTime": {
     "end_time": "2024-04-17T18:09:17.544184100Z",
     "start_time": "2024-04-17T18:09:17.478390700Z"
    }
   },
   "id": "5dd9879e78a475aa",
   "execution_count": 66
  },
  {
   "cell_type": "code",
   "outputs": [],
   "source": [
    "USE_TUNING_STEP = False and not LOCAL_MODE"
   ],
   "metadata": {
    "collapsed": false,
    "ExecuteTime": {
     "end_time": "2024-04-17T18:09:17.610841Z",
     "start_time": "2024-04-17T18:09:17.546252800Z"
    }
   },
   "id": "51bc8ae0e97f4cfd",
   "execution_count": 67
  },
  {
   "cell_type": "code",
   "outputs": [],
   "source": [
    "from sagemaker.tuner import HyperparameterTuner\n",
    "from sagemaker.parameter import IntegerParameter, ContinuousParameter\n",
    "\n",
    "hyperparameter_ranges = {\n",
    "    'eta': ContinuousParameter(min_value=0.05, max_value=0.3, scaling_type=\"Logarithmic\"),\n",
    "    'max_depth': IntegerParameter(min_value=5, max_value=15, scaling_type=\"Auto\"),\n",
    "    'subsample': ContinuousParameter(min_value=0.7, max_value=1.0, scaling_type=\"Auto\"),\n",
    "    'colsample_bytree': ContinuousParameter(min_value=0.7, max_value=1.0, scaling_type=\"Logarithmic\"),\n",
    "    'lambda': ContinuousParameter(min_value=5, max_value=12, scaling_type=\"Logarithmic\"),\n",
    "    'alpha': ContinuousParameter(min_value=1, max_value=10, scaling_type=\"Logarithmic\"),\n",
    "    'min_child_weight': ContinuousParameter(min_value=0.4, max_value=1.0, scaling_type=\"Auto\"),\n",
    "}\n",
    "\n",
    "objective_type = \"Maximize\"\n",
    "metric_definitions = [\n",
    "    {'Name': 'validation:logloss',\n",
    "     'Regex': '.*\\[[0-9]+\\].*#011validation_0-logloss:([-+]?[0-9]*\\.?[0-9]+(?:[eE][-+]?[0-9]+)?).*'\n",
    "     },\n",
    "    {'Name': 'validation:f1',\n",
    "     'Regex': 'F1 score: ([0-9\\\\.]+)'\n",
    "     },\n",
    "]\n",
    "metric_name = \"validation:f1\"\n",
    "strategy = \"Bayesian\"\n",
    "\n",
    "tuner = HyperparameterTuner(\n",
    "    estimator=estimator,\n",
    "    objective_metric_name=metric_name,\n",
    "    objective_type=objective_type,\n",
    "    hyperparameter_ranges=hyperparameter_ranges,\n",
    "    metric_definitions=metric_definitions,\n",
    "    max_jobs=8,\n",
    "    max_parallel_jobs=2,\n",
    "    early_stopping_type='Auto',\n",
    ")"
   ],
   "metadata": {
    "collapsed": false,
    "ExecuteTime": {
     "end_time": "2024-04-17T18:09:17.679433100Z",
     "start_time": "2024-04-17T18:09:17.611869600Z"
    }
   },
   "id": "a31e770437cfcbb6",
   "execution_count": 68
  },
  {
   "cell_type": "code",
   "outputs": [],
   "source": [
    "from sagemaker.workflow.steps import TuningStep\n",
    "\n",
    "tune_model_step = TuningStep(\n",
    "    name=\"tune-model\",\n",
    "    tuner=tuner,\n",
    "    inputs={\n",
    "        \"train\": TrainingInput(\n",
    "            s3_data=split_and_transform_data_step.properties.ProcessingOutputConfig.Outputs[\"train\"].S3Output.S3Uri,\n",
    "            content_type=\"text/csv\"\n",
    "        ),\n",
    "        \"validation\": TrainingInput(\n",
    "            s3_data=split_and_transform_data_step.properties.ProcessingOutputConfig.Outputs[\"validation\"].S3Output.S3Uri,\n",
    "            content_type=\"text/csv\"\n",
    "        )\n",
    "    },\n",
    "    cache_config=cache_config\n",
    ")\n",
    "\n",
    "# tune_model_step = TuningStep(\n",
    "#     name=\"tune-model\",\n",
    "#     step_args=tuner.fit(\n",
    "#         inputs={\n",
    "#             \"train\": TrainingInput(\n",
    "#                 s3_data=split_and_transform_data_step.properties.ProcessingOutputConfig.Outputs[\n",
    "#                     \"train\"\n",
    "#                 ].S3Output.S3Uri,\n",
    "#                 content_type=\"text/csv\"\n",
    "#             ),\n",
    "#             \"validation\": TrainingInput(\n",
    "#                 s3_data=split_and_transform_data_step.properties.ProcessingOutputConfig.Outputs[\n",
    "#                     \"validation\"\n",
    "#                 ].S3Output.S3Uri,\n",
    "#                 content_type=\"text/csv\"\n",
    "#             )\n",
    "#         },\n",
    "#     ),\n",
    "#     cache_config=cache_config\n",
    "# )\n"
   ],
   "metadata": {
    "collapsed": false,
    "ExecuteTime": {
     "end_time": "2024-04-17T18:09:17.749717600Z",
     "start_time": "2024-04-17T18:09:17.679433100Z"
    }
   },
   "id": "473cacc2979587a9",
   "execution_count": 69
  },
  {
   "cell_type": "code",
   "outputs": [],
   "source": [
    "# session2_pipeline = Pipeline(\n",
    "#     name=\"session2-pipeline\",\n",
    "#     parameters=[dataset_location],\n",
    "#     steps=[\n",
    "#         split_and_transform_data_step,\n",
    "#         tune_model_step if USE_TUNING_STEP else train_model_step,\n",
    "#     ],\n",
    "#     pipeline_definition_config=pipeline_definition_config,\n",
    "#     sagemaker_session=config[\"session\"],\n",
    "# )\n",
    "# \n",
    "# session2_pipeline.upsert(role_arn=config['role'])\n",
    "# session2_pipeline.start()"
   ],
   "metadata": {
    "collapsed": false,
    "ExecuteTime": {
     "end_time": "2024-04-17T18:09:17.811093600Z",
     "start_time": "2024-04-17T18:09:17.745567900Z"
    }
   },
   "id": "fdd3e81e0dca46aa",
   "execution_count": 70
  },
  {
   "cell_type": "code",
   "outputs": [
    {
     "name": "stderr",
     "output_type": "stream",
     "text": [
      "INFO:sagemaker.image_uris:Ignoring unnecessary Python version: py3.\n",
      "INFO:sagemaker.image_uris:Ignoring unnecessary instance type: ml.c5.xlarge.\n"
     ]
    }
   ],
   "source": [
    "from sagemaker.xgboost import XGBoostProcessor\n",
    "\n",
    "evaluation_processor = XGBoostProcessor(\n",
    "    base_job_name=\"evaluation-processor\",\n",
    "    image_uri=config[\"image\"],\n",
    "    framework_version=config[\"framework_version\"],\n",
    "    py_version=config[\"py_version\"],\n",
    "    instance_type=config[\"instance_type\"],\n",
    "    instance_count=1,\n",
    "    role=config['role'],\n",
    "    sagemaker_session=config[\"session\"],\n",
    ")"
   ],
   "metadata": {
    "collapsed": false,
    "ExecuteTime": {
     "end_time": "2024-04-17T18:09:17.891544700Z",
     "start_time": "2024-04-17T18:09:17.812121500Z"
    }
   },
   "id": "d73cf8acd2617076",
   "execution_count": 71
  },
  {
   "cell_type": "code",
   "outputs": [],
   "source": [
    "from sagemaker.workflow.properties import PropertyFile\n",
    "\n",
    "evaluation_report = PropertyFile(\n",
    "    name=\"evaluation-report\", output_name=\"evaluation\", path=\"evaluation.json\"\n",
    ")"
   ],
   "metadata": {
    "collapsed": false,
    "ExecuteTime": {
     "end_time": "2024-04-17T18:09:17.956785100Z",
     "start_time": "2024-04-17T18:09:17.891544700Z"
    }
   },
   "id": "f41bc50b964b336a",
   "execution_count": 72
  },
  {
   "cell_type": "code",
   "outputs": [],
   "source": [
    "model_assets = tune_model_step.get_top_model_s3_uri(\n",
    "    top_k=0, s3_bucket=config[\"session\"].default_bucket()\n",
    ") if USE_TUNING_STEP else train_model_step.properties.ModelArtifacts.S3ModelArtifacts"
   ],
   "metadata": {
    "collapsed": false,
    "ExecuteTime": {
     "end_time": "2024-04-17T18:09:18.021813100Z",
     "start_time": "2024-04-17T18:09:17.957821400Z"
    }
   },
   "id": "d55dcab3ed97a887",
   "execution_count": 73
  },
  {
   "cell_type": "code",
   "outputs": [],
   "source": [
    "evaluate_model_step = ProcessingStep(\n",
    "    name=\"evaluate-model\",\n",
    "    step_args=evaluation_processor.run(\n",
    "        inputs=[\n",
    "            ProcessingInput(\n",
    "                source=split_and_transform_data_step.properties.ProcessingOutputConfig.Outputs[\n",
    "                    \"test\"\n",
    "                ].S3Output.S3Uri,\n",
    "                destination=\"/opt/ml/processing/test\",\n",
    "            ),\n",
    "            ProcessingInput(\n",
    "                source=tune_model_step.get_top_model_s3_uri(\n",
    "                    top_k=0, s3_bucket=config[\"session\"].default_bucket()\n",
    "                ) if USE_TUNING_STEP else train_model_step.properties.ModelArtifacts.S3ModelArtifacts,\n",
    "                destination=\"/opt/ml/processing/model\",\n",
    "            ),\n",
    "        ],\n",
    "        outputs=[\n",
    "            ProcessingOutput(\n",
    "                output_name=\"evaluation\", source=\"/opt/ml/processing/evaluation\"\n",
    "            ),\n",
    "        ],\n",
    "        code=f\"{CODE_FOLDER}/evaluation.py\",\n",
    "    ),\n",
    "    property_files=[evaluation_report],\n",
    "    cache_config=cache_config,\n",
    ")"
   ],
   "metadata": {
    "collapsed": false,
    "ExecuteTime": {
     "end_time": "2024-04-17T18:09:18.089972Z",
     "start_time": "2024-04-17T18:09:18.021813100Z"
    }
   },
   "id": "2147eaf6e5f6b450",
   "execution_count": 74
  },
  {
   "cell_type": "code",
   "outputs": [
    {
     "name": "stderr",
     "output_type": "stream",
     "text": [
      "INFO:sagemaker.processing:Uploaded None to s3://sagemaker-eu-north-1-284415450706/session3-pipeline/code/4e2d985798536d66f15bf6c82be000f9/sourcedir.tar.gz\n",
      "INFO:sagemaker.processing:runproc.sh uploaded to s3://sagemaker-eu-north-1-284415450706/session3-pipeline/code/2c207c809cb0e0e9a1d77e5247f961f9/runproc.sh\n",
      "INFO:sagemaker.processing:Uploaded None to s3://sagemaker-eu-north-1-284415450706/session3-pipeline/code/4e2d985798536d66f15bf6c82be000f9/sourcedir.tar.gz\n",
      "INFO:sagemaker.processing:runproc.sh uploaded to s3://sagemaker-eu-north-1-284415450706/session3-pipeline/code/2c207c809cb0e0e9a1d77e5247f961f9/runproc.sh\n"
     ]
    },
    {
     "data": {
      "text/plain": "{'PipelineArn': 'arn:aws:sagemaker:eu-north-1:284415450706:pipeline/session3-pipeline',\n 'ResponseMetadata': {'RequestId': 'f73d3dca-6c58-44c5-8059-17b91e6a7643',\n  'HTTPStatusCode': 200,\n  'HTTPHeaders': {'x-amzn-requestid': 'f73d3dca-6c58-44c5-8059-17b91e6a7643',\n   'content-type': 'application/x-amz-json-1.1',\n   'content-length': '86',\n   'date': 'Wed, 17 Apr 2024 18:09:23 GMT'},\n  'RetryAttempts': 0}}"
     },
     "execution_count": 75,
     "metadata": {},
     "output_type": "execute_result"
    }
   ],
   "source": [
    "session3_pipeline = Pipeline(\n",
    "    name=\"session3-pipeline\",\n",
    "    parameters=[dataset_location],\n",
    "    steps=[\n",
    "        split_and_transform_data_step,\n",
    "        tune_model_step if USE_TUNING_STEP else train_model_step,\n",
    "        evaluate_model_step,\n",
    "    ],\n",
    "    pipeline_definition_config=pipeline_definition_config,\n",
    "    sagemaker_session=config[\"session\"],\n",
    ")\n",
    "\n",
    "session3_pipeline.upsert(role_arn=config['role'])\n",
    "# session3_pipeline.start()"
   ],
   "metadata": {
    "collapsed": false,
    "ExecuteTime": {
     "end_time": "2024-04-17T18:09:23.889852600Z",
     "start_time": "2024-04-17T18:09:18.089972Z"
    }
   },
   "id": "6a397939003d913d",
   "execution_count": 75
  },
  {
   "cell_type": "code",
   "outputs": [],
   "source": [
    "BASIC_MODEL_PACKAGE_GROUP = \"basic-football\""
   ],
   "metadata": {
    "collapsed": false,
    "ExecuteTime": {
     "end_time": "2024-04-17T18:09:23.943526800Z",
     "start_time": "2024-04-17T18:09:23.878468500Z"
    }
   },
   "id": "4a2fd3f026fefc58",
   "execution_count": 76
  },
  {
   "cell_type": "code",
   "outputs": [],
   "source": [
    "from sagemaker.xgboost.model import XGBoostModel\n",
    "\n",
    "tensorflow_model = XGBoostModel(\n",
    "    model_data=model_assets,\n",
    "    framework_version=config[\"framework_version\"],\n",
    "    sagemaker_session=config[\"session\"],\n",
    "    role=config['role'],\n",
    ")"
   ],
   "metadata": {
    "collapsed": false,
    "ExecuteTime": {
     "end_time": "2024-04-17T18:09:24.009160Z",
     "start_time": "2024-04-17T18:09:23.944568900Z"
    }
   },
   "id": "5cd6b925adb4a12e",
   "execution_count": 77
  },
  {
   "cell_type": "code",
   "outputs": [],
   "source": [
    "from sagemaker.model_metrics import MetricsSource, ModelMetrics\n",
    "from sagemaker.workflow.functions import Join\n",
    "\n",
    "model_metrics = ModelMetrics(\n",
    "    model_statistics=MetricsSource(\n",
    "        s3_uri=Join(\n",
    "            on=\"/\",\n",
    "            values=[\n",
    "                evaluate_model_step.properties.ProcessingOutputConfig.Outputs[\n",
    "                    \"evaluation\"\n",
    "                ].S3Output.S3Uri,\n",
    "                \"evaluation.json\",\n",
    "            ],\n",
    "        ),\n",
    "        content_type=\"application/json\",\n",
    "    ),\n",
    ")"
   ],
   "metadata": {
    "collapsed": false,
    "ExecuteTime": {
     "end_time": "2024-04-17T18:09:24.074356200Z",
     "start_time": "2024-04-17T18:09:24.010183500Z"
    }
   },
   "id": "4f1255fb2188d37d",
   "execution_count": 78
  },
  {
   "cell_type": "code",
   "outputs": [
    {
     "name": "stderr",
     "output_type": "stream",
     "text": [
      "INFO:sagemaker.image_uris:Ignoring unnecessary instance type: ml.c5.xlarge.\n"
     ]
    }
   ],
   "source": [
    "from sagemaker.workflow.model_step import ModelStep\n",
    "\n",
    "\n",
    "def create_registration_step(\n",
    "        model,\n",
    "        model_package_group_name,\n",
    "        approval_status=\"Approved\",\n",
    "        content_types=[\"text/csv\"],\n",
    "        response_types=[\"application/json\"],\n",
    "        model_metrics=None,\n",
    "        drift_check_baselines=None,\n",
    "):\n",
    "    \"\"\"Create a Registration Step using the supplied parameters.\"\"\"\n",
    "    return ModelStep(\n",
    "        name=\"register\",\n",
    "        step_args=model.register(\n",
    "            model_package_group_name=model_package_group_name,\n",
    "            approval_status=approval_status,\n",
    "            model_metrics=model_metrics,\n",
    "            drift_check_baselines=drift_check_baselines,\n",
    "            content_types=content_types,\n",
    "            response_types=response_types,\n",
    "            inference_instances=[config[\"instance_type\"]],\n",
    "            transform_instances=[config[\"instance_type\"]],\n",
    "            framework_version=config[\"framework_version\"],\n",
    "            domain=\"MACHINE_LEARNING\",\n",
    "            task=\"CLASSIFICATION\",\n",
    "            framework=\"TENSORFLOW\",\n",
    "        ),\n",
    "    )\n",
    "\n",
    "\n",
    "register_model_step = create_registration_step(\n",
    "    tensorflow_model,\n",
    "    BASIC_MODEL_PACKAGE_GROUP,\n",
    "    model_metrics=model_metrics,\n",
    ")"
   ],
   "metadata": {
    "collapsed": false,
    "ExecuteTime": {
     "end_time": "2024-04-17T18:09:24.150939600Z",
     "start_time": "2024-04-17T18:09:24.075394500Z"
    }
   },
   "id": "7f97e2d4f10652ce",
   "execution_count": 79
  },
  {
   "cell_type": "code",
   "outputs": [],
   "source": [
    "from sagemaker.workflow.functions import JsonGet\n",
    "from sagemaker.workflow.fail_step import FailStep\n",
    "from sagemaker.workflow.parameters import ParameterFloat\n",
    "from sagemaker.workflow.condition_step import ConditionStep\n",
    "from sagemaker.workflow.conditions import ConditionGreaterThanOrEqualTo\n",
    "\n",
    "f1_threshold = ParameterFloat(name=\"f1_threshold\", default_value=0.64)\n",
    "\n",
    "fail_step = FailStep(\n",
    "    name=\"fail\",\n",
    "    error_message=Join(\n",
    "        on=\" \",\n",
    "        values=[\n",
    "            \"Execution failed because the model's f1 result was lower than\",\n",
    "            f1_threshold,\n",
    "        ],\n",
    "    ),\n",
    ")\n",
    "\n",
    "condition = ConditionGreaterThanOrEqualTo(\n",
    "    left=JsonGet(\n",
    "        step_name=evaluate_model_step.name,\n",
    "        property_file=evaluation_report,\n",
    "        json_path=\"metrics.f1.value\",\n",
    "    ),\n",
    "    right=f1_threshold,\n",
    ")\n",
    "\n",
    "condition_step = ConditionStep(\n",
    "    name=\"check-model-f1-result\",\n",
    "    conditions=[condition],\n",
    "    if_steps=[register_model_step],\n",
    "    else_steps=[fail_step],\n",
    ")"
   ],
   "metadata": {
    "collapsed": false,
    "ExecuteTime": {
     "end_time": "2024-04-17T18:09:24.217267100Z",
     "start_time": "2024-04-17T18:09:24.151974100Z"
    }
   },
   "id": "d8ab4d19cbfc11ae",
   "execution_count": 80
  },
  {
   "cell_type": "code",
   "outputs": [
    {
     "name": "stderr",
     "output_type": "stream",
     "text": [
      "INFO:sagemaker.processing:Uploaded None to s3://sagemaker-eu-north-1-284415450706/session5-pipeline/code/4e2d985798536d66f15bf6c82be000f9/sourcedir.tar.gz\n",
      "INFO:sagemaker.processing:runproc.sh uploaded to s3://sagemaker-eu-north-1-284415450706/session5-pipeline/code/2c207c809cb0e0e9a1d77e5247f961f9/runproc.sh\n",
      "WARNING:sagemaker.workflow._utils:Popping out 'CertifyForMarketplace' from the pipeline definition since it will be overridden in pipeline execution time.\n",
      "INFO:sagemaker.processing:Uploaded None to s3://sagemaker-eu-north-1-284415450706/session5-pipeline/code/4e2d985798536d66f15bf6c82be000f9/sourcedir.tar.gz\n",
      "INFO:sagemaker.processing:runproc.sh uploaded to s3://sagemaker-eu-north-1-284415450706/session5-pipeline/code/2c207c809cb0e0e9a1d77e5247f961f9/runproc.sh\n"
     ]
    },
    {
     "data": {
      "text/plain": "{'PipelineArn': 'arn:aws:sagemaker:eu-north-1:284415450706:pipeline/session5-pipeline',\n 'ResponseMetadata': {'RequestId': '4c7ebd93-9597-49e7-8e46-4f87f06c6edf',\n  'HTTPStatusCode': 200,\n  'HTTPHeaders': {'x-amzn-requestid': '4c7ebd93-9597-49e7-8e46-4f87f06c6edf',\n   'content-type': 'application/x-amz-json-1.1',\n   'content-length': '86',\n   'date': 'Wed, 17 Apr 2024 18:09:25 GMT'},\n  'RetryAttempts': 0}}"
     },
     "execution_count": 81,
     "metadata": {},
     "output_type": "execute_result"
    }
   ],
   "source": [
    "session5_pipeline = Pipeline(\n",
    "    name=\"session5-pipeline\",\n",
    "    parameters=[dataset_location, f1_threshold],\n",
    "    steps=[\n",
    "        split_and_transform_data_step,\n",
    "        tune_model_step if USE_TUNING_STEP else train_model_step,\n",
    "        evaluate_model_step,\n",
    "        condition_step,\n",
    "    ],\n",
    "    pipeline_definition_config=pipeline_definition_config,\n",
    "    sagemaker_session=config[\"session\"],\n",
    ")\n",
    "\n",
    "session5_pipeline.upsert(role_arn=config['role'])\n",
    "# session5_pipeline.start()"
   ],
   "metadata": {
    "collapsed": false,
    "ExecuteTime": {
     "end_time": "2024-04-17T18:09:26.200372300Z",
     "start_time": "2024-04-17T18:09:24.217267100Z"
    }
   },
   "id": "ffcc8d2ed776023d",
   "execution_count": 81
  },
  {
   "cell_type": "code",
   "outputs": [
    {
     "data": {
      "text/plain": "{'ModelPackageGroupName': 'basic-football',\n 'ModelPackageVersion': 1,\n 'ModelPackageArn': 'arn:aws:sagemaker:eu-north-1:284415450706:model-package/basic-football/1',\n 'CreationTime': datetime.datetime(2024, 4, 17, 19, 49, 49, 196000, tzinfo=tzlocal()),\n 'ModelPackageStatus': 'Completed',\n 'ModelApprovalStatus': 'Approved'}"
     },
     "execution_count": 82,
     "metadata": {},
     "output_type": "execute_result"
    }
   ],
   "source": [
    "response = sagemaker_client.list_model_packages(\n",
    "    ModelPackageGroupName=BASIC_MODEL_PACKAGE_GROUP,\n",
    "    ModelApprovalStatus=\"Approved\",\n",
    "    SortBy=\"CreationTime\",\n",
    "    MaxResults=1,\n",
    ")\n",
    "\n",
    "package = (\n",
    "    response[\"ModelPackageSummaryList\"][0]\n",
    "    if response[\"ModelPackageSummaryList\"]\n",
    "    else None\n",
    ")\n",
    "\n",
    "package"
   ],
   "metadata": {
    "collapsed": false,
    "ExecuteTime": {
     "end_time": "2024-04-17T18:09:26.703008600Z",
     "start_time": "2024-04-17T18:09:26.201406100Z"
    }
   },
   "id": "dd32108d3539c4c2",
   "execution_count": 82
  },
  {
   "cell_type": "code",
   "outputs": [],
   "source": [
    "(CODE_FOLDER / \"serving\").mkdir(parents=True, exist_ok=True)"
   ],
   "metadata": {
    "collapsed": false,
    "ExecuteTime": {
     "end_time": "2024-04-17T18:09:26.760577900Z",
     "start_time": "2024-04-17T18:09:26.692802Z"
    }
   },
   "id": "de5840708a622b84",
   "execution_count": 83
  },
  {
   "cell_type": "code",
   "outputs": [],
   "source": [
    "from sagemaker.s3 import S3Downloader\n",
    "\n",
    "if package:\n",
    "    response = sagemaker_client.describe_model_package(\n",
    "        ModelPackageName=package[\"ModelPackageArn\"],\n",
    "    )\n",
    "\n",
    "    model_data = response[\"InferenceSpecification\"][\"Containers\"][0][\"ModelDataUrl\"]\n",
    "    S3Downloader.download(model_data, (CODE_FOLDER / \"serving\").as_posix())"
   ],
   "metadata": {
    "collapsed": false,
    "ExecuteTime": {
     "end_time": "2024-04-17T18:09:27.533404800Z",
     "start_time": "2024-04-17T18:09:26.760577900Z"
    }
   },
   "id": "8e8eda9b25f39855",
   "execution_count": 84
  },
  {
   "cell_type": "code",
   "outputs": [
    {
     "name": "stdout",
     "output_type": "stream",
     "text": [
      "^C\n"
     ]
    }
   ],
   "source": [
    "!flask --app code/serving/app.py --debug run --host=0.0.0.0 --port=4242"
   ],
   "metadata": {
    "collapsed": false,
    "ExecuteTime": {
     "end_time": "2024-04-17T18:11:29.856924Z",
     "start_time": "2024-04-17T18:10:03.415541100Z"
    }
   },
   "id": "59c6c8aaee19e03c",
   "execution_count": 87
  },
  {
   "cell_type": "code",
   "outputs": [
    {
     "name": "stderr",
     "output_type": "stream",
     "text": [
      "curl: (3) URL rejected: Port number was not a decimal number between 0 and 65535\n",
      "  % Total    % Received % Xferd  Average Speed   Time    Time     Time  Current\n",
      "                                 Dload  Upload   Total   Spent    Left  Speed\n",
      "\n",
      "  0     0    0     0    0     0      0      0 --:--:-- --:--:-- --:--:--     0\n",
      "  0     0    0     0    0     0      0      0 --:--:--  0:00:01 --:--:--     0\n",
      "  0     0    0     0    0     0      0      0 --:--:--  0:00:01 --:--:--     0curl: (6) Could not resolve host: text\n"
     ]
    }
   ],
   "source": [
    "!curl --location --request POST 'http://localhost:4242/predict' --header 'Content-Type: text/plain' --data-raw '71,71,71,71,71,71,72,70,70,71,74,79,79,79,79,79,79,80,80,71,83,80,1.54,1.61,1.26,0.76,20,28,1.377149515625,2.5561203576634663,71.18,78.91,11.75,14.58,3.55,1.805,53.639,20.03,71.33,78.83,79.0,71.0,71.18181818181819,78.9090909090909,0,0,4.473,29.233606557377048,31.40637450199203,-2.172767944614982'\n"
   ],
   "metadata": {
    "collapsed": false,
    "ExecuteTime": {
     "end_time": "2024-04-17T18:11:32.214242600Z",
     "start_time": "2024-04-17T18:11:29.850736300Z"
    }
   },
   "id": "58bd89e70a190672",
   "execution_count": 88
  },
  {
   "cell_type": "code",
   "outputs": [],
   "source": [
    "# Code to retrieve last model metric.\n",
    "# from sagemaker.workflow.parameters import ParameterFloat\n",
    "# import json\n",
    "# \n",
    "# response = sagemaker_client.list_model_packages(ModelPackageGroupName=MODEL_PACKAGE_GROUP,\n",
    "#                                                 SortBy='CreationTime',\n",
    "#                                                 SortOrder='Descending',\n",
    "#                                                 MaxResults=1)\n",
    "# \n",
    "# if response['ModelPackageSummaryList']:\n",
    "#     latest_model_package_arn = response['ModelPackageSummaryList'][0]['ModelPackageArn']\n",
    "#     model_package_description = sagemaker_client.describe_model_package(ModelPackageName=latest_model_package_arn)\n",
    "#     evaluation_metrics = model_package_description['ModelMetrics']['ModelQuality']['Statistics']\n",
    "# \n",
    "#     s3_uri = evaluation_metrics['S3Uri']\n",
    "#     s3_bucket, s3_key = s3_uri.replace(\"s3://\", \"\").split(\"/\", 1)\n",
    "# \n",
    "#     obj = s3_client.get_object(Bucket=s3_bucket, Key=s3_key)\n",
    "#     evaluation_json = json.loads(obj['Body'].read())\n",
    "#     f1_metric = evaluation_json['metrics']['f1']['value']\n",
    "# \n",
    "#     f1_threshold = ParameterFloat(name=\"f1_threshold\", default_value=f1_metric)\n",
    "#     print(f\"F1 score from the latest model's evaluation: {f1_metric}\")\n",
    "# else:\n",
    "#     print(\"No models found in the specified model package group.\")\n",
    "#     f1_metric = 0.67\n",
    "#     f1_threshold = ParameterFloat(name=\"f1_threshold\", default_value=f1_metric)"
   ],
   "metadata": {
    "collapsed": false,
    "ExecuteTime": {
     "end_time": "2024-04-17T17:41:28.615875600Z",
     "start_time": "2024-04-17T17:41:28.615875600Z"
    }
   },
   "id": "b0d757e05ef0a9cc",
   "execution_count": null
  },
  {
   "cell_type": "code",
   "outputs": [],
   "source": [
    "GROUND_TRUTH_LOCATION = f\"{S3_LOCATION}/monitoring/groundtruth\"\n",
    "DATA_QUALITY_LOCATION = f\"{S3_LOCATION}/monitoring/data-quality\"\n",
    "MODEL_QUALITY_LOCATION = f\"{S3_LOCATION}/monitoring/model-quality\""
   ],
   "metadata": {
    "collapsed": false,
    "ExecuteTime": {
     "end_time": "2024-04-17T16:26:07.461998700Z",
     "start_time": "2024-04-17T16:26:07.387084400Z"
    }
   },
   "id": "3eac86467b76e3e",
   "execution_count": 20
  },
  {
   "cell_type": "code",
   "outputs": [
    {
     "name": "stderr",
     "output_type": "stream",
     "text": [
      "INFO:sagemaker.image_uris:Defaulting to the only supported framework/algorithm version: .\n",
      "INFO:sagemaker.image_uris:Ignoring unnecessary instance type: None.\n"
     ]
    }
   ],
   "source": [
    "from sagemaker.workflow.check_job_config import CheckJobConfig\n",
    "from sagemaker.workflow.quality_check_step import DataQualityCheckConfig, QualityCheckStep\n",
    "from sagemaker.model_monitor.dataset_format import DatasetFormat\n",
    "\n",
    "data_quality_baseline_step = QualityCheckStep(\n",
    "    name=\"generate-data-quality-baseline\",\n",
    "    check_job_config=CheckJobConfig(\n",
    "        instance_type=\"ml.c5.xlarge\",\n",
    "        instance_count=1,\n",
    "        volume_size_in_gb=20,\n",
    "        sagemaker_session=config['session'],\n",
    "        role=config['role'],\n",
    "    ),\n",
    "\n",
    "    quality_check_config=DataQualityCheckConfig(\n",
    "        baseline_dataset=split_and_transform_data_step.properties.ProcessingOutputConfig.Outputs[\"train-baseline\"].S3Output.S3Uri,\n",
    "        dataset_format=DatasetFormat.csv(header=True, output_columns_position=\"END\"),\n",
    "        output_s3_uri=DATA_QUALITY_LOCATION\n",
    "    ),\n",
    "    skip_check=True,\n",
    "    register_new_baseline=True,\n",
    "    cache_config=cache_config\n",
    ")"
   ],
   "metadata": {
    "collapsed": false,
    "ExecuteTime": {
     "end_time": "2024-04-17T16:26:07.549802800Z",
     "start_time": "2024-04-17T16:26:07.462997200Z"
    }
   },
   "id": "9dad1c7708926dcd",
   "execution_count": 21
  },
  {
   "cell_type": "code",
   "outputs": [],
   "source": [
    "from sagemaker.workflow.functions import Join\n",
    "\n",
    "transformation_pipeline_model = Join(\n",
    "    on=\"/\",\n",
    "    values=[\n",
    "        split_and_transform_data_step.properties.ProcessingOutputConfig.Outputs[\n",
    "            \"model\"\n",
    "        ].S3Output.S3Uri,\n",
    "        \"model.tar.gz\",\n",
    "    ],\n",
    ")"
   ],
   "metadata": {
    "collapsed": false,
    "ExecuteTime": {
     "end_time": "2024-04-17T15:29:36.338814900Z",
     "start_time": "2024-04-17T15:29:36.272496500Z"
    }
   },
   "id": "eeeea4494684fe0b",
   "execution_count": 20
  },
  {
   "cell_type": "code",
   "outputs": [],
   "source": [
    "from sagemaker.xgboost import XGBoostModel\n",
    "from sagemaker.sklearn.model import SKLearnModel\n",
    "\n",
    "preprocessing_model = SKLearnModel(\n",
    "    model_data=transformation_pipeline_model,\n",
    "    entry_point=\"preprocessing_component.py\",\n",
    "    source_dir=str(INFERENCE_CODE_FOLDER),\n",
    "    framework_version=\"1.2-1\",\n",
    "    sagemaker_session=config[\"session\"],\n",
    "    role=config['role'],\n",
    ")\n",
    "xgb_model = XGBoostModel(\n",
    "    model_data=tune_model_step.get_top_model_s3_uri(\n",
    "        top_k=0, s3_bucket=config[\"session\"].default_bucket()\n",
    "    ) if USE_TUNING_STEP else train_model_step.properties.ModelArtifacts.S3ModelArtifacts,\n",
    "    framework_version=config[\"framework_version\"],\n",
    "    sagemaker_session=config[\"session\"],\n",
    "    role=config[\"role\"],\n",
    ")\n",
    "\n",
    "post_processing_model = SKLearnModel(\n",
    "    model_data=transformation_pipeline_model,\n",
    "    entry_point=\"postprocessing_component.py\",\n",
    "    source_dir=str(INFERENCE_CODE_FOLDER),\n",
    "    framework_version=\"1.2-1\",\n",
    "    sagemaker_session=config[\"session\"],\n",
    "    role=config['role'],\n",
    ")\n",
    "\n",
    "from sagemaker.pipeline import PipelineModel\n",
    "\n",
    "pipeline_model = PipelineModel(\n",
    "    name=\"inference-model\",\n",
    "    models=[preprocessing_model, xgb_model, post_processing_model],\n",
    "    sagemaker_session=config[\"session\"],\n",
    "    role=config['role'],\n",
    ")"
   ],
   "metadata": {
    "collapsed": false,
    "ExecuteTime": {
     "end_time": "2024-04-17T15:29:36.406875100Z",
     "start_time": "2024-04-17T15:29:36.339839700Z"
    }
   },
   "id": "e9d6f56e8ed5ed37",
   "execution_count": 21
  },
  {
   "cell_type": "code",
   "outputs": [
    {
     "name": "stderr",
     "output_type": "stream",
     "text": [
      "INFO:sagemaker.image_uris:Ignoring unnecessary instance type: ml.m5.xlarge.\n"
     ]
    },
    {
     "ename": "ValueError",
     "evalue": "either step_args or transformer need to be given, but not both.",
     "output_type": "error",
     "traceback": [
      "\u001B[1;31m---------------------------------------------------------------------------\u001B[0m",
      "\u001B[1;31mValueError\u001B[0m                                Traceback (most recent call last)",
      "Cell \u001B[1;32mIn[51], line 27\u001B[0m\n\u001B[0;32m     15\u001B[0m transformer \u001B[38;5;241m=\u001B[39m Transformer(\n\u001B[0;32m     16\u001B[0m     model_name\u001B[38;5;241m=\u001B[39mcreate_model_step\u001B[38;5;241m.\u001B[39mproperties\u001B[38;5;241m.\u001B[39mModelName,\n\u001B[0;32m     17\u001B[0m     instance_type\u001B[38;5;241m=\u001B[39mconfig[\u001B[38;5;124m\"\u001B[39m\u001B[38;5;124minstance_type\u001B[39m\u001B[38;5;124m\"\u001B[39m],\n\u001B[1;32m   (...)\u001B[0m\n\u001B[0;32m     23\u001B[0m     sagemaker_session\u001B[38;5;241m=\u001B[39mconfig[\u001B[38;5;124m\"\u001B[39m\u001B[38;5;124msession\u001B[39m\u001B[38;5;124m\"\u001B[39m]\n\u001B[0;32m     24\u001B[0m )\n\u001B[0;32m     26\u001B[0m \u001B[38;5;66;03m# Specify the custom TransformJobName directly in the TransformStep configuration\u001B[39;00m\n\u001B[1;32m---> 27\u001B[0m generate_test_predictions_step \u001B[38;5;241m=\u001B[39m \u001B[43mTransformStep\u001B[49m\u001B[43m(\u001B[49m\n\u001B[0;32m     28\u001B[0m \u001B[43m    \u001B[49m\u001B[43mname\u001B[49m\u001B[38;5;241;43m=\u001B[39;49m\u001B[38;5;124;43m\"\u001B[39;49m\u001B[38;5;124;43mgenerate-test-predictions\u001B[39;49m\u001B[38;5;124;43m\"\u001B[39;49m\u001B[43m,\u001B[49m\n\u001B[0;32m     29\u001B[0m \u001B[43m    \u001B[49m\u001B[43mtransformer\u001B[49m\u001B[38;5;241;43m=\u001B[39;49m\u001B[43mtransformer\u001B[49m\u001B[43m,\u001B[49m\n\u001B[0;32m     30\u001B[0m \u001B[43m    \u001B[49m\u001B[43minputs\u001B[49m\u001B[38;5;241;43m=\u001B[39;49m\u001B[43mTransformInput\u001B[49m\u001B[43m(\u001B[49m\n\u001B[0;32m     31\u001B[0m \u001B[43m        \u001B[49m\u001B[43mdata\u001B[49m\u001B[38;5;241;43m=\u001B[39;49m\u001B[43msplit_and_transform_data_step\u001B[49m\u001B[38;5;241;43m.\u001B[39;49m\u001B[43mproperties\u001B[49m\u001B[38;5;241;43m.\u001B[39;49m\u001B[43mProcessingOutputConfig\u001B[49m\u001B[38;5;241;43m.\u001B[39;49m\u001B[43mOutputs\u001B[49m\u001B[43m[\u001B[49m\u001B[38;5;124;43m\"\u001B[39;49m\u001B[38;5;124;43mtrain\u001B[39;49m\u001B[38;5;124;43m\"\u001B[39;49m\u001B[43m]\u001B[49m\u001B[38;5;241;43m.\u001B[39;49m\u001B[43mS3Output\u001B[49m\u001B[38;5;241;43m.\u001B[39;49m\u001B[43mS3Uri\u001B[49m\u001B[43m,\u001B[49m\n\u001B[0;32m     32\u001B[0m \u001B[43m        \u001B[49m\u001B[43mcontent_type\u001B[49m\u001B[38;5;241;43m=\u001B[39;49m\u001B[38;5;124;43m\"\u001B[39;49m\u001B[38;5;124;43mtext/csv\u001B[39;49m\u001B[38;5;124;43m\"\u001B[39;49m\u001B[43m,\u001B[49m\n\u001B[0;32m     33\u001B[0m \u001B[43m        \u001B[49m\u001B[43msplit_type\u001B[49m\u001B[38;5;241;43m=\u001B[39;49m\u001B[38;5;124;43m\"\u001B[39;49m\u001B[38;5;124;43mLine\u001B[39;49m\u001B[38;5;124;43m\"\u001B[39;49m\u001B[43m,\u001B[49m\n\u001B[0;32m     34\u001B[0m \u001B[43m        \u001B[49m\u001B[43minput_filter\u001B[49m\u001B[38;5;241;43m=\u001B[39;49m\u001B[38;5;124;43m\"\u001B[39;49m\u001B[38;5;124;43m$\u001B[39;49m\u001B[38;5;124;43m\"\u001B[39;49m\u001B[43m,\u001B[49m\n\u001B[0;32m     35\u001B[0m \u001B[43m        \u001B[49m\u001B[43moutput_filter\u001B[49m\u001B[38;5;241;43m=\u001B[39;49m\u001B[38;5;124;43m\"\u001B[39;49m\u001B[38;5;124;43m$[0,-1]\u001B[39;49m\u001B[38;5;124;43m\"\u001B[39;49m\u001B[43m,\u001B[49m\n\u001B[0;32m     36\u001B[0m \u001B[43m        \u001B[49m\u001B[43mjoin_source\u001B[49m\u001B[38;5;241;43m=\u001B[39;49m\u001B[38;5;124;43m\"\u001B[39;49m\u001B[38;5;124;43mInput\u001B[39;49m\u001B[38;5;124;43m\"\u001B[39;49m\n\u001B[0;32m     37\u001B[0m \u001B[43m    \u001B[49m\u001B[43m)\u001B[49m\u001B[43m,\u001B[49m\n\u001B[0;32m     38\u001B[0m \u001B[43m    \u001B[49m\u001B[43mcache_config\u001B[49m\u001B[38;5;241;43m=\u001B[39;49m\u001B[43mcache_config\u001B[49m\u001B[43m,\u001B[49m\n\u001B[0;32m     39\u001B[0m \u001B[43m    \u001B[49m\u001B[43mstep_args\u001B[49m\u001B[38;5;241;43m=\u001B[39;49m\u001B[43m{\u001B[49m\n\u001B[0;32m     40\u001B[0m \u001B[43m        \u001B[49m\u001B[38;5;124;43m\"\u001B[39;49m\u001B[38;5;124;43mTransformJobName\u001B[39;49m\u001B[38;5;124;43m\"\u001B[39;49m\u001B[43m:\u001B[49m\u001B[43m \u001B[49m\u001B[38;5;124;43m\"\u001B[39;49m\u001B[38;5;124;43mTestPredictionTransform\u001B[39;49m\u001B[38;5;124;43m\"\u001B[39;49m\u001B[43m,\u001B[49m\n\u001B[0;32m     41\u001B[0m \u001B[43m    \u001B[49m\u001B[43m}\u001B[49m\n\u001B[0;32m     42\u001B[0m \u001B[43m)\u001B[49m\n\u001B[0;32m     44\u001B[0m \u001B[38;5;66;03m# generate_test_predictions_step = TransformStep(\u001B[39;00m\n\u001B[0;32m     45\u001B[0m \u001B[38;5;66;03m#     name=\"generate-test-predictions\",\u001B[39;00m\n\u001B[0;32m     46\u001B[0m \u001B[38;5;66;03m#     step_args=transformer.transform(\u001B[39;00m\n\u001B[1;32m   (...)\u001B[0m\n\u001B[0;32m     53\u001B[0m \u001B[38;5;66;03m#     cache_config=cache_config\u001B[39;00m\n\u001B[0;32m     54\u001B[0m \u001B[38;5;66;03m# )\u001B[39;00m\n",
      "File \u001B[1;32m~\\AppData\\Local\\Programs\\Python\\Python312\\Lib\\site-packages\\sagemaker\\workflow\\steps.py:716\u001B[0m, in \u001B[0;36mTransformStep.__init__\u001B[1;34m(self, name, step_args, transformer, inputs, display_name, description, cache_config, depends_on, retry_policies)\u001B[0m\n\u001B[0;32m    711\u001B[0m \u001B[38;5;28msuper\u001B[39m(TransformStep, \u001B[38;5;28mself\u001B[39m)\u001B[38;5;241m.\u001B[39m\u001B[38;5;21m__init__\u001B[39m(\n\u001B[0;32m    712\u001B[0m     name, StepTypeEnum\u001B[38;5;241m.\u001B[39mTRANSFORM, display_name, description, depends_on, retry_policies\n\u001B[0;32m    713\u001B[0m )\n\u001B[0;32m    715\u001B[0m \u001B[38;5;28;01mif\u001B[39;00m \u001B[38;5;129;01mnot\u001B[39;00m (step_args \u001B[38;5;129;01mis\u001B[39;00m \u001B[38;5;129;01mnot\u001B[39;00m \u001B[38;5;28;01mNone\u001B[39;00m) \u001B[38;5;241m^\u001B[39m (transformer \u001B[38;5;129;01mis\u001B[39;00m \u001B[38;5;129;01mnot\u001B[39;00m \u001B[38;5;28;01mNone\u001B[39;00m):\n\u001B[1;32m--> 716\u001B[0m     \u001B[38;5;28;01mraise\u001B[39;00m \u001B[38;5;167;01mValueError\u001B[39;00m(\u001B[38;5;124m\"\u001B[39m\u001B[38;5;124meither step_args or transformer need to be given, but not both.\u001B[39m\u001B[38;5;124m\"\u001B[39m)\n\u001B[0;32m    718\u001B[0m \u001B[38;5;28;01mif\u001B[39;00m step_args:\n\u001B[0;32m    719\u001B[0m     \u001B[38;5;28;01mfrom\u001B[39;00m \u001B[38;5;21;01msagemaker\u001B[39;00m\u001B[38;5;21;01m.\u001B[39;00m\u001B[38;5;21;01mworkflow\u001B[39;00m\u001B[38;5;21;01m.\u001B[39;00m\u001B[38;5;21;01mutilities\u001B[39;00m \u001B[38;5;28;01mimport\u001B[39;00m validate_step_args_input\n",
      "\u001B[1;31mValueError\u001B[0m: either step_args or transformer need to be given, but not both."
     ]
    }
   ],
   "source": [
    "from sagemaker.workflow.steps import TransformStep\n",
    "from sagemaker.workflow.model_step import ModelStep\n",
    "from sagemaker.transformer import Transformer\n",
    "\n",
    "create_model_step = ModelStep(\n",
    "    name=\"create-model-step\",\n",
    "    display_name=\"create-model\",\n",
    "    step_args=pipeline_model.create(\n",
    "        instance_type=\"ml.m5.xlarge\"\n",
    "    ),\n",
    ")\n",
    "\n",
    "transformer = Transformer(\n",
    "    model_name=create_model_step.properties.ModelName,\n",
    "    instance_type=config[\"instance_type\"],\n",
    "    instance_count=1,\n",
    "    strategy=\"MultiRecord\",\n",
    "    accept=\"text/csv\",\n",
    "    assemble_with=\"Line\",\n",
    "    output_path=f\"{S3_LOCATION}/transform\",\n",
    "    sagemaker_session=config[\"session\"]\n",
    ")\n",
    "\n",
    "generate_test_predictions_step = TransformStep(\n",
    "    name=\"generate-test-predictions\",\n",
    "    step_args=transformer.transform(\n",
    "        # We will use the baseline set we generated when we split the data.\n",
    "        # This set corresponds to the test split before the transformation step.\n",
    "        data=split_and_transform_data_step.properties.ProcessingOutputConfig.Outputs[\"baseline\"].S3Output.S3Uri,\n",
    "\n",
    "        join_source=\"Input\",\n",
    "        split_type=\"Line\",\n",
    "        content_type=\"text/csv\",\n",
    "\n",
    "        # We want to output the first and the last field from the joint set.\n",
    "        # The first field corresponds to the groundtruth, and the last field\n",
    "        # corresponds to the prediction.\n",
    "        output_filter=\"$[0,-1]\",\n",
    "    ),\n",
    "    cache_config=cache_config\n",
    ")"
   ],
   "metadata": {
    "collapsed": false,
    "ExecuteTime": {
     "end_time": "2024-04-17T15:46:13.555028300Z",
     "start_time": "2024-04-17T15:46:12.463465300Z"
    }
   },
   "id": "4d24821c4c814a93",
   "execution_count": 51
  },
  {
   "cell_type": "code",
   "outputs": [],
   "source": [
    "from sagemaker.workflow.quality_check_step import ModelQualityCheckConfig\n",
    "\n",
    "model_quality_baseline_step = QualityCheckStep(\n",
    "    name=\"generate-model-quality-baseline\",\n",
    "\n",
    "    check_job_config=CheckJobConfig(\n",
    "        instance_type=\"ml.c5.xlarge\",\n",
    "        instance_count=1,\n",
    "        volume_size_in_gb=20,\n",
    "        sagemaker_session=pipeline_session,\n",
    "        role=execution_role,\n",
    "    ),\n",
    "\n",
    "    quality_check_config=ModelQualityCheckConfig(\n",
    "        # We are going to use the output of the Transform Step to generate\n",
    "        # the model quality baseline.\n",
    "        baseline_dataset=generate_test_predictions_step.properties.TransformOutput.S3OutputPath,\n",
    "        dataset_format=DatasetFormat.csv(header=False),\n",
    "\n",
    "        # We need to specify the problem type and the fields where the prediction\n",
    "        # and groundtruth are so the process knows how to interpret the results.\n",
    "        problem_type=\"BinaryClassification\",\n",
    "\n",
    "        # Since the data doesn't have headers, SageMaker will autocreate headers for it.\n",
    "        # _c0 corresponds to the first column, and _c1 corresponds to the second column.\n",
    "        ground_truth_attribute=\"_c0\",\n",
    "        inference_attribute=\"_c1\",\n",
    "\n",
    "        output_s3_uri=MODEL_QUALITY_LOCATION,\n",
    "    ),\n",
    "\n",
    "    skip_check=True,\n",
    "    register_new_baseline=True,\n",
    "    cache_config=cache_config\n",
    ")"
   ],
   "metadata": {
    "collapsed": false,
    "ExecuteTime": {
     "end_time": "2024-04-17T15:46:13.560256800Z",
     "start_time": "2024-04-17T15:46:13.556059100Z"
    }
   },
   "id": "3212e573f9954582",
   "execution_count": null
  },
  {
   "cell_type": "code",
   "outputs": [],
   "source": [
    "from sagemaker.model_metrics import MetricsSource, ModelMetrics\n",
    "from sagemaker.drift_check_baselines import DriftCheckBaselines\n",
    "\n",
    "model_metrics = ModelMetrics(\n",
    "    model_data_statistics=MetricsSource(\n",
    "        s3_uri=data_quality_baseline_step.properties.CalculatedBaselineStatistics,\n",
    "        content_type=\"application/json\",\n",
    "    ),\n",
    "    model_data_constraints=MetricsSource(\n",
    "        s3_uri=data_quality_baseline_step.properties.CalculatedBaselineConstraints,\n",
    "        content_type=\"application/json\",\n",
    "    ),\n",
    "    model_statistics=MetricsSource(\n",
    "        s3_uri=model_quality_baseline_step.properties.CalculatedBaselineStatistics,\n",
    "        content_type=\"application/json\",\n",
    "    ),\n",
    "\n",
    "    model_constraints=MetricsSource(\n",
    "        s3_uri=model_quality_baseline_step.properties.CalculatedBaselineConstraints,\n",
    "        content_type=\"application/json\",\n",
    "    ),\n",
    ")\n",
    "\n",
    "drift_check_baselines = DriftCheckBaselines(\n",
    "    model_data_statistics=MetricsSource(\n",
    "        s3_uri=data_quality_baseline_step.properties.BaselineUsedForDriftCheckStatistics,\n",
    "        content_type=\"application/json\",\n",
    "    ),\n",
    "    model_data_constraints=MetricsSource(\n",
    "        s3_uri=data_quality_baseline_step.properties.BaselineUsedForDriftCheckConstraints,\n",
    "        content_type=\"application/json\",\n",
    "    ),\n",
    "    model_statistics=MetricsSource(\n",
    "        s3_uri=model_quality_baseline_step.properties.BaselineUsedForDriftCheckStatistics,\n",
    "        content_type=\"application/json\",\n",
    "    ),\n",
    "    model_constraints=MetricsSource(\n",
    "        s3_uri=model_quality_baseline_step.properties.BaselineUsedForDriftCheckConstraints,\n",
    "        content_type=\"application/json\",\n",
    "    )\n",
    ")"
   ],
   "metadata": {
    "collapsed": false,
    "ExecuteTime": {
     "start_time": "2024-04-17T15:46:13.557157200Z"
    }
   },
   "id": "b921457e0e94e720",
   "execution_count": null
  },
  {
   "cell_type": "code",
   "outputs": [],
   "source": [
    "PIPELINE_MODEL_PACKAGE_GROUP = \"pipeline\"\n",
    "\n",
    "register_model_step = ModelStep(\n",
    "    name=\"register\",\n",
    "    display_name=\"register-model\",\n",
    "    step_args=pipeline_model.register(\n",
    "        model_package_group_name=PIPELINE_MODEL_PACKAGE_GROUP,\n",
    "        model_metrics=model_metrics,\n",
    "        approval_status=\"PendingManualApproval\",\n",
    "        content_types=[\"text/csv\", \"application/json\"],\n",
    "        response_types=[\"text/csv\", \"application/json\"],\n",
    "        inference_instances=[config[\"instance_type\"]],\n",
    "        transform_instances=[config[\"instance_type\"]],\n",
    "        domain=\"MACHINE_LEARNING\",\n",
    "        task=\"CLASSIFICATION\",\n",
    "        framework=\"XGBOOST\",\n",
    "        framework_version=config[\"framework_version\"],\n",
    "    ),\n",
    ")"
   ],
   "metadata": {
    "collapsed": false,
    "ExecuteTime": {
     "start_time": "2024-04-17T15:46:13.559222600Z"
    }
   },
   "id": "268885994c369aea",
   "execution_count": null
  },
  {
   "cell_type": "code",
   "outputs": [],
   "source": [
    "from sagemaker.workflow.fail_step import FailStep\n",
    "from sagemaker.workflow.functions import JsonGet\n",
    "from sagemaker.workflow.functions import Join\n",
    "from sagemaker.workflow.parameters import ParameterFloat\n",
    "from sagemaker.workflow.conditions import ConditionGreaterThanOrEqualTo\n",
    "from sagemaker.workflow.condition_step import ConditionStep\n",
    "\n",
    "accuracy_threshold = ParameterFloat(name=\"f1_score_threshold\", default_value=0.64)\n",
    "\n",
    "condition_step = ConditionStep(\n",
    "    name=\"check-model-f1_score\",\n",
    "    conditions=[\n",
    "        ConditionGreaterThanOrEqualTo(\n",
    "            left=JsonGet(\n",
    "                step_name=evaluate_model_step.name,\n",
    "                property_file=evaluation_report,\n",
    "                json_path=\"metrics.f1.value\",\n",
    "            ),\n",
    "            right=accuracy_threshold,\n",
    "        )\n",
    "    ],\n",
    "    if_steps=[],\n",
    "\n",
    "    else_steps=[\n",
    "        FailStep(\n",
    "            name=\"fail\",\n",
    "            error_message=Join(\n",
    "                on=\" \",\n",
    "                values=[\n",
    "                    \"Execution failed because the model's accuracy was lower than\",\n",
    "                    accuracy_threshold,\n",
    "                ],\n",
    "            ),\n",
    "        )\n",
    "    ],\n",
    ")\n",
    "\n",
    "if not LOCAL_MODE:\n",
    "    # SageMaker doesn't support running any of these steps in Local Mode.\n",
    "    condition_step.if_steps.extend(\n",
    "        [\n",
    "            create_model_step,\n",
    "            generate_test_predictions_step,\n",
    "            model_quality_baseline_step,\n",
    "            register_model_step,\n",
    "        ]\n",
    "    )"
   ],
   "metadata": {
    "collapsed": false,
    "ExecuteTime": {
     "start_time": "2024-04-17T15:46:13.559222600Z"
    }
   },
   "id": "54c46d11f5898d52",
   "execution_count": null
  },
  {
   "cell_type": "code",
   "outputs": [],
   "source": [
    "from sagemaker.workflow.pipeline import Pipeline\n",
    "from sagemaker.workflow.pipeline_definition_config import PipelineDefinitionConfig\n",
    "\n",
    "pipeline = Pipeline(\n",
    "    name=\"session4-pipeline\",\n",
    "    parameters=[\n",
    "        dataset_location,\n",
    "        accuracy_threshold,\n",
    "    ],\n",
    "    steps=[\n",
    "        split_and_transform_data_step,\n",
    "        tune_model_step if USE_TUNING_STEP else train_model_step,\n",
    "        evaluate_model_step,\n",
    "        condition_step\n",
    "    ],\n",
    "    pipeline_definition_config=PipelineDefinitionConfig(use_custom_job_prefix=True),\n",
    "    sagemaker_session=config[\"session\"],\n",
    ")\n",
    "\n",
    "if not LOCAL_MODE:\n",
    "    # SageMaker doesn't support running any of these steps in Local Mode.\n",
    "    pipeline.steps.extend([data_quality_baseline_step])\n",
    "\n",
    "pipeline.upsert(role_arn=config[\"role\"])"
   ],
   "metadata": {
    "collapsed": false,
    "ExecuteTime": {
     "end_time": "2024-04-17T15:46:13.563344Z",
     "start_time": "2024-04-17T15:46:13.560256800Z"
    }
   },
   "id": "4fae2bbc734c6a7c",
   "execution_count": null
  },
  {
   "cell_type": "code",
   "outputs": [
    {
     "data": {
      "text/plain": "_PipelineExecution(arn='arn:aws:sagemaker:eu-north-1:284415450706:pipeline/session4-pipeline/execution/63u0ww1gmwlu', sagemaker_session=<sagemaker.workflow.pipeline_context.PipelineSession object at 0x000001CE6D363C80>)"
     },
     "execution_count": 52,
     "metadata": {},
     "output_type": "execute_result"
    }
   ],
   "source": [
    "pipeline.start()"
   ],
   "metadata": {
    "collapsed": false,
    "ExecuteTime": {
     "end_time": "2024-04-17T15:46:17.809641300Z",
     "start_time": "2024-04-17T15:46:17.067770400Z"
    }
   },
   "id": "1be3fab43b4a2738",
   "execution_count": 52
  },
  {
   "cell_type": "code",
   "outputs": [],
   "source": [],
   "metadata": {
    "collapsed": false,
    "ExecuteTime": {
     "end_time": "2024-04-17T15:29:39.897158100Z",
     "start_time": "2024-04-17T15:29:39.896140Z"
    }
   },
   "id": "19d14e6e6687375a",
   "execution_count": null
  }
 ],
 "metadata": {
  "kernelspec": {
   "display_name": "Python 3",
   "language": "python",
   "name": "python3"
  },
  "language_info": {
   "codemirror_mode": {
    "name": "ipython",
    "version": 2
   },
   "file_extension": ".py",
   "mimetype": "text/x-python",
   "name": "python",
   "nbconvert_exporter": "python",
   "pygments_lexer": "ipython2",
   "version": "2.7.6"
  }
 },
 "nbformat": 4,
 "nbformat_minor": 5
}
