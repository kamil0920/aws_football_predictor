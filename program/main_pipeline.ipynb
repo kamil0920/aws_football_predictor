{
 "cells": [
  {
   "cell_type": "code",
   "source": [
    "import json\n",
    "import sys\n",
    "import ipytest\n",
    "from pathlib import Path\n",
    "import logging\n",
    "import warnings\n",
    "\n",
    "%load_ext autoreload\n",
    "%autoreload 2\n",
    "%load_ext dotenv\n",
    "%dotenv\n",
    "\n",
    "CODE_FOLDER = Path(\"code\")\n",
    "CODE_FOLDER.mkdir(parents=True, exist_ok=True)\n",
    "INFERENCE_CODE_FOLDER = CODE_FOLDER / \"inference\"\n",
    "INFERENCE_CODE_FOLDER.mkdir(parents=True, exist_ok=True)\n",
    "\n",
    "sys.path.extend([f\"./{CODE_FOLDER}\", f\"./{INFERENCE_CODE_FOLDER}\"])\n",
    "\n",
    "ipytest.autoconfig(raise_on_error=True)\n",
    "\n",
    "logging.getLogger('sagemaker').setLevel(logging.ERROR)\n",
    "warnings.filterwarnings('ignore')"
   ],
   "metadata": {
    "collapsed": false,
    "ExecuteTime": {
     "end_time": "2024-04-27T08:36:34.951323Z",
     "start_time": "2024-04-27T08:36:34.869301Z"
    }
   },
   "id": "6beb300bf7e34dc7",
   "outputs": [],
   "execution_count": 1
  },
  {
   "cell_type": "code",
   "source": [
    "# !aws s3api create-bucket --bucket football-data-kamil --create-bucket-configuration LocationConstraint=eu-north-1"
   ],
   "metadata": {
    "collapsed": false,
    "ExecuteTime": {
     "end_time": "2024-04-27T08:36:34.959507Z",
     "start_time": "2024-04-27T08:36:34.952390Z"
    }
   },
   "id": "bd1ac55d994fc2d1",
   "outputs": [],
   "execution_count": 2
  },
  {
   "cell_type": "code",
   "source": [
    "import sagemaker\n",
    "import boto3\n",
    "\n",
    "sagemaker_session = sagemaker.session.Session()\n",
    "sagemaker_client = boto3.client(\"sagemaker\")\n",
    "iam_client = boto3.client(\"iam\")\n",
    "region = boto3.Session().region_name"
   ],
   "metadata": {
    "collapsed": false,
    "ExecuteTime": {
     "end_time": "2024-04-27T08:36:36.137737Z",
     "start_time": "2024-04-27T08:36:34.960467Z"
    }
   },
   "id": "9ecad0246ed456da",
   "outputs": [
    {
     "name": "stdout",
     "output_type": "stream",
     "text": [
      "sagemaker.config INFO - Not applying SDK defaults from location: /etc/xdg/xdg-ubuntu/sagemaker/config.yaml\n",
      "sagemaker.config INFO - Not applying SDK defaults from location: /home/kmitura/.config/sagemaker/config.yaml\n"
     ]
    }
   ],
   "execution_count": 3
  },
  {
   "cell_type": "code",
   "source": [
    "import os\n",
    "from sagemaker.workflow.pipeline_context import PipelineSession, LocalPipelineSession\n",
    "\n",
    "DUMMY_ROLE = \"arn:aws:iam::111111111111:role/service-role/AmazonSageMaker-ExecutionRole-11111111111111\"\n",
    "BUCKET = os.environ[\"BUCKET\"]\n",
    "S3_LOCATION = f\"s3://{BUCKET}/football\"\n",
    "LOCAL_MODE = False\n",
    "\n",
    "role = os.environ[\"ROLE\"]\n",
    "\n",
    "architecture = !(uname -m)\n",
    "IS_ARM64_ARCHITECTURE = architecture[0] == \"arm64\"\n",
    "\n",
    "if LOCAL_MODE:\n",
    "    config = {\n",
    "        \"session\": LocalPipelineSession(default_bucket=BUCKET),\n",
    "        \"instance_type\": \"local\",\n",
    "        \"image\": \"sagemaker-xgboost-training-toolkit-local\" if IS_ARM64_ARCHITECTURE else None\n",
    "    }\n",
    "else:\n",
    "    config = {\n",
    "        \"session\": PipelineSession(default_bucket=BUCKET) if not LOCAL_MODE else None,\n",
    "        \"instance_type\": \"ml.c5.xlarge\",\n",
    "        \"image\": None,\n",
    "    }\n",
    "\n",
    "config[\"framework_version\"] = \"1.7-1\"\n",
    "config[\"py_version\"] = \"py310\""
   ],
   "metadata": {
    "collapsed": false,
    "ExecuteTime": {
     "end_time": "2024-04-27T08:36:36.190322Z",
     "start_time": "2024-04-27T08:36:36.139034Z"
    }
   },
   "id": "ee6bc054dfdcbab",
   "outputs": [],
   "execution_count": 4
  },
  {
   "cell_type": "code",
   "source": [
    "from sagemaker.s3 import S3Uploader\n",
    "\n",
    "df_local_path = str(os.environ['DATA_FILEPATH_X'])\n",
    "y_local_path = str(os.environ['DATA_FILEPATH_Y'])\n",
    "\n",
    "# S3Uploader.upload(local_path=df_local_path, desired_s3_uri=f\"{S3_LOCATION}/data\", sagemaker_session=config['session'])\n",
    "# S3Uploader.upload(local_path=y_local_path, desired_s3_uri=f\"{S3_LOCATION}/data\", sagemaker_session=config['session'])"
   ],
   "metadata": {
    "collapsed": false,
    "ExecuteTime": {
     "end_time": "2024-04-27T08:36:36.202653Z",
     "start_time": "2024-04-27T08:36:36.191135Z"
    }
   },
   "id": "54a0a7017c5afb2f",
   "outputs": [],
   "execution_count": 5
  },
  {
   "cell_type": "code",
   "source": [
    "from sagemaker.workflow.steps import CacheConfig\n",
    "\n",
    "cache_config = CacheConfig(enable_caching=True, expire_after=\"15d\")"
   ],
   "metadata": {
    "collapsed": false,
    "ExecuteTime": {
     "end_time": "2024-04-27T08:36:36.221817Z",
     "start_time": "2024-04-27T08:36:36.203614Z"
    }
   },
   "id": "36f2b2ff5af7f7bf",
   "outputs": [],
   "execution_count": 6
  },
  {
   "cell_type": "code",
   "source": [
    "from sagemaker.workflow.pipeline_definition_config import PipelineDefinitionConfig\n",
    "from sagemaker.sklearn import SKLearnProcessor\n",
    "from sagemaker.workflow.steps import ProcessingStep\n",
    "from sagemaker.processing import ProcessingInput, ProcessingOutput\n",
    "from sagemaker.workflow.parameters import ParameterString\n",
    "from sagemaker.workflow.retry import (\n",
    "    SageMakerJobExceptionTypeEnum,\n",
    ")\n",
    "\n",
    "retry_policy = {\n",
    "    \"ExceptionType\": SageMakerJobExceptionTypeEnum.INTERNAL_ERROR,\n",
    "    \"IntervalSeconds\": 2,\n",
    "    \"BackoffRate\": 2,\n",
    "    \"MaxAttempts\": 5,\n",
    "    \"ExpireAfterMin\": 1\n",
    "}\n",
    "\n",
    "pipeline_definition_config = PipelineDefinitionConfig(use_custom_job_prefix=True)\n",
    "\n",
    "dataset_location = ParameterString(\n",
    "    name=\"dataset_location\",\n",
    "    default_value=f\"{S3_LOCATION}/data\",\n",
    ")\n",
    "\n",
    "processor = SKLearnProcessor(\n",
    "    base_job_name=\"split-and-transform-data\",\n",
    "    framework_version=\"1.2-1\",\n",
    "    instance_type=config[\"instance_type\"],\n",
    "    instance_count=1,\n",
    "    role=role,\n",
    "    sagemaker_session=config['session'],\n",
    ")\n",
    "\n",
    "split_and_transform_data_step = ProcessingStep(\n",
    "    name=\"split-and-transform-data\",\n",
    "    step_args=processor.run(\n",
    "        code=f\"{CODE_FOLDER}/preprocessor.py\",\n",
    "        inputs=[\n",
    "            ProcessingInput(source=dataset_location, destination=\"/opt/ml/processing/input\"),\n",
    "        ],\n",
    "        outputs=[\n",
    "            ProcessingOutput(output_name=\"train\", source=\"/opt/ml/processing/train\"),\n",
    "            ProcessingOutput(output_name=\"validation\", source=\"/opt/ml/processing/validation\"),\n",
    "            ProcessingOutput(output_name=\"test\", source=\"/opt/ml/processing/test\"),\n",
    "            ProcessingOutput(output_name=\"model\", source=\"/opt/ml/processing/model\"),\n",
    "            ProcessingOutput(output_name=\"train-baseline\", source=\"/opt/ml/processing/train-baseline\"),\n",
    "            ProcessingOutput(output_name=\"test-baseline\", source=\"/opt/ml/processing/test-baseline\"),\n",
    "        ]\n",
    "    ),\n",
    "    cache_config=cache_config,\n",
    ")"
   ],
   "metadata": {
    "collapsed": false,
    "ExecuteTime": {
     "end_time": "2024-04-27T08:36:36.249909Z",
     "start_time": "2024-04-27T08:36:36.222767Z"
    }
   },
   "id": "9c975fc0201b8f4d",
   "outputs": [],
   "execution_count": 7
  },
  {
   "cell_type": "code",
   "source": [
    "from sagemaker.workflow.pipeline import Pipeline\n",
    "\n",
    "session1_pipeline = Pipeline(\n",
    "    name=\"session1-pipeline\",\n",
    "    parameters=[dataset_location],\n",
    "    steps=[\n",
    "        split_and_transform_data_step,\n",
    "    ],\n",
    "    pipeline_definition_config=pipeline_definition_config,\n",
    "    sagemaker_session=config['session'],\n",
    ")\n",
    "\n",
    "session1_pipeline.upsert(role)\n",
    "# session1_pipeline.start()"
   ],
   "metadata": {
    "collapsed": false,
    "ExecuteTime": {
     "end_time": "2024-04-27T08:36:39.585965Z",
     "start_time": "2024-04-27T08:36:36.250802Z"
    }
   },
   "id": "98e68ac3054aacb8",
   "outputs": [
    {
     "data": {
      "text/plain": [
       "{'PipelineArn': 'arn:aws:sagemaker:eu-north-1:284415450706:pipeline/session1-pipeline',\n",
       " 'ResponseMetadata': {'RequestId': '1302ed00-2029-47d4-aa80-2c40bfc2918b',\n",
       "  'HTTPStatusCode': 200,\n",
       "  'HTTPHeaders': {'x-amzn-requestid': '1302ed00-2029-47d4-aa80-2c40bfc2918b',\n",
       "   'content-type': 'application/x-amz-json-1.1',\n",
       "   'content-length': '86',\n",
       "   'date': 'Sat, 27 Apr 2024 08:36:38 GMT'},\n",
       "  'RetryAttempts': 0}}"
      ]
     },
     "execution_count": 8,
     "metadata": {},
     "output_type": "execute_result"
    }
   ],
   "execution_count": 8
  },
  {
   "cell_type": "code",
   "source": [
    "from sagemaker.xgboost import XGBoost\n",
    "\n",
    "use_spot_instances = True and not LOCAL_MODE\n",
    "max_run = 1000\n",
    "max_wait = 1200 if use_spot_instances else None\n",
    "instance_type = \"ml.m5.2xlarge\"\n",
    "\n",
    "xgboost = XGBoost(\n",
    "    base_job_name=\"training\",\n",
    "    entry_point=f\"{CODE_FOLDER}/train.py\",\n",
    "    role=role,\n",
    "    instance_count=1,\n",
    "    instance_type=config['instance_type'],\n",
    "    framework_version=config['framework_version'],\n",
    "    disable_profiler=True,\n",
    "    use_spot_instances=use_spot_instances,\n",
    "    max_run=max_run,\n",
    "    max_wait=max_wait,\n",
    "    sagemaker_session=config['session']\n",
    ")"
   ],
   "metadata": {
    "collapsed": false,
    "ExecuteTime": {
     "end_time": "2024-04-27T08:36:39.626218Z",
     "start_time": "2024-04-27T08:36:39.588788Z"
    }
   },
   "id": "830a03c119740bea",
   "outputs": [],
   "execution_count": 9
  },
  {
   "cell_type": "code",
   "source": [
    "from sagemaker.workflow.steps import TrainingStep\n",
    "from sagemaker.inputs import TrainingInput\n",
    "\n",
    "\n",
    "def create_training_step(estimator):\n",
    "    \"\"\"Create a SageMaker TrainingStep using the provided estimator.\"\"\"\n",
    "    return TrainingStep(\n",
    "        name=\"train-model\",\n",
    "        step_args=estimator.fit(\n",
    "            inputs={\n",
    "                \"train\": TrainingInput(\n",
    "                    s3_data=split_and_transform_data_step.properties.ProcessingOutputConfig.Outputs[\n",
    "                        \"train\"\n",
    "                    ].S3Output.S3Uri,\n",
    "                    content_type=\"text/csv\",\n",
    "                ),\n",
    "                \"validation\": TrainingInput(\n",
    "                    s3_data=split_and_transform_data_step.properties.ProcessingOutputConfig.Outputs[\n",
    "                        \"validation\"\n",
    "                    ].S3Output.S3Uri,\n",
    "                    content_type=\"text/csv\",\n",
    "                ),\n",
    "            },\n",
    "        ),\n",
    "        cache_config=cache_config,\n",
    "    )\n",
    "\n",
    "train_model_step = create_training_step(xgboost)"
   ],
   "metadata": {
    "collapsed": false,
    "ExecuteTime": {
     "end_time": "2024-04-27T08:36:39.645304Z",
     "start_time": "2024-04-27T08:36:39.627892Z"
    }
   },
   "id": "5dd9879e78a475aa",
   "outputs": [],
   "execution_count": 10
  },
  {
   "cell_type": "code",
   "source": [
    "USE_TUNING_STEP = False and not LOCAL_MODE"
   ],
   "metadata": {
    "collapsed": false,
    "ExecuteTime": {
     "end_time": "2024-04-27T08:36:39.659414Z",
     "start_time": "2024-04-27T08:36:39.646533Z"
    }
   },
   "id": "51bc8ae0e97f4cfd",
   "outputs": [],
   "execution_count": 11
  },
  {
   "cell_type": "code",
   "source": [
    "from sagemaker.tuner import HyperparameterTuner\n",
    "from sagemaker.parameter import IntegerParameter, ContinuousParameter\n",
    "\n",
    "hyperparameter_ranges = {\n",
    "    'eta': ContinuousParameter(min_value=0.05, max_value=0.3, scaling_type=\"Logarithmic\"),\n",
    "    'max_depth': IntegerParameter(min_value=5, max_value=15, scaling_type=\"Auto\"),\n",
    "    'subsample': ContinuousParameter(min_value=0.7, max_value=1.0, scaling_type=\"Auto\"),\n",
    "    'colsample_bytree': ContinuousParameter(min_value=0.7, max_value=1.0, scaling_type=\"Logarithmic\"),\n",
    "    'lambda': ContinuousParameter(min_value=5, max_value=12, scaling_type=\"Logarithmic\"),\n",
    "    'alpha': ContinuousParameter(min_value=1, max_value=10, scaling_type=\"Logarithmic\"),\n",
    "    'min_child_weight': ContinuousParameter(min_value=0.4, max_value=1.0, scaling_type=\"Auto\"),\n",
    "}\n",
    "\n",
    "objective_type = \"Maximize\"\n",
    "metric_definitions = [\n",
    "    {'Name': 'validation:logloss',\n",
    "     'Regex': r\".*\\[[0-9]+\\].*#011validation_0-logloss:([-+]?[0-9]*\\.?[0-9]+(?:[eE][-+]?[0-9]+)?).*\"\n",
    "     },\n",
    "    {'Name': 'validation:f1',\n",
    "     'Regex': 'F1 score: ([0-9\\\\.]+)'\n",
    "     },\n",
    "]\n",
    "metric_name = \"validation:f1\"\n",
    "strategy = \"Bayesian\"\n",
    "\n",
    "tuner = HyperparameterTuner(\n",
    "    estimator=xgboost,\n",
    "    objective_metric_name=metric_name,\n",
    "    objective_type=objective_type,\n",
    "    hyperparameter_ranges=hyperparameter_ranges,\n",
    "    metric_definitions=metric_definitions,\n",
    "    max_jobs=8,\n",
    "    max_parallel_jobs=2,\n",
    "    early_stopping_type='Auto',\n",
    ")"
   ],
   "metadata": {
    "collapsed": false,
    "ExecuteTime": {
     "end_time": "2024-04-27T08:36:39.674781Z",
     "start_time": "2024-04-27T08:36:39.660308Z"
    }
   },
   "id": "a31e770437cfcbb6",
   "outputs": [],
   "execution_count": 12
  },
  {
   "cell_type": "code",
   "source": [
    "from sagemaker.workflow.steps import TuningStep\n",
    "\n",
    "tune_model_step = TuningStep(\n",
    "    name=\"tune-model\",\n",
    "    step_args=tuner.fit(\n",
    "        inputs={\n",
    "            \"train\": TrainingInput(\n",
    "                s3_data=split_and_transform_data_step.properties.ProcessingOutputConfig.Outputs[\n",
    "                    \"train\"\n",
    "                ].S3Output.S3Uri,\n",
    "                content_type=\"text/csv\"\n",
    "            ),\n",
    "            \"validation\": TrainingInput(\n",
    "                s3_data=split_and_transform_data_step.properties.ProcessingOutputConfig.Outputs[\n",
    "                    \"validation\"\n",
    "                ].S3Output.S3Uri,\n",
    "                content_type=\"text/csv\"\n",
    "            )\n",
    "        },\n",
    "    ),\n",
    "    cache_config=cache_config\n",
    ")"
   ],
   "metadata": {
    "collapsed": false,
    "ExecuteTime": {
     "end_time": "2024-04-27T08:36:39.689867Z",
     "start_time": "2024-04-27T08:36:39.675900Z"
    }
   },
   "id": "473cacc2979587a9",
   "outputs": [],
   "execution_count": 13
  },
  {
   "cell_type": "code",
   "source": [
    "session2_pipeline = Pipeline(\n",
    "    name=\"session2-pipeline\",\n",
    "    parameters=[dataset_location],\n",
    "    steps=[\n",
    "        split_and_transform_data_step,\n",
    "        tune_model_step if USE_TUNING_STEP else train_model_step,\n",
    "    ],\n",
    "    pipeline_definition_config=pipeline_definition_config,\n",
    "    sagemaker_session=config[\"session\"],\n",
    ")\n",
    "\n",
    "session2_pipeline.upsert(role_arn=role)\n",
    "# session2_pipeline.start()"
   ],
   "metadata": {
    "collapsed": false,
    "ExecuteTime": {
     "end_time": "2024-04-27T08:36:43.554429Z",
     "start_time": "2024-04-27T08:36:39.690883Z"
    }
   },
   "id": "fdd3e81e0dca46aa",
   "outputs": [
    {
     "data": {
      "text/plain": [
       "{'PipelineArn': 'arn:aws:sagemaker:eu-north-1:284415450706:pipeline/session2-pipeline',\n",
       " 'ResponseMetadata': {'RequestId': 'f235e272-122d-4e73-8bbb-2ce3f72a3c41',\n",
       "  'HTTPStatusCode': 200,\n",
       "  'HTTPHeaders': {'x-amzn-requestid': 'f235e272-122d-4e73-8bbb-2ce3f72a3c41',\n",
       "   'content-type': 'application/x-amz-json-1.1',\n",
       "   'content-length': '86',\n",
       "   'date': 'Sat, 27 Apr 2024 08:36:41 GMT'},\n",
       "  'RetryAttempts': 0}}"
      ]
     },
     "execution_count": 14,
     "metadata": {},
     "output_type": "execute_result"
    }
   ],
   "execution_count": 14
  },
  {
   "cell_type": "code",
   "source": [
    "from sagemaker.xgboost import XGBoostProcessor\n",
    "\n",
    "evaluation_processor = XGBoostProcessor(\n",
    "    base_job_name=\"evaluation-processor\",\n",
    "    image_uri=config[\"image\"],\n",
    "    framework_version=config[\"framework_version\"],\n",
    "    instance_type=config[\"instance_type\"],\n",
    "    instance_count=1,\n",
    "    role=role,\n",
    "    sagemaker_session=config[\"session\"],\n",
    ")"
   ],
   "metadata": {
    "collapsed": false,
    "ExecuteTime": {
     "end_time": "2024-04-27T08:36:43.687112Z",
     "start_time": "2024-04-27T08:36:43.557056Z"
    }
   },
   "id": "d73cf8acd2617076",
   "outputs": [],
   "execution_count": 15
  },
  {
   "cell_type": "code",
   "source": [
    "from sagemaker.workflow.properties import PropertyFile\n",
    "\n",
    "evaluation_report = PropertyFile(\n",
    "    name=\"evaluation-report\", output_name=\"evaluation\", path=\"evaluation.json\"\n",
    ")"
   ],
   "metadata": {
    "collapsed": false,
    "ExecuteTime": {
     "end_time": "2024-04-27T08:36:43.704074Z",
     "start_time": "2024-04-27T08:36:43.687834Z"
    }
   },
   "id": "f41bc50b964b336a",
   "outputs": [],
   "execution_count": 16
  },
  {
   "cell_type": "code",
   "source": [
    "model_assets = train_model_step.properties.ModelArtifacts.S3ModelArtifacts\n",
    "\n",
    "if USE_TUNING_STEP:\n",
    "    model_assets = tune_model_step.get_top_model_s3_uri(\n",
    "        top_k=0,\n",
    "        s3_bucket=config[\"session\"].default_bucket(),\n",
    "    )"
   ],
   "metadata": {
    "collapsed": false,
    "ExecuteTime": {
     "end_time": "2024-04-27T08:36:43.719224Z",
     "start_time": "2024-04-27T08:36:43.705307Z"
    }
   },
   "id": "d55dcab3ed97a887",
   "outputs": [],
   "execution_count": 17
  },
  {
   "cell_type": "code",
   "source": [
    "evaluate_model_step = ProcessingStep(\n",
    "    name=\"evaluate-model\",\n",
    "    step_args=evaluation_processor.run(\n",
    "        inputs=[\n",
    "            ProcessingInput(\n",
    "                source=split_and_transform_data_step.properties.ProcessingOutputConfig.Outputs[\n",
    "                    \"test\"\n",
    "                ].S3Output.S3Uri,\n",
    "                destination=\"/opt/ml/processing/test\",\n",
    "            ),\n",
    "            ProcessingInput(\n",
    "                source=model_assets,\n",
    "                destination=\"/opt/ml/processing/model\",\n",
    "            ),\n",
    "        ],\n",
    "        outputs=[\n",
    "            ProcessingOutput(\n",
    "                output_name=\"evaluation\", source=\"/opt/ml/processing/evaluation\"\n",
    "            ),\n",
    "        ],\n",
    "        code=f\"{CODE_FOLDER}/evaluation.py\",\n",
    "    ),\n",
    "    property_files=[evaluation_report],\n",
    "    cache_config=cache_config,\n",
    ")"
   ],
   "metadata": {
    "collapsed": false,
    "ExecuteTime": {
     "end_time": "2024-04-27T08:36:43.732892Z",
     "start_time": "2024-04-27T08:36:43.720332Z"
    }
   },
   "id": "2147eaf6e5f6b450",
   "outputs": [],
   "execution_count": 18
  },
  {
   "cell_type": "code",
   "source": [
    "session3_pipeline = Pipeline(\n",
    "    name=\"session3-pipeline\",\n",
    "    parameters=[dataset_location],\n",
    "    steps=[\n",
    "        split_and_transform_data_step,\n",
    "        tune_model_step if USE_TUNING_STEP else train_model_step,\n",
    "        evaluate_model_step,\n",
    "    ],\n",
    "    pipeline_definition_config=pipeline_definition_config,\n",
    "    sagemaker_session=config[\"session\"],\n",
    ")\n",
    "\n",
    "session3_pipeline.upsert(role_arn=role)\n",
    "# session3_pipeline.start()"
   ],
   "metadata": {
    "collapsed": false,
    "ExecuteTime": {
     "end_time": "2024-04-27T08:36:47.653651Z",
     "start_time": "2024-04-27T08:36:43.733908Z"
    }
   },
   "id": "6a397939003d913d",
   "outputs": [
    {
     "data": {
      "text/plain": [
       "{'PipelineArn': 'arn:aws:sagemaker:eu-north-1:284415450706:pipeline/session3-pipeline',\n",
       " 'ResponseMetadata': {'RequestId': 'ec8986c1-2e30-4a1e-9b38-c44e0a142760',\n",
       "  'HTTPStatusCode': 200,\n",
       "  'HTTPHeaders': {'x-amzn-requestid': 'ec8986c1-2e30-4a1e-9b38-c44e0a142760',\n",
       "   'content-type': 'application/x-amz-json-1.1',\n",
       "   'content-length': '86',\n",
       "   'date': 'Sat, 27 Apr 2024 08:36:47 GMT'},\n",
       "  'RetryAttempts': 0}}"
      ]
     },
     "execution_count": 19,
     "metadata": {},
     "output_type": "execute_result"
    }
   ],
   "execution_count": 19
  },
  {
   "cell_type": "code",
   "source": [
    "BASIC_MODEL_PACKAGE_GROUP = \"basic-football\""
   ],
   "metadata": {
    "collapsed": false,
    "ExecuteTime": {
     "end_time": "2024-04-27T08:36:47.670465Z",
     "start_time": "2024-04-27T08:36:47.656306Z"
    }
   },
   "id": "4a2fd3f026fefc58",
   "outputs": [],
   "execution_count": 20
  },
  {
   "cell_type": "code",
   "source": [
    "from sagemaker.xgboost.model import XGBoostModel\n",
    "\n",
    "xgb_model = XGBoostModel(\n",
    "    model_data=model_assets,\n",
    "    framework_version=config[\"framework_version\"],\n",
    "    sagemaker_session=config[\"session\"],\n",
    "    role=role,\n",
    ")"
   ],
   "metadata": {
    "collapsed": false,
    "ExecuteTime": {
     "end_time": "2024-04-27T08:36:47.685661Z",
     "start_time": "2024-04-27T08:36:47.671405Z"
    }
   },
   "id": "5cd6b925adb4a12e",
   "outputs": [],
   "execution_count": 21
  },
  {
   "cell_type": "code",
   "source": [
    "from sagemaker.model_metrics import MetricsSource, ModelMetrics\n",
    "from sagemaker.workflow.functions import Join\n",
    "\n",
    "model_metrics = ModelMetrics(\n",
    "    model_statistics=MetricsSource(\n",
    "        s3_uri=Join(\n",
    "            on=\"/\",\n",
    "            values=[\n",
    "                evaluate_model_step.properties.ProcessingOutputConfig.Outputs[\n",
    "                    \"evaluation\"\n",
    "                ].S3Output.S3Uri,\n",
    "                \"evaluation.json\",\n",
    "            ],\n",
    "        ),\n",
    "        content_type=\"application/json\",\n",
    "    ),\n",
    ")"
   ],
   "metadata": {
    "collapsed": false,
    "ExecuteTime": {
     "end_time": "2024-04-27T08:36:47.699713Z",
     "start_time": "2024-04-27T08:36:47.686714Z"
    }
   },
   "id": "4f1255fb2188d37d",
   "outputs": [],
   "execution_count": 22
  },
  {
   "cell_type": "code",
   "source": [
    "from sagemaker.workflow.model_step import ModelStep\n",
    "\n",
    "def create_registration_step(\n",
    "        model,\n",
    "        model_package_group_name,\n",
    "        approval_status=\"Approved\",\n",
    "        content_types=[\"text/csv\"],\n",
    "        response_types=[\"text/csv\"],\n",
    "        model_metrics=None,\n",
    "        drift_check_baselines=None,\n",
    "):\n",
    "    \"\"\"Create a Registration Step using the supplied parameters.\"\"\"\n",
    "    return ModelStep(\n",
    "        name=\"register\",\n",
    "        step_args=model.register(\n",
    "            model_package_group_name=model_package_group_name,\n",
    "            approval_status=approval_status,\n",
    "            model_metrics=model_metrics,\n",
    "            drift_check_baselines=drift_check_baselines,\n",
    "            content_types=content_types,\n",
    "            response_types=response_types,\n",
    "            inference_instances=[config[\"instance_type\"]],\n",
    "            transform_instances=[config[\"instance_type\"]],\n",
    "            framework_version=config[\"framework_version\"],\n",
    "            domain=\"MACHINE_LEARNING\",\n",
    "            task=\"CLASSIFICATION\",\n",
    "            framework=\"XGBOOST\",\n",
    "        ),\n",
    "    )\n",
    "\n",
    "\n",
    "register_model_step = create_registration_step(\n",
    "    xgb_model,\n",
    "    BASIC_MODEL_PACKAGE_GROUP,\n",
    "    model_metrics=model_metrics,\n",
    ")"
   ],
   "metadata": {
    "collapsed": false,
    "ExecuteTime": {
     "end_time": "2024-04-27T08:36:54.924063Z",
     "start_time": "2024-04-27T08:36:54.892171Z"
    }
   },
   "id": "7f97e2d4f10652ce",
   "outputs": [],
   "execution_count": 24
  },
  {
   "cell_type": "code",
   "outputs": [],
   "source": [
    "from sagemaker.workflow.functions import JsonGet\n",
    "from sagemaker.workflow.fail_step import FailStep\n",
    "from sagemaker.workflow.parameters import ParameterFloat\n",
    "from sagemaker.workflow.condition_step import ConditionStep\n",
    "from sagemaker.workflow.conditions import ConditionGreaterThanOrEqualTo\n",
    "\n",
    "f1_threshold = ParameterFloat(name=\"f1_threshold\", default_value=0.64)\n",
    "\n",
    "fail_step = FailStep(\n",
    "    name=\"fail\",\n",
    "    error_message=Join(\n",
    "        on=\" \",\n",
    "        values=[\n",
    "            \"Execution failed because the model's f1 result was lower than\",\n",
    "            f1_threshold,\n",
    "        ],\n",
    "    ),\n",
    ")\n",
    "\n",
    "condition = ConditionGreaterThanOrEqualTo(\n",
    "    left=JsonGet(\n",
    "        step_name=evaluate_model_step.name,\n",
    "        property_file=evaluation_report,\n",
    "        json_path=\"metrics.f1.value\",\n",
    "    ),\n",
    "    right=f1_threshold,\n",
    ")\n",
    "\n",
    "condition_step = ConditionStep(\n",
    "    name=\"check-model-f1-result\",\n",
    "    conditions=[condition],\n",
    "    if_steps=[register_model_step],\n",
    "    else_steps=[fail_step],\n",
    ")"
   ],
   "metadata": {
    "collapsed": false,
    "ExecuteTime": {
     "end_time": "2024-04-25T18:32:10.261269800Z",
     "start_time": "2024-04-25T18:32:10.193487200Z"
    }
   },
   "id": "d8ab4d19cbfc11ae",
   "execution_count": 24
  },
  {
   "cell_type": "code",
   "outputs": [
    {
     "data": {
      "text/plain": "{'PipelineArn': 'arn:aws:sagemaker:eu-north-1:284415450706:pipeline/session5-pipeline',\n 'ResponseMetadata': {'RequestId': 'c2265b72-8d6a-4f98-a0b4-fcdd76836742',\n  'HTTPStatusCode': 200,\n  'HTTPHeaders': {'x-amzn-requestid': 'c2265b72-8d6a-4f98-a0b4-fcdd76836742',\n   'content-type': 'application/x-amz-json-1.1',\n   'content-length': '86',\n   'date': 'Thu, 25 Apr 2024 18:32:11 GMT'},\n  'RetryAttempts': 0}}"
     },
     "execution_count": 25,
     "metadata": {},
     "output_type": "execute_result"
    }
   ],
   "source": [
    "session5_pipeline = Pipeline(\n",
    "    name=\"session5-pipeline\",\n",
    "    parameters=[dataset_location, f1_threshold],\n",
    "    steps=[\n",
    "        split_and_transform_data_step,\n",
    "        tune_model_step if USE_TUNING_STEP else train_model_step,\n",
    "        evaluate_model_step,\n",
    "        condition_step,\n",
    "    ],\n",
    "    pipeline_definition_config=pipeline_definition_config,\n",
    "    sagemaker_session=config[\"session\"],\n",
    ")\n",
    "\n",
    "session5_pipeline.upsert(role_arn=role)\n",
    "# session5_pipeline.start()"
   ],
   "metadata": {
    "collapsed": false,
    "ExecuteTime": {
     "end_time": "2024-04-25T18:32:12.085194800Z",
     "start_time": "2024-04-25T18:32:10.261269800Z"
    }
   },
   "id": "ffcc8d2ed776023d",
   "execution_count": 25
  },
  {
   "cell_type": "code",
   "outputs": [],
   "source": [
    "response = sagemaker_client.list_model_packages(\n",
    "    ModelPackageGroupName=BASIC_MODEL_PACKAGE_GROUP,\n",
    "    ModelApprovalStatus=\"Approved\",\n",
    "    SortBy=\"CreationTime\",\n",
    "    MaxResults=1,\n",
    ")\n",
    "\n",
    "package = (\n",
    "    response[\"ModelPackageSummaryList\"][0]\n",
    "    if response[\"ModelPackageSummaryList\"]\n",
    "    else None\n",
    ")\n",
    "\n",
    "# package"
   ],
   "metadata": {
    "collapsed": false,
    "ExecuteTime": {
     "end_time": "2024-04-25T18:32:12.579130800Z",
     "start_time": "2024-04-25T18:32:12.084192800Z"
    }
   },
   "id": "dd32108d3539c4c2",
   "execution_count": 26
  },
  {
   "cell_type": "code",
   "outputs": [
    {
     "name": "stdout",
     "output_type": "stream",
     "text": [
      "Role \"lambda-deployment-role\" already exists with ARN \"arn:aws:iam::284415450706:role/lambda-deployment-role\".\n"
     ]
    }
   ],
   "source": [
    "lambda_role_name = \"lambda-deployment-role\"\n",
    "lambda_role_arn = None\n",
    "\n",
    "try:\n",
    "    response = iam_client.create_role(\n",
    "        RoleName=lambda_role_name,\n",
    "        AssumeRolePolicyDocument=json.dumps(\n",
    "            {\n",
    "                \"Version\": \"2012-10-17\",\n",
    "                \"Statement\": [\n",
    "                    {\n",
    "                        \"Effect\": \"Allow\",\n",
    "                        \"Principal\": {\n",
    "                            \"Service\": [\"lambda.amazonaws.com\", \"events.amazonaws.com\"],\n",
    "                        },\n",
    "                        \"Action\": \"sts:AssumeRole\",\n",
    "                    },\n",
    "                ],\n",
    "            },\n",
    "        ),\n",
    "        Description=\"Lambda Endpoint Deployment\",\n",
    "    )\n",
    "\n",
    "    lambda_role_arn = response[\"Role\"][\"Arn\"]\n",
    "\n",
    "    iam_client.attach_role_policy(\n",
    "        PolicyArn=\"arn:aws:iam::aws:policy/service-role/AWSLambdaBasicExecutionRole\",\n",
    "        RoleName=lambda_role_name,\n",
    "    )\n",
    "\n",
    "    iam_client.attach_role_policy(\n",
    "        PolicyArn=\"arn:aws:iam::aws:policy/AmazonSageMakerFullAccess\",\n",
    "        RoleName=lambda_role_name,\n",
    "    )\n",
    "\n",
    "    print(f'Role \"{lambda_role_name}\" created with ARN \"{lambda_role_arn}\".')\n",
    "except iam_client.exceptions.EntityAlreadyExistsException:\n",
    "    response = iam_client.get_role(RoleName=lambda_role_name)\n",
    "    lambda_role_arn = response[\"Role\"][\"Arn\"]\n",
    "    print(f'Role \"{lambda_role_name}\" already exists with ARN \"{lambda_role_arn}\".')"
   ],
   "metadata": {
    "collapsed": false,
    "ExecuteTime": {
     "end_time": "2024-04-25T18:32:13.565580600Z",
     "start_time": "2024-04-25T18:32:12.580131Z"
    }
   },
   "id": "a2004f5f8a325cd",
   "execution_count": 27
  },
  {
   "cell_type": "code",
   "outputs": [
    {
     "data": {
      "text/plain": "{'ResponseMetadata': {'RequestId': '1e31df91-5009-46f8-8cad-9d21b72db5ca',\n  'HTTPStatusCode': 200,\n  'HTTPHeaders': {'date': 'Thu, 25 Apr 2024 18:32:14 GMT',\n   'content-type': 'application/json',\n   'content-length': '1606',\n   'connection': 'keep-alive',\n   'x-amzn-requestid': '1e31df91-5009-46f8-8cad-9d21b72db5ca'},\n  'RetryAttempts': 0},\n 'FunctionName': 'deployment_fn',\n 'FunctionArn': 'arn:aws:lambda:eu-north-1:284415450706:function:deployment_fn',\n 'Runtime': 'python3.11',\n 'Role': 'arn:aws:iam::284415450706:role/lambda-deployment-role',\n 'Handler': 'lambda.lambda_handler',\n 'CodeSize': 3588,\n 'Description': '',\n 'Timeout': 600,\n 'MemorySize': 128,\n 'LastModified': '2024-04-25T18:32:14.000+0000',\n 'CodeSha256': '8fXy8oyIt19aH/yecnKKVziTbMCHFI+ILbXFnyhhXvw=',\n 'Version': '$LATEST',\n 'Environment': {'Variables': {'ROLE': 'arn:aws:iam::284415450706:role/service-role/AmazonSageMaker-ExecutionRole-20240309T101533',\n   'DATA_CAPTURE_PERCENTAGE': '100',\n   'DATA_CAPTURE_DESTINATION': 's3://football-data-kamil/football/monitoring/data-capture',\n   'ENDPOINT': 'football-endpoint'}},\n 'TracingConfig': {'Mode': 'PassThrough'},\n 'RevisionId': '109c0039-8c39-49fa-835b-58f908dbf921',\n 'Layers': [],\n 'State': 'Active',\n 'LastUpdateStatus': 'InProgress',\n 'LastUpdateStatusReason': 'The function is being created.',\n 'LastUpdateStatusReasonCode': 'Creating',\n 'PackageType': 'Zip',\n 'Architectures': ['x86_64'],\n 'EphemeralStorage': {'Size': 512},\n 'SnapStart': {'ApplyOn': 'None', 'OptimizationStatus': 'Off'},\n 'RuntimeVersionConfig': {'RuntimeVersionArn': 'arn:aws:lambda:eu-north-1::runtime:1bebe65bb4f19dd8c37baeb0be18a0b278155b42bfe12dd28480199436d18229'},\n 'LoggingConfig': {'LogFormat': 'Text',\n  'LogGroup': '/aws/lambda/deployment_fn'}}"
     },
     "execution_count": 28,
     "metadata": {},
     "output_type": "execute_result"
    }
   ],
   "source": [
    "from sagemaker.lambda_helper import Lambda\n",
    "\n",
    "ENDPOINT = \"football-endpoint\"\n",
    "DATA_CAPTURE_DESTINATION = f\"{S3_LOCATION}/monitoring/data-capture\"\n",
    "DATA_CAPTURE_PERCENTAGE = 100\n",
    "\n",
    "deploy_lambda_fn = Lambda(\n",
    "    function_name=\"deployment_fn\",\n",
    "    execution_role_arn=lambda_role_arn,\n",
    "    script=(CODE_FOLDER / \"lambda\" / \"lambda.py\").as_posix(),\n",
    "    handler=\"lambda.lambda_handler\",\n",
    "    timeout=600,\n",
    "    session=sagemaker_session,\n",
    "    runtime=\"python3.11\",\n",
    "    environment={\n",
    "        \"Variables\": {\n",
    "            \"ENDPOINT\": ENDPOINT,\n",
    "            \"DATA_CAPTURE_DESTINATION\": DATA_CAPTURE_DESTINATION,\n",
    "            \"DATA_CAPTURE_PERCENTAGE\": str(DATA_CAPTURE_PERCENTAGE),\n",
    "            \"ROLE\": role,\n",
    "        },\n",
    "    },\n",
    ")\n",
    "\n",
    "deploy_lambda_fn_response = deploy_lambda_fn.upsert()\n",
    "deploy_lambda_fn_response"
   ],
   "metadata": {
    "collapsed": false,
    "ExecuteTime": {
     "end_time": "2024-04-25T18:32:14.603134600Z",
     "start_time": "2024-04-25T18:32:13.565580600Z"
    }
   },
   "id": "4d3b3b8b5a8bf88",
   "execution_count": 28
  },
  {
   "cell_type": "code",
   "outputs": [],
   "source": [
    "from sagemaker.workflow.lambda_step import LambdaStep\n",
    "\n",
    "\n",
    "def create_deployment_step(register_model_step):\n",
    "    \"\"\"Create a Deploy Step using the supplied parameters.\"\"\"\n",
    "    return LambdaStep(\n",
    "        name=\"deploy\",\n",
    "        lambda_func=deploy_lambda_fn,\n",
    "        inputs={\n",
    "            \"model_package_arn\": register_model_step.properties.ModelPackageArn,\n",
    "        },\n",
    "    )\n",
    "\n",
    "\n",
    "deploy_step = create_deployment_step(register_model_step)"
   ],
   "metadata": {
    "collapsed": false,
    "ExecuteTime": {
     "end_time": "2024-04-25T18:32:14.670187400Z",
     "start_time": "2024-04-25T18:32:14.603134600Z"
    }
   },
   "id": "b3f5eb5289dcdb89",
   "execution_count": 29
  },
  {
   "cell_type": "code",
   "outputs": [],
   "source": [
    "condition_step = ConditionStep(\n",
    "    name=\"check-model-f1-result\",\n",
    "    conditions=[condition],\n",
    "    if_steps=[register_model_step, deploy_step],\n",
    "    else_steps=[fail_step],\n",
    ")"
   ],
   "metadata": {
    "collapsed": false,
    "ExecuteTime": {
     "end_time": "2024-04-25T18:32:14.739027Z",
     "start_time": "2024-04-25T18:32:14.672186800Z"
    }
   },
   "id": "93920bd415ce9d60",
   "execution_count": 30
  },
  {
   "cell_type": "code",
   "outputs": [
    {
     "data": {
      "text/plain": "{'PipelineArn': 'arn:aws:sagemaker:eu-north-1:284415450706:pipeline/session6-pipeline',\n 'ResponseMetadata': {'RequestId': 'd5ac3b0a-c4ca-4273-be38-10668a04beeb',\n  'HTTPStatusCode': 200,\n  'HTTPHeaders': {'x-amzn-requestid': 'd5ac3b0a-c4ca-4273-be38-10668a04beeb',\n   'content-type': 'application/x-amz-json-1.1',\n   'content-length': '86',\n   'date': 'Thu, 25 Apr 2024 18:32:17 GMT'},\n  'RetryAttempts': 0}}"
     },
     "execution_count": 31,
     "metadata": {},
     "output_type": "execute_result"
    }
   ],
   "source": [
    "session6_pipeline = Pipeline(\n",
    "    name=\"session6-pipeline\",\n",
    "    parameters=[dataset_location, f1_threshold],\n",
    "    steps=[\n",
    "        split_and_transform_data_step,\n",
    "        tune_model_step if USE_TUNING_STEP else train_model_step,\n",
    "        evaluate_model_step,\n",
    "        condition_step,\n",
    "    ],\n",
    "    pipeline_definition_config=pipeline_definition_config,\n",
    "    sagemaker_session=config[\"session\"],\n",
    ")\n",
    "\n",
    "session6_pipeline.upsert(role_arn=role)"
   ],
   "metadata": {
    "collapsed": false,
    "ExecuteTime": {
     "end_time": "2024-04-25T18:32:18.359059300Z",
     "start_time": "2024-04-25T18:32:14.739027Z"
    }
   },
   "id": "afc088fa81b0356",
   "execution_count": 31
  },
  {
   "cell_type": "code",
   "outputs": [],
   "source": [
    "# session6_pipeline.start()"
   ],
   "metadata": {
    "collapsed": false,
    "ExecuteTime": {
     "end_time": "2024-04-25T18:32:18.426320200Z",
     "start_time": "2024-04-25T18:32:18.359059300Z"
    }
   },
   "id": "2a53db12df12f93f",
   "execution_count": 32
  },
  {
   "cell_type": "code",
   "outputs": [],
   "source": [
    "PENDING_MODEL_PACKAGE_GROUP = \"pending-football\""
   ],
   "metadata": {
    "collapsed": false,
    "ExecuteTime": {
     "end_time": "2024-04-25T18:32:18.570673700Z",
     "start_time": "2024-04-25T18:32:18.503834400Z"
    }
   },
   "id": "e0de768336bd09ce",
   "execution_count": 34
  },
  {
   "cell_type": "code",
   "outputs": [],
   "source": [
    "event_pattern = f\"\"\"\n",
    "{{\n",
    "  \"source\": [\"aws.sagemaker\"],\n",
    "  \"detail-type\": [\"SageMaker Model Package State Change\"],\n",
    "  \"detail\": {{\n",
    "    \"ModelPackageGroupName\": [\"{PENDING_MODEL_PACKAGE_GROUP}\"],\n",
    "    \"ModelApprovalStatus\": [\"Approved\"]\n",
    "  }}\n",
    "}}\n",
    "\"\"\""
   ],
   "metadata": {
    "collapsed": false,
    "ExecuteTime": {
     "end_time": "2024-04-25T18:32:18.638233900Z",
     "start_time": "2024-04-25T18:32:18.570673700Z"
    }
   },
   "id": "7371a0686f11a762",
   "execution_count": 35
  },
  {
   "cell_type": "code",
   "outputs": [
    {
     "name": "stdout",
     "output_type": "stream",
     "text": [
      "Function \"deployment_fn\" already has the specified permission.\n"
     ]
    }
   ],
   "source": [
    "rule_name = \"PendingModelApprovedRule\"\n",
    "\n",
    "events_client = boto3.client(\"events\")\n",
    "rule_response = events_client.put_rule(\n",
    "    Name=rule_name,\n",
    "    EventPattern=event_pattern,\n",
    "    State=\"ENABLED\",\n",
    "    RoleArn=role,\n",
    ")\n",
    "\n",
    "response = events_client.put_targets(\n",
    "    Rule=rule_name,\n",
    "    Targets=[\n",
    "        {\n",
    "            \"Id\": \"1\",\n",
    "            \"Arn\": deploy_lambda_fn_response[\"FunctionArn\"],\n",
    "        },\n",
    "    ],\n",
    ")\n",
    "\n",
    "lambda_function_name = deploy_lambda_fn_response[\"FunctionName\"]\n",
    "lambda_client = boto3.client(\"lambda\")\n",
    "\n",
    "try:\n",
    "    response = lambda_client.add_permission(\n",
    "        Action=\"lambda:InvokeFunction\",\n",
    "        FunctionName=lambda_function_name,\n",
    "        Principal=\"events.amazonaws.com\",\n",
    "        SourceArn=rule_response[\"RuleArn\"],\n",
    "        StatementId=\"EventBridge\",\n",
    "    )\n",
    "except lambda_client.exceptions.ResourceConflictException:\n",
    "    print(f'Function \"{lambda_function_name}\" already has the specified permission.')"
   ],
   "metadata": {
    "collapsed": false,
    "ExecuteTime": {
     "end_time": "2024-04-25T18:32:19.585558700Z",
     "start_time": "2024-04-25T18:32:18.639234600Z"
    }
   },
   "id": "b8e958d5bf277450",
   "execution_count": 36
  },
  {
   "cell_type": "code",
   "outputs": [],
   "source": [
    "register_model_step = create_registration_step(\n",
    "    xgb_model,\n",
    "    PENDING_MODEL_PACKAGE_GROUP,\n",
    "    approval_status=\"PendingManualApproval\",\n",
    "    model_metrics=model_metrics,\n",
    ")\n",
    "\n",
    "condition_step = ConditionStep(\n",
    "    name=\"check-model-accuracy\",\n",
    "    conditions=[condition],\n",
    "    if_steps=[register_model_step],\n",
    "    else_steps=[fail_step],\n",
    ")"
   ],
   "metadata": {
    "collapsed": false,
    "ExecuteTime": {
     "end_time": "2024-04-25T18:32:19.653269300Z",
     "start_time": "2024-04-25T18:32:19.584556800Z"
    }
   },
   "id": "b57cac7776df4d3f",
   "execution_count": 37
  },
  {
   "cell_type": "code",
   "outputs": [
    {
     "data": {
      "text/plain": "{'PipelineArn': 'arn:aws:sagemaker:eu-north-1:284415450706:pipeline/session7-pipeline',\n 'ResponseMetadata': {'RequestId': '89600be4-c71f-43ac-be5f-4b2cf74eb073',\n  'HTTPStatusCode': 200,\n  'HTTPHeaders': {'x-amzn-requestid': '89600be4-c71f-43ac-be5f-4b2cf74eb073',\n   'content-type': 'application/x-amz-json-1.1',\n   'content-length': '86',\n   'date': 'Thu, 25 Apr 2024 18:32:21 GMT'},\n  'RetryAttempts': 0}}"
     },
     "execution_count": 38,
     "metadata": {},
     "output_type": "execute_result"
    }
   ],
   "source": [
    "session7_pipeline = Pipeline(\n",
    "    name=\"session7-pipeline\",\n",
    "    parameters=[dataset_location, f1_threshold],\n",
    "    steps=[\n",
    "        split_and_transform_data_step,\n",
    "        tune_model_step if USE_TUNING_STEP else train_model_step,\n",
    "        evaluate_model_step,\n",
    "        condition_step,\n",
    "    ],\n",
    "    pipeline_definition_config=pipeline_definition_config,\n",
    "    sagemaker_session=config[\"session\"],\n",
    ")\n",
    "\n",
    "session7_pipeline.upsert(role_arn=role)\n",
    "# session7_pipeline.start()"
   ],
   "metadata": {
    "collapsed": false,
    "ExecuteTime": {
     "end_time": "2024-04-25T18:32:21.396507100Z",
     "start_time": "2024-04-25T18:32:19.654268600Z"
    }
   },
   "id": "8cdb08e68094516c",
   "execution_count": 38
  },
  {
   "cell_type": "code",
   "outputs": [],
   "source": [
    "transformation_pipeline_model = Join(\n",
    "    on=\"/\",\n",
    "    values=[\n",
    "        split_and_transform_data_step.properties.ProcessingOutputConfig.Outputs[\n",
    "            \"model\"\n",
    "        ].S3Output.S3Uri,\n",
    "        \"model.tar.gz\",\n",
    "    ],\n",
    ")"
   ],
   "metadata": {
    "collapsed": false,
    "ExecuteTime": {
     "end_time": "2024-04-25T18:32:21.486605700Z",
     "start_time": "2024-04-25T18:32:21.396507100Z"
    }
   },
   "id": "d9e89a7f7ee2c908",
   "execution_count": 39
  },
  {
   "cell_type": "code",
   "outputs": [],
   "source": [
    "from sagemaker.xgboost import XGBoostModel\n",
    "from sagemaker.sklearn.model import SKLearnModel\n",
    "\n",
    "preprocessing_model = SKLearnModel(\n",
    "    model_data=transformation_pipeline_model,\n",
    "    entry_point=\"preprocessing_component.py\",\n",
    "    source_dir=str(INFERENCE_CODE_FOLDER),\n",
    "    framework_version=\"1.2-1\",\n",
    "    sagemaker_session=config[\"session\"],\n",
    "    role=role,\n",
    ")\n",
    "xgb_model = XGBoostModel(\n",
    "    model_data=model_assets,\n",
    "    framework_version=config[\"framework_version\"],\n",
    "    sagemaker_session=config[\"session\"],\n",
    "    role=role,\n",
    ")\n",
    "\n",
    "post_processing_model = SKLearnModel(\n",
    "    model_data=transformation_pipeline_model,\n",
    "    entry_point=\"postprocessing_component.py\",\n",
    "    source_dir=str(INFERENCE_CODE_FOLDER),\n",
    "    framework_version='1.2-1',\n",
    "    sagemaker_session=config[\"session\"],\n",
    "    role=role,\n",
    ")\n",
    "\n",
    "from sagemaker.pipeline import PipelineModel\n",
    "\n",
    "pipeline_model = PipelineModel(\n",
    "    name=\"inference-model\",\n",
    "    models=[preprocessing_model, xgb_model, post_processing_model],\n",
    "    sagemaker_session=config[\"session\"],\n",
    "    role=role,\n",
    ")"
   ],
   "metadata": {
    "collapsed": false,
    "ExecuteTime": {
     "end_time": "2024-04-25T18:32:21.546196200Z",
     "start_time": "2024-04-25T18:32:21.483604900Z"
    }
   },
   "id": "9fe35dc98ac0443c",
   "execution_count": 40
  },
  {
   "cell_type": "code",
   "outputs": [],
   "source": [
    "PIPELINE_MODEL_PACKAGE_GROUP = \"pipeline-football\""
   ],
   "metadata": {
    "collapsed": false,
    "ExecuteTime": {
     "end_time": "2024-04-25T18:32:21.613138400Z",
     "start_time": "2024-04-25T18:32:21.546196200Z"
    }
   },
   "id": "80c82d8b2052e5a5",
   "execution_count": 41
  },
  {
   "cell_type": "code",
   "outputs": [],
   "source": [
    "register_model_step = create_registration_step(\n",
    "    pipeline_model,\n",
    "    PIPELINE_MODEL_PACKAGE_GROUP,\n",
    "    content_types=[\"text/csv\", ],\n",
    "    response_types=[\"text/csv\", ],\n",
    "    model_metrics=model_metrics,\n",
    ")\n",
    "\n",
    "deploy_step = create_deployment_step(register_model_step)\n",
    "\n",
    "condition_step = ConditionStep(\n",
    "    name=\"check-model-f1-score\",\n",
    "    conditions=[condition],\n",
    "    if_steps=[register_model_step, deploy_step],\n",
    "    else_steps=[fail_step],\n",
    ")"
   ],
   "metadata": {
    "collapsed": false,
    "ExecuteTime": {
     "end_time": "2024-04-25T18:32:22.586596Z",
     "start_time": "2024-04-25T18:32:21.614138500Z"
    }
   },
   "id": "14c377bf700f4eb9",
   "execution_count": 42
  },
  {
   "cell_type": "code",
   "outputs": [
    {
     "data": {
      "text/plain": "{'PipelineArn': 'arn:aws:sagemaker:eu-north-1:284415450706:pipeline/session-pipeline',\n 'ResponseMetadata': {'RequestId': 'e47d7b33-5eba-4532-9df7-ceb1aa3b7ba6',\n  'HTTPStatusCode': 200,\n  'HTTPHeaders': {'x-amzn-requestid': 'e47d7b33-5eba-4532-9df7-ceb1aa3b7ba6',\n   'content-type': 'application/x-amz-json-1.1',\n   'content-length': '85',\n   'date': 'Thu, 25 Apr 2024 18:32:26 GMT'},\n  'RetryAttempts': 0}}"
     },
     "execution_count": 43,
     "metadata": {},
     "output_type": "execute_result"
    }
   ],
   "source": [
    "session_pipeline = Pipeline(\n",
    "    name=\"session-pipeline\",\n",
    "    parameters=[dataset_location, f1_threshold],\n",
    "    steps=[\n",
    "        split_and_transform_data_step,\n",
    "        tune_model_step if USE_TUNING_STEP else train_model_step,\n",
    "        evaluate_model_step,\n",
    "        condition_step,\n",
    "    ],\n",
    "    pipeline_definition_config=pipeline_definition_config,\n",
    "    sagemaker_session=config[\"session\"],\n",
    ")\n",
    "\n",
    "session_pipeline.upsert(role_arn=role)\n",
    "# session_pipeline.start()"
   ],
   "metadata": {
    "collapsed": false,
    "ExecuteTime": {
     "end_time": "2024-04-25T18:32:26.307390500Z",
     "start_time": "2024-04-25T18:32:22.586596Z"
    }
   },
   "id": "bdd64955a008254b",
   "execution_count": 43
  },
  {
   "cell_type": "code",
   "outputs": [],
   "source": [
    "GROUND_TRUTH_LOCATION = f\"{S3_LOCATION}/monitoring/groundtruth\"\n",
    "DATA_QUALITY_LOCATION = f\"{S3_LOCATION}/monitoring/data-quality\"\n",
    "MODEL_QUALITY_LOCATION = f\"{S3_LOCATION}/monitoring/model-quality\""
   ],
   "metadata": {
    "collapsed": false,
    "ExecuteTime": {
     "end_time": "2024-04-24T18:53:49.885702500Z",
     "start_time": "2024-04-24T18:53:49.818702700Z"
    }
   },
   "id": "3eac86467b76e3e",
   "execution_count": 45
  },
  {
   "cell_type": "code",
   "outputs": [
    {
     "ename": "KeyError",
     "evalue": "'role'",
     "output_type": "error",
     "traceback": [
      "\u001B[1;31m---------------------------------------------------------------------------\u001B[0m",
      "\u001B[1;31mKeyError\u001B[0m                                  Traceback (most recent call last)",
      "Cell \u001B[1;32mIn[46], line 12\u001B[0m\n\u001B[0;32m      2\u001B[0m \u001B[38;5;28;01mfrom\u001B[39;00m \u001B[38;5;21;01msagemaker\u001B[39;00m\u001B[38;5;21;01m.\u001B[39;00m\u001B[38;5;21;01mworkflow\u001B[39;00m\u001B[38;5;21;01m.\u001B[39;00m\u001B[38;5;21;01mquality_check_step\u001B[39;00m \u001B[38;5;28;01mimport\u001B[39;00m DataQualityCheckConfig, QualityCheckStep\n\u001B[0;32m      3\u001B[0m \u001B[38;5;28;01mfrom\u001B[39;00m \u001B[38;5;21;01msagemaker\u001B[39;00m\u001B[38;5;21;01m.\u001B[39;00m\u001B[38;5;21;01mmodel_monitor\u001B[39;00m\u001B[38;5;21;01m.\u001B[39;00m\u001B[38;5;21;01mdataset_format\u001B[39;00m \u001B[38;5;28;01mimport\u001B[39;00m DatasetFormat\n\u001B[0;32m      5\u001B[0m data_quality_baseline_step \u001B[38;5;241m=\u001B[39m QualityCheckStep(\n\u001B[0;32m      6\u001B[0m     name\u001B[38;5;241m=\u001B[39m\u001B[38;5;124m\"\u001B[39m\u001B[38;5;124mgenerate-data-quality-baseline\u001B[39m\u001B[38;5;124m\"\u001B[39m,\n\u001B[0;32m      7\u001B[0m     check_job_config\u001B[38;5;241m=\u001B[39mCheckJobConfig(\n\u001B[0;32m      8\u001B[0m         instance_type\u001B[38;5;241m=\u001B[39m\u001B[38;5;124m\"\u001B[39m\u001B[38;5;124mml.c5.xlarge\u001B[39m\u001B[38;5;124m\"\u001B[39m,\n\u001B[0;32m      9\u001B[0m         instance_count\u001B[38;5;241m=\u001B[39m\u001B[38;5;241m1\u001B[39m,\n\u001B[0;32m     10\u001B[0m         volume_size_in_gb\u001B[38;5;241m=\u001B[39m\u001B[38;5;241m20\u001B[39m,\n\u001B[0;32m     11\u001B[0m         sagemaker_session\u001B[38;5;241m=\u001B[39mconfig[\u001B[38;5;124m'\u001B[39m\u001B[38;5;124msession\u001B[39m\u001B[38;5;124m'\u001B[39m],\n\u001B[1;32m---> 12\u001B[0m         role\u001B[38;5;241m=\u001B[39m\u001B[43mconfig\u001B[49m\u001B[43m[\u001B[49m\u001B[38;5;124;43m'\u001B[39;49m\u001B[38;5;124;43mrole\u001B[39;49m\u001B[38;5;124;43m'\u001B[39;49m\u001B[43m]\u001B[49m,\n\u001B[0;32m     13\u001B[0m     ),\n\u001B[0;32m     14\u001B[0m \n\u001B[0;32m     15\u001B[0m     quality_check_config\u001B[38;5;241m=\u001B[39mDataQualityCheckConfig(\n\u001B[0;32m     16\u001B[0m         baseline_dataset\u001B[38;5;241m=\u001B[39msplit_and_transform_data_step\u001B[38;5;241m.\u001B[39mproperties\u001B[38;5;241m.\u001B[39mProcessingOutputConfig\u001B[38;5;241m.\u001B[39mOutputs[\u001B[38;5;124m\"\u001B[39m\u001B[38;5;124mtrain-baseline\u001B[39m\u001B[38;5;124m\"\u001B[39m]\u001B[38;5;241m.\u001B[39mS3Output\u001B[38;5;241m.\u001B[39mS3Uri,\n\u001B[0;32m     17\u001B[0m         dataset_format\u001B[38;5;241m=\u001B[39mDatasetFormat\u001B[38;5;241m.\u001B[39mcsv(header\u001B[38;5;241m=\u001B[39m\u001B[38;5;28;01mTrue\u001B[39;00m, output_columns_position\u001B[38;5;241m=\u001B[39m\u001B[38;5;124m\"\u001B[39m\u001B[38;5;124mEND\u001B[39m\u001B[38;5;124m\"\u001B[39m),\n\u001B[0;32m     18\u001B[0m         output_s3_uri\u001B[38;5;241m=\u001B[39mDATA_QUALITY_LOCATION\n\u001B[0;32m     19\u001B[0m     ),\n\u001B[0;32m     20\u001B[0m     skip_check\u001B[38;5;241m=\u001B[39m\u001B[38;5;28;01mTrue\u001B[39;00m,\n\u001B[0;32m     21\u001B[0m     register_new_baseline\u001B[38;5;241m=\u001B[39m\u001B[38;5;28;01mTrue\u001B[39;00m,\n\u001B[0;32m     22\u001B[0m     cache_config\u001B[38;5;241m=\u001B[39mcache_config\n\u001B[0;32m     23\u001B[0m )\n",
      "\u001B[1;31mKeyError\u001B[0m: 'role'"
     ]
    }
   ],
   "source": [
    "from sagemaker.workflow.check_job_config import CheckJobConfig\n",
    "from sagemaker.workflow.quality_check_step import DataQualityCheckConfig, QualityCheckStep\n",
    "from sagemaker.model_monitor.dataset_format import DatasetFormat\n",
    "\n",
    "data_quality_baseline_step = QualityCheckStep(\n",
    "    name=\"generate-data-quality-baseline\",\n",
    "    check_job_config=CheckJobConfig(\n",
    "        instance_type=\"ml.c5.xlarge\",\n",
    "        instance_count=1,\n",
    "        volume_size_in_gb=20,\n",
    "        sagemaker_session=config['session'],\n",
    "        role=config['role'],\n",
    "    ),\n",
    "\n",
    "    quality_check_config=DataQualityCheckConfig(\n",
    "        baseline_dataset=split_and_transform_data_step.properties.ProcessingOutputConfig.Outputs[\"train-baseline\"].S3Output.S3Uri,\n",
    "        dataset_format=DatasetFormat.csv(header=True, output_columns_position=\"END\"),\n",
    "        output_s3_uri=DATA_QUALITY_LOCATION\n",
    "    ),\n",
    "    skip_check=True,\n",
    "    register_new_baseline=True,\n",
    "    cache_config=cache_config\n",
    ")"
   ],
   "metadata": {
    "collapsed": false,
    "ExecuteTime": {
     "end_time": "2024-04-24T18:53:50.326315900Z",
     "start_time": "2024-04-24T18:53:49.886703300Z"
    }
   },
   "id": "9dad1c7708926dcd",
   "execution_count": 46
  },
  {
   "cell_type": "code",
   "outputs": [],
   "source": [
    "from sagemaker.workflow.functions import Join\n",
    "\n",
    "transformation_pipeline_model = Join(\n",
    "    on=\"/\",\n",
    "    values=[\n",
    "        split_and_transform_data_step.properties.ProcessingOutputConfig.Outputs[\n",
    "            \"model\"\n",
    "        ].S3Output.S3Uri,\n",
    "        \"model.tar.gz\",\n",
    "    ],\n",
    ")"
   ],
   "metadata": {
    "collapsed": false,
    "ExecuteTime": {
     "start_time": "2024-04-24T18:53:50.326315900Z"
    }
   },
   "id": "eeeea4494684fe0b",
   "execution_count": null
  },
  {
   "cell_type": "code",
   "outputs": [],
   "source": [
    "from sagemaker.xgboost import XGBoostModel\n",
    "from sagemaker.sklearn.model import SKLearnModel\n",
    "\n",
    "preprocessing_model = SKLearnModel(\n",
    "    model_data=transformation_pipeline_model,\n",
    "    entry_point=\"preprocessing_component.py\",\n",
    "    source_dir=str(INFERENCE_CODE_FOLDER),\n",
    "    framework_version=\"1.2-1\",\n",
    "    sagemaker_session=config[\"session\"],\n",
    "    role=config['role'],\n",
    ")\n",
    "xgb_model = XGBoostModel(\n",
    "    model_data=tune_model_step.get_top_model_s3_uri(\n",
    "        top_k=0, s3_bucket=config[\"session\"].default_bucket()\n",
    "    ) if USE_TUNING_STEP else train_model_step.properties.ModelArtifacts.S3ModelArtifacts,\n",
    "    framework_version=config[\"framework_version\"],\n",
    "    sagemaker_session=config[\"session\"],\n",
    "    role=config[\"role\"],\n",
    ")\n",
    "\n",
    "post_processing_model = SKLearnModel(\n",
    "    model_data=transformation_pipeline_model,\n",
    "    entry_point=\"postprocessing_component.py\",\n",
    "    source_dir=str(INFERENCE_CODE_FOLDER),\n",
    "    framework_version=\"1.2-1\",\n",
    "    sagemaker_session=config[\"session\"],\n",
    "    role=config['role'],\n",
    ")\n",
    "\n",
    "from sagemaker.pipeline import PipelineModel\n",
    "\n",
    "pipeline_model = PipelineModel(\n",
    "    name=\"inference-model\",\n",
    "    models=[preprocessing_model, xgb_model, post_processing_model],\n",
    "    sagemaker_session=config[\"session\"],\n",
    "    role=config['role'],\n",
    ")"
   ],
   "metadata": {
    "collapsed": false,
    "ExecuteTime": {
     "start_time": "2024-04-24T18:53:50.326315900Z"
    }
   },
   "id": "e9d6f56e8ed5ed37",
   "execution_count": null
  },
  {
   "cell_type": "code",
   "outputs": [],
   "source": [
    "from sagemaker.workflow.steps import TransformStep\n",
    "from sagemaker.workflow.model_step import ModelStep\n",
    "from sagemaker.transformer import Transformer\n",
    "\n",
    "create_model_step = ModelStep(\n",
    "    name=\"create-model-step\",\n",
    "    display_name=\"create-model\",\n",
    "    step_args=pipeline_model.create(\n",
    "        instance_type=\"ml.m5.xlarge\"\n",
    "    ),\n",
    ")\n",
    "\n",
    "transformer = Transformer(\n",
    "    model_name=create_model_step.properties.ModelName,\n",
    "    instance_type=config[\"instance_type\"],\n",
    "    instance_count=1,\n",
    "    strategy=\"MultiRecord\",\n",
    "    accept=\"text/csv\",\n",
    "    assemble_with=\"Line\",\n",
    "    output_path=f\"{S3_LOCATION}/transform\",\n",
    "    sagemaker_session=config[\"session\"]\n",
    ")\n",
    "\n",
    "generate_test_predictions_step = TransformStep(\n",
    "    name=\"generate-test-predictions\",\n",
    "    step_args=transformer.transform(\n",
    "        # We will use the baseline set we generated when we split the data.\n",
    "        # This set corresponds to the test split before the transformation step.\n",
    "        data=split_and_transform_data_step.properties.ProcessingOutputConfig.Outputs[\"baseline\"].S3Output.S3Uri,\n",
    "\n",
    "        join_source=\"Input\",\n",
    "        split_type=\"Line\",\n",
    "        content_type=\"text/csv\",\n",
    "\n",
    "        # We want to output the first and the last field from the joint set.\n",
    "        # The first field corresponds to the groundtruth, and the last field\n",
    "        # corresponds to the prediction.\n",
    "        output_filter=\"$[0,-1]\",\n",
    "    ),\n",
    "    cache_config=cache_config\n",
    ")"
   ],
   "metadata": {
    "collapsed": false,
    "ExecuteTime": {
     "start_time": "2024-04-24T18:53:50.326315900Z"
    }
   },
   "id": "4d24821c4c814a93",
   "execution_count": null
  },
  {
   "cell_type": "code",
   "outputs": [],
   "source": [
    "from sagemaker.workflow.quality_check_step import ModelQualityCheckConfig\n",
    "\n",
    "model_quality_baseline_step = QualityCheckStep(\n",
    "    name=\"generate-model-quality-baseline\",\n",
    "\n",
    "    check_job_config=CheckJobConfig(\n",
    "        instance_type=\"ml.c5.xlarge\",\n",
    "        instance_count=1,\n",
    "        volume_size_in_gb=20,\n",
    "        sagemaker_session=pipeline_session,\n",
    "        role=execution_role,\n",
    "    ),\n",
    "\n",
    "    quality_check_config=ModelQualityCheckConfig(\n",
    "        # We are going to use the output of the Transform Step to generate\n",
    "        # the model quality baseline.\n",
    "        baseline_dataset=generate_test_predictions_step.properties.TransformOutput.S3OutputPath,\n",
    "        dataset_format=DatasetFormat.csv(header=False),\n",
    "\n",
    "        # We need to specify the problem type and the fields where the prediction\n",
    "        # and groundtruth are so the process knows how to interpret the results.\n",
    "        problem_type=\"BinaryClassification\",\n",
    "\n",
    "        # Since the data doesn't have headers, SageMaker will autocreate headers for it.\n",
    "        # _c0 corresponds to the first column, and _c1 corresponds to the second column.\n",
    "        ground_truth_attribute=\"_c0\",\n",
    "        inference_attribute=\"_c1\",\n",
    "\n",
    "        output_s3_uri=MODEL_QUALITY_LOCATION,\n",
    "    ),\n",
    "\n",
    "    skip_check=True,\n",
    "    register_new_baseline=True,\n",
    "    cache_config=cache_config\n",
    ")"
   ],
   "metadata": {
    "collapsed": false,
    "ExecuteTime": {
     "start_time": "2024-04-24T18:53:50.326315900Z"
    }
   },
   "id": "3212e573f9954582",
   "execution_count": null
  },
  {
   "cell_type": "code",
   "outputs": [],
   "source": [
    "from sagemaker.model_metrics import MetricsSource, ModelMetrics\n",
    "from sagemaker.drift_check_baselines import DriftCheckBaselines\n",
    "\n",
    "model_metrics = ModelMetrics(\n",
    "    model_data_statistics=MetricsSource(\n",
    "        s3_uri=data_quality_baseline_step.properties.CalculatedBaselineStatistics,\n",
    "        content_type=\"application/json\",\n",
    "    ),\n",
    "    model_data_constraints=MetricsSource(\n",
    "        s3_uri=data_quality_baseline_step.properties.CalculatedBaselineConstraints,\n",
    "        content_type=\"application/json\",\n",
    "    ),\n",
    "    model_statistics=MetricsSource(\n",
    "        s3_uri=model_quality_baseline_step.properties.CalculatedBaselineStatistics,\n",
    "        content_type=\"application/json\",\n",
    "    ),\n",
    "\n",
    "    model_constraints=MetricsSource(\n",
    "        s3_uri=model_quality_baseline_step.properties.CalculatedBaselineConstraints,\n",
    "        content_type=\"application/json\",\n",
    "    ),\n",
    ")\n",
    "\n",
    "drift_check_baselines = DriftCheckBaselines(\n",
    "    model_data_statistics=MetricsSource(\n",
    "        s3_uri=data_quality_baseline_step.properties.BaselineUsedForDriftCheckStatistics,\n",
    "        content_type=\"application/json\",\n",
    "    ),\n",
    "    model_data_constraints=MetricsSource(\n",
    "        s3_uri=data_quality_baseline_step.properties.BaselineUsedForDriftCheckConstraints,\n",
    "        content_type=\"application/json\",\n",
    "    ),\n",
    "    model_statistics=MetricsSource(\n",
    "        s3_uri=model_quality_baseline_step.properties.BaselineUsedForDriftCheckStatistics,\n",
    "        content_type=\"application/json\",\n",
    "    ),\n",
    "    model_constraints=MetricsSource(\n",
    "        s3_uri=model_quality_baseline_step.properties.BaselineUsedForDriftCheckConstraints,\n",
    "        content_type=\"application/json\",\n",
    "    )\n",
    ")"
   ],
   "metadata": {
    "collapsed": false,
    "ExecuteTime": {
     "start_time": "2024-04-24T18:53:50.326315900Z"
    }
   },
   "id": "b921457e0e94e720",
   "execution_count": null
  },
  {
   "cell_type": "code",
   "outputs": [],
   "source": [
    "PIPELINE_MODEL_PACKAGE_GROUP = \"pipeline\"\n",
    "\n",
    "register_model_step = ModelStep(\n",
    "    name=\"register\",\n",
    "    display_name=\"register-model\",\n",
    "    step_args=pipeline_model.register(\n",
    "        model_package_group_name=PIPELINE_MODEL_PACKAGE_GROUP,\n",
    "        model_metrics=model_metrics,\n",
    "        approval_status=\"PendingManualApproval\",\n",
    "        content_types=[\"text/csv\"],\n",
    "        response_types=[\"text/csv\"],\n",
    "        inference_instances=[config[\"instance_type\"]],\n",
    "        transform_instances=[config[\"instance_type\"]],\n",
    "        domain=\"MACHINE_LEARNING\",\n",
    "        task=\"CLASSIFICATION\",\n",
    "        framework=\"XGBOOST\",\n",
    "        framework_version=config[\"framework_version\"],\n",
    "    ),\n",
    ")"
   ],
   "metadata": {
    "collapsed": false,
    "ExecuteTime": {
     "start_time": "2024-04-24T18:53:50.326315900Z"
    }
   },
   "id": "268885994c369aea",
   "execution_count": null
  },
  {
   "cell_type": "code",
   "outputs": [],
   "source": [
    "from sagemaker.workflow.fail_step import FailStep\n",
    "from sagemaker.workflow.functions import JsonGet\n",
    "from sagemaker.workflow.functions import Join\n",
    "from sagemaker.workflow.parameters import ParameterFloat\n",
    "from sagemaker.workflow.conditions import ConditionGreaterThanOrEqualTo\n",
    "from sagemaker.workflow.condition_step import ConditionStep\n",
    "\n",
    "accuracy_threshold = ParameterFloat(name=\"f1_score_threshold\", default_value=0.64)\n",
    "\n",
    "condition_step = ConditionStep(\n",
    "    name=\"check-model-f1_score\",\n",
    "    conditions=[\n",
    "        ConditionGreaterThanOrEqualTo(\n",
    "            left=JsonGet(\n",
    "                step_name=evaluate_model_step.name,\n",
    "                property_file=evaluation_report,\n",
    "                json_path=\"metrics.f1.value\",\n",
    "            ),\n",
    "            right=accuracy_threshold,\n",
    "        )\n",
    "    ],\n",
    "    if_steps=[],\n",
    "\n",
    "    else_steps=[\n",
    "        FailStep(\n",
    "            name=\"fail\",\n",
    "            error_message=Join(\n",
    "                on=\" \",\n",
    "                values=[\n",
    "                    \"Execution failed because the model's accuracy was lower than\",\n",
    "                    accuracy_threshold,\n",
    "                ],\n",
    "            ),\n",
    "        )\n",
    "    ],\n",
    ")\n",
    "\n",
    "if not LOCAL_MODE:\n",
    "    # SageMaker doesn't support running any of these steps in Local Mode.\n",
    "    condition_step.if_steps.extend(\n",
    "        [\n",
    "            create_model_step,\n",
    "            generate_test_predictions_step,\n",
    "            model_quality_baseline_step,\n",
    "            register_model_step,\n",
    "        ]\n",
    "    )"
   ],
   "metadata": {
    "collapsed": false,
    "ExecuteTime": {
     "end_time": "2024-04-24T18:53:50.354316Z",
     "start_time": "2024-04-24T18:53:50.327316100Z"
    }
   },
   "id": "54c46d11f5898d52",
   "execution_count": null
  },
  {
   "cell_type": "code",
   "outputs": [],
   "source": [
    "from sagemaker.workflow.pipeline import Pipeline\n",
    "from sagemaker.workflow.pipeline_definition_config import PipelineDefinitionConfig\n",
    "\n",
    "pipeline = Pipeline(\n",
    "    name=\"session4-pipeline\",\n",
    "    parameters=[\n",
    "        dataset_location,\n",
    "        accuracy_threshold,\n",
    "    ],\n",
    "    steps=[\n",
    "        split_and_transform_data_step,\n",
    "        tune_model_step if USE_TUNING_STEP else train_model_step,\n",
    "        evaluate_model_step,\n",
    "        condition_step\n",
    "    ],\n",
    "    pipeline_definition_config=PipelineDefinitionConfig(use_custom_job_prefix=True),\n",
    "    sagemaker_session=config[\"session\"],\n",
    ")\n",
    "\n",
    "if not LOCAL_MODE:\n",
    "    # SageMaker doesn't support running any of these steps in Local Mode.\n",
    "    pipeline.steps.extend([data_quality_baseline_step])\n",
    "\n",
    "pipeline.upsert(role_arn=config[\"role\"])"
   ],
   "metadata": {
    "collapsed": false,
    "ExecuteTime": {
     "start_time": "2024-04-24T18:53:50.327316100Z"
    }
   },
   "id": "4fae2bbc734c6a7c",
   "execution_count": null
  },
  {
   "cell_type": "code",
   "outputs": [],
   "source": [
    "pipeline.start()"
   ],
   "metadata": {
    "collapsed": false,
    "ExecuteTime": {
     "start_time": "2024-04-24T18:53:50.327316100Z"
    }
   },
   "id": "1be3fab43b4a2738",
   "execution_count": null
  },
  {
   "cell_type": "code",
   "outputs": [
    {
     "name": "stdout",
     "output_type": "stream",
     "text": [
      "[\n",
      "  {\n",
      "    \"prediction\": \"home_win\",\n",
      "    \"confidence\": 0.5134705901145935\n",
      "  },\n",
      "  {\n",
      "    \"prediction\": \"home_win\",\n",
      "    \"confidence\": 0.5134705901145935\n",
      "  }\n",
      "]\n"
     ]
    }
   ],
   "source": [
    "from sagemaker.base_serializers import CSVSerializer\n",
    "from sagemaker.deserializers import JSONDeserializer\n",
    "from sagemaker.serializers import JSONSerializer\n",
    "from sagemaker import Predictor\n",
    "import pandas as pd\n",
    "\n",
    "sample = [\n",
    "    {\n",
    "        \"player_rating_home_player_1\": 89,\n",
    "        \"player_rating_home_player_2\": 79,\n",
    "        \"player_rating_home_player_3\": 59,\n",
    "        \"player_rating_home_player_4\": 69,\n",
    "        \"player_rating_home_player_5\": 69,\n",
    "        \"player_rating_home_player_6\": 79,\n",
    "        \"player_rating_home_player_7\": 69,\n",
    "        \"player_rating_home_player_8\": 79,\n",
    "        \"player_rating_home_player_9\": 69,\n",
    "        \"player_rating_home_player_10\": 89,\n",
    "        \"player_rating_home_player_11\": 89,\n",
    "        \"player_rating_away_player_1\": 79,\n",
    "        \"player_rating_away_player_2\": 79,\n",
    "        \"player_rating_away_player_3\": 79,\n",
    "        \"player_rating_away_player_4\": 79,\n",
    "        \"player_rating_away_player_5\": 79,\n",
    "        \"player_rating_away_player_6\": 79,\n",
    "        \"player_rating_away_player_7\": 80,\n",
    "        \"player_rating_away_player_8\": 80,\n",
    "        \"player_rating_away_player_9\": 71,\n",
    "        \"player_rating_away_player_10\": 83,\n",
    "        \"player_rating_away_player_11\": 80,\n",
    "        \"ewm_home_team_goals\": 5.54,\n",
    "        \"ewm_away_team_goals\": 0.61,\n",
    "        \"ewm_home_team_goals_conceded\": 0.26,\n",
    "        \"ewm_away_team_goals_conceded\": 4.76,\n",
    "        \"points_home\": 30,\n",
    "        \"points_away\": 15,\n",
    "        \"home_weighted_wins\": 5.377149515625,\n",
    "        \"away_weighted_wins\": 2.5561203576634663,\n",
    "        \"avg_home_team_rating\": 84.18,\n",
    "        \"avg_away_team_rating\": 70.91,\n",
    "        \"home_streak_wins\": 11.75,\n",
    "        \"away_streak_wins\": 5.58,\n",
    "        \"ewm_shoton_home\": 3.55,\n",
    "        \"ewm_shoton_away\": 1.805,\n",
    "        \"ewm_possession_home\": 53.639,\n",
    "        \"ewm_possession_away\": 20.03,\n",
    "        \"avg_home_rating_attack\": 71.33,\n",
    "        \"avg_away_rating_attack\": 78.83,\n",
    "        \"avg_away_rating_defence\": 79.0,\n",
    "        \"avg_home_rating_defence\": 71.0,\n",
    "        \"average_rating_home\": 89.18181818181819,\n",
    "        \"average_rating_away\": 78.9090909090909,\n",
    "        \"num_top_players_home\": 0,\n",
    "        \"num_top_players_away\": 0,\n",
    "        \"ewm_home_team_goals_conceded_x_ewm_shoton_home\": 4.473,\n",
    "        \"attacking_strength_home\": 80.233606557377048,\n",
    "        \"attacking_strength_away\": 31.40637450199203,\n",
    "        \"attacking_strength_diff\": -2.172767944614982\n",
    "    },\n",
    "    {\n",
    "        \"player_rating_home_player_1\": 89,\n",
    "        \"player_rating_home_player_2\": 79,\n",
    "        \"player_rating_home_player_3\": 59,\n",
    "        \"player_rating_home_player_4\": 69,\n",
    "        \"player_rating_home_player_5\": 69,\n",
    "        \"player_rating_home_player_6\": 79,\n",
    "        \"player_rating_home_player_7\": 69,\n",
    "        \"player_rating_home_player_8\": 79,\n",
    "        \"player_rating_home_player_9\": 69,\n",
    "        \"player_rating_home_player_10\": 89,\n",
    "        \"player_rating_home_player_11\": 89,\n",
    "        \"player_rating_away_player_1\": 79,\n",
    "        \"player_rating_away_player_2\": 79,\n",
    "        \"player_rating_away_player_3\": 79,\n",
    "        \"player_rating_away_player_4\": 79,\n",
    "        \"player_rating_away_player_5\": 79,\n",
    "        \"player_rating_away_player_6\": 79,\n",
    "        \"player_rating_away_player_7\": 80,\n",
    "        \"player_rating_away_player_8\": 80,\n",
    "        \"player_rating_away_player_9\": 71,\n",
    "        \"player_rating_away_player_10\": 83,\n",
    "        \"player_rating_away_player_11\": 80,\n",
    "        \"ewm_home_team_goals\": 5.54,\n",
    "        \"ewm_away_team_goals\": 0.61,\n",
    "        \"ewm_home_team_goals_conceded\": 0.26,\n",
    "        \"ewm_away_team_goals_conceded\": 4.76,\n",
    "        \"points_home\": 30,\n",
    "        \"points_away\": 15,\n",
    "        \"home_weighted_wins\": 5.377149515625,\n",
    "        \"away_weighted_wins\": 2.5561203576634663,\n",
    "        \"avg_home_team_rating\": 84.18,\n",
    "        \"avg_away_team_rating\": 70.91,\n",
    "        \"home_streak_wins\": 11.75,\n",
    "        \"away_streak_wins\": 5.58,\n",
    "        \"ewm_shoton_home\": 3.55,\n",
    "        \"ewm_shoton_away\": 1.805,\n",
    "        \"ewm_possession_home\": 53.639,\n",
    "        \"ewm_possession_away\": 20.03,\n",
    "        \"avg_home_rating_attack\": 71.33,\n",
    "        \"avg_away_rating_attack\": 78.83,\n",
    "        \"avg_away_rating_defence\": 79.0,\n",
    "        \"avg_home_rating_defence\": 71.0,\n",
    "        \"average_rating_home\": 89.18181818181819,\n",
    "        \"average_rating_away\": 78.9090909090909,\n",
    "        \"num_top_players_home\": 0,\n",
    "        \"num_top_players_away\": 0,\n",
    "        \"ewm_home_team_goals_conceded_x_ewm_shoton_home\": 4.473,\n",
    "        \"attacking_strength_home\": 80.233606557377048,\n",
    "        \"attacking_strength_away\": 31.40637450199203,\n",
    "        \"attacking_strength_diff\": -2.172767944614982\n",
    "    }\n",
    "]\n",
    "\n",
    "sample_df = pd.DataFrame(sample)\n",
    "\n",
    "csv_data = sample_df.to_csv(index=False, header=False)\n",
    "\n",
    "predictor = Predictor(\n",
    "    endpoint_name=ENDPOINT,\n",
    "    serializer=CSVSerializer(),  # Ensure the serializer is set for CSV\n",
    "    deserializer=JSONDeserializer(),\n",
    "    sagemaker_session=sagemaker_session,\n",
    ")\n",
    "\n",
    "try:\n",
    "    response = predictor.predict(csv_data)\n",
    "    print(json.dumps(response, indent=2))\n",
    "except Exception as e:\n",
    "    print(\"Error:\", e)\n"
   ],
   "metadata": {
    "collapsed": false,
    "ExecuteTime": {
     "end_time": "2024-04-25T18:37:33.816772300Z",
     "start_time": "2024-04-25T18:37:33.670789500Z"
    }
   },
   "id": "19d14e6e6687375a",
   "execution_count": 46
  }
 ],
 "metadata": {
  "kernelspec": {
   "display_name": "Python 3",
   "language": "python",
   "name": "python3"
  },
  "language_info": {
   "codemirror_mode": {
    "name": "ipython",
    "version": 2
   },
   "file_extension": ".py",
   "mimetype": "text/x-python",
   "name": "python",
   "nbconvert_exporter": "python",
   "pygments_lexer": "ipython2",
   "version": "2.7.6"
  }
 },
 "nbformat": 4,
 "nbformat_minor": 5
}
