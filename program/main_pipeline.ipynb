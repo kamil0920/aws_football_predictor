{
 "cells": [
  {
   "cell_type": "code",
   "source": [
    "import json\n",
    "import logging\n",
    "import sys\n",
    "import warnings\n",
    "from pathlib import Path\n",
    "import boto3\n",
    "import os\n",
    "import ipytest\n",
    "\n",
    "from sagemaker.session import Session\n",
    "from sagemaker.workflow.pipeline import Pipeline\n",
    "from sagemaker.workflow.pipeline_context import PipelineSession, LocalPipelineSession\n",
    "\n",
    "# %load_ext autoreload\n",
    "# %autoreload 2\n",
    "%load_ext dotenv\n",
    "%dotenv\n",
    "\n",
    "ipytest.autoconfig(raise_on_error=True)\n",
    "logging.getLogger('sagemaker').setLevel(logging.ERROR)\n",
    "warnings.filterwarnings('ignore')"
   ],
   "metadata": {
    "collapsed": false,
    "ExecuteTime": {
     "end_time": "2024-07-29T20:10:43.930657Z",
     "start_time": "2024-07-29T20:10:42.039582Z"
    }
   },
   "id": "6beb300bf7e34dc7",
   "outputs": [
    {
     "name": "stdout",
     "output_type": "stream",
     "text": [
      "sagemaker.config INFO - Not applying SDK defaults from location: C:\\ProgramData\\sagemaker\\sagemaker\\config.yaml\n",
      "sagemaker.config INFO - Not applying SDK defaults from location: C:\\Users\\kamil\\AppData\\Local\\sagemaker\\sagemaker\\config.yaml\n"
     ]
    }
   ],
   "execution_count": 1
  },
  {
   "cell_type": "code",
   "source": [
    "CODE_FOLDER = Path(\"code\")\n",
    "CODE_FOLDER.mkdir(parents=True, exist_ok=True)\n",
    "INFERENCE_CODE_FOLDER = CODE_FOLDER / \"inference\"\n",
    "INFERENCE_CODE_FOLDER.mkdir(parents=True, exist_ok=True)\n",
    "\n",
    "sys.path.extend([f\"./{CODE_FOLDER}\", f\"./{INFERENCE_CODE_FOLDER}\"])"
   ],
   "metadata": {
    "collapsed": false,
    "ExecuteTime": {
     "end_time": "2024-07-29T20:10:43.945657Z",
     "start_time": "2024-07-29T20:10:43.931661Z"
    }
   },
   "id": "3df2d90efe6199da",
   "outputs": [],
   "execution_count": 2
  },
  {
   "cell_type": "code",
   "source": [
    "sagemaker_session = Session()\n",
    "sagemaker_client = boto3.client(\"sagemaker\")\n",
    "iam_client = boto3.client(\"iam\")"
   ],
   "metadata": {
    "collapsed": false,
    "ExecuteTime": {
     "end_time": "2024-07-29T20:10:44.400508Z",
     "start_time": "2024-07-29T20:10:43.946660Z"
    }
   },
   "id": "9ecad0246ed456da",
   "outputs": [
    {
     "name": "stdout",
     "output_type": "stream",
     "text": [
      "sagemaker.config INFO - Not applying SDK defaults from location: C:\\ProgramData\\sagemaker\\sagemaker\\config.yaml\n",
      "sagemaker.config INFO - Not applying SDK defaults from location: C:\\Users\\kamil\\AppData\\Local\\sagemaker\\sagemaker\\config.yaml\n"
     ]
    }
   ],
   "execution_count": 3
  },
  {
   "cell_type": "code",
   "source": [
    "BUCKET = os.environ[\"BUCKET\"]\n",
    "region = boto3.Session().region_name\n",
    "\n",
    "DUMMY_ROLE = \"arn:aws:iam::111111111111:role/service-role/AmazonSageMaker-ExecutionRole-11111111111111\"\n",
    "S3_LOCATION = f\"s3://{BUCKET}/football\"\n",
    "role = os.environ[\"ROLE\"]\n",
    "LOCAL_MODE = False\n",
    "\n",
    "architecture = !(uname -m)\n",
    "IS_ARM64_ARCHITECTURE = architecture[0] == \"arm64\"\n",
    "\n",
    "if LOCAL_MODE:\n",
    "    config = {\n",
    "        \"session\": LocalPipelineSession(default_bucket=BUCKET),\n",
    "        \"instance_type\": \"local\",\n",
    "        \"image\": \"sagemaker-xgboost-training-toolkit-local\" if IS_ARM64_ARCHITECTURE else None\n",
    "    }\n",
    "else:\n",
    "    config = {\n",
    "        \"session\": PipelineSession(default_bucket=BUCKET) if not LOCAL_MODE else None,\n",
    "        \"instance_type\": \"ml.m5.xlarge\",\n",
    "        \"image\": None,\n",
    "    }\n",
    "\n",
    "config[\"framework_version\"] = \"1.7-1\"\n",
    "config[\"py_version\"] = \"py310\""
   ],
   "metadata": {
    "collapsed": false,
    "ExecuteTime": {
     "end_time": "2024-07-29T20:10:44.528137Z",
     "start_time": "2024-07-29T20:10:44.402510Z"
    }
   },
   "id": "ee6bc054dfdcbab",
   "outputs": [
    {
     "name": "stdout",
     "output_type": "stream",
     "text": [
      "sagemaker.config INFO - Not applying SDK defaults from location: C:\\ProgramData\\sagemaker\\sagemaker\\config.yaml\n",
      "sagemaker.config INFO - Not applying SDK defaults from location: C:\\Users\\kamil\\AppData\\Local\\sagemaker\\sagemaker\\config.yaml\n"
     ]
    }
   ],
   "execution_count": 4
  },
  {
   "cell_type": "code",
   "source": [
    "from sagemaker.s3 import S3Uploader\n",
    "\n",
    "df_local_path = str(os.environ['DATA_FILEPATH_X'])\n",
    "y_local_path = str(os.environ['DATA_FILEPATH_Y'])\n",
    "\n",
    "S3Uploader.upload(local_path=df_local_path, desired_s3_uri=f\"{S3_LOCATION}/data\", sagemaker_session=config['session'])\n",
    "S3Uploader.upload(local_path=y_local_path, desired_s3_uri=f\"{S3_LOCATION}/data\", sagemaker_session=config['session'])"
   ],
   "metadata": {
    "collapsed": false,
    "ExecuteTime": {
     "end_time": "2024-07-29T20:10:46.119962Z",
     "start_time": "2024-07-29T20:10:44.529136Z"
    }
   },
   "id": "54a0a7017c5afb2f",
   "outputs": [
    {
     "data": {
      "text/plain": [
       "'s3://football-data-kamil/football/data/y.csv'"
      ]
     },
     "execution_count": 5,
     "metadata": {},
     "output_type": "execute_result"
    }
   ],
   "execution_count": 5
  },
  {
   "cell_type": "code",
   "source": [
    "from sagemaker.workflow.steps import CacheConfig\n",
    "\n",
    "cache_config = CacheConfig(enable_caching=True, expire_after=\"15d\")"
   ],
   "metadata": {
    "collapsed": false,
    "ExecuteTime": {
     "end_time": "2024-07-29T20:10:46.135922Z",
     "start_time": "2024-07-29T20:10:46.121475Z"
    }
   },
   "id": "36f2b2ff5af7f7bf",
   "outputs": [],
   "execution_count": 6
  },
  {
   "cell_type": "code",
   "source": [
    "from sagemaker.workflow.pipeline_definition_config import PipelineDefinitionConfig\n",
    "from sagemaker.sklearn import SKLearnProcessor\n",
    "from sagemaker.workflow.steps import ProcessingStep\n",
    "from sagemaker.processing import ProcessingInput, ProcessingOutput\n",
    "from sagemaker.workflow.parameters import ParameterString\n",
    "\n",
    "pipeline_definition_config = PipelineDefinitionConfig(use_custom_job_prefix=True)\n",
    "\n",
    "dataset_location = ParameterString(\n",
    "    name=\"dataset_location\",\n",
    "    default_value=f\"{S3_LOCATION}/data\",\n",
    ")\n",
    "\n",
    "processor = SKLearnProcessor(\n",
    "    base_job_name=\"split-and-transform-data\",\n",
    "    framework_version=\"1.2-1\",\n",
    "    instance_type=config[\"instance_type\"],\n",
    "    instance_count=2,\n",
    "    role=role,\n",
    "    sagemaker_session=config['session'],\n",
    ")\n",
    "\n",
    "split_and_transform_data_step = ProcessingStep(\n",
    "    name=\"split-and-transform-data\",\n",
    "    step_args=processor.run(\n",
    "        code=f\"{CODE_FOLDER}/preprocessor/preprocessor.py\",\n",
    "        inputs=[\n",
    "            ProcessingInput(source=dataset_location, destination=\"/opt/ml/processing/input\"),\n",
    "        ],\n",
    "        outputs=[\n",
    "            ProcessingOutput(output_name=\"train\", source=\"/opt/ml/processing/train\"),\n",
    "            ProcessingOutput(output_name=\"test\", source=\"/opt/ml/processing/test\"),\n",
    "            ProcessingOutput(output_name=\"model\", source=\"/opt/ml/processing/model\"),\n",
    "            ProcessingOutput(output_name=\"train-baseline\", source=\"/opt/ml/processing/train-baseline\"),\n",
    "            ProcessingOutput(output_name=\"test-baseline\", source=\"/opt/ml/processing/test-baseline\"),\n",
    "        ]\n",
    "    ),\n",
    "    cache_config=cache_config,\n",
    ")"
   ],
   "metadata": {
    "collapsed": false,
    "ExecuteTime": {
     "end_time": "2024-07-29T20:10:46.167923Z",
     "start_time": "2024-07-29T20:10:46.136926Z"
    }
   },
   "id": "9c975fc0201b8f4d",
   "outputs": [],
   "execution_count": 7
  },
  {
   "cell_type": "code",
   "source": [
    "from sagemaker.workflow.steps import TrainingStep\n",
    "from sagemaker.inputs import TrainingInput\n",
    "from sagemaker.workflow.retry import (\n",
    "    StepRetryPolicy,\n",
    "    StepExceptionTypeEnum,\n",
    "    SageMakerJobExceptionTypeEnum,\n",
    "    SageMakerJobStepRetryPolicy\n",
    ")\n",
    "\n",
    "\n",
    "def create_training_step(estimator):\n",
    "    \"\"\"Create a SageMaker TrainingStep using the provided estimator.\"\"\"\n",
    "    return TrainingStep(\n",
    "        name=\"train-model\",\n",
    "        step_args=estimator.fit(\n",
    "            inputs={\n",
    "                \"train\": TrainingInput(\n",
    "                    s3_data=split_and_transform_data_step.properties.ProcessingOutputConfig.Outputs[\n",
    "                        \"train\"\n",
    "                    ].S3Output.S3Uri,\n",
    "                    content_type=\"text/csv\",\n",
    "                ),\n",
    "                \"pipeline\": TrainingInput(\n",
    "                    s3_data=split_and_transform_data_step.properties.ProcessingOutputConfig.Outputs[\n",
    "                        \"model\"\n",
    "                    ].S3Output.S3Uri,\n",
    "                    content_type=\"application/tar+gzip\",\n",
    "                ),\n",
    "            },\n",
    "        ),\n",
    "        # cache_config=cache_config,\n",
    "        retry_policies=[\n",
    "            StepRetryPolicy(\n",
    "                exception_types=[\n",
    "                    StepExceptionTypeEnum.SERVICE_FAULT,\n",
    "                    StepExceptionTypeEnum.THROTTLING\n",
    "                ],\n",
    "                expire_after_mins=5,\n",
    "                interval_seconds=10,\n",
    "                backoff_rate=2.0\n",
    "            ),\n",
    "            SageMakerJobStepRetryPolicy(\n",
    "                exception_types=[SageMakerJobExceptionTypeEnum.RESOURCE_LIMIT],\n",
    "                expire_after_mins=120,\n",
    "                interval_seconds=60,\n",
    "                backoff_rate=2.0\n",
    "            ),\n",
    "            SageMakerJobStepRetryPolicy(\n",
    "                failure_reason_types=[\n",
    "                    SageMakerJobExceptionTypeEnum.INTERNAL_ERROR,\n",
    "                    SageMakerJobExceptionTypeEnum.CAPACITY_ERROR,\n",
    "                ],\n",
    "                max_attempts=3,\n",
    "                interval_seconds=10,\n",
    "                backoff_rate=2.0\n",
    "            )\n",
    "        ]\n",
    "    )"
   ],
   "metadata": {
    "collapsed": false,
    "ExecuteTime": {
     "end_time": "2024-07-29T20:10:46.183921Z",
     "start_time": "2024-07-29T20:10:46.168923Z"
    }
   },
   "id": "5dd9879e78a475aa",
   "outputs": [],
   "execution_count": 8
  },
  {
   "metadata": {},
   "cell_type": "code",
   "outputs": [],
   "execution_count": null,
   "source": [
    "lifecycle_role_name = \"lifecycle-ecr-role\"\n",
    "lifecycle_role_arn = None\n",
    "\n",
    " # Attach the custom policy for ecr:PutLifecyclePolicy\n",
    "ecr_policy_document = {\n",
    "    \"Version\": \"2012-10-17\",\n",
    "    \"Statement\": [\n",
    "        {\n",
    "            \"Sid\": \"Statement1\",\n",
    "            \"Effect\": \"Allow\",\n",
    "            \"Action\": [\n",
    "                \"ecr:PutLifecyclePolicy\"\n",
    "            ],\n",
    "            \"Resource\": [\n",
    "                \"*\"\n",
    "            ]\n",
    "        }\n",
    "    ]\n",
    "}\n",
    "\n",
    "iam_client.put_role_policy(\n",
    "    RoleName=lifecycle_role_name,\n",
    "    PolicyName='PutLifecyclePolicy',\n",
    "    PolicyDocument=json.dumps(ecr_policy_document)\n",
    ")"
   ],
   "id": "4b55e476b87be547"
  },
  {
   "metadata": {
    "ExecuteTime": {
     "end_time": "2024-07-29T20:13:30.344006Z",
     "start_time": "2024-07-29T20:13:29.856324Z"
    }
   },
   "cell_type": "code",
   "source": [
    "IMAGE_NAME = \"xgb-clf-custom-training-container\"\n",
    "\n",
    "lifecycle_ecr = f\"\"\"\n",
    "{{\n",
    "    \"rules\": [\n",
    "        {{\n",
    "            \"rulePriority\": 1,\n",
    "            \"description\": \"Keep only one untagged image, expire all others\",\n",
    "            \"selection\": {{\n",
    "                \"tagStatus\": \"untagged\",\n",
    "                \"countType\": \"imageCountMoreThan\",\n",
    "                \"countNumber\": 1\n",
    "            }},\n",
    "            \"action\": {{\n",
    "                \"type\": \"expire\"\n",
    "            }}\n",
    "        }}\n",
    "    ]\n",
    "}}\n",
    "\"\"\"\n",
    "\n",
    "response = boto3.client(\"ecr\").put_lifecycle_policy(\n",
    "    registryId=os.environ[\"ACCOUNT_ID\"],\n",
    "    repositoryName=IMAGE_NAME,\n",
    "    lifecyclePolicyText=lifecycle_ecr\n",
    ")"
   ],
   "id": "8430c9a54a52a1ad",
   "outputs": [
    {
     "ename": "ClientError",
     "evalue": "An error occurred (AccessDeniedException) when calling the PutLifecyclePolicy operation: User: arn:aws:iam::284415450706:user/kamil_admin is not authorized to perform: ecr:PutLifecyclePolicy on resource: arn:aws:ecr:eu-north-1:284415450706:repository/xgb-clf-custom-training-container because no identity-based policy allows the ecr:PutLifecyclePolicy action",
     "output_type": "error",
     "traceback": [
      "\u001B[1;31m---------------------------------------------------------------------------\u001B[0m",
      "\u001B[1;31mClientError\u001B[0m                               Traceback (most recent call last)",
      "Cell \u001B[1;32mIn[13], line 22\u001B[0m\n\u001B[0;32m      1\u001B[0m IMAGE_NAME \u001B[38;5;241m=\u001B[39m \u001B[38;5;124m\"\u001B[39m\u001B[38;5;124mxgb-clf-custom-training-container\u001B[39m\u001B[38;5;124m\"\u001B[39m\n\u001B[0;32m      3\u001B[0m lifecycle_ecr \u001B[38;5;241m=\u001B[39m \u001B[38;5;124mf\u001B[39m\u001B[38;5;124m\"\"\"\u001B[39m\n\u001B[0;32m      4\u001B[0m \u001B[38;5;130;01m{{\u001B[39;00m\n\u001B[0;32m      5\u001B[0m \u001B[38;5;124m    \u001B[39m\u001B[38;5;124m\"\u001B[39m\u001B[38;5;124mrules\u001B[39m\u001B[38;5;124m\"\u001B[39m\u001B[38;5;124m: [\u001B[39m\n\u001B[1;32m   (...)\u001B[0m\n\u001B[0;32m     19\u001B[0m \u001B[38;5;130;01m}}\u001B[39;00m\n\u001B[0;32m     20\u001B[0m \u001B[38;5;124m\"\"\"\u001B[39m\n\u001B[1;32m---> 22\u001B[0m response \u001B[38;5;241m=\u001B[39m \u001B[43mboto3\u001B[49m\u001B[38;5;241;43m.\u001B[39;49m\u001B[43mclient\u001B[49m\u001B[43m(\u001B[49m\u001B[38;5;124;43m\"\u001B[39;49m\u001B[38;5;124;43mecr\u001B[39;49m\u001B[38;5;124;43m\"\u001B[39;49m\u001B[43m)\u001B[49m\u001B[38;5;241;43m.\u001B[39;49m\u001B[43mput_lifecycle_policy\u001B[49m\u001B[43m(\u001B[49m\n\u001B[0;32m     23\u001B[0m \u001B[43m    \u001B[49m\u001B[43mregistryId\u001B[49m\u001B[38;5;241;43m=\u001B[39;49m\u001B[43mos\u001B[49m\u001B[38;5;241;43m.\u001B[39;49m\u001B[43menviron\u001B[49m\u001B[43m[\u001B[49m\u001B[38;5;124;43m\"\u001B[39;49m\u001B[38;5;124;43mACCOUNT_ID\u001B[39;49m\u001B[38;5;124;43m\"\u001B[39;49m\u001B[43m]\u001B[49m\u001B[43m,\u001B[49m\n\u001B[0;32m     24\u001B[0m \u001B[43m    \u001B[49m\u001B[43mrepositoryName\u001B[49m\u001B[38;5;241;43m=\u001B[39;49m\u001B[43mIMAGE_NAME\u001B[49m\u001B[43m,\u001B[49m\n\u001B[0;32m     25\u001B[0m \u001B[43m    \u001B[49m\u001B[43mlifecyclePolicyText\u001B[49m\u001B[38;5;241;43m=\u001B[39;49m\u001B[43mlifecycle_ecr\u001B[49m\n\u001B[0;32m     26\u001B[0m \u001B[43m)\u001B[49m\n",
      "File \u001B[1;32m~\\anaconda3\\envs\\py10\\lib\\site-packages\\botocore\\client.py:565\u001B[0m, in \u001B[0;36mClientCreator._create_api_method.<locals>._api_call\u001B[1;34m(self, *args, **kwargs)\u001B[0m\n\u001B[0;32m    561\u001B[0m     \u001B[38;5;28;01mraise\u001B[39;00m \u001B[38;5;167;01mTypeError\u001B[39;00m(\n\u001B[0;32m    562\u001B[0m         \u001B[38;5;124mf\u001B[39m\u001B[38;5;124m\"\u001B[39m\u001B[38;5;132;01m{\u001B[39;00mpy_operation_name\u001B[38;5;132;01m}\u001B[39;00m\u001B[38;5;124m() only accepts keyword arguments.\u001B[39m\u001B[38;5;124m\"\u001B[39m\n\u001B[0;32m    563\u001B[0m     )\n\u001B[0;32m    564\u001B[0m \u001B[38;5;66;03m# The \"self\" in this scope is referring to the BaseClient.\u001B[39;00m\n\u001B[1;32m--> 565\u001B[0m \u001B[38;5;28;01mreturn\u001B[39;00m \u001B[38;5;28;43mself\u001B[39;49m\u001B[38;5;241;43m.\u001B[39;49m\u001B[43m_make_api_call\u001B[49m\u001B[43m(\u001B[49m\u001B[43moperation_name\u001B[49m\u001B[43m,\u001B[49m\u001B[43m \u001B[49m\u001B[43mkwargs\u001B[49m\u001B[43m)\u001B[49m\n",
      "File \u001B[1;32m~\\anaconda3\\envs\\py10\\lib\\site-packages\\botocore\\client.py:1021\u001B[0m, in \u001B[0;36mBaseClient._make_api_call\u001B[1;34m(self, operation_name, api_params)\u001B[0m\n\u001B[0;32m   1017\u001B[0m     error_code \u001B[38;5;241m=\u001B[39m error_info\u001B[38;5;241m.\u001B[39mget(\u001B[38;5;124m\"\u001B[39m\u001B[38;5;124mQueryErrorCode\u001B[39m\u001B[38;5;124m\"\u001B[39m) \u001B[38;5;129;01mor\u001B[39;00m error_info\u001B[38;5;241m.\u001B[39mget(\n\u001B[0;32m   1018\u001B[0m         \u001B[38;5;124m\"\u001B[39m\u001B[38;5;124mCode\u001B[39m\u001B[38;5;124m\"\u001B[39m\n\u001B[0;32m   1019\u001B[0m     )\n\u001B[0;32m   1020\u001B[0m     error_class \u001B[38;5;241m=\u001B[39m \u001B[38;5;28mself\u001B[39m\u001B[38;5;241m.\u001B[39mexceptions\u001B[38;5;241m.\u001B[39mfrom_code(error_code)\n\u001B[1;32m-> 1021\u001B[0m     \u001B[38;5;28;01mraise\u001B[39;00m error_class(parsed_response, operation_name)\n\u001B[0;32m   1022\u001B[0m \u001B[38;5;28;01melse\u001B[39;00m:\n\u001B[0;32m   1023\u001B[0m     \u001B[38;5;28;01mreturn\u001B[39;00m parsed_response\n",
      "\u001B[1;31mClientError\u001B[0m: An error occurred (AccessDeniedException) when calling the PutLifecyclePolicy operation: User: arn:aws:iam::284415450706:user/kamil_admin is not authorized to perform: ecr:PutLifecyclePolicy on resource: arn:aws:ecr:eu-north-1:284415450706:repository/xgb-clf-custom-training-container because no identity-based policy allows the ecr:PutLifecyclePolicy action"
     ]
    }
   ],
   "execution_count": 13
  },
  {
   "metadata": {
    "ExecuteTime": {
     "end_time": "2024-07-29T20:10:46.768213Z",
     "start_time": "2024-07-29T20:10:46.767218Z"
    }
   },
   "cell_type": "code",
   "source": [
    "from pythonProject.program.code.containers.SageMakerContainerBuilder import SageMakerContainerBuilder\n",
    "\n",
    "builder = SageMakerContainerBuilder(\n",
    "    code_folder=CODE_FOLDER,\n",
    "    image_name=IMAGE_NAME,\n",
    "    local_mode=LOCAL_MODE\n",
    ")\n",
    "\n",
    "training_container_image = builder.build_and_push()\n",
    "print(training_container_image)\n",
    "# training_container_image = builder.get_image_uri()\n",
    "# print(training_container_image)"
   ],
   "id": "c589837afe0d6d2b",
   "outputs": [],
   "execution_count": null
  },
  {
   "metadata": {
    "ExecuteTime": {
     "end_time": "2024-07-29T20:10:46.768213Z",
     "start_time": "2024-07-29T20:10:46.768213Z"
    }
   },
   "cell_type": "code",
   "source": [
    "from sagemaker.xgboost import XGBoost\n",
    "from sagemaker.estimator import Estimator\n",
    "\n",
    "use_spot_instances = True and not LOCAL_MODE\n",
    "max_run = 500\n",
    "max_wait = 800 if use_spot_instances else None\n",
    "instance_type = config['instance_type']\n",
    "\n",
    "COMET_API_KEY = os.environ[\"COMET_API_KEY\"]\n",
    "COMET_PROJECT_NAME = os.environ[\"COMET_PROJECT_NAME\"]\n",
    "\n",
    "xgb_estimator = Estimator(\n",
    "    image_uri=training_container_image,\n",
    "    instance_count=2,\n",
    "    instance_type=config[\"instance_type\"],\n",
    "    sagemaker_session=config[\"session\"],\n",
    "    role=role,\n",
    "    use_spot_instances=use_spot_instances,\n",
    "    max_run=max_run,\n",
    "    max_wait=max_wait,\n",
    "    disable_profiler=True,\n",
    "    environment={\n",
    "        # \"COMET_API_KEY\": COMET_API_KEY,\n",
    "        # \"COMET_PROJECT_NAME\": COMET_PROJECT_NAME,\n",
    "    },\n",
    ")\n",
    "\n",
    "xgb_train_model_step = create_training_step(xgb_estimator)"
   ],
   "id": "542afa6921b58b27",
   "outputs": [],
   "execution_count": null
  },
  {
   "metadata": {},
   "cell_type": "code",
   "source": [
    "session_pipeline = Pipeline(\n",
    "    name=\"football-pipeline\",\n",
    "    parameters=[dataset_location],\n",
    "    steps=[\n",
    "        split_and_transform_data_step,\n",
    "        xgb_train_model_step,\n",
    "    ],\n",
    "    pipeline_definition_config=pipeline_definition_config,\n",
    "    sagemaker_session=config[\"session\"],\n",
    ")\n",
    "\n",
    "session_pipeline.upsert(role_arn=role)\n",
    "session_pipeline.start()"
   ],
   "id": "14daa082595595ff",
   "outputs": [],
   "execution_count": null
  },
  {
   "cell_type": "code",
   "source": "USE_TUNING_STEP = False and not LOCAL_MODE",
   "metadata": {
    "collapsed": false,
    "ExecuteTime": {
     "end_time": "2024-07-29T19:48:57.234058Z",
     "start_time": "2024-07-29T19:48:57.219062Z"
    }
   },
   "id": "51bc8ae0e97f4cfd",
   "outputs": [],
   "execution_count": 11
  },
  {
   "cell_type": "code",
   "source": [
    "from sagemaker.tuner import HyperparameterTuner\n",
    "from sagemaker.parameter import IntegerParameter, ContinuousParameter\n",
    "\n",
    "hyperparameter_ranges = {\n",
    "    'eta': ContinuousParameter(min_value=0.05, max_value=0.3, scaling_type=\"Logarithmic\"),\n",
    "    'max_depth': IntegerParameter(min_value=5, max_value=15, scaling_type=\"Auto\"),\n",
    "    'subsample': ContinuousParameter(min_value=0.7, max_value=1.0, scaling_type=\"Auto\"),\n",
    "    'colsample_bytree': ContinuousParameter(min_value=0.7, max_value=1.0, scaling_type=\"Logarithmic\"),\n",
    "    'lambda': ContinuousParameter(min_value=5, max_value=12, scaling_type=\"Logarithmic\"),\n",
    "    'alpha': ContinuousParameter(min_value=1, max_value=10, scaling_type=\"Logarithmic\"),\n",
    "    'min_child_weight': ContinuousParameter(min_value=0.4, max_value=1.0, scaling_type=\"Auto\"),\n",
    "    'scale_pos_weight': ContinuousParameter(min_value=0.8, max_value=2.2, scaling_type=\"Auto\"),\n",
    "}\n",
    "\n",
    "objective_type = \"Maximize\"\n",
    "metric_definitions = [\n",
    "    {\n",
    "        'Name': 'validation:logloss',\n",
    "        'Regex': r\".*\\[[0-9]+\\].*#011validation_0-logloss:([-+]?[0-9]*\\.?[0-9]+(?:[eE][-+]?[0-9]+)?).*\"\n",
    "    },\n",
    "    {\n",
    "        'Name': 'validation:auc',\n",
    "        'Regex': r\".*\\[[0-9]+\\].*#011validation_0-auc:([-+]?[0-9]*\\.?[0-9]+(?:[eE][-+]?[0-9]+)?).*\"\n",
    "    },\n",
    "    {\n",
    "        'Name': 'train:logloss',\n",
    "        'Regex': r\".*\\[[0-9]+\\].*#011train-logloss:([-+]?[0-9]*\\.?[0-9]+(?:[eE][-+]?[0-9]+)?).*\"\n",
    "    },\n",
    "    {\n",
    "        'Name': 'train:auc',\n",
    "        'Regex': r\".*\\[[0-9]+\\].*#011train-auc:([-+]?[0-9]*\\.?[0-9]+(?:[eE][-+]?[0-9]+)?).*\"\n",
    "    }\n",
    "]\n",
    "\n",
    "metric_name = \"validation:auc\"\n",
    "strategy = \"Bayesian\"\n",
    "\n",
    "tuner = HyperparameterTuner(\n",
    "    base_tuning_job_name='xgboost-tuning',\n",
    "    estimator=xgb_estimator,\n",
    "    objective_metric_name=metric_name,\n",
    "    objective_type=objective_type,\n",
    "    hyperparameter_ranges=hyperparameter_ranges,\n",
    "    metric_definitions=metric_definitions,\n",
    "    max_jobs=5,\n",
    "    max_parallel_jobs=2,\n",
    "    early_stopping_type='Auto'\n",
    ")\n"
   ],
   "metadata": {
    "collapsed": false,
    "ExecuteTime": {
     "end_time": "2024-07-29T19:48:57.249651Z",
     "start_time": "2024-07-29T19:48:57.235059Z"
    }
   },
   "id": "a31e770437cfcbb6",
   "outputs": [],
   "execution_count": 12
  },
  {
   "metadata": {
    "ExecuteTime": {
     "end_time": "2024-07-29T19:48:57.265653Z",
     "start_time": "2024-07-29T19:48:57.250655Z"
    }
   },
   "cell_type": "code",
   "source": [
    "from sagemaker.workflow.steps import TuningStep\n",
    "\n",
    "tune_model_step = TuningStep(\n",
    "    name=\"tune-model\",\n",
    "    step_args=tuner.fit(\n",
    "        inputs={\n",
    "            \"train\": TrainingInput(\n",
    "                s3_data=\n",
    "                split_and_transform_data_step.properties.ProcessingOutputConfig.Outputs[\n",
    "                    \"train\"\n",
    "                ].S3Output.S3Uri,\n",
    "                content_type=\"text/csv\",\n",
    "            ),\n",
    "            \"pipeline\": TrainingInput(\n",
    "                s3_data=split_and_transform_data_step.properties.ProcessingOutputConfig.Outputs[\n",
    "                    \"model\"\n",
    "                ].S3Output.S3Uri,\n",
    "                content_type=\"application/tar+gzip\",\n",
    "            ),\n",
    "        },\n",
    "    ),\n",
    "    cache_config=cache_config,\n",
    ")"
   ],
   "id": "473cacc2979587a9",
   "outputs": [],
   "execution_count": 13
  },
  {
   "cell_type": "code",
   "source": [
    "from sagemaker import ScriptProcessor\n",
    "from sagemaker.xgboost import XGBoostProcessor\n",
    "\n",
    "evaluation_processor = XGBoostProcessor(\n",
    "    base_job_name=\"evaluation-processor\",\n",
    "    image_uri=config[\"image\"],\n",
    "    framework_version=config[\"framework_version\"],\n",
    "    instance_type=config[\"instance_type\"],\n",
    "    instance_count=1,\n",
    "    role=role,\n",
    "    sagemaker_session=config[\"session\"],\n",
    ")"
   ],
   "metadata": {
    "collapsed": false,
    "ExecuteTime": {
     "end_time": "2024-07-29T19:48:57.295651Z",
     "start_time": "2024-07-29T19:48:57.268654Z"
    }
   },
   "id": "d73cf8acd2617076",
   "outputs": [],
   "execution_count": 14
  },
  {
   "cell_type": "code",
   "source": [
    "from sagemaker.workflow.properties import PropertyFile\n",
    "\n",
    "evaluation_report = PropertyFile(\n",
    "    name=\"evaluation-report\", output_name=\"evaluation\", path=\"evaluation.json\"\n",
    ")"
   ],
   "metadata": {
    "collapsed": false,
    "ExecuteTime": {
     "end_time": "2024-07-29T19:48:57.311651Z",
     "start_time": "2024-07-29T19:48:57.296654Z"
    }
   },
   "id": "f41bc50b964b336a",
   "outputs": [],
   "execution_count": 15
  },
  {
   "cell_type": "code",
   "source": [
    "model_assets = xgb_train_model_step.properties.ModelArtifacts.S3ModelArtifacts\n",
    "\n",
    "if USE_TUNING_STEP:\n",
    "    model_assets = tune_model_step.get_top_model_s3_uri(\n",
    "        top_k=0,\n",
    "        s3_bucket=config[\"session\"].default_bucket(),\n",
    "    )"
   ],
   "metadata": {
    "collapsed": false,
    "ExecuteTime": {
     "end_time": "2024-07-29T19:48:57.327651Z",
     "start_time": "2024-07-29T19:48:57.312654Z"
    }
   },
   "id": "d55dcab3ed97a887",
   "outputs": [],
   "execution_count": 16
  },
  {
   "cell_type": "code",
   "source": [
    "evaluate_model_step = ProcessingStep(\n",
    "    name=\"evaluate-model\",\n",
    "    code=f\"{(CODE_FOLDER / 'evaluate/evaluation.py').as_posix()}\",\n",
    "    step_args=evaluation_processor.run(\n",
    "        inputs=[\n",
    "            ProcessingInput(\n",
    "                source=split_and_transform_data_step.properties.ProcessingOutputConfig.Outputs[\n",
    "                    \"test\"\n",
    "                ].S3Output.S3Uri,\n",
    "                destination=\"/opt/ml/processing/test\",\n",
    "            ),\n",
    "            ProcessingInput(\n",
    "                source=model_assets,\n",
    "                destination=\"/opt/ml/processing/model\",\n",
    "            ),\n",
    "            ProcessingInput(\n",
    "                source=split_and_transform_data_step.properties.ProcessingOutputConfig.Outputs[\n",
    "                    \"model\"\n",
    "                ].S3Output.S3Uri,\n",
    "                destination=\"/opt/ml/processing/pipeline\",\n",
    "            ),\n",
    "        ],\n",
    "        outputs=[\n",
    "            ProcessingOutput(\n",
    "                output_name=\"evaluation\", source=\"/opt/ml/processing/evaluation\"\n",
    "            ),\n",
    "        ],\n",
    "        code=f\"{CODE_FOLDER}/evaluate/evaluation.py\",\n",
    "    ),\n",
    "    property_files=[evaluation_report],\n",
    "    cache_config=cache_config,\n",
    "    retry_policies=[\n",
    "        SageMakerJobStepRetryPolicy(\n",
    "            failure_reason_types=[\n",
    "                SageMakerJobExceptionTypeEnum.INTERNAL_ERROR,\n",
    "            ],\n",
    "            max_attempts=3,\n",
    "            interval_seconds=7,\n",
    "            backoff_rate=2.0\n",
    "        )\n",
    "    ]\n",
    ")"
   ],
   "metadata": {
    "collapsed": false,
    "ExecuteTime": {
     "end_time": "2024-07-29T19:48:57.342718Z",
     "start_time": "2024-07-29T19:48:57.328653Z"
    }
   },
   "id": "2147eaf6e5f6b450",
   "outputs": [],
   "execution_count": 17
  },
  {
   "metadata": {
    "ExecuteTime": {
     "end_time": "2024-07-29T19:48:57.358227Z",
     "start_time": "2024-07-29T19:48:57.343222Z"
    }
   },
   "cell_type": "code",
   "source": "",
   "id": "e9e262def556962f",
   "outputs": [],
   "execution_count": 17
  },
  {
   "cell_type": "code",
   "source": "MODEL_PACKAGE_GROUP = os.environ[\"MODEL_PACKAGE_GROUP\"]",
   "metadata": {
    "collapsed": false,
    "ExecuteTime": {
     "end_time": "2024-07-29T19:48:57.374229Z",
     "start_time": "2024-07-29T19:48:57.360231Z"
    }
   },
   "id": "4a2fd3f026fefc58",
   "outputs": [],
   "execution_count": 18
  },
  {
   "cell_type": "code",
   "source": [
    "from sagemaker.model_metrics import MetricsSource, ModelMetrics\n",
    "from sagemaker.workflow.functions import Join\n",
    "\n",
    "model_metrics = ModelMetrics(\n",
    "    model_statistics=MetricsSource(\n",
    "        s3_uri=Join(\n",
    "            on=\"/\",\n",
    "            values=[\n",
    "                evaluate_model_step.properties.ProcessingOutputConfig.Outputs[\n",
    "                    \"evaluation\"\n",
    "                ].S3Output.S3Uri,\n",
    "                \"evaluation.json\",\n",
    "            ],\n",
    "        ),\n",
    "        content_type=\"application/json\",\n",
    "    ),\n",
    ")"
   ],
   "metadata": {
    "collapsed": false,
    "ExecuteTime": {
     "end_time": "2024-07-29T19:48:57.389362Z",
     "start_time": "2024-07-29T19:48:57.375228Z"
    }
   },
   "id": "4f1255fb2188d37d",
   "outputs": [],
   "execution_count": 19
  },
  {
   "cell_type": "code",
   "source": [
    "from sagemaker.workflow.model_step import ModelStep\n",
    "\n",
    "\n",
    "def create_registration_step(\n",
    "        model,\n",
    "        model_package_group_name,\n",
    "        approval_status=\"Approved\",\n",
    "        content_types=[\"text/csv\"],\n",
    "        response_types=[\"text/csv\"],\n",
    "        model_metrics=None,\n",
    "        drift_check_baselines=None,\n",
    "):\n",
    "    \"\"\"Create a Registration Step using the supplied parameters.\"\"\"\n",
    "    return ModelStep(\n",
    "        name=\"register\",\n",
    "        step_args=model.register(\n",
    "            model_package_group_name=model_package_group_name,\n",
    "            approval_status=approval_status,\n",
    "            model_metrics=model_metrics,\n",
    "            drift_check_baselines=drift_check_baselines,\n",
    "            content_types=content_types,\n",
    "            response_types=response_types,\n",
    "            inference_instances=[config[\"instance_type\"]],\n",
    "            transform_instances=[config[\"instance_type\"]],\n",
    "            framework_version=config[\"framework_version\"],\n",
    "            domain=\"MACHINE_LEARNING\",\n",
    "            task=\"CLASSIFICATION\",\n",
    "            framework=\"XGBOOST\",\n",
    "        ),\n",
    "    )"
   ],
   "metadata": {
    "collapsed": false,
    "ExecuteTime": {
     "end_time": "2024-07-29T19:48:57.404363Z",
     "start_time": "2024-07-29T19:48:57.390364Z"
    }
   },
   "id": "7f97e2d4f10652ce",
   "outputs": [],
   "execution_count": 20
  },
  {
   "cell_type": "code",
   "source": [
    "from sagemaker.xgboost import XGBoostModel\n",
    "\n",
    "custom_xgb_model = XGBoostModel(\n",
    "    name=\"football\",\n",
    "    model_data=model_assets,\n",
    "    entry_point=\"inference.py\",\n",
    "    source_dir=(CODE_FOLDER / \"inference\").as_posix(),\n",
    "    framework_version=config[\"framework_version\"],\n",
    "    sagemaker_session=config[\"session\"],\n",
    "    role=role,\n",
    ")"
   ],
   "metadata": {
    "collapsed": false,
    "ExecuteTime": {
     "end_time": "2024-07-29T19:48:57.419658Z",
     "start_time": "2024-07-29T19:48:57.405363Z"
    }
   },
   "id": "700bfe51c8e263de",
   "outputs": [],
   "execution_count": 21
  },
  {
   "metadata": {
    "ExecuteTime": {
     "end_time": "2024-07-29T19:48:57.435659Z",
     "start_time": "2024-07-29T19:48:57.420659Z"
    }
   },
   "cell_type": "code",
   "source": [
    "GROUND_TRUTH_LOCATION = f\"{S3_LOCATION}/monitoring/groundtruth\"\n",
    "DATA_QUALITY_LOCATION = f\"{S3_LOCATION}/monitoring/data-quality\"\n",
    "MODEL_QUALITY_LOCATION = f\"{S3_LOCATION}/monitoring/model-quality\""
   ],
   "id": "2777c034747d921d",
   "outputs": [],
   "execution_count": 22
  },
  {
   "metadata": {
    "ExecuteTime": {
     "end_time": "2024-07-29T19:48:57.467664Z",
     "start_time": "2024-07-29T19:48:57.436663Z"
    }
   },
   "cell_type": "code",
   "source": [
    "from sagemaker.model_monitor.dataset_format import DatasetFormat\n",
    "from sagemaker.workflow.check_job_config import CheckJobConfig\n",
    "from sagemaker.workflow.quality_check_step import (\n",
    "    DataQualityCheckConfig,\n",
    "    QualityCheckStep,\n",
    ")\n",
    "\n",
    "data_quality_check_config = DataQualityCheckConfig(\n",
    "    baseline_dataset=split_and_transform_data_step.properties.ProcessingOutputConfig.Outputs[\"train-baseline\"].S3Output.S3Uri,\n",
    "    dataset_format=DatasetFormat.csv(header=True), output_s3_uri=DATA_QUALITY_LOCATION, )\n",
    "\n",
    "check_job_config = CheckJobConfig(instance_type=\"ml.c5.xlarge\", instance_count=1, volume_size_in_gb=20, sagemaker_session=config[\"session\"], role=role, )\n",
    "\n",
    "data_quality_baseline_step = QualityCheckStep(\n",
    "    name=\"generate-data-quality-baseline\",\n",
    "    check_job_config=check_job_config,\n",
    "    quality_check_config=data_quality_check_config,\n",
    "    model_package_group_name=MODEL_PACKAGE_GROUP,\n",
    "    skip_check=True,\n",
    "    register_new_baseline=True,\n",
    "    cache_config=cache_config,\n",
    ")"
   ],
   "id": "b558799dac61cc3d",
   "outputs": [],
   "execution_count": 23
  },
  {
   "metadata": {
    "ExecuteTime": {
     "end_time": "2024-07-29T19:48:58.360713Z",
     "start_time": "2024-07-29T19:48:57.468672Z"
    }
   },
   "cell_type": "code",
   "source": [
    "create_model_step = ModelStep(\n",
    "    name=\"create-model\",\n",
    "    step_args=custom_xgb_model.create(instance_type=config[\"instance_type\"]),\n",
    ")"
   ],
   "id": "f04d18cc8deba11a",
   "outputs": [],
   "execution_count": 24
  },
  {
   "metadata": {
    "ExecuteTime": {
     "end_time": "2024-07-29T19:48:58.376585Z",
     "start_time": "2024-07-29T19:48:58.362224Z"
    }
   },
   "cell_type": "code",
   "source": [
    "from sagemaker.transformer import Transformer\n",
    "\n",
    "transformer = Transformer(\n",
    "    model_name=create_model_step.properties.ModelName,\n",
    "    instance_type=config[\"instance_type\"],\n",
    "    instance_count=1,\n",
    "    strategy=\"MultiRecord\",\n",
    "    accept=\"text/csv\",\n",
    "    assemble_with=\"Line\",\n",
    "    output_path=f\"{S3_LOCATION}/transform\",\n",
    "    sagemaker_session=config[\"session\"],\n",
    ")"
   ],
   "id": "ef6d542c90adcd3b",
   "outputs": [],
   "execution_count": 25
  },
  {
   "metadata": {
    "ExecuteTime": {
     "end_time": "2024-07-29T19:48:58.392585Z",
     "start_time": "2024-07-29T19:48:58.377587Z"
    }
   },
   "cell_type": "code",
   "source": [
    "from sagemaker.workflow.steps import TransformStep\n",
    "\n",
    "generate_test_predictions_step = TransformStep(\n",
    "    name=\"generate-test-predictions\",\n",
    "    step_args=transformer.transform(\n",
    "        data=split_and_transform_data_step.properties.ProcessingOutputConfig.Outputs[\n",
    "            \"test-baseline\"\n",
    "        ].S3Output.S3Uri,\n",
    "        join_source=\"Input\",\n",
    "        split_type=\"Line\",\n",
    "        content_type=\"text/csv\",\n",
    "        output_filter=\"$[-3,-2]\",\n",
    "    ),\n",
    "    cache_config=cache_config,\n",
    ")"
   ],
   "id": "451fb0386710cbb7",
   "outputs": [],
   "execution_count": 26
  },
  {
   "metadata": {
    "ExecuteTime": {
     "end_time": "2024-07-29T19:48:58.424586Z",
     "start_time": "2024-07-29T19:48:58.393587Z"
    }
   },
   "cell_type": "code",
   "source": [
    "from sagemaker.workflow.quality_check_step import ModelQualityCheckConfig\n",
    "\n",
    "model_quality_baseline_step = QualityCheckStep(\n",
    "    name=\"generate-model-quality-baseline\",\n",
    "    check_job_config=CheckJobConfig(\n",
    "        instance_type=\"ml.m5.xlarge\",\n",
    "        instance_count=2,\n",
    "        volume_size_in_gb=20,\n",
    "        sagemaker_session=config[\"session\"],\n",
    "        role=role,\n",
    "    ),\n",
    "    quality_check_config=ModelQualityCheckConfig(\n",
    "        baseline_dataset=generate_test_predictions_step.properties.TransformOutput.S3OutputPath,\n",
    "        dataset_format=DatasetFormat.csv(header=False),\n",
    "        problem_type=\"MulticlassClassification\",\n",
    "        ground_truth_attribute=\"_c0\",\n",
    "        inference_attribute=\"_c1\",\n",
    "        output_s3_uri=MODEL_QUALITY_LOCATION,\n",
    "    ),\n",
    "    model_package_group_name=MODEL_PACKAGE_GROUP,\n",
    "    skip_check=True,\n",
    "    register_new_baseline=True,\n",
    "    cache_config=cache_config,\n",
    ")"
   ],
   "id": "f113a0f94469d137",
   "outputs": [],
   "execution_count": 27
  },
  {
   "metadata": {
    "ExecuteTime": {
     "end_time": "2024-07-29T19:48:58.440586Z",
     "start_time": "2024-07-29T19:48:58.426586Z"
    }
   },
   "cell_type": "code",
   "source": [
    "from sagemaker.drift_check_baselines import DriftCheckBaselines\n",
    "\n",
    "model_quality_model_metrics = ModelMetrics(\n",
    "    model_statistics=MetricsSource(\n",
    "        s3_uri=model_quality_baseline_step.properties.CalculatedBaselineStatistics,\n",
    "        content_type=\"application/json\",\n",
    "    ),\n",
    "    model_constraints=MetricsSource(\n",
    "        s3_uri=model_quality_baseline_step.properties.CalculatedBaselineConstraints,\n",
    "        content_type=\"application/json\",\n",
    "    ),\n",
    "    model_data_statistics=MetricsSource(\n",
    "        s3_uri=data_quality_baseline_step.properties.CalculatedBaselineStatistics,\n",
    "        content_type=\"application/json\",\n",
    "    ),\n",
    "    model_data_constraints=MetricsSource(\n",
    "        s3_uri=data_quality_baseline_step.properties.CalculatedBaselineConstraints,\n",
    "        content_type=\"application/json\",\n",
    "    ),\n",
    ")\n",
    "\n",
    "model_quality_drift_check_baselines = DriftCheckBaselines(\n",
    "    model_statistics=MetricsSource(\n",
    "        s3_uri=model_quality_baseline_step.properties.BaselineUsedForDriftCheckStatistics,\n",
    "        content_type=\"application/json\",\n",
    "    ),\n",
    "    model_constraints=MetricsSource(\n",
    "        s3_uri=model_quality_baseline_step.properties.BaselineUsedForDriftCheckConstraints,\n",
    "        content_type=\"application/json\",\n",
    "    ),\n",
    "    model_data_statistics=MetricsSource(\n",
    "        s3_uri=data_quality_baseline_step.properties.BaselineUsedForDriftCheckStatistics,\n",
    "        content_type=\"application/json\",\n",
    "    ),\n",
    "    model_data_constraints=MetricsSource(\n",
    "        s3_uri=data_quality_baseline_step.properties.BaselineUsedForDriftCheckConstraints,\n",
    "        content_type=\"application/json\",\n",
    "    ),\n",
    ")"
   ],
   "id": "b20bf573f3d31eaa",
   "outputs": [],
   "execution_count": 28
  },
  {
   "metadata": {
    "ExecuteTime": {
     "end_time": "2024-07-29T19:48:58.912087Z",
     "start_time": "2024-07-29T19:48:58.441586Z"
    }
   },
   "cell_type": "code",
   "source": [
    "register_model_step = create_registration_step(\n",
    "    custom_xgb_model,\n",
    "    MODEL_PACKAGE_GROUP,\n",
    "    approval_status='PendingManualApproval',\n",
    "    content_types=[\"text/csv\", \"application/json\"],\n",
    "    response_types=[\"text/csv\", \"application/json\"],\n",
    "    model_metrics=model_quality_model_metrics,\n",
    "    drift_check_baselines=model_quality_drift_check_baselines,\n",
    ")"
   ],
   "id": "5feb3043cf773a1d",
   "outputs": [],
   "execution_count": 29
  },
  {
   "cell_type": "code",
   "source": [
    "from sagemaker.workflow.functions import JsonGet\n",
    "from sagemaker.workflow.fail_step import FailStep\n",
    "from sagemaker.workflow.parameters import ParameterFloat\n",
    "from sagemaker.workflow.condition_step import ConditionStep\n",
    "from sagemaker.workflow.conditions import ConditionGreaterThanOrEqualTo\n",
    "\n",
    "f1_threshold = ParameterFloat(name=\"f1_threshold\", default_value=0.6)\n",
    "\n",
    "fail_step = FailStep(\n",
    "    name=\"fail\",\n",
    "    error_message=Join(\n",
    "        on=\" \",\n",
    "        values=[\n",
    "            \"Execution failed because the model's f1 result was lower than\",\n",
    "            f1_threshold,\n",
    "        ],\n",
    "    ),\n",
    ")\n",
    "\n",
    "condition = ConditionGreaterThanOrEqualTo(\n",
    "    left=JsonGet(\n",
    "        step_name=evaluate_model_step.name,\n",
    "        property_file=evaluation_report,\n",
    "        json_path=\"metrics.f1.value\",\n",
    "    ),\n",
    "    right=f1_threshold,\n",
    ")"
   ],
   "metadata": {
    "collapsed": false,
    "ExecuteTime": {
     "end_time": "2024-07-29T19:48:58.927307Z",
     "start_time": "2024-07-29T19:48:58.913088Z"
    }
   },
   "id": "d8ab4d19cbfc11ae",
   "outputs": [],
   "execution_count": 30
  },
  {
   "cell_type": "code",
   "source": [
    "lambda_role_name = \"lambda-deployment-role\"\n",
    "lambda_role_arn = None\n",
    "\n",
    "try:\n",
    "    response = iam_client.create_role(\n",
    "        RoleName=lambda_role_name,\n",
    "        AssumeRolePolicyDocument=json.dumps(\n",
    "            {\n",
    "                \"Version\": \"2012-10-17\",\n",
    "                \"Statement\": [\n",
    "                    {\n",
    "                        \"Effect\": \"Allow\",\n",
    "                        \"Principal\": {\n",
    "                            \"Service\": [\"lambda.amazonaws.com\", \"events.amazonaws.com\"],\n",
    "                        },\n",
    "                        \"Action\": \"sts:AssumeRole\",\n",
    "                    },\n",
    "                ],\n",
    "            },\n",
    "        ),\n",
    "        Description=\"Lambda Endpoint Deployment\",\n",
    "    )\n",
    "\n",
    "    lambda_role_arn = response[\"Role\"][\"Arn\"]\n",
    "\n",
    "    iam_client.attach_role_policy(\n",
    "        PolicyArn=\"arn:aws:iam::aws:policy/service-role/AWSLambdaBasicExecutionRole\",\n",
    "        RoleName=lambda_role_name,\n",
    "    )\n",
    "\n",
    "    iam_client.attach_role_policy(\n",
    "        PolicyArn=\"arn:aws:iam::aws:policy/AmazonSageMakerFullAccess\",\n",
    "        RoleName=lambda_role_name,\n",
    "    )\n",
    "\n",
    "    print(f'Role \"{lambda_role_name}\" created with ARN \"{lambda_role_arn}\".')\n",
    "except iam_client.exceptions.EntityAlreadyExistsException:\n",
    "    response = iam_client.get_role(RoleName=lambda_role_name)\n",
    "    lambda_role_arn = response[\"Role\"][\"Arn\"]\n",
    "    print(f'Role \"{lambda_role_name}\" already exists with ARN \"{lambda_role_arn}\".')"
   ],
   "metadata": {
    "collapsed": false,
    "ExecuteTime": {
     "end_time": "2024-07-29T19:48:59.912529Z",
     "start_time": "2024-07-29T19:48:58.928310Z"
    }
   },
   "id": "a2004f5f8a325cd",
   "outputs": [
    {
     "name": "stdout",
     "output_type": "stream",
     "text": [
      "Role \"lambda-deployment-role\" already exists with ARN \"arn:aws:iam::284415450706:role/lambda-deployment-role\".\n"
     ]
    }
   ],
   "execution_count": 31
  },
  {
   "cell_type": "code",
   "source": [
    "from sagemaker.lambda_helper import Lambda\n",
    "\n",
    "ENDPOINT = \"football-endpoint\"\n",
    "DATA_CAPTURE_DESTINATION = f\"{S3_LOCATION}/monitoring/data-capture\"\n",
    "DATA_CAPTURE_PERCENTAGE = 100\n",
    "\n",
    "deploy_lambda_fn = Lambda(\n",
    "    function_name=\"deployment_fn\",\n",
    "    execution_role_arn=lambda_role_arn,\n",
    "    script=(CODE_FOLDER / \"lambda\" / \"lambda.py\").as_posix(),\n",
    "    handler=\"lambda.lambda_handler\",\n",
    "    timeout=600,\n",
    "    session=sagemaker_session,\n",
    "    runtime=\"python3.11\",\n",
    "    environment={\n",
    "        \"Variables\": {\n",
    "            \"ENDPOINT\": ENDPOINT,\n",
    "            \"DATA_CAPTURE_DESTINATION\": DATA_CAPTURE_DESTINATION,\n",
    "            \"DATA_CAPTURE_PERCENTAGE\": str(DATA_CAPTURE_PERCENTAGE),\n",
    "            \"ROLE\": role,\n",
    "            \"MODEL_PACKAGE_GROUP\": MODEL_PACKAGE_GROUP\n",
    "        },\n",
    "    },\n",
    ")\n",
    "\n",
    "deploy_lambda_fn_response = deploy_lambda_fn.upsert()"
   ],
   "metadata": {
    "collapsed": false,
    "ExecuteTime": {
     "end_time": "2024-07-29T19:49:00.932833Z",
     "start_time": "2024-07-29T19:48:59.913529Z"
    }
   },
   "id": "4d3b3b8b5a8bf88",
   "outputs": [],
   "execution_count": 32
  },
  {
   "metadata": {
    "ExecuteTime": {
     "end_time": "2024-07-29T19:49:00.948603Z",
     "start_time": "2024-07-29T19:49:00.933834Z"
    }
   },
   "cell_type": "code",
   "source": [
    "event_pattern = f\"\"\"\n",
    "{{\n",
    "  \"source\": [\"aws.sagemaker\"],\n",
    "  \"detail-type\": [\"SageMaker Model Package State Change\"],\n",
    "  \"detail\": {{\n",
    "    \"ModelPackageGroupName\": [\"{MODEL_PACKAGE_GROUP}\"],\n",
    "    \"ModelApprovalStatus\": [\"Approved\"]\n",
    "  }}\n",
    "}}\n",
    "\"\"\""
   ],
   "id": "18d0b5c64dafa523",
   "outputs": [],
   "execution_count": 33
  },
  {
   "metadata": {
    "ExecuteTime": {
     "end_time": "2024-07-29T19:49:01.418064Z",
     "start_time": "2024-07-29T19:49:00.949605Z"
    }
   },
   "cell_type": "code",
   "source": [
    "rule_name = \"PendingModelApprovedRule\"\n",
    "\n",
    "events_client = boto3.client(\"events\")\n",
    "rule_response = events_client.put_rule(\n",
    "    Name=rule_name,\n",
    "    EventPattern=event_pattern,\n",
    "    State=\"ENABLED\",\n",
    "    RoleArn=role,\n",
    ")"
   ],
   "id": "2ec752d5e382561c",
   "outputs": [],
   "execution_count": 34
  },
  {
   "metadata": {
    "ExecuteTime": {
     "end_time": "2024-07-29T19:49:01.495737Z",
     "start_time": "2024-07-29T19:49:01.418604Z"
    }
   },
   "cell_type": "code",
   "source": [
    "response = events_client.put_targets(\n",
    "    Rule=rule_name,\n",
    "    Targets=[\n",
    "        {\n",
    "            \"Id\": \"1\",\n",
    "            \"Arn\": deploy_lambda_fn_response[\"FunctionArn\"],\n",
    "        },\n",
    "    ],\n",
    ")"
   ],
   "id": "b57b76e8112a09c8",
   "outputs": [],
   "execution_count": 35
  },
  {
   "metadata": {
    "ExecuteTime": {
     "end_time": "2024-07-29T19:49:02.010207Z",
     "start_time": "2024-07-29T19:49:01.497737Z"
    }
   },
   "cell_type": "code",
   "source": [
    "lambda_function_name = deploy_lambda_fn_response[\"FunctionName\"]\n",
    "lambda_client = boto3.client(\"lambda\")\n",
    "\n",
    "try:\n",
    "    response = lambda_client.add_permission(\n",
    "        Action=\"lambda:InvokeFunction\",\n",
    "        FunctionName=lambda_function_name,\n",
    "        Principal=\"events.amazonaws.com\",\n",
    "        SourceArn=rule_response[\"RuleArn\"],\n",
    "        StatementId=\"EventBridge\",\n",
    "    )\n",
    "except lambda_client.exceptions.ResourceConflictException:\n",
    "    print(f'Function \"{lambda_function_name}\" already has the specified permission.')"
   ],
   "id": "c8e37f34dbeb9777",
   "outputs": [
    {
     "name": "stdout",
     "output_type": "stream",
     "text": [
      "Function \"deployment_fn\" already has the specified permission.\n"
     ]
    }
   ],
   "execution_count": 36
  },
  {
   "cell_type": "code",
   "source": [
    "from sagemaker.workflow.lambda_step import LambdaStep\n",
    "\n",
    "\n",
    "def create_deployment_step(register_model_step):\n",
    "    \"\"\"Create a Deploy Step using the supplied parameters.\"\"\"\n",
    "    return LambdaStep(\n",
    "        name=\"deploy\",\n",
    "        lambda_func=deploy_lambda_fn,\n",
    "        inputs={\n",
    "            \"model_package_arn\": register_model_step.properties.ModelPackageArn,\n",
    "        },\n",
    "    )"
   ],
   "metadata": {
    "collapsed": false,
    "ExecuteTime": {
     "end_time": "2024-07-29T19:49:02.025586Z",
     "start_time": "2024-07-29T19:49:02.011441Z"
    }
   },
   "id": "b3f5eb5289dcdb89",
   "outputs": [],
   "execution_count": 37
  },
  {
   "cell_type": "code",
   "source": [
    "deploy_step = create_deployment_step(register_model_step)\n",
    "\n",
    "condition_step = ConditionStep(\n",
    "    name=\"check-model-f1-score\",\n",
    "    conditions=[condition],\n",
    "    if_steps=(\n",
    "        [\n",
    "            create_model_step,\n",
    "            generate_test_predictions_step,\n",
    "            model_quality_baseline_step,\n",
    "            register_model_step,\n",
    "        ]\n",
    "    ),\n",
    "    else_steps=[fail_step],\n",
    ")"
   ],
   "metadata": {
    "collapsed": false,
    "ExecuteTime": {
     "end_time": "2024-07-29T19:49:02.041099Z",
     "start_time": "2024-07-29T19:49:02.027100Z"
    }
   },
   "id": "93920bd415ce9d60",
   "outputs": [],
   "execution_count": 38
  },
  {
   "cell_type": "code",
   "source": [
    "session_pipeline = Pipeline(\n",
    "    name=\"football-pipeline\",\n",
    "    parameters=[dataset_location, f1_threshold],\n",
    "    steps=[\n",
    "        split_and_transform_data_step,\n",
    "        tune_model_step if USE_TUNING_STEP else xgb_train_model_step,\n",
    "        evaluate_model_step,\n",
    "        data_quality_baseline_step,\n",
    "        condition_step,\n",
    "    ],\n",
    "    pipeline_definition_config=pipeline_definition_config,\n",
    "    sagemaker_session=config[\"session\"],\n",
    ")\n",
    "\n",
    "session_pipeline.upsert(role_arn=role)"
   ],
   "metadata": {
    "collapsed": false,
    "ExecuteTime": {
     "end_time": "2024-07-29T19:49:04.571653Z",
     "start_time": "2024-07-29T19:49:02.042101Z"
    }
   },
   "id": "afc088fa81b0356",
   "outputs": [
    {
     "name": "stdout",
     "output_type": "stream",
     "text": [
      "Using provided s3_resource\n",
      "Using provided s3_resource\n"
     ]
    },
    {
     "data": {
      "text/plain": [
       "{'PipelineArn': 'arn:aws:sagemaker:eu-north-1:284415450706:pipeline/football-pipeline',\n",
       " 'ResponseMetadata': {'RequestId': '7670f990-ed9b-46e4-84b3-e0dae378de94',\n",
       "  'HTTPStatusCode': 200,\n",
       "  'HTTPHeaders': {'x-amzn-requestid': '7670f990-ed9b-46e4-84b3-e0dae378de94',\n",
       "   'content-type': 'application/x-amz-json-1.1',\n",
       "   'content-length': '86',\n",
       "   'date': 'Mon, 29 Jul 2024 19:49:02 GMT'},\n",
       "  'RetryAttempts': 0}}"
      ]
     },
     "execution_count": 39,
     "metadata": {},
     "output_type": "execute_result"
    }
   ],
   "execution_count": 39
  },
  {
   "cell_type": "code",
   "source": [
    "session_pipeline.start()\n",
    "\n",
    "# session_pipeline.start(\n",
    "#     parameters=dict(\n",
    "#         dataset_location=''\n",
    "#     ))"
   ],
   "metadata": {
    "collapsed": false,
    "ExecuteTime": {
     "end_time": "2024-07-29T19:49:04.836658Z",
     "start_time": "2024-07-29T19:49:04.575653Z"
    }
   },
   "id": "2a53db12df12f93f",
   "outputs": [
    {
     "data": {
      "text/plain": [
       "_PipelineExecution(arn='arn:aws:sagemaker:eu-north-1:284415450706:pipeline/football-pipeline/execution/674x71l3hsvq', sagemaker_session=<sagemaker.workflow.pipeline_context.PipelineSession object at 0x000001861AA225F0>)"
      ]
     },
     "execution_count": 40,
     "metadata": {},
     "output_type": "execute_result"
    }
   ],
   "execution_count": 40
  },
  {
   "metadata": {
    "ExecuteTime": {
     "end_time": "2024-07-29T19:49:04.852658Z",
     "start_time": "2024-07-29T19:49:04.837658Z"
    }
   },
   "cell_type": "code",
   "source": "",
   "id": "ed9d0458336fb6cc",
   "outputs": [],
   "execution_count": 40
  }
 ],
 "metadata": {
  "kernelspec": {
   "display_name": "Python 3",
   "language": "python",
   "name": "python3"
  },
  "language_info": {
   "codemirror_mode": {
    "name": "ipython",
    "version": 2
   },
   "file_extension": ".py",
   "mimetype": "text/x-python",
   "name": "python",
   "nbconvert_exporter": "python",
   "pygments_lexer": "ipython2",
   "version": "2.7.6"
  }
 },
 "nbformat": 4,
 "nbformat_minor": 5
}
